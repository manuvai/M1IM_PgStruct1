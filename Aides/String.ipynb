{
 "cells": [
  {
   "cell_type": "markdown",
   "id": "2ddf50c5-82e5-4889-b2f7-50034e13896d",
   "metadata": {},
   "source": [
    "# Les chaines de caractères"
   ]
  },
  {
   "cell_type": "markdown",
   "id": "d2fe5c61-c100-4fbb-884d-704ef640fb88",
   "metadata": {},
   "source": []
  },
  {
   "cell_type": "markdown",
   "id": "9471d299-f349-4625-bc7f-288dc5f1ab36",
   "metadata": {},
   "source": [
    "ℹ️[Voir la documentation python](https://docs.python.org/3/tutorial/introduction.html#strings)"
   ]
  },
  {
   "cell_type": "markdown",
   "id": "7456d2ce-fe95-4933-8b3a-49243321aab7",
   "metadata": {},
   "source": [
    "![licence](pics/licence.png) Licence Creative Commons Attribution - Partage dans les Mêmes Conditions 4.0 International"
   ]
  }
 ],
 "metadata": {
  "kernelspec": {
   "display_name": "Python 3 (ipykernel)",
   "language": "python",
   "name": "python3"
  },
  "language_info": {
   "codemirror_mode": {
    "name": "ipython",
    "version": 3
   },
   "file_extension": ".py",
   "mimetype": "text/x-python",
   "name": "python",
   "nbconvert_exporter": "python",
   "pygments_lexer": "ipython3",
   "version": "3.9.12"
  }
 },
 "nbformat": 4,
 "nbformat_minor": 5
}
