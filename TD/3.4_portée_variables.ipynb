{
 "cells": [
  {
   "cell_type": "markdown",
   "metadata": {},
   "source": [
    "# Portée des variables ⭐⭐"
   ]
  },
  {
   "cell_type": "markdown",
   "metadata": {
    "nbgrader": {
     "grade": false,
     "grade_id": "cell-e8f0192bd90632dc",
     "locked": true,
     "schema_version": 3,
     "solution": false,
     "task": false
    },
    "tags": []
   },
   "source": [
    "### Tâche à réaliser 🎯\n",
    "\n",
    "Nous allons mener quelques expériences afin de bien comprendre la portée des variables en python.    \n",
    "\n",
    "### Expérience 1 👀\n",
    "Tentons d'afficher dans une fonction une variable définie en dehors de cette fonction."
   ]
  },
  {
   "cell_type": "code",
   "execution_count": 8,
   "metadata": {},
   "outputs": [
    {
     "name": "stdout",
     "output_type": "stream",
     "text": [
      "dans la fonction, m vaut 99\n",
      "4\n",
      "hors de la fonction, m vaut 99\n"
     ]
    }
   ],
   "source": [
    "def plus_un(n: int) -> int:\n",
    "    print(\"dans la fonction, m vaut\",m)\n",
    "    n += 1\n",
    "    print(\"dans la fonction, m vaut\",m)\n",
    "    print(\"dans la fonction, n vaut\",n)\n",
    "    return n\n",
    "\n",
    "m = 99\n",
    "n = 3\n",
    "print(plus_un(n))\n",
    "print(\"hors de la fonction, m vaut\",m)\n",
    "print(\"hors de la fonction, n vaut\",n)"
   ]
  },
  {
   "cell_type": "markdown",
   "metadata": {},
   "source": [
    "Concernant la portée (la visibilité) de la variable `m`, je peux en conclure que les variables définies dans un scope global, c'est à dire en dehors de définitions de structures de données, sont accessibles dans tout le projet en cours."
   ]
  },
  {
   "cell_type": "markdown",
   "id": "0f0df99b-785a-4ac4-a03c-4b02ed2665be",
   "metadata": {},
   "source": []
  },
  {
   "cell_type": "markdown",
   "id": "11bac7a3-2dc0-4833-a093-c8b2bda2df1e",
   "metadata": {},
   "source": [
    "### Expérience 2 👀\n",
    "Répétons la même expérience, en ajoutant simplement une affectation de cette variable extérieure à la fonction."
   ]
  },
  {
   "cell_type": "code",
   "execution_count": 3,
   "metadata": {},
   "outputs": [
    {
     "ename": "UnboundLocalError",
     "evalue": "local variable 'm' referenced before assignment",
     "output_type": "error",
     "traceback": [
      "\u001b[1;31m---------------------------------------------------------------------------\u001b[0m",
      "\u001b[1;31mUnboundLocalError\u001b[0m                         Traceback (most recent call last)",
      "\u001b[1;32m<ipython-input-3-147461f409af>\u001b[0m in \u001b[0;36m<module>\u001b[1;34m\u001b[0m\n\u001b[0;32m      6\u001b[0m \u001b[1;33m\u001b[0m\u001b[0m\n\u001b[0;32m      7\u001b[0m \u001b[0mm\u001b[0m \u001b[1;33m=\u001b[0m \u001b[1;36m99\u001b[0m\u001b[1;33m\u001b[0m\u001b[1;33m\u001b[0m\u001b[0m\n\u001b[1;32m----> 8\u001b[1;33m \u001b[0mplus_un\u001b[0m\u001b[1;33m(\u001b[0m\u001b[1;36m3\u001b[0m\u001b[1;33m)\u001b[0m\u001b[1;33m\u001b[0m\u001b[1;33m\u001b[0m\u001b[0m\n\u001b[0m\u001b[0;32m      9\u001b[0m \u001b[0mprint\u001b[0m\u001b[1;33m(\u001b[0m\u001b[1;34m\"hors de la fonction, m vaut\"\u001b[0m\u001b[1;33m,\u001b[0m\u001b[0mm\u001b[0m\u001b[1;33m)\u001b[0m\u001b[1;33m\u001b[0m\u001b[1;33m\u001b[0m\u001b[0m\n",
      "\u001b[1;32m<ipython-input-3-147461f409af>\u001b[0m in \u001b[0;36mplus_un\u001b[1;34m(n)\u001b[0m\n\u001b[0;32m      1\u001b[0m \u001b[1;32mdef\u001b[0m \u001b[0mplus_un\u001b[0m\u001b[1;33m(\u001b[0m\u001b[0mn\u001b[0m\u001b[1;33m)\u001b[0m\u001b[1;33m:\u001b[0m\u001b[1;33m\u001b[0m\u001b[1;33m\u001b[0m\u001b[0m\n\u001b[1;32m----> 2\u001b[1;33m     \u001b[0mprint\u001b[0m\u001b[1;33m(\u001b[0m\u001b[1;34m\"dans la fonction, m vaut\"\u001b[0m\u001b[1;33m,\u001b[0m\u001b[0mm\u001b[0m\u001b[1;33m)\u001b[0m\u001b[1;33m\u001b[0m\u001b[1;33m\u001b[0m\u001b[0m\n\u001b[0m\u001b[0;32m      3\u001b[0m     \u001b[0mm\u001b[0m \u001b[1;33m=\u001b[0m \u001b[1;36m0\u001b[0m\u001b[1;33m\u001b[0m\u001b[1;33m\u001b[0m\u001b[0m\n\u001b[0;32m      4\u001b[0m     \u001b[0mn\u001b[0m \u001b[1;33m+=\u001b[0m \u001b[1;36m1\u001b[0m\u001b[1;33m\u001b[0m\u001b[1;33m\u001b[0m\u001b[0m\n\u001b[0;32m      5\u001b[0m     \u001b[1;32mreturn\u001b[0m \u001b[0mn\u001b[0m\u001b[1;33m\u001b[0m\u001b[1;33m\u001b[0m\u001b[0m\n",
      "\u001b[1;31mUnboundLocalError\u001b[0m: local variable 'm' referenced before assignment"
     ]
    }
   ],
   "source": [
    "def plus_un(n: int) -> int:\n",
    "    print(\"dans la fonction, m vaut\",m)\n",
    "    m = 0\n",
    "    n += 1\n",
    "    print(\"dans la fonction, m vaut\",m)\n",
    "    print(\"dans la fonction, n vaut\",n)\n",
    "    return n\n",
    "\n",
    "m = 99\n",
    "n = 3\n",
    "print(plus_un(n))\n",
    "print(\"hors de la fonction, m vaut\",m)\n",
    "print(\"hors de la fonction, n vaut\",n)\n"
   ]
  },
  {
   "cell_type": "markdown",
   "metadata": {},
   "source": [
    "Concernant la portée (la visibilité) de la variable `m`, je peux désormais en conclure qu'il peut y avoir des conflits lorsque l'on décide de modifier la valeur d'une variable définie dans un scope externe à une fonction.\n",
    "\n",
    "*Sollicitez votre enseignant.e afin de vérifier que votre réponse est correcte.*"
   ]
  },
  {
   "cell_type": "markdown",
   "metadata": {},
   "source": [
    "### Expérience 3 👀\n",
    "Répétons la même expérience, en ajoutant simplement `global m` en début de fonction."
   ]
  },
  {
   "cell_type": "code",
   "execution_count": null,
   "metadata": {},
   "outputs": [],
   "source": [
    "def plus_un(n: int) -> int:\n",
    "    global m\n",
    "    m = 0\n",
    "    n += 1\n",
    "    print(\"dans la fonction, m vaut\",m)\n",
    "    print(\"dans la fonction, n vaut\",n)\n",
    "    return n\n",
    "\n",
    "m = 99\n",
    "n = 3\n",
    "print(plus_un(n))\n",
    "print(\"hors de la fonction, m vaut\",m)\n",
    "print(\"hors de la fonction, n vaut\",n)"
   ]
  },
  {
   "cell_type": "markdown",
   "metadata": {},
   "source": [
    "Concernant la portée (la visibilité) de la variable `m`, je peux maintenant en conclure que l'instruction gloable <nom_variable> permet de spécifier à l'interpréteur que nous faisons appel à une variable qui est définie dans un scope supérieur\n",
    "\n",
    "*Sollicitez votre enseignant.e afin de vérifier que votre réponse est correcte.*"
   ]
  },
  {
   "cell_type": "markdown",
   "metadata": {},
   "source": [
    "## En conclusion :\n",
    "**On évite à tout prix d'utiliser des variables globales, car des conflits de nommage risquent d'arriver et dans les notebooks, il peut arriver que les noms de globales s'entremellent**\n",
    "\n",
    "*Sollicitez votre enseignant.e afin de savoir si votre réponse est correcte.*"
   ]
  },
  {
   "cell_type": "markdown",
   "id": "0e53ea68-90e5-40d5-bc4c-a67a9e95bf64",
   "metadata": {},
   "source": [
    "### Exercice 👀\n",
    "**Pour modifier la valeur d'une variable qui se trouve en dehors d'une fonction, vous devez renvoyer la variable concernée.**\n",
    "\n",
    "Modifiez le programme suivant afin que la variable passée en paramètre **soit effectivement modifié en dehors de la fonction** (sans utiliser de variable globale)."
   ]
  },
  {
   "cell_type": "code",
   "execution_count": null,
   "id": "591e0f33-1c80-4939-81f4-be8ffcbc1681",
   "metadata": {},
   "outputs": [],
   "source": [
    "def plus_un(n):\n",
    "    n += 1\n",
    "    return n\n",
    "\n",
    "n = 3\n",
    "plus_un(n)\n",
    "print(\"hors de la fonction, n vaut\",n)"
   ]
  },
  {
   "cell_type": "markdown",
   "id": "272402c5-a146-42ca-929d-b83ebfd3b597",
   "metadata": {
    "tags": []
   },
   "source": [
    "## [Home](0_Index.ipynb)🏠\n",
    "![licence.png](pics/licence.png) Licence Creative Commons Attribution - Partage dans les Mêmes Conditions 4.0 International"
   ]
  }
 ],
 "metadata": {
  "kernelspec": {
   "display_name": "Python 3",
   "language": "python",
   "name": "python3"
  },
  "language_info": {
   "codemirror_mode": {
    "name": "ipython",
    "version": 3
   },
   "file_extension": ".py",
   "mimetype": "text/x-python",
   "name": "python",
   "nbconvert_exporter": "python",
   "pygments_lexer": "ipython3",
   "version": "3.8.5"
  }
 },
 "nbformat": 4,
 "nbformat_minor": 5
}
