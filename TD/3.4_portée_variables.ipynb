{
 "cells": [
  {
   "cell_type": "markdown",
   "id": "dc350928-8258-4bb5-a64e-95c4f62641da",
   "metadata": {},
   "source": [
    "# Portée des variables ⭐⭐"
   ]
  },
  {
   "cell_type": "markdown",
   "id": "931a4aac-5046-4c10-9166-ec5f3f948fd7",
   "metadata": {
    "nbgrader": {
     "grade": false,
     "grade_id": "cell-e8f0192bd90632dc",
     "locked": true,
     "schema_version": 3,
     "solution": false,
     "task": false
    },
    "tags": []
   },
   "source": [
    "### Tâche à réaliser 🎯\n",
    "\n",
    "Nous allons mener quelques expériences afin de bien comprendre la portéee des variables en python.    \n",
    "\n",
    "### Expérience 1 👀\n",
    "Tentons d'afficher dans une fonction une variable définie en dehors de cette fonction."
   ]
  },
  {
   "cell_type": "code",
   "execution_count": null,
   "id": "6a50f7fc-9a21-407a-a588-7882bd26badf",
   "metadata": {},
   "outputs": [],
   "source": [
    "def plus_un(n):\n",
    "    print(\"dans la fonction, m vaut\",m)\n",
    "    n += 1\n",
    "    return n\n",
    "\n",
    "m = 99\n",
    "print(plus_un(3))\n",
    "print(\"hors de la fonction, m vaut\",m)"
   ]
  },
  {
   "cell_type": "markdown",
   "id": "08071e4d-dc72-42c4-ad59-d0a8b9c4528f",
   "metadata": {},
   "source": [
    "Concernant la portée (la visibilité) de la variable `m`, je peux en conclure que..."
   ]
  },
  {
   "cell_type": "markdown",
   "id": "11bac7a3-2dc0-4833-a093-c8b2bda2df1e",
   "metadata": {},
   "source": [
    "### Expérience 2 👀\n",
    "Répétons la même expérience, en ajoutant simplement une affectation de cette variable extérieure à la fonction."
   ]
  },
  {
   "cell_type": "code",
   "execution_count": null,
   "id": "07f041d7-0391-4ed1-978d-b8de44d61205",
   "metadata": {},
   "outputs": [],
   "source": [
    "def plus_un(n):\n",
    "    print(\"dans la fonction, m vaut\",m)\n",
    "    m = 0\n",
    "    n += 1\n",
    "    return n\n",
    "\n",
    "m = 99\n",
    "plus_un(3)\n",
    "print(\"hors de la fonction, m vaut\",m)"
   ]
  },
  {
   "cell_type": "markdown",
   "id": "c259bd75-6bd8-4d4b-9ff4-705af402477a",
   "metadata": {},
   "source": [
    "Concernant la portée (la visibilité) de la variable `m`, je peux désormais en conclure que...\n",
    "\n",
    "*Sollicitez votre enseignant.e afin de vérifier que votre réponse est correcte.*"
   ]
  },
  {
   "cell_type": "markdown",
   "id": "5d32ddcb-f3ed-40d4-93ad-221009abe6aa",
   "metadata": {},
   "source": [
    "### Expérience 3 👀\n",
    "Répétons la même expérience, en ajoutant simplement `global m` en début de fonction."
   ]
  },
  {
   "cell_type": "code",
   "execution_count": null,
   "id": "69c4b0e1-2a75-408b-bf6e-e5661712052f",
   "metadata": {},
   "outputs": [],
   "source": [
    "def plus_un(n):\n",
    "    global m\n",
    "    print(\"dans la fonction, m vaut\",m)\n",
    "    m = 0\n",
    "    n += 1\n",
    "    return n\n",
    "\n",
    "m = 99\n",
    "plus_un(3)\n",
    "print(\"hors de la fonction, m vaut\",m)"
   ]
  },
  {
   "cell_type": "markdown",
   "id": "8ec602c1-1af5-454a-be82-fc174415b981",
   "metadata": {},
   "source": [
    "Concernant la portée (la visibilité) de la variable `m`, je peux maintenant en conclure que...\n",
    "\n",
    "*Sollicitez votre enseignant.e afin de vérifier que votre réponse est correcte.*"
   ]
  },
  {
   "cell_type": "markdown",
   "id": "7d61dd6a-eea2-4822-998e-3a1debf2b31b",
   "metadata": {},
   "source": [
    "## En conclusion :\n",
    "**On évite à tout prix d'utiliser des variables globales, car...**\n",
    "\n",
    "*Sollicitez votre enseignant.e afin de savoir si votre réponse est correcte.*"
   ]
  },
  {
   "cell_type": "markdown",
   "id": "272402c5-a146-42ca-929d-b83ebfd3b597",
   "metadata": {
    "tags": []
   },
   "source": [
    "## [Home](0_Index.ipynb)🏠\n",
    "![licence.png](pics/licence.png) Licence Creative Commons Attribution - Partage dans les Mêmes Conditions 4.0 International"
   ]
  }
 ],
 "metadata": {
  "kernelspec": {
   "display_name": "Python 3",
   "language": "python",
   "name": "python3"
  },
  "language_info": {
   "codemirror_mode": {
    "name": "ipython",
    "version": 3
   },
   "file_extension": ".py",
   "mimetype": "text/x-python",
   "name": "python",
   "nbconvert_exporter": "python",
   "pygments_lexer": "ipython3",
   "version": "3.8.8"
  }
 },
 "nbformat": 4,
 "nbformat_minor": 5
}
