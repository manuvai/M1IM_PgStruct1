{
 "cells": [
  {
   "cell_type": "markdown",
   "id": "dc350928-8258-4bb5-a64e-95c4f62641da",
   "metadata": {
    "tags": []
   },
   "source": [
    "# Mois ⭐"
   ]
  },
  {
   "cell_type": "markdown",
   "id": "931a4aac-5046-4c10-9166-ec5f3f948fd7",
   "metadata": {
    "nbgrader": {
     "grade": false,
     "grade_id": "cell-e8f0192bd90632dc",
     "locked": true,
     "schema_version": 3,
     "solution": false,
     "task": false
    },
    "tags": []
   },
   "source": [
    "### Tâche à réaliser 🎯\n",
    "\n",
    "Ecrire la définition de la fonction ci-dessous.\n",
    "Indications : \n",
    "- Utiliser un tuple de longueur 12 contenant les noms des mois\n",
    "- Utiliser un assert pour vérifier la précondition qui affiche un message d’erreur personnalisé\n",
    "\n",
    "    \n",
    "### Entrée 🔠\n",
    "En paramètre : un numéro de mois compris entre 1 et 12\n",
    "    \n",
    "### Sortie 🖥️\n",
    "Le nom du mois correspondant au numéro ou un message d'erreur le cas échéant\n",
    "    \n",
    "### Exemples 👀\n",
    "\n",
    "Appel: F_mois(3)\n",
    "\n",
    "> Sortie : Mars\n",
    "\n",
    "Appel: F_mois(15)\n",
    "\n",
    "> Sortie : Ce numéro de mois n'existe pas"
   ]
  },
  {
   "cell_type": "markdown",
   "id": "345605d1-8696-4160-8b5e-394a66aa37ce",
   "metadata": {},
   "source": [
    "## Votre solution : "
   ]
  },
  {
   "cell_type": "code",
   "execution_count": 4,
   "id": "6a50f7fc-9a21-407a-a588-7882bd26badf",
   "metadata": {},
   "outputs": [],
   "source": [
    "def F_mois(n):\n",
    "    \"\"\" Fonction retournant le nom du mois correspondant au numéro passé en paramètre\n",
    "    En entrée : num (entier)\n",
    "    En sortie : nom (chaine de caractère)\n",
    "    Précondition : num est compris entre 1 et 12 \n",
    "    \"\"\"\n",
    "    "
   ]
  },
  {
   "cell_type": "markdown",
   "id": "272402c5-a146-42ca-929d-b83ebfd3b597",
   "metadata": {
    "tags": []
   },
   "source": [
    "## [Home](0_Index.ipynb)🏠\n",
    "![licence.png](pics/licence.png) Licence Creative Commons Attribution - Partage dans les Mêmes Conditions 4.0 International"
   ]
  }
 ],
 "metadata": {
  "kernelspec": {
   "display_name": "Python 3 (ipykernel)",
   "language": "python",
   "name": "python3"
  },
  "language_info": {
   "codemirror_mode": {
    "name": "ipython",
    "version": 3
   },
   "file_extension": ".py",
   "mimetype": "text/x-python",
   "name": "python",
   "nbconvert_exporter": "python",
   "pygments_lexer": "ipython3",
   "version": "3.9.7"
  }
 },
 "nbformat": 4,
 "nbformat_minor": 5
}
