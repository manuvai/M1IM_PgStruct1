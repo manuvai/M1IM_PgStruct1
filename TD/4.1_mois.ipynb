{
 "cells": [
  {
   "cell_type": "markdown",
   "metadata": {
    "tags": []
   },
   "source": [
    "# Mois ⭐"
   ]
  },
  {
   "cell_type": "markdown",
   "metadata": {
    "nbgrader": {
     "grade": false,
     "grade_id": "cell-e8f0192bd90632dc",
     "locked": true,
     "schema_version": 3,
     "solution": false,
     "task": false
    },
    "tags": []
   },
   "source": [
    "### Tâche à réaliser 🎯\n",
    "\n",
    "Ecrire la définition de la fonction ci-dessous.\n",
    "Indications : \n",
    "- Utiliser un tuple de longueur 12 contenant les noms des mois\n",
    "- Utiliser un assert pour vérifier la précondition qui affiche un message d’erreur personnalisé\n",
    "\n",
    "    \n",
    "### Entrée 🔠\n",
    "En paramètre : un numéro de mois compris entre 1 et 12\n",
    "    \n",
    "### Sortie 🖥️\n",
    "Le nom du mois correspondant au numéro ou un message d'erreur le cas échéant\n",
    "    \n",
    "### Exemples 👀\n",
    "\n",
    "Appel: `F_mois(3)`\n",
    "\n",
    "> Sortie : `Mars`\n",
    "\n",
    "Appel: `F_mois(15)`\n",
    "\n",
    "> Sortie : `Ce numéro de mois n'existe pas`"
   ]
  },
  {
   "cell_type": "markdown",
   "metadata": {},
   "source": [
    "## Votre solution : "
   ]
  },
  {
   "cell_type": "code",
   "execution_count": 12,
   "metadata": {},
   "outputs": [
    {
     "data": {
      "text/plain": [
       "'Décembre'"
      ]
     },
     "execution_count": 12,
     "metadata": {},
     "output_type": "execute_result"
    }
   ],
   "source": [
    "def F_mois(n: int) -> str:\n",
    "    \"\"\" Fonction retournant le nom du mois correspondant au numéro passé en paramètre\n",
    "    En entrée : num (entier)\n",
    "    En sortie : nom (chaine de caractère)\n",
    "    Précondition : num est compris entre 1 et 12 \n",
    "    \"\"\"\n",
    "    assert n in range(1, 13), \"Veuillez donner un nombre entier compris entre 1 et 12\"\n",
    "    \n",
    "    months = ('Janvier', 'Février', 'Mars', 'Avril', 'Mai', 'Juin', 'Juillet', 'Août', 'Septembre', 'Octobre', 'Novembre', 'Décembre')\n",
    "    return months[n - 1]\n",
    "F_mois(12)\n",
    "        \n",
    "    "
   ]
  },
  {
   "cell_type": "markdown",
   "metadata": {
    "tags": []
   },
   "source": [
    "## [Home](0_Index.ipynb)🏠\n",
    "![licence.png](pics/licence.png) Licence Creative Commons Attribution - Partage dans les Mêmes Conditions 4.0 International"
   ]
  },
  {
   "cell_type": "code",
   "execution_count": null,
   "metadata": {},
   "outputs": [],
   "source": []
  }
 ],
 "metadata": {
  "kernelspec": {
   "display_name": "Python 3",
   "language": "python",
   "name": "python3"
  },
  "language_info": {
   "codemirror_mode": {
    "name": "ipython",
    "version": 3
   },
   "file_extension": ".py",
   "mimetype": "text/x-python",
   "name": "python",
   "nbconvert_exporter": "python",
   "pygments_lexer": "ipython3",
   "version": "3.8.5"
  }
 },
 "nbformat": 4,
 "nbformat_minor": 5
}
