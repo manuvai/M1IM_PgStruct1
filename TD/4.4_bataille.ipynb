{
 "cells": [
  {
   "cell_type": "markdown",
   "id": "dc350928-8258-4bb5-a64e-95c4f62641da",
   "metadata": {
    "tags": []
   },
   "source": [
    "# Bataille ⭐⭐"
   ]
  },
  {
   "cell_type": "markdown",
   "id": "931a4aac-5046-4c10-9166-ec5f3f948fd7",
   "metadata": {
    "nbgrader": {
     "grade": false,
     "grade_id": "cell-e8f0192bd90632dc",
     "locked": true,
     "schema_version": 3,
     "solution": false,
     "task": false
    },
    "tags": []
   },
   "source": [
    "### Tâche à réaliser 🎯\n",
    "Dans un jeu de 32 cartes, on a la couleur de la carte (pique, trèfle, carreau, cœur) et sa valeur (7, 8, 9, 10, valet, roi, dame, As). \n",
    "\n",
    "Ecrire une fonction `F_carteAuHasard` qui renvoie un tuple composé d'une valeur et d'une couleur de carte tirés au hasard.\n",
    "### Entrée 🔠\n",
    "Aucune\n",
    "    \n",
    "### Sortie 🖥️\n",
    "Un tuple composé d'une valeur et d'une couleur\n",
    "    \n",
    "### Exemples 👀\n",
    "\n",
    "Appel: `F_carteAuHasard()`\n",
    "\n",
    "> Sortie : `('7', 'carreau')`  Valeurs variables car tirage aléatoire"
   ]
  },
  {
   "cell_type": "markdown",
   "id": "345605d1-8696-4160-8b5e-394a66aa37ce",
   "metadata": {},
   "source": [
    "## Votre solution : "
   ]
  },
  {
   "cell_type": "code",
   "execution_count": 2,
   "id": "6a50f7fc-9a21-407a-a588-7882bd26badf",
   "metadata": {},
   "outputs": [
    {
     "name": "stdout",
     "output_type": "stream",
     "text": [
      "('roi', 'trèfle')\n"
     ]
    }
   ],
   "source": [
    "import random\n",
    "CARDS = ['7', '8', '9', '10', 'valet', 'valet', 'roi', 'dame', 'As']\n",
    "COLORS = ['pique', 'trèfle', 'carreau', 'cœur']\n",
    "\n",
    "def F_carteAuHasard() -> list:\n",
    "    card_index = random.randint(0, 7)\n",
    "    color_index = random.randint(0, 3)\n",
    "\n",
    "    \n",
    "    return (str(CARDS[card_index]), COLORS[color_index])\n",
    "\n",
    "print(F_carteAuHasard())"
   ]
  },
  {
   "cell_type": "markdown",
   "id": "f7cf1d1b-91e6-49c4-b9b3-f872341f1268",
   "metadata": {
    "nbgrader": {
     "grade": false,
     "grade_id": "cell-e8f0192bd90632dc",
     "locked": true,
     "schema_version": 3,
     "solution": false,
     "task": false
    },
    "tags": []
   },
   "source": [
    "### Tâche à réaliser 🎯\n",
    "\n",
    "Ecrire la fonction `F_bataille` qui compare deux cartes passées en paramètres.\n",
    "  \n",
    "### Entrée 🔠\n",
    "En paramètre : 2 tuples (valeur, couleur) correspondant à deux cartes\n",
    "    \n",
    "### Sortie 🖥️\n",
    "1 si la meilleure carte est la première, 2 si c'est la deuxième, 0 s'il y a égalité\n",
    "    \n",
    "### Exemples 👀\n",
    "\n",
    "Appel: `F_bataille((\"roi\",\"pique\"),(\"dame\",\"coeur\")) `\n",
    "\n",
    "> Sortie : `1`\n",
    "\n",
    "Appel: `F_bataille((\"valet\",\"pique\"),(\"dame\",\"coeur\")) `\n",
    "\n",
    "> Sortie : `2`\n",
    "\n",
    "Appel: `F_bataille((\"roi\",\"pique\"),(\"roi\",\"coeur\")) `\n",
    "\n",
    "> Sortie : `0`"
   ]
  },
  {
   "cell_type": "code",
   "execution_count": 3,
   "id": "b236973e-c016-4f07-8a8b-9084501db569",
   "metadata": {},
   "outputs": [
    {
     "name": "stdout",
     "output_type": "stream",
     "text": [
      "p1 vs p2 - ('dame', 'trèfle') vs ('8', 'carreau') -> 1\n"
     ]
    }
   ],
   "source": [
    "def F_bataille(p1: list, p2: list) -> int:\n",
    "    if (p1[1] == p2[1]):\n",
    "        color_win = 0\n",
    "    elif (COLORS.index(p1[1]) > COLORS.index(p2[1])):\n",
    "        color_win = 1\n",
    "    else:\n",
    "        color_win = 2\n",
    "    \n",
    "    if (p1[0] == p2[0]):\n",
    "        card_win = 0\n",
    "    elif (CARDS.index(p1[0]) > CARDS.index(p2[0])):\n",
    "        card_win = 1\n",
    "    else:\n",
    "        card_win = 2\n",
    "\n",
    "    if (card_win != 0):\n",
    "        return card_win\n",
    "    return color_win\n",
    "\n",
    "\n",
    "    \n",
    "\n",
    "p1 = F_carteAuHasard()\n",
    "p2 = F_carteAuHasard()\n",
    "print (\"p1 vs p2 - {} vs {} -> {}\".format(str(p1), str(p2), F_bataille(p1, p2)))"
   ]
  },
  {
   "cell_type": "markdown",
   "id": "790e7052-6bcf-4bb5-b5ee-2ac2326d2259",
   "metadata": {
    "nbgrader": {
     "grade": false,
     "grade_id": "cell-e8f0192bd90632dc",
     "locked": true,
     "schema_version": 3,
     "solution": false,
     "task": false
    },
    "tags": []
   },
   "source": [
    "### Tâche à réaliser 🎯\n",
    "\n",
    "En utilisant les deux fonctions précédentes, écrire un programme qui :\n",
    "- lance le tirage de 2 cartes et les affiche\n",
    "- lance une bataille entre ces deux cartes\n",
    "- affiche un des messages suivant selon le résultat de la bataille :\n",
    "   - `Gagné` si la somme est supérieure à 12\n",
    "   - `Rejouez` si la somme est comprise entre 6 et 12 inclus\n",
    "   - `Perdu` si la somme est inférieure à 6\n",
    "  \n",
    "### Entrée 🔠\n",
    "Aucune\n",
    "    \n",
    "### Sortie 🖥️\n",
    "Un des messages précédents.\n",
    "    \n",
    "### Exemples 👀\n",
    "Lancer plusieurs fois votre programme pour vérifier que les 3 cas sont corrects."
   ]
  },
  {
   "cell_type": "code",
   "execution_count": 4,
   "id": "31c558ca-2bc6-4a4e-9467-2ff8085cad3b",
   "metadata": {},
   "outputs": [
    {
     "name": "stdout",
     "output_type": "stream",
     "text": [
      "p1 vs p2 - ('9', 'trèfle') vs ('9', 'carreau') -> Perdu\n",
      "p1 vs p2 - ('8', 'cœur') vs ('9', 'carreau') -> Perdu\n",
      "p1 vs p2 - ('8', 'trèfle') vs ('8', 'trèfle') -> Égalité\n",
      "p1 vs p2 - ('dame', 'cœur') vs ('10', 'carreau') -> Gagné\n",
      "p1 vs p2 - ('valet', 'cœur') vs ('roi', 'trèfle') -> Perdu\n"
     ]
    }
   ],
   "source": [
    "def textResult(result_bataille: int) -> str:\n",
    "    if (result_bataille == 0):\n",
    "        return \"Égalité\"\n",
    "    if (result_bataille == 1):\n",
    "        return \"Gagné\"\n",
    "    return \"Perdu\"\n",
    "\n",
    "def tournoi() -> None:\n",
    "        \n",
    "    p1 = F_carteAuHasard()\n",
    "    p2 = F_carteAuHasard()\n",
    "    print (\"p1 vs p2 - {} vs {} -> {}\".format(str(p1), str(p2), textResult(F_bataille(p1, p2))))\n",
    "\n",
    "for i in range(5):\n",
    "    tournoi()"
   ]
  },
  {
   "cell_type": "markdown",
   "id": "272402c5-a146-42ca-929d-b83ebfd3b597",
   "metadata": {
    "tags": []
   },
   "source": [
    "## [Home](0_Index.ipynb)🏠\n",
    "![licence.png](pics/licence.png) Licence Creative Commons Attribution - Partage dans les Mêmes Conditions 4.0 International"
   ]
  }
 ],
 "metadata": {
  "kernelspec": {
   "display_name": "Python 3.10.6 64-bit",
   "language": "python",
   "name": "python3"
  },
  "language_info": {
   "codemirror_mode": {
    "name": "ipython",
    "version": 3
   },
   "file_extension": ".py",
   "mimetype": "text/x-python",
   "name": "python",
   "nbconvert_exporter": "python",
   "pygments_lexer": "ipython3",
   "version": "3.10.6"
  },
  "vscode": {
   "interpreter": {
    "hash": "4fb435cb9a1efeb2f38d3dce1339521a1fba953090a1346d7eedb3261b9f21ce"
   }
  }
 },
 "nbformat": 4,
 "nbformat_minor": 5
}
