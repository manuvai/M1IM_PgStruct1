{
 "cells": [
  {
   "cell_type": "markdown",
   "id": "dc350928-8258-4bb5-a64e-95c4f62641da",
   "metadata": {},
   "source": [
    "# Somme et moyenne ⭐"
   ]
  },
  {
   "cell_type": "markdown",
   "id": "931a4aac-5046-4c10-9166-ec5f3f948fd7",
   "metadata": {
    "nbgrader": {
     "grade": false,
     "grade_id": "cell-e8f0192bd90632dc",
     "locked": true,
     "schema_version": 3,
     "solution": false,
     "task": false
    },
    "tags": []
   },
   "source": [
    "### Tâche à réaliser 🎯\n",
    "\n",
    "Ecrire une fonction `F_somme(n)` qui fait saisir n nombres entiers et retourne leur somme\n",
    "    \n",
    "### Entrée 🔠\n",
    "\n",
    "Les paramètres : \n",
    " * l'entier n qui correspond au nombre de saisies à faire\n",
    " * n entiers saisis\n",
    "    \n",
    "### Sortie 🖥️\n",
    "La somme des n entiers saisis\n",
    "    \n",
    "### Exemples 👀\n",
    "\n",
    "Appel : `F_somme(3)`\n",
    "\n",
    "Nombres saisis : `10,12,15`\n",
    "\n",
    "> Renvoi: `37`\n"
   ]
  },
  {
   "cell_type": "markdown",
   "id": "345605d1-8696-4160-8b5e-394a66aa37ce",
   "metadata": {},
   "source": [
    "## Votre solution : "
   ]
  },
  {
   "cell_type": "code",
   "execution_count": 3,
   "id": "6a50f7fc-9a21-407a-a588-7882bd26badf",
   "metadata": {
    "tags": []
   },
   "outputs": [
    {
     "name": "stdout",
     "output_type": "stream",
     "text": [
      "15\n"
     ]
    }
   ],
   "source": [
    "def F_somme(n):\n",
    "    saisie = [int(input(\"Veuillez entrer un nombre entier N°{}\".format(i + 1))) for i in range(n)]\n",
    "    sum = 0\n",
    "    for el in saisie:\n",
    "        sum += el\n",
    "    return sum\n",
    "\n",
    "print(F_somme(int(input(\"Veuillez entrer le nombre d'éléments à saisir\"))))"
   ]
  },
  {
   "cell_type": "markdown",
   "id": "3e60da3d-3c1c-4bfb-b17b-ef43131b9b25",
   "metadata": {
    "nbgrader": {
     "grade": false,
     "grade_id": "cell-e8f0192bd90632dc",
     "locked": true,
     "schema_version": 3,
     "solution": false,
     "task": false
    },
    "tags": []
   },
   "source": [
    "### Tâche à réaliser 🎯\n",
    "\n",
    "Ecrire une fonction `F_moyenne(n)` qui retourne la moyenne de n nombres entiers. Cette fonction doit utiliser la fonction `F_somme`.\n",
    "    \n",
    "### Entrée 🔠\n",
    "\n",
    "Les paramètres : l'entier n qui correspond au nombre de saisies à faire\n",
    "    \n",
    "### Sortie 🖥️\n",
    "La moyenne des n nombres saisis\n",
    "    \n",
    "### Exemples 👀\n",
    "\n",
    "Appel : `F_moyenne(3)`\n",
    "\n",
    "Nombres saisis : `10,35,15`\n",
    "\n",
    "> Renvoi: `20.0`"
   ]
  },
  {
   "cell_type": "code",
   "execution_count": 4,
   "id": "f4c4b2d4-1a7e-4a44-8e0a-3699f30b6220",
   "metadata": {},
   "outputs": [
    {
     "name": "stdout",
     "output_type": "stream",
     "text": [
      "20.0\n"
     ]
    }
   ],
   "source": [
    "def F_somme(n):\n",
    "    saisie = [int(input(\"Veuillez entrer un nombre entier N°{}\".format(i + 1))) for i in range(n)]\n",
    "    sum = 0\n",
    "    for el in saisie:\n",
    "        sum += el\n",
    "    return sum / n\n",
    "\n",
    "print(F_somme(int(input(\"Veuillez entrer le nombre d'éléments à saisir\"))))"
   ]
  },
  {
   "cell_type": "markdown",
   "id": "272402c5-a146-42ca-929d-b83ebfd3b597",
   "metadata": {
    "tags": []
   },
   "source": [
    "## [Home](0_Index.ipynb)🏠\n",
    "![licence.png](pics/licence.png) Licence Creative Commons Attribution - Partage dans les Mêmes Conditions 4.0 International"
   ]
  }
 ],
 "metadata": {
  "kernelspec": {
   "display_name": "Python 3.10.6 64-bit",
   "language": "python",
   "name": "python3"
  },
  "language_info": {
   "codemirror_mode": {
    "name": "ipython",
    "version": 3
   },
   "file_extension": ".py",
   "mimetype": "text/x-python",
   "name": "python",
   "nbconvert_exporter": "python",
   "pygments_lexer": "ipython3",
   "version": "3.10.6"
  },
  "vscode": {
   "interpreter": {
    "hash": "4fb435cb9a1efeb2f38d3dce1339521a1fba953090a1346d7eedb3261b9f21ce"
   }
  }
 },
 "nbformat": 4,
 "nbformat_minor": 5
}
