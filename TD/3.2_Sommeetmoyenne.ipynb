{
 "cells": [
  {
   "cell_type": "markdown",
   "metadata": {},
   "source": [
    "# Somme et moyenne ⭐"
   ]
  },
  {
   "cell_type": "markdown",
   "metadata": {
    "nbgrader": {
     "grade": false,
     "grade_id": "cell-e8f0192bd90632dc",
     "locked": true,
     "schema_version": 3,
     "solution": false,
     "task": false
    },
    "tags": []
   },
   "source": [
    "### Tâche à réaliser 🎯\n",
    "\n",
    "Ecrire une fonction `F_somme(n)` qui fait saisir n nombres entiers et retourne leur somme\n",
    "    \n",
    "### Entrée 🔠\n",
    "\n",
    "Les paramètres : \n",
    " * l'entier n qui correspond au nombre de saisies à faire\n",
    " * n entiers saisis\n",
    "    \n",
    "### Sortie 🖥️\n",
    "La somme des n entiers saisis\n",
    "    \n",
    "### Exemples 👀\n",
    "\n",
    "Appel : `F_somme(3)`\n",
    "\n",
    "Nombres saisis : `10,12,15`\n",
    "\n",
    "> Renvoi: `37`\n"
   ]
  },
  {
   "cell_type": "markdown",
   "metadata": {},
   "source": [
    "## Votre solution : "
   ]
  },
  {
   "cell_type": "code",
   "execution_count": 3,
   "metadata": {
    "tags": []
   },
   "outputs": [
    {
     "name": "stdout",
     "output_type": "stream",
     "text": [
      "15\n"
     ]
    }
   ],
   "source": [
    "def F_somme(n):\n",
    "    saisie = [int(input(\"Veuillez entrer un nombre entier N°{}\".format(i + 1))) for i in range(n)]\n",
    "    sum = 0\n",
    "    for el in saisie:\n",
    "        sum += el\n",
    "    return sum\n",
    "\n",
    "print(F_somme(int(input(\"Veuillez entrer le nombre d'éléments à saisir\"))))"
   ]
  },
  {
   "cell_type": "markdown",
   "metadata": {
    "nbgrader": {
     "grade": false,
     "grade_id": "cell-e8f0192bd90632dc",
     "locked": true,
     "schema_version": 3,
     "solution": false,
     "task": false
    },
    "tags": []
   },
   "source": [
    "### Tâche à réaliser 🎯\n",
    "\n",
    "Ecrire une fonction `F_moyenne(n)` qui retourne la moyenne de n nombres entiers. Cette fonction doit utiliser la fonction `F_somme`.\n",
    "    \n",
    "### Entrée 🔠\n",
    "\n",
    "Les paramètres : l'entier n qui correspond au nombre de saisies à faire\n",
    "    \n",
    "### Sortie 🖥️\n",
    "La moyenne des n nombres saisis\n",
    "    \n",
    "### Exemples 👀\n",
    "\n",
    "Appel : `F_moyenne(3)`\n",
    "\n",
    "Nombres saisis : `10,35,15`\n",
    "\n",
    "> Renvoi: `20.0`"
   ]
  },
  {
   "cell_type": "code",
   "execution_count": 4,
   "metadata": {},
   "outputs": [
    {
     "name": "stdout",
     "output_type": "stream",
     "text": [
      "20.0\n"
     ]
    }
   ],
   "source": [
    "def F_somme(n):\n",
    "    saisie = [int(input(\"Veuillez entrer un nombre entier N°{}\".format(i + 1))) for i in range(n)]\n",
    "    sum = 0\n",
    "    for el in saisie:\n",
    "        sum += el\n",
    "    return sum / n\n",
    "\n",
    "print(F_somme(int(input(\"Veuillez entrer le nombre d'éléments à saisir\"))))"
   ]
  },
  {
   "cell_type": "markdown",
   "metadata": {
    "tags": []
   },
   "source": [
    "## [Home](0_Index.ipynb)🏠\n",
    "![licence.png](pics/licence.png) Licence Creative Commons Attribution - Partage dans les Mêmes Conditions 4.0 International"
   ]
  }
 ],
 "metadata": {
  "kernelspec": {
   "display_name": "Python 3",
   "language": "python",
   "name": "python3"
  },
  "language_info": {
   "codemirror_mode": {
    "name": "ipython",
    "version": 3
   },
   "file_extension": ".py",
   "mimetype": "text/x-python",
   "name": "python",
   "nbconvert_exporter": "python",
   "pygments_lexer": "ipython3",
   "version": "3.8.5"
  },
  "vscode": {
   "interpreter": {
    "hash": "4fb435cb9a1efeb2f38d3dce1339521a1fba953090a1346d7eedb3261b9f21ce"
   }
  }
 },
 "nbformat": 4,
 "nbformat_minor": 5
}
