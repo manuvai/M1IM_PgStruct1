{
 "cells": [
  {
   "cell_type": "markdown",
   "id": "dc350928-8258-4bb5-a64e-95c4f62641da",
   "metadata": {},
   "source": [
    "# Calcul d'annuité ⭐"
   ]
  },
  {
   "cell_type": "markdown",
   "id": "931a4aac-5046-4c10-9166-ec5f3f948fd7",
   "metadata": {
    "nbgrader": {
     "grade": false,
     "grade_id": "cell-e8f0192bd90632dc",
     "locked": true,
     "schema_version": 3,
     "solution": false,
     "task": false
    },
    "tags": []
   },
   "source": [
    "### Tâche à réaliser 🎯\n",
    "\n",
    "Une annuité est une somme d'argent versée annuellement par un emprunteur pour rembourser une dette. Elle est constituée d'une partie du capital emprunté ainsi que des intérêts dus. \n",
    "Spécifiez et implémentez un algorithme qui calcule l’annuité de remboursement d’un capital emprunté $C$ sur une durée $n$ (comprise en 3 et 20) et à un taux d’intérêt $t$ d’intérêt (compris entre 0 et 1, 0 exclu).\n",
    "\n",
    "L'annuité de remboursement est constante, annuelle et déterminée par la formule suivante: \n",
    "\n",
    "$A=C*t*(1+t)^n/((1+t)^n-1)$\n",
    "    \n",
    "### Entrées 🔠\n",
    "\n",
    "Le montant $C$ du capital emprunté, la durée $n$ de l'emprunt et le taux d'intérêt $t$, saisis par l'utilisateur.\n",
    "    \n",
    "### Sortie 🖥️\n",
    "Le montant de l'annuité de remboursement calculé grâce à la formule et le montant total emprunté\n",
    "    \n",
    "### Exemples 👀\n",
    "\n",
    "Entrées: \n",
    "> C = 1000, n= 5, t=0.1\n",
    "\n",
    "Sortie: \n",
    "> Annuité: 263.80 Montant total: 1318.99\n",
    "    \n",
    "Entrée: \n",
    "> C = 241522, n= 20, t=0.2\n",
    "\n",
    "Sortie: \n",
    "> Annuité: 49598.12 Montant total: 991962.40"
   ]
  },
  {
   "cell_type": "markdown",
   "id": "345605d1-8696-4160-8b5e-394a66aa37ce",
   "metadata": {},
   "source": [
    "## Votre solution : "
   ]
  },
  {
   "cell_type": "code",
   "execution_count": null,
   "metadata": {},
   "outputs": [],
   "source": []
  },
  {
   "cell_type": "markdown",
   "metadata": {
    "tags": []
   },
   "source": [
    "## [Home](0_Index.ipynb)🏠\n",
    "![licence.png](pics/licence.png) Licence Creative Commons Attribution - Partage dans les Mêmes Conditions 4.0 International"
   ]
  }
 ],
 "metadata": {
  "kernelspec": {
   "display_name": "Python 3",
   "language": "python",
   "name": "python3"
  },
  "language_info": {
   "codemirror_mode": {
    "name": "ipython",
    "version": 3
   },
   "file_extension": ".py",
   "mimetype": "text/x-python",
   "name": "python",
   "nbconvert_exporter": "python",
   "pygments_lexer": "ipython3",
   "version": "3.8.5"
  }
 },
 "nbformat": 4,
 "nbformat_minor": 5
}
