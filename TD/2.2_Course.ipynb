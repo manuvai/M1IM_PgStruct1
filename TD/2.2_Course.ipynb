{
 "cells": [
  {
   "cell_type": "markdown",
   "id": "dc350928-8258-4bb5-a64e-95c4f62641da",
   "metadata": {},
   "source": [
    "# Course à pied ⭐"
   ]
  },
  {
   "cell_type": "markdown",
   "id": "931a4aac-5046-4c10-9166-ec5f3f948fd7",
   "metadata": {
    "nbgrader": {
     "grade": false,
     "grade_id": "cell-e8f0192bd90632dc",
     "locked": true,
     "schema_version": 3,
     "solution": false,
     "task": false
    },
    "tags": []
   },
   "source": [
    "### Tâche à réaliser 🎯\n",
    "\n",
    "Ecrire un algorithme qui va afficher la catégorie d'un coureur et le prix à payer pour la course sachant que :\n",
    "- un coureur dont l'âge est inférieur à 20 ans est en catégorie Junior\n",
    "- un coureur dont l'âge est compris entre 20 et 22 ans (inclus) est en catégorie Espoir\n",
    "- un coureur dont l'âge est compris entre 23 et 35 ans (inclus) est en catégorie Sénior\n",
    "- un coureur dont l'âge est supérieur à 35 ans est en catégorie Master\n",
    "- les coureurs de catégorie Junior et Espoir qui sont étudiants paieront 5€ et les autres 10€\n",
    "\n",
    "    \n",
    "### Entrée 🔠\n",
    "\n",
    "L'âge du coureur et le statut\n",
    "    \n",
    "### Sortie 🖥️\n",
    "La catégorie du coureur et le prix à payer\n",
    "    \n",
    "### Exemples 👀\n",
    "\n",
    "Entrée: age=18, etudiant=oui\n",
    "\n",
    "> Sortie: Vous êtes en catégorie Junior et devez payer 5€\n",
    "    \n",
    "Entrée: age=40, etudiant=oui\n",
    "\n",
    "> Sortie: Vous êtes en catégorie Master et devez payer 10€\n",
    "\n",
    "Inscrire en commentaires dans votre code les jeux d'essais effectués car il manque des cas pour tester l'ensemble des possibilités."
   ]
  },
  {
   "cell_type": "markdown",
   "id": "345605d1-8696-4160-8b5e-394a66aa37ce",
   "metadata": {},
   "source": [
    "## Votre solution : "
   ]
  },
  {
   "cell_type": "code",
   "execution_count": null,
   "id": "6a50f7fc-9a21-407a-a588-7882bd26badf",
   "metadata": {},
   "outputs": [],
   "source": []
  },
  {
   "cell_type": "markdown",
   "id": "272402c5-a146-42ca-929d-b83ebfd3b597",
   "metadata": {
    "tags": []
   },
   "source": [
    "## [Home](0_Index.ipynb)🏠\n",
    "![licence.png](pics/licence.png) Licence Creative Commons Attribution - Partage dans les Mêmes Conditions 4.0 International"
   ]
  }
 ],
 "metadata": {
  "kernelspec": {
   "display_name": "Python 3 (ipykernel)",
   "language": "python",
   "name": "python3"
  },
  "language_info": {
   "codemirror_mode": {
    "name": "ipython",
    "version": 3
   },
   "file_extension": ".py",
   "mimetype": "text/x-python",
   "name": "python",
   "nbconvert_exporter": "python",
   "pygments_lexer": "ipython3",
   "version": "3.9.12"
  }
 },
 "nbformat": 4,
 "nbformat_minor": 5
}
