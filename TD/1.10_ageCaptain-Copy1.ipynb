{
 "cells": [
  {
   "cell_type": "markdown",
   "id": "dc350928-8258-4bb5-a64e-95c4f62641da",
   "metadata": {},
   "source": [
    "# Quel est l'age du capitaine? ⭐"
   ]
  },
  {
   "cell_type": "markdown",
   "id": "931a4aac-5046-4c10-9166-ec5f3f948fd7",
   "metadata": {
    "nbgrader": {
     "grade": false,
     "grade_id": "cell-e8f0192bd90632dc",
     "locked": true,
     "schema_version": 3,
     "solution": false,
     "task": false
    },
    "tags": []
   },
   "source": [
    "### Tâche à réaliser 🎯\n",
    "\n",
    "Le capitaine d'un navire, son second et le premier mousse ont la spécificité d'avoir leurs âges qui forment une suite arithmétique : la différence d'âge entre le second et le mousse est la moitiée de la différence d'âge entre le capitaine et le second. Par exemple, leurs âges pourraient être 15, 20 et 30.\n",
    "\n",
    "Compte tenu de l'âge du mousse, et celui du second, quel est l'âge du capitaine ?\n",
    "    \n",
    "### Entrée 🔠\n",
    "\n",
    "$M$ est l'age du mousse, et $S$ est l'age du second. On sait que $(0<=M<=50)$ et $(M<=S<=50)$. \n",
    "    \n",
    "### Sortie 🖥️\n",
    "Donnez l'age du capitaine!\n",
    "    \n",
    "### Exemples 👀\n",
    "\n",
    "Entrée: 15\n",
    "\n",
    "> Sortie: Le Capitaine as 30 ans.\n"
   ]
  },
  {
   "cell_type": "markdown",
   "id": "345605d1-8696-4160-8b5e-394a66aa37ce",
   "metadata": {},
   "source": [
    "## Votre solution : "
   ]
  },
  {
   "cell_type": "code",
   "execution_count": 3,
   "id": "6a50f7fc-9a21-407a-a588-7882bd26badf",
   "metadata": {},
   "outputs": [
    {
     "name": "stdout",
     "output_type": "stream",
     "text": [
      "Le Capitaine a 30 ans\n"
     ]
    }
   ],
   "source": [
    "M = int(input(\"Quel est l'age du mousse ? \"))\n",
    "if M < 0 or M > 50:\n",
    "    raise Exception(\"La valeur renseignée est invalide\")\n",
    "S = int(input(\"Quel est l'age du second ? \"))\n",
    "if S < 0 or S > 50:\n",
    "    raise Exception(\"La valeur renseignée est invalide\")\n",
    "\n",
    "\n",
    "\n",
    "C = abs(M - S) * 2 + S\n",
    "\n",
    "print(\"Le Capitaine a {} ans\".format(C))"
   ]
  },
  {
   "cell_type": "markdown",
   "id": "272402c5-a146-42ca-929d-b83ebfd3b597",
   "metadata": {
    "tags": []
   },
   "source": [
    "## [Home](0_Index.ipynb)🏠\n",
    "![licence.png](pics/licence.png) Licence Creative Commons Attribution - Partage dans les Mêmes Conditions 4.0 International"
   ]
  }
 ],
 "metadata": {
  "kernelspec": {
   "display_name": "Python 3.10.6 64-bit",
   "language": "python",
   "name": "python3"
  },
  "language_info": {
   "codemirror_mode": {
    "name": "ipython",
    "version": 3
   },
   "file_extension": ".py",
   "mimetype": "text/x-python",
   "name": "python",
   "nbconvert_exporter": "python",
   "pygments_lexer": "ipython3",
   "version": "3.10.6"
  },
  "vscode": {
   "interpreter": {
    "hash": "4fb435cb9a1efeb2f38d3dce1339521a1fba953090a1346d7eedb3261b9f21ce"
   }
  }
 },
 "nbformat": 4,
 "nbformat_minor": 5
}
