{
 "cells": [
  {
   "cell_type": "markdown",
   "id": "1c2f9794",
   "metadata": {},
   "source": [
    "# A spooky season - DMOJ problem wc16c1j1 https://dmoj.ca/problem/wc16c1j1 ⭐"
   ]
  },
  {
   "cell_type": "markdown",
   "id": "98356b24",
   "metadata": {
    "nbgrader": {
     "grade": false,
     "grade_id": "cell-e8f0192bd90632dc",
     "locked": true,
     "schema_version": 3,
     "solution": false,
     "task": false
    },
    "tags": []
   },
   "source": [
    "### Tâche à réaliser 🎯\n",
    "\n",
    "La fin octobre peut être une période de l'année plutôt effrayante. La nuit commence à tomber de plus en plus tôt, les anciens rituels païens réveillent les démons et, à la fin du mois, on peut même voir des hordes de petites créatures errer dans les rues ! C'est un spectacle effrayant s'il en est un.\n",
    "Mais à quel point ce festival démoniaque est-il effrayant ? Son niveau d'effroi peut, en fait, être mesuré et représenté par un seul nombre entier \n",
    "$S$ tel que $(2 ≤ S ≤ 20)$ Cependant, un simple nombre ne rend pas vraiment justice à la sensation effrayante. En tant que telle, elle peut également être décrite avec le mot spoo...ooky, avec exactement $S$ o.\n",
    "\n",
    "Étant donné le nombre entier $S$, pouvez-vous lancer une incantation effrayante sur votre ordinateur pour qu'il produise le mot effrayant correspondant ?\n",
    "    \n",
    "### Entrée 🔠\n",
    "\n",
    "La première et unique ligne d'entrée consiste en un seul nombre entier S.\n",
    "    \n",
    "### Sortie 🖥️\n",
    "Sortie d'une seule ligne constituée d'une seule chaîne de caractères - le mot effrayant correspondant à la valeur donnée de S.\n",
    "    \n",
    "### Exemples 👀\n",
    "\n",
    "Entrée: 5\n",
    "\n",
    "> Sortie: Spoooooky!\n"
   ]
  },
  {
   "cell_type": "markdown",
   "id": "cfe80c96",
   "metadata": {},
   "source": [
    "## Votre solution : "
   ]
  },
  {
   "cell_type": "code",
   "execution_count": 64,
   "id": "7230fbd6",
   "metadata": {},
   "outputs": [
    {
     "name": "stdout",
     "output_type": "stream",
     "text": [
      "3\n",
      "spoooky\n"
     ]
    }
   ],
   "source": [
    "#niveau_effroi = int(input(\"Veuillez entrer le niveau d'effroi\"))\n",
    "#if (niveau_effroi < 2 or niveau_effroi > 20):\n",
    "#    raise Exception(\"La valeur renseignée est invalide\")\n",
    "\n",
    "#print(\"Sp{}ky\".format('o' * niveau_effroi))\n",
    "\n",
    "\n",
    "#s = list(range(2,20))\n",
    "\n",
    "\n",
    "\n",
    "s = int(input())\n",
    "c = s >= 2 and s <= 20\n",
    "res = (\"Pas good\", \"sp{}ky\".format('o' * s))[c]\n",
    "print(res)"
   ]
  },
  {
   "cell_type": "markdown",
   "id": "37093546",
   "metadata": {
    "tags": []
   },
   "source": [
    "## [Home](0_Index.ipynb)🏠\n",
    "![licence.png](pics/licence.png) Licence Creative Commons Attribution - Partage dans les Mêmes Conditions 4.0 International"
   ]
  },
  {
   "cell_type": "code",
   "execution_count": null,
   "id": "c8a68cb2",
   "metadata": {},
   "outputs": [],
   "source": []
  }
 ],
 "metadata": {
  "kernelspec": {
   "display_name": "Python 3 (ipykernel)",
   "language": "python",
   "name": "python3"
  },
  "language_info": {
   "codemirror_mode": {
    "name": "ipython",
    "version": 3
   },
   "file_extension": ".py",
   "mimetype": "text/x-python",
   "name": "python",
   "nbconvert_exporter": "python",
   "pygments_lexer": "ipython3",
   "version": "3.9.12"
  },
  "vscode": {
   "interpreter": {
    "hash": "4fb435cb9a1efeb2f38d3dce1339521a1fba953090a1346d7eedb3261b9f21ce"
   }
  }
 },
 "nbformat": 4,
 "nbformat_minor": 5
}
