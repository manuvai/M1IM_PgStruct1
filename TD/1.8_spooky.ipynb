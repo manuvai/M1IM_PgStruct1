{
 "cells": [
  {
   "cell_type": "markdown",
   "id": "dc350928-8258-4bb5-a64e-95c4f62641da",
   "metadata": {},
   "source": [
    "# A spooky season - DMOJ problem wc16c1j1 (https://dmoj.ca/problem/wc16c1j1)⭐"
   ]
  },
  {
   "cell_type": "markdown",
   "id": "931a4aac-5046-4c10-9166-ec5f3f948fd7",
   "metadata": {
    "nbgrader": {
     "grade": false,
     "grade_id": "cell-e8f0192bd90632dc",
     "locked": true,
     "schema_version": 3,
     "solution": false,
     "task": false
    },
    "tags": []
   },
   "source": [
    "### Tâche à réaliser 🎯\n",
    "\n",
    "La fin octobre peut être une période de l'année plutôt effrayante. La nuit commence à tomber de plus en plus tôt, les anciens rituels païens réveillent les démons et, à la fin du mois, on peut même voir des hordes de petites créatures errer dans les rues ! C'est un spectacle effrayant s'il en est un.\n",
    "Mais à quel point ce festival démoniaque est-il effrayant ? Son niveau d'effroi peut, en fait, être mesuré et représenté par un seul nombre entier \n",
    "$S$ tel que $(2 ≤ S ≤ 20)$ Cependant, un simple nombre ne rend pas vraiment justice à la sensation effrayante. En tant que telle, elle peut également être décrite avec le mot spoo...ooky, avec exactement $S$ o.\n",
    "\n",
    "Étant donné le nombre entier $S$, pouvez-vous lancer une incantation effrayante sur votre ordinateur pour qu'il produise le mot effrayant correspondant ?\n",
    "    \n",
    "### Entrée 🔠\n",
    "\n",
    "La première et unique ligne d'entrée consiste en un seul nombre entier S.\n",
    "    \n",
    "### Sortie 🖥️\n",
    "Sortie d'une seule ligne constituée d'une seule chaîne de caractères - le mot effrayant correspondant à la valeur donnée de S.\n",
    "    \n",
    "### Exemples 👀\n",
    "\n",
    "Entrée: 5\n",
    "\n",
    "> Sortie: Spoooooky!\n"
   ]
  },
  {
   "cell_type": "markdown",
   "id": "345605d1-8696-4160-8b5e-394a66aa37ce",
   "metadata": {},
   "source": [
    "## Votre solution : "
   ]
  },
  {
   "cell_type": "code",
   "execution_count": null,
   "id": "6a50f7fc-9a21-407a-a588-7882bd26badf",
   "metadata": {},
   "outputs": [],
   "source": []
  },
  {
   "cell_type": "markdown",
   "id": "272402c5-a146-42ca-929d-b83ebfd3b597",
   "metadata": {
    "tags": []
   },
   "source": [
    "## [Home](0_Index.ipynb)🏠\n",
    "![licence.png](pics/licence.png) Licence Creative Commons Attribution - Partage dans les Mêmes Conditions 4.0 International"
   ]
  }
 ],
 "metadata": {
  "kernelspec": {
   "display_name": "Python 3 (ipykernel)",
   "language": "python",
   "name": "python3"
  },
  "language_info": {
   "codemirror_mode": {
    "name": "ipython",
    "version": 3
   },
   "file_extension": ".py",
   "mimetype": "text/x-python",
   "name": "python",
   "nbconvert_exporter": "python",
   "pygments_lexer": "ipython3",
   "version": "3.9.7"
  }
 },
 "nbformat": 4,
 "nbformat_minor": 5
}
