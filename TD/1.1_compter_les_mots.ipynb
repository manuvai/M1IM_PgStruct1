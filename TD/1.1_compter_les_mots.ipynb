{
 "cells": [
  {
   "cell_type": "markdown",
   "metadata": {
    "nbgrader": {
     "grade": false,
     "grade_id": "cell-4c9f19b7231c51c0",
     "locked": true,
     "schema_version": 3,
     "solution": false,
     "task": false
    }
   },
   "source": [
    "## Problème 1 : Comptez les mots dans une phrase ⭐"
   ]
  },
  {
   "cell_type": "markdown",
   "metadata": {
    "nbgrader": {
     "grade": false,
     "grade_id": "cell-d800e1fb01e0ba96",
     "locked": true,
     "schema_version": 3,
     "solution": false,
     "task": false
    }
   },
   "source": [
    "Attaquons ensemble notre premier problème. Nous allons écrire notre premier programme et lui faire passer des tests pour valider son comportement. Dans cet exercice, nous allons **<span style=\"color:darkblue\">lire des saisies faites par un utilisateur</span>**, **<span style=\"color:darkorange\">effectuer un traitement sur les données en entrée</span>**, et **<span style=\"color:goldenrod\">afficher le résultat</span>**. "
   ]
  },
  {
   "cell_type": "markdown",
   "metadata": {
    "nbgrader": {
     "grade": false,
     "grade_id": "cell-e8f0192bd90632dc",
     "locked": true,
     "schema_version": 3,
     "solution": false,
     "task": false
    },
    "tags": []
   },
   "source": [
    "### Tâche à réaliser 🎯\n",
    "\n",
    "Comptez le nombre de **mots** d'une phrase saisie par un utilisateur. Un **mot** est n'importe quelle séquence de lettre en minuscule. Par exemple, *chocolat* est mot, mais *abcd* est aussi un mot. Il existe plusieurs solutions algorithmiques pour résoudre ce problème, combien saurez-vous en trouver?\n",
    "    \n",
    "### Entrée 🔠\n",
    "\n",
    "L'entrée est une ligne de texte composée de caractères minuscules et d'espace. Il y a exactement 1 espace entre chaque mots, et il n'y a pas d'espace avant le premier mot et après le dernier mot. Le nombre maximum de caractères est limité à 80.\n",
    "    \n",
    "### Sortie 🖥️\n",
    "On affiche le nombre de mots contenu dans la phrase\n",
    "    \n",
    "### Exemples 👀\n",
    "\n",
    "Entrée: \"ceci est une phrase qui contient plusieurs mots\"\n",
    "\n",
    "Résultat: **8**\n",
    "    \n",
    "Entrée: \"abcdefg ijklmn opqrs\"\n",
    "\n",
    "Résultat: **4**"
   ]
  },
  {
   "cell_type": "markdown",
   "metadata": {},
   "source": [
    "## Votre première solution : "
   ]
  },
  {
   "cell_type": "code",
   "execution_count": 3,
   "metadata": {},
   "outputs": [
    {
     "name": "stdout",
     "output_type": "stream",
     "text": [
      "Veuillez entre la phrase à décortiquer : Je suis un arbre\n",
      "La phrase \"Je suis un arbre\" contient 4 mots\n",
      "La phrase \"Je suis un arbre\" contient 3 mots\n"
     ]
    }
   ],
   "source": [
    "phrase = input(\"Veuillez entre la phrase à décortiquer : \")\n",
    "res = 1\n",
    "for i in range (len(phrase)):\n",
    "    if (phrase[i] == ' '):\n",
    "        res += 1\n",
    "        \n",
    "print(\"La phrase \\\"{}\\\" contient {} mots\".format(phrase, res))"
   ]
  },
  {
   "cell_type": "markdown",
   "metadata": {},
   "source": [
    "## Votre seconde solution : "
   ]
  },
  {
   "cell_type": "code",
   "execution_count": null,
   "metadata": {},
   "outputs": [],
   "source": [
    "phrase = input(\"Veuillez entre la phrase à décortiquer : \")\n",
    "print(\"La phrase \\\"{}\\\" contient {} mots\".format(phrase, len(phrase.split(' '))))"
   ]
  },
  {
   "cell_type": "markdown",
   "metadata": {
    "jp-MarkdownHeadingCollapsed": true,
    "tags": []
   },
   "source": [
    "## [Home](0_Index.ipynb)🏠\n",
    "![licence.png](pics/licence.png) Licence Creative Commons Attribution - Partage dans les Mêmes Conditions 4.0 International"
   ]
  }
 ],
 "metadata": {
  "celltoolbar": "Create Assignment",
  "kernelspec": {
   "display_name": "Python 3",
   "language": "python",
   "name": "python3"
  },
  "language_info": {
   "codemirror_mode": {
    "name": "ipython",
    "version": 3
   },
   "file_extension": ".py",
   "mimetype": "text/x-python",
   "name": "python",
   "nbconvert_exporter": "python",
   "pygments_lexer": "ipython3",
   "version": "3.8.5"
  },
  "vscode": {
   "interpreter": {
    "hash": "4fb435cb9a1efeb2f38d3dce1339521a1fba953090a1346d7eedb3261b9f21ce"
   }
  }
 },
 "nbformat": 4,
 "nbformat_minor": 5
}
