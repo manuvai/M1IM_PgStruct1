{
 "cells": [
  {
   "cell_type": "markdown",
   "id": "5166f9cd",
   "metadata": {
    "nbgrader": {
     "grade": false,
     "grade_id": "cell-4c9f19b7231c51c0",
     "locked": true,
     "schema_version": 3,
     "solution": false,
     "task": false
    }
   },
   "source": [
    "## Problème 1 : Comptez les mots dans une phrase ⭐"
   ]
  },
  {
   "cell_type": "markdown",
   "id": "6c64913c",
   "metadata": {
    "nbgrader": {
     "grade": false,
     "grade_id": "cell-d800e1fb01e0ba96",
     "locked": true,
     "schema_version": 3,
     "solution": false,
     "task": false
    }
   },
   "source": [
    "Attaquons ensemble notre premier problème. Nous allons écrire notre premier programme et lui faire passer des tests pour valider son comportement. Dans cet exercice, nous allons **<span style=\"color:darkblue\">lire des saisies faites par un utilisateur</span>**, **<span style=\"color:darkorange\">effectuer un traitement sur les données en entrée</span>**, et **<span style=\"color:goldenrod\">afficher le résultat</span>**. "
   ]
  },
  {
   "cell_type": "markdown",
   "id": "f16854cc",
   "metadata": {
    "jp-MarkdownHeadingCollapsed": true,
    "nbgrader": {
     "grade": false,
     "grade_id": "cell-e8f0192bd90632dc",
     "locked": true,
     "schema_version": 3,
     "solution": false,
     "task": false
    },
    "tags": []
   },
   "source": [
    "### Tâche à réaliser 🎯\n",
    "\n",
    "Comptez le nombre de **mots** d'une phrase saisie par un utilisateur. Un **mot** est n'importe quelle séquence de lettre en minuscule. Par exemple, *chocolat* est mot, mais *abcd* est aussi un mot. Il existe plusieurs solutions algorithmiques pour résoudre ce problème, combien saurez-vous en trouver?\n",
    "    \n",
    "### Entrée 🔠\n",
    "\n",
    "L'entrée est une ligne de texte composée de caractères minuscules et d'espace. Il y a exactement 1 espace entre chaque mots, et il n'y a pas d'espace avant le premier mot et après le dernier mot. Le nombre maximum de caractères est limité à 80.\n",
    "    \n",
    "### Sortie 🖥️\n",
    "On affiche le nombre de mots contenu dans la phrase\n",
    "    \n",
    "### Exemples 👀\n",
    "\n",
    "Entrée: \"ceci est une phrase qui contient plusieurs mots\"\n",
    "\n",
    "Résultat: **8**\n",
    "    \n",
    "Entrée: \"abcdefg ijklmn opqrs\"\n",
    "\n",
    "Résultat: **4**"
   ]
  },
  {
   "cell_type": "markdown",
   "id": "50ce4d6f-b677-4aea-bc4a-76fa12414ec6",
   "metadata": {},
   "source": [
    "## Votre première solution : "
   ]
  },
  {
   "cell_type": "code",
   "execution_count": 3,
   "id": "6abe1dff-36fa-4107-b46c-dfd72a563f51",
   "metadata": {},
   "outputs": [
    {
     "name": "stdin",
     "output_type": "stream",
     "text": [
      " hello\n"
     ]
    },
    {
     "name": "stdout",
     "output_type": "stream",
     "text": [
      "hello\n"
     ]
    }
   ],
   "source": [
    "phrase = input()\n",
    "print(phrase)"
   ]
  },
  {
   "cell_type": "markdown",
   "id": "579b0ba8-10e9-42ea-a9e5-0451af1965ea",
   "metadata": {},
   "source": [
    "## Votre seconde solution : "
   ]
  },
  {
   "cell_type": "code",
   "execution_count": null,
   "id": "95392ee8-28a5-4617-af81-2ef3d2b364ff",
   "metadata": {},
   "outputs": [],
   "source": []
  },
  {
   "cell_type": "markdown",
   "id": "4a367340",
   "metadata": {
    "jp-MarkdownHeadingCollapsed": true,
    "tags": []
   },
   "source": [
    "## [Home](0_Index.ipynb)🏠\n",
    "![licence.png](pics/licence.png) Licence Creative Commons Attribution - Partage dans les Mêmes Conditions 4.0 International"
   ]
  }
 ],
 "metadata": {
  "celltoolbar": "Create Assignment",
  "kernelspec": {
   "display_name": "Python 3 (ipykernel)",
   "language": "python",
   "name": "python3"
  },
  "language_info": {
   "codemirror_mode": {
    "name": "ipython",
    "version": 3
   },
   "file_extension": ".py",
   "mimetype": "text/x-python",
   "name": "python",
   "nbconvert_exporter": "python",
   "pygments_lexer": "ipython3",
   "version": "3.9.12"
  }
 },
 "nbformat": 4,
 "nbformat_minor": 5
}
