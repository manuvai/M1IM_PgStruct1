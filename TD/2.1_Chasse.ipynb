{
 "cells": [
  {
   "cell_type": "markdown",
   "metadata": {},
   "source": [
    "# Chasse ⭐"
   ]
  },
  {
   "cell_type": "markdown",
   "metadata": {
    "nbgrader": {
     "grade": false,
     "grade_id": "cell-e8f0192bd90632dc",
     "locked": true,
     "schema_version": 3,
     "solution": false,
     "task": false
    },
    "tags": []
   },
   "source": [
    "### Tâche à réaliser 🎯\n",
    "\n",
    "Un permis de chasse à points remplace désormais le permis de chasse traditionnel. Chaque chasseur possède au départ un capital de 100 points. S’il tue une poule il perd 1 point, 3 points pour 1 chien, 5 points pour une vache et 10 points pour un ami.  \n",
    "\n",
    "Créer un programme qui affiche, en fonction du nombre de victimes du chasseur :\n",
    "- \"Félicitation, votre nombre de points est complet\" si aucun point n’est perdu, \n",
    "- Sinon le nombre de points restants sur le permis. \n",
    "\n",
    "    \n",
    "### Entrée 🔠\n",
    "\n",
    "nombre de poules, nombre de chien, nombre de vache, nombre d'amis\n",
    "    \n",
    "### Sortie 🖥️\n",
    "Message de félicitations ou nombre de points restants\n",
    "    \n",
    "### Exemples 👀\n",
    "\n",
    "Entrée: poule=0, chien=0, vache=0, amis=0\n",
    "\n",
    "> Sortie: Félicitation, votre nombre de points est complet\n",
    "    \n",
    "Entrée: poule=2, chien=1, vache=1, amis=0\n",
    "\n",
    "> Sortie: Il vous reste 90 points\n"
   ]
  },
  {
   "cell_type": "markdown",
   "metadata": {},
   "source": [
    "## Votre solution : "
   ]
  },
  {
   "cell_type": "code",
   "execution_count": 2,
   "metadata": {},
   "outputs": [
    {
     "name": "stdout",
     "output_type": "stream",
     "text": [
      "Combien de poules ont été assassinées ? 10\n",
      "Combien de chiens ont été assassinées ? 1\n",
      "Combien de vaches ont été assassinées ? 1\n",
      "Combien d'amis ont été assassinées ? 10\n",
      "Espèce d'assassin !\n"
     ]
    }
   ],
   "source": [
    "poules = int(input(\"Combien de poules ont été assassinées ? \"))\n",
    "chiens = int(input(\"Combien de chiens ont été assassinées ? \"))\n",
    "vaches = int(input(\"Combien de vaches ont été assassinées ? \"))\n",
    "amis = int(input(\"Combien d'amis ont été assassinées ? \"))\n",
    "\n",
    "penality = poules * 1\n",
    "penality+= chiens * 3\n",
    "penality+= vaches * 5\n",
    "penality+= amis * 10\n",
    "\n",
    "total_points = 100 - penality\n",
    "\n",
    "if (total_points <= 0):\n",
    "    print(\"Espèce d'assassin ! Vous n'avez plus aucun point !\")\n",
    "elif (total_points < 100):\n",
    "    print(f\"Il vous reste {total_points}\")\n",
    "else:\n",
    "    print(\"Félicitations, votre nombre de points est complet !\")\n"
   ]
  },
  {
   "cell_type": "markdown",
   "metadata": {
    "tags": []
   },
   "source": [
    "## [Home](0_Index.ipynb)🏠\n",
    "![licence.png](pics/licence.png) Licence Creative Commons Attribution - Partage dans les Mêmes Conditions 4.0 International"
   ]
  },
  {
   "cell_type": "code",
   "execution_count": null,
   "metadata": {},
   "outputs": [],
   "source": []
  }
 ],
 "metadata": {
  "kernelspec": {
   "display_name": "Python 3",
   "language": "python",
   "name": "python3"
  },
  "language_info": {
   "codemirror_mode": {
    "name": "ipython",
    "version": 3
   },
   "file_extension": ".py",
   "mimetype": "text/x-python",
   "name": "python",
   "nbconvert_exporter": "python",
   "pygments_lexer": "ipython3",
   "version": "3.8.5"
  }
 },
 "nbformat": 4,
 "nbformat_minor": 5
}
