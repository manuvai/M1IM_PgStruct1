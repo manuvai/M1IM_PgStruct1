{
 "cells": [
  {
   "cell_type": "markdown",
   "metadata": {},
   "source": [
    "# Lotogogo ⭐"
   ]
  },
  {
   "cell_type": "markdown",
   "metadata": {
    "nbgrader": {
     "grade": false,
     "grade_id": "cell-e8f0192bd90632dc",
     "locked": true,
     "schema_version": 3,
     "solution": false,
     "task": false
    },
    "tags": []
   },
   "source": [
    "## Tâche à réaliser 🎯\n",
    "\n",
    "Monsieur Paforanmath est persuadé que s'il enregistre les résultats de tous les tirages du Loto, il pourra déterminer les numéros qui tombent le plus fréquemment et ainsi devenir enfin riche. Pas de chance, il est aussi fort en programmation qu'en mathématiques et c'est donc à vous qui de programmer sa géniale invention.\n",
    "\n",
    "Sa méthode est (presque) irréprochable: il compte enregistrer tous les tirages au sort et pour chacun d'eux la position de chaque numéro tiré. \n",
    "\n",
    "Exemple: la semaine dernière le tirage gagnant était 12 - 21 - 1 - 40 - 41 - 6. Il veut mémoriser que 12 est tombé en premier, 21 en second...etc\n",
    "\n",
    "1. Écrivez une fonction qui **tire au sort** et renvoie 6 numéros distincts compris entre 1 et 49.\n",
    "\n"
   ]
  },
  {
   "cell_type": "code",
   "execution_count": 4,
   "metadata": {},
   "outputs": [
    {
     "name": "stdout",
     "output_type": "stream",
     "text": [
      "[27, 15, 9, 47, 1, 38]\n"
     ]
    }
   ],
   "source": [
    "import random\n",
    "\n",
    "def tirage_au_sort(min_borne: int = 1, max_borne: int = 49) -> list:\n",
    "    \"\"\"Implémentation de la fonciton de tirage au sort\n",
    "\n",
    "    Args:\n",
    "        min_borne (int, optional): Borne minimale. Defaults to 1.\n",
    "        max_borne (int, optional): Borne maximale. Defaults to 49.\n",
    "\n",
    "    Returns:\n",
    "        list: Liste des 6 tirages\n",
    "    \"\"\"\n",
    "    liste_tirages = []\n",
    "    for i in range(6):\n",
    "        tirage = random.randint(min_borne, max_borne)\n",
    "        liste_tirages.append(tirage)\n",
    "\n",
    "    return liste_tirages\n",
    "\n",
    "print(tirage_au_sort())"
   ]
  },
  {
   "cell_type": "markdown",
   "metadata": {},
   "source": [
    "2. Concevez une **structure de données** permettant de mémoriser les 6 numéros tirés au sort et leur position dans le tirage."
   ]
  },
  {
   "cell_type": "code",
   "execution_count": 6,
   "metadata": {},
   "outputs": [
    {
     "name": "stdout",
     "output_type": "stream",
     "text": [
      "[{'pos': 1, 'valeur': 5}, {'pos': 2, 'valeur': 15}, {'pos': 3, 'valeur': 4}, {'pos': 4, 'valeur': 19}, {'pos': 5, 'valeur': 41}, {'pos': 6, 'valeur': 47}]\n"
     ]
    }
   ],
   "source": [
    "def creer_tirage(pos: int, valeur: int) -> dict:\n",
    "    \"\"\"Création du tirage avec mémorisation de la position\n",
    "\n",
    "    Args:\n",
    "        pos (int): Position\n",
    "        valeur (int): Valeur du tirage\n",
    "\n",
    "    Returns:\n",
    "        dict: La structure de données résultat\n",
    "    \"\"\"\n",
    "    return {\n",
    "        'pos': pos,\n",
    "        'valeur': valeur,\n",
    "    }\n",
    "\n",
    "def creer_liste_tirage_struct(liste_tirage: list) -> list:\n",
    "    \"\"\"Création de la liste de tirages à partir de la liste donnée\n",
    "\n",
    "    Args:\n",
    "        liste_tirage (list): Liste de tirages\n",
    "\n",
    "    Returns:\n",
    "        list: Liste de dictionnaires\n",
    "    \"\"\"\n",
    "    liste_resultat = []\n",
    "    for i in range(len(liste_tirage)):\n",
    "        liste_resultat.append(creer_tirage(i + 1, liste_tirage[i]))\n",
    "    return liste_resultat\n",
    "\n",
    "print(creer_liste_tirage_struct(tirage_au_sort()))"
   ]
  },
  {
   "cell_type": "markdown",
   "metadata": {},
   "source": [
    "3. Écrivez une fonction qui, en utilisant la structure de données précédemment créée, affiche le **tirage idéal** qui va apporter la fortune à M. Paforanmath: quel(s) numéros sont tombés le plus fréquemment en 1ère position, en 2nde, en 3ème...etc"
   ]
  },
  {
   "cell_type": "code",
   "execution_count": 10,
   "metadata": {},
   "outputs": [
    {
     "name": "stdout",
     "output_type": "stream",
     "text": [
      "[[0, 0, 0, 0, 0, 0, 0, 0, 0, 0, 0, 0, 0, 0, 0, 0, 0, 0, 0, 0, 0, 0, 0, 0, 0, 0, 0, 0, 0, 0, 0, 0, 0, 0, 0, 0, 0, 0, 0, 0, 0, 0, 0, 0, 0, 0, 0, 0, 0, 0], [0, 0, 0, 0, 0, 0, 0, 0, 0, 0, 0, 0, 0, 0, 0, 0, 0, 0, 0, 0, 0, 0, 0, 0, 0, 0, 0, 0, 0, 0, 0, 0, 0, 0, 0, 0, 0, 0, 0, 0, 0, 0, 0, 0, 0, 0, 0, 0, 0, 0], [0, 0, 0, 0, 0, 0, 0, 0, 0, 0, 0, 0, 0, 0, 0, 0, 0, 0, 0, 0, 0, 0, 0, 0, 0, 0, 0, 0, 0, 0, 0, 0, 0, 0, 0, 0, 0, 0, 0, 0, 0, 0, 0, 0, 0, 0, 0, 0, 0, 0], [0, 0, 0, 0, 0, 0, 0, 0, 0, 0, 0, 0, 0, 0, 0, 0, 0, 0, 0, 0, 0, 0, 0, 0, 0, 0, 0, 0, 0, 0, 0, 0, 0, 0, 0, 0, 0, 0, 0, 0, 0, 0, 0, 0, 0, 0, 0, 0, 0, 0], [0, 0, 0, 0, 0, 0, 0, 0, 0, 0, 0, 0, 0, 0, 0, 0, 0, 0, 0, 0, 0, 0, 0, 0, 0, 0, 0, 0, 0, 0, 0, 0, 0, 0, 0, 0, 0, 0, 0, 0, 0, 0, 0, 0, 0, 0, 0, 0, 0, 0], [0, 0, 0, 0, 0, 0, 0, 0, 0, 0, 0, 0, 0, 0, 0, 0, 0, 0, 0, 0, 0, 0, 0, 0, 0, 0, 0, 0, 0, 0, 0, 0, 0, 0, 0, 0, 0, 0, 0, 0, 0, 0, 0, 0, 0, 0, 0, 0, 0, 0]]\n",
      "[[0, 0, 0, 1, 0, 0, 0, 0, 0, 0, 0, 0, 0, 0, 1, 0, 1, 1, 1, 2, 0, 0, 0, 0, 0, 0, 0, 0, 0, 0, 0, 0, 0, 0, 0, 0, 1, 0, 0, 0, 0, 1, 0, 0, 0, 0, 0, 1, 0, 0], [0, 0, 0, 2, 0, 0, 0, 0, 0, 0, 1, 1, 0, 0, 0, 0, 0, 0, 0, 0, 0, 0, 0, 0, 0, 0, 0, 0, 1, 0, 0, 0, 1, 0, 0, 0, 0, 0, 0, 1, 0, 0, 1, 1, 0, 0, 1, 0, 0, 0], [0, 0, 0, 2, 1, 0, 0, 0, 0, 0, 3, 0, 1, 0, 0, 0, 0, 0, 0, 0, 0, 0, 0, 0, 0, 1, 0, 0, 0, 0, 0, 0, 0, 0, 0, 1, 0, 0, 0, 0, 0, 0, 1, 0, 0, 0, 0, 0, 0, 0], [0, 0, 0, 0, 0, 0, 0, 0, 1, 0, 0, 0, 0, 0, 0, 1, 0, 1, 0, 0, 0, 0, 0, 2, 1, 1, 0, 0, 0, 0, 0, 0, 0, 1, 0, 0, 0, 0, 0, 0, 0, 0, 0, 1, 0, 0, 0, 0, 0, 1], [0, 1, 0, 1, 0, 0, 0, 0, 0, 0, 0, 0, 0, 0, 0, 1, 0, 0, 0, 0, 0, 0, 1, 0, 1, 0, 1, 0, 0, 0, 1, 0, 0, 0, 0, 1, 1, 0, 0, 0, 0, 0, 0, 0, 0, 0, 0, 0, 1, 0], [0, 0, 0, 0, 0, 2, 0, 0, 0, 0, 2, 0, 0, 0, 0, 0, 1, 1, 0, 0, 0, 0, 0, 0, 0, 0, 0, 0, 0, 0, 0, 0, 0, 1, 1, 1, 0, 1, 0, 0, 0, 0, 0, 0, 0, 0, 0, 0, 0, 0]]\n"
     ]
    }
   ],
   "source": [
    "NB_TIRAGES = 10\n",
    "MIN_BORNE = 1\n",
    "MAX_BORNE = 49\n",
    "\n",
    "def tirage_ideal() -> list:\n",
    "    liste_liste_tirages = []\n",
    "    for i in range(NB_TIRAGES):\n",
    "        liste_tirage = creer_liste_tirage_struct(tirage_au_sort(MIN_BORNE, MAX_BORNE))\n",
    "        liste_liste_tirages.append(liste_tirage)\n",
    "\n",
    "    occurence = [[0 for i in range(MAX_BORNE + 1)] for j in range(6)]\n",
    "    for el in liste_liste_tirages:\n",
    "        \n",
    "        for tirage in el:\n",
    "            occurence[tirage['pos'] - 1][tirage['valeur']] += 1\n",
    "    \n",
    "    return occurence\n",
    "\n",
    "print(tirage_ideal())\n"
   ]
  },
  {
   "cell_type": "markdown",
   "metadata": {
    "tags": []
   },
   "source": [
    "## [Home](0_Index.ipynb)🏠\n",
    "![licence.png](pics/licence.png) Licence Creative Commons Attribution - Partage dans les Mêmes Conditions 4.0 International"
   ]
  }
 ],
 "metadata": {
  "kernelspec": {
   "display_name": "Python 3",
   "language": "python",
   "name": "python3"
  },
  "language_info": {
   "codemirror_mode": {
    "name": "ipython",
    "version": 3
   },
   "file_extension": ".py",
   "mimetype": "text/x-python",
   "name": "python",
   "nbconvert_exporter": "python",
   "pygments_lexer": "ipython3",
   "version": "3.8.5"
  }
 },
 "nbformat": 4,
 "nbformat_minor": 2
}
