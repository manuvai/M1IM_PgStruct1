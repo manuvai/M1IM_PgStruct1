{
 "cells": [
  {
   "cell_type": "markdown",
   "metadata": {},
   "source": [
    "# Géométrie ⭐"
   ]
  },
  {
   "cell_type": "markdown",
   "metadata": {
    "nbgrader": {
     "grade": false,
     "grade_id": "cell-e8f0192bd90632dc",
     "locked": true,
     "schema_version": 3,
     "solution": false,
     "task": false
    },
    "tags": []
   },
   "source": [
    "### Tâche à réaliser 🎯\n",
    "\n",
    "Pour chacune des figures suivante, écrivez un algorithme permettant de caculer l'aire et/ou le volume d'une figure géométrique. Les valeurs seront saisies par l'utilisateur et le résultat du cacul affiché sous la forme d'une phrase.\n",
    "    "
   ]
  },
  {
   "cell_type": "markdown",
   "metadata": {},
   "source": [
    "## Triangle de base $B$ et de hauteur $h$ "
   ]
  },
  {
   "cell_type": "code",
   "execution_count": 8,
   "metadata": {},
   "outputs": [
    {
     "name": "stdout",
     "output_type": "stream",
     "text": [
      "Le triangle de base B=3.0 et de hauteur h=4.0 a pour aire A=6.0m2\n"
     ]
    }
   ],
   "source": [
    "base = float(input(\"Veuillez entrer la valeur de la base : \"))\n",
    "hauteur = float(input(\"Veuillez entrer la valeur de la hauteur : \"))\n",
    "aire = base * hauteur / 2\n",
    "print(\"Le triangle de base B={} et de hauteur h={} a pour aire A={}\".format(base, hauteur, aire))"
   ]
  },
  {
   "cell_type": "markdown",
   "metadata": {},
   "source": [
    "## Rectangle de côtés $L$ et $l$ "
   ]
  },
  {
   "cell_type": "code",
   "execution_count": 9,
   "metadata": {},
   "outputs": [
    {
     "name": "stdout",
     "output_type": "stream",
     "text": [
      "Le rectangle de largeur l=4.0 et de longueur L=5.0 a pour aire A=20.0m2\n"
     ]
    }
   ],
   "source": [
    "largeur = float(input(\"Veuillez entrer la valeur de la largeur : \"))\n",
    "longueur = float(input(\"Veuillez entrer la valeur de la longueur : \"))\n",
    "aire = largeur * longueur\n",
    "print(\"Le rectangle de largeur l={} et de longueur L={} a pour aire A={}\".format(largeur, longueur, aire))"
   ]
  },
  {
   "cell_type": "markdown",
   "metadata": {},
   "source": [
    "## Carré de côtés $c$ "
   ]
  },
  {
   "cell_type": "code",
   "execution_count": 4,
   "metadata": {},
   "outputs": [
    {
     "name": "stdout",
     "output_type": "stream",
     "text": [
      "Le triangle de cote c=5.0 a pour aire A=25.0\n"
     ]
    }
   ],
   "source": [
    "cote = float(input(\"Veuillez entrer la valeur de la cote : \"))\n",
    "aire = cote ** 2\n",
    "print(\"Le carre de cote c={} a pour aire A={}\".format(cote, aire))"
   ]
  },
  {
   "cell_type": "markdown",
   "metadata": {},
   "source": [
    "## Parallélogramme de base $B$ et de hauteur $h$ "
   ]
  },
  {
   "cell_type": "code",
   "execution_count": 11,
   "metadata": {},
   "outputs": [
    {
     "name": "stdout",
     "output_type": "stream",
     "text": [
      "Le parallélogramme de base B=6.0 et de hauteur h=5.0 a pour aire A=30.0\n"
     ]
    }
   ],
   "source": [
    "base = float(input(\"Veuillez entrer la valeur de la base : \"))\n",
    "hauteur = float(input(\"Veuillez entrer la valeur de la hauteur : \"))\n",
    "aire = base * hauteur\n",
    "print(\"Le parallélogramme de base B={} et de hauteur h={} a pour aire A={}\".format(base, hauteur, aire))"
   ]
  },
  {
   "cell_type": "markdown",
   "metadata": {},
   "source": [
    "## Losange de diagonales $D$ et $d$ et de côtés $c$ "
   ]
  },
  {
   "cell_type": "code",
   "execution_count": 12,
   "metadata": {},
   "outputs": [
    {
     "name": "stdout",
     "output_type": "stream",
     "text": [
      "Le losange de grande diagonale D=25.0 et de petite diagonale d=10.0 a pour aire A=125.0\n"
     ]
    }
   ],
   "source": [
    "grande_diagonale = float(input(\"Veuillez entrer la valeur de la grande diagonale : \"))\n",
    "petite_diagonale = float(input(\"Veuillez entrer la valeur de la petite diagonale : \"))\n",
    "aire = grande_diagonale * petite_diagonale / 2\n",
    "print(\"Le losange de grande diagonale D={} et de petite diagonale d={} a pour aire A={}\".format(grande_diagonale, petite_diagonale, aire))"
   ]
  },
  {
   "cell_type": "markdown",
   "metadata": {
    "tags": []
   },
   "source": [
    "## Trapèze de bases $B$, $b$ et de hauteur $h$"
   ]
  },
  {
   "cell_type": "code",
   "execution_count": 13,
   "metadata": {},
   "outputs": [
    {
     "name": "stdout",
     "output_type": "stream",
     "text": [
      "Le trapèze de grande base D=4.0, de petite base d=6.0 et de hauteur h=5.0 a pour aire A=25.0\n"
     ]
    }
   ],
   "source": [
    "grande_base = float(input(\"Veuillez entrer la valeur de la grande base : \"))\n",
    "petite_base = float(input(\"Veuillez entrer la valeur de la petite base : \"))\n",
    "hauteur = float(input(\"Veuillez entrer la valeur de la hauteur : \"))\n",
    "aire = (grande_base + petite_base) * hauteur / 2\n",
    "print(\"Le trapèze de grande base D={}, de petite base d={} et de hauteur h={} a pour aire A={}\".format(grande_base, petite_base, hauteur, aire))"
   ]
  },
  {
   "cell_type": "markdown",
   "metadata": {},
   "source": [
    "## Disque de rayon $r$ "
   ]
  },
  {
   "cell_type": "code",
   "execution_count": 18,
   "metadata": {},
   "outputs": [
    {
     "name": "stdout",
     "output_type": "stream",
     "text": [
      "Le disque de rayon r=5.0 a pour aire A=78.5\n"
     ]
    }
   ],
   "source": [
    "PI = 3.14\n",
    "rayon = float(input(\"Veuillez entrer la valeur du rayon : \"))\n",
    "aire = rayon ** 2 * PI\n",
    "print(\"Le disque de rayon r={} a pour aire A={}\".format(rayon, aire))\n",
    "\n"
   ]
  },
  {
   "cell_type": "markdown",
   "metadata": {},
   "source": [
    "## Cube de côté $c$"
   ]
  },
  {
   "cell_type": "code",
   "execution_count": 19,
   "metadata": {
    "tags": []
   },
   "outputs": [
    {
     "name": "stdout",
     "output_type": "stream",
     "text": [
      "Le cube de cote c=1.5 a pour volume V=3.375\n"
     ]
    }
   ],
   "source": [
    "cote = float(input(\"Veuillez entrer la valeur de la cote : \"))\n",
    "volume = cote ** 3\n",
    "print(\"Le cube de cote c={} a pour volume V={}\".format(cote, volume))"
   ]
  },
  {
   "cell_type": "markdown",
   "metadata": {},
   "source": [
    "## Parallélépipède rectangle ou pavé droit côtés $L$ et $l$ "
   ]
  },
  {
   "cell_type": "code",
   "execution_count": 20,
   "metadata": {},
   "outputs": [
    {
     "name": "stdout",
     "output_type": "stream",
     "text": [
      "Le rectangle de largeur l=7.0 et de longueur L=10.0 et de hauteur h=5.0 a pour volume V=350.0\n"
     ]
    }
   ],
   "source": [
    "largeur = float(input(\"Veuillez entrer la valeur de la largeur : \"))\n",
    "longueur = float(input(\"Veuillez entrer la valeur de la longueur : \"))\n",
    "hauteur = float(input(\"Veuillez entrer la valeur de la hauteur : \"))\n",
    "volume = largeur * longueur * hauteur\n",
    "print(\"Le rectangle de largeur l={} et de longueur L={} et de hauteur h={} a pour volume V={}\".format(largeur, longueur, hauteur, volume))"
   ]
  },
  {
   "cell_type": "markdown",
   "metadata": {},
   "source": [
    "## Cylindre de révolution de rayon $r$ et de hauteur $h$"
   ]
  },
  {
   "cell_type": "code",
   "execution_count": 23,
   "metadata": {},
   "outputs": [
    {
     "name": "stdout",
     "output_type": "stream",
     "text": [
      "Le cylindre de révolution de rayon r=4.0 et de hauteur h=25.0 a pour volume V=1256.0\n"
     ]
    }
   ],
   "source": [
    "PI = 3.14\n",
    "rayon = float(input(\"Veuillez entrer la valeur du rayon : \"))\n",
    "hauteur = float(input(\"Veuillez entrer la valeur de la hauteur : \"))\n",
    "volume = PI * rayon ** 2 * hauteur\n",
    "print(\"Le cylindre de révolution de rayon r={} et de hauteur h={} a pour volume V={}\".format(rayon, hauteur, volume))\n",
    "\n"
   ]
  },
  {
   "cell_type": "markdown",
   "metadata": {},
   "source": [
    "## Cône de révolution de rayon $r$ et de hauteur $h$ "
   ]
  },
  {
   "cell_type": "code",
   "execution_count": 24,
   "metadata": {},
   "outputs": [
    {
     "name": "stdout",
     "output_type": "stream",
     "text": [
      "Le cône de révolution de rayon r=4.0 et de hauteur h=7.0 a pour volume V=117.22666666666666\n"
     ]
    }
   ],
   "source": [
    "PI = 3.14\n",
    "rayon = float(input(\"Veuillez entrer la valeur du rayon : \"))\n",
    "hauteur = float(input(\"Veuillez entrer la valeur de la hauteur : \"))\n",
    "volume = (1 / 3) * PI * rayon ** 2 * hauteur\n",
    "print(\"Le cône de révolution de rayon r={} et de hauteur h={} a pour volume V={}\".format(rayon, hauteur, volume))\n",
    "\n"
   ]
  },
  {
   "cell_type": "markdown",
   "metadata": {},
   "source": [
    "## Pyramide de hateur $h$ "
   ]
  },
  {
   "cell_type": "code",
   "execution_count": 26,
   "metadata": {},
   "outputs": [
    {
     "name": "stdout",
     "output_type": "stream",
     "text": [
      "La pyramide de largeur de base l=7.0, de longueur de base L=5.0 et de hauteur h=12.0 a pour volume V=139.99999999999997\n"
     ]
    }
   ],
   "source": [
    "PI = 3.14\n",
    "longueur = float(input(\"Veuillez entrer la valeur de la longueur : \"))\n",
    "largeur = float(input(\"Veuillez entrer la valeur de la largeur : \"))\n",
    "hauteur = float(input(\"Veuillez entrer la valeur de la hauteur : \"))\n",
    "volume = (1 / 3) * longueur * largeur * hauteur\n",
    "print(\"La pyramide de largeur de base l={}, de longueur de base L={} et de hauteur h={} a pour volume V={}\".format(longueur, largeur, hauteur, volume))\n",
    "\n"
   ]
  },
  {
   "cell_type": "markdown",
   "metadata": {},
   "source": [
    "## Boule de rayon $r$"
   ]
  },
  {
   "cell_type": "code",
   "execution_count": 30,
   "metadata": {},
   "outputs": [
    {
     "name": "stdout",
     "output_type": "stream",
     "text": [
      "La sphère de rayon r=25.0 a pour volume V=65416.666666666664\n"
     ]
    }
   ],
   "source": [
    "PI = 3.14\n",
    "rayon = float(input(\"Veuillez entrer la valeur du rayon : \"))\n",
    "volume = (4 * PI * rayon ** 3) / 3\n",
    "print(\"La sphère de rayon r={} a pour volume V={}\".format(rayon, volume))\n",
    "\n"
   ]
  },
  {
   "cell_type": "markdown",
   "metadata": {
    "tags": []
   },
   "source": [
    "## [Home](0_Index.ipynb)🏠\n",
    "![licence.png](pics/licence.png) Licence Creative Commons Attribution - Partage dans les Mêmes Conditions 4.0 International"
   ]
  }
 ],
 "metadata": {
  "kernelspec": {
   "display_name": "Python 3",
   "language": "python",
   "name": "python3"
  },
  "language_info": {
   "codemirror_mode": {
    "name": "ipython",
    "version": 3
   },
   "file_extension": ".py",
   "mimetype": "text/x-python",
   "name": "python",
   "nbconvert_exporter": "python",
   "pygments_lexer": "ipython3",
   "version": "3.8.5"
  }
 },
 "nbformat": 4,
 "nbformat_minor": 5
}
