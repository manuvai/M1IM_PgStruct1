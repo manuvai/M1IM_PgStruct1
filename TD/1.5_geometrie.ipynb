{
 "cells": [
  {
   "cell_type": "markdown",
   "id": "dc350928-8258-4bb5-a64e-95c4f62641da",
   "metadata": {},
   "source": [
    "# Géométrie ⭐"
   ]
  },
  {
   "cell_type": "markdown",
   "id": "931a4aac-5046-4c10-9166-ec5f3f948fd7",
   "metadata": {
    "nbgrader": {
     "grade": false,
     "grade_id": "cell-e8f0192bd90632dc",
     "locked": true,
     "schema_version": 3,
     "solution": false,
     "task": false
    },
    "tags": []
   },
   "source": [
    "### Tâche à réaliser 🎯\n",
    "\n",
    "Pour chacune des figures suivante, écrivez un algorithme permettant de caculer l'aire et/ou le volume d'une figure géométrique. Les valeurs seront saisies par l'utilisateur et le résultat du cacul affiché sous la forme d'une phrase.\n",
    "    "
   ]
  },
  {
   "cell_type": "markdown",
   "id": "345605d1-8696-4160-8b5e-394a66aa37ce",
   "metadata": {},
   "source": [
    "## Triangle de base $B$ et de hauteur $h$ "
   ]
  },
  {
   "cell_type": "code",
   "execution_count": 8,
   "id": "6a50f7fc-9a21-407a-a588-7882bd26badf",
   "metadata": {},
   "outputs": [
    {
     "name": "stdout",
     "output_type": "stream",
     "text": [
      "Le triangle de base B=3.0 et de hauteur h=4.0 a pour aire A=6.0m2\n"
     ]
    }
   ],
   "source": [
    "base = float(input(\"Veuillez entrer la valeur de la base : \"))\n",
    "hauteur = float(input(\"Veuillez entrer la valeur de la hauteur : \"))\n",
    "aire = base * hauteur / 2\n",
    "print(\"Le triangle de base B={} et de hauteur h={} a pour aire A={}\".format(base, hauteur, aire))"
   ]
  },
  {
   "cell_type": "markdown",
   "id": "0bca5d52-9201-439d-b9e3-550f5b7c74cf",
   "metadata": {},
   "source": [
    "## Rectangle de côtés $L$ et $l$ "
   ]
  },
  {
   "cell_type": "code",
   "execution_count": 9,
   "id": "246aa44e-e4e3-4963-ae85-30dd6ecab746",
   "metadata": {},
   "outputs": [
    {
     "name": "stdout",
     "output_type": "stream",
     "text": [
      "Le rectangle de largeur l=4.0 et de longueur L=5.0 a pour aire A=20.0m2\n"
     ]
    }
   ],
   "source": [
    "largeur = float(input(\"Veuillez entrer la valeur de la largeur : \"))\n",
    "longueur = float(input(\"Veuillez entrer la valeur de la longueur : \"))\n",
    "aire = largeur * longueur\n",
    "print(\"Le rectangle de largeur l={} et de longueur L={} a pour aire A={}\".format(largeur, longueur, aire))"
   ]
  },
  {
   "cell_type": "markdown",
   "id": "826dbb79-4aa6-4dfc-9966-886b201bf580",
   "metadata": {},
   "source": [
    "## Carré de côtés $c$ "
   ]
  },
  {
   "cell_type": "code",
   "execution_count": 4,
   "id": "2ada5fc4-99a0-4bd6-8e64-591826ed52a8",
   "metadata": {},
   "outputs": [
    {
     "name": "stdout",
     "output_type": "stream",
     "text": [
      "Le triangle de cote c=5.0 a pour aire A=25.0\n"
     ]
    }
   ],
   "source": [
    "cote = float(input(\"Veuillez entrer la valeur de la cote : \"))\n",
    "aire = cote ** 2\n",
    "print(\"Le carre de cote c={} a pour aire A={}\".format(cote, aire))"
   ]
  },
  {
   "cell_type": "markdown",
   "id": "5e58e2ec-b6c8-4b82-b979-79789584788a",
   "metadata": {},
   "source": [
    "## Parallélogramme de base $B$ et de hauteur $h$ "
   ]
  },
  {
   "cell_type": "code",
   "execution_count": 11,
   "id": "97515986-727e-48fc-a751-e1af5321abfc",
   "metadata": {},
   "outputs": [
    {
     "name": "stdout",
     "output_type": "stream",
     "text": [
      "Le parallélogramme de base B=6.0 et de hauteur h=5.0 a pour aire A=30.0\n"
     ]
    }
   ],
   "source": [
    "base = float(input(\"Veuillez entrer la valeur de la base : \"))\n",
    "hauteur = float(input(\"Veuillez entrer la valeur de la hauteur : \"))\n",
    "aire = base * hauteur\n",
    "print(\"Le parallélogramme de base B={} et de hauteur h={} a pour aire A={}\".format(base, hauteur, aire))"
   ]
  },
  {
   "cell_type": "markdown",
   "id": "c5803b9f-1932-4ca5-878b-b3bf90bc5fc0",
   "metadata": {},
   "source": [
    "## Losange de diagonales $D$ et $d$ et de côtés $c$ "
   ]
  },
  {
   "cell_type": "code",
   "execution_count": 12,
   "id": "4955f94b-c158-4488-a1fc-507b973b0ecc",
   "metadata": {},
   "outputs": [
    {
     "name": "stdout",
     "output_type": "stream",
     "text": [
      "Le losange de grande diagonale D=25.0 et de petite diagonale d=10.0 a pour aire A=125.0\n"
     ]
    }
   ],
   "source": [
    "grande_diagonale = float(input(\"Veuillez entrer la valeur de la grande diagonale : \"))\n",
    "petite_diagonale = float(input(\"Veuillez entrer la valeur de la petite diagonale : \"))\n",
    "aire = grande_diagonale * petite_diagonale / 2\n",
    "print(\"Le losange de grande diagonale D={} et de petite diagonale d={} a pour aire A={}\".format(grande_diagonale, petite_diagonale, aire))"
   ]
  },
  {
   "cell_type": "markdown",
   "id": "65cf0275-8ac2-467f-8e13-94b41d637180",
   "metadata": {
    "tags": []
   },
   "source": [
    "## Trapèze de bases $B$, $b$ et de hauteur $h$"
   ]
  },
  {
   "cell_type": "code",
   "execution_count": 13,
   "id": "2765bf9d-b992-436f-a8e6-6978474e072f",
   "metadata": {},
   "outputs": [
    {
     "name": "stdout",
     "output_type": "stream",
     "text": [
      "Le trapèze de grande base D=4.0, de petite base d=6.0 et de hauteur h=5.0 a pour aire A=25.0\n"
     ]
    }
   ],
   "source": [
    "grande_base = float(input(\"Veuillez entrer la valeur de la grande base : \"))\n",
    "petite_base = float(input(\"Veuillez entrer la valeur de la petite base : \"))\n",
    "hauteur = float(input(\"Veuillez entrer la valeur de la hauteur : \"))\n",
    "aire = (grande_base + petite_base) * hauteur / 2\n",
    "print(\"Le trapèze de grande base D={}, de petite base d={} et de hauteur h={} a pour aire A={}\".format(grande_base, petite_base, hauteur, aire))"
   ]
  },
  {
   "cell_type": "markdown",
   "id": "7cc558e7-3c57-425e-9dd9-4bb9f8bf853d",
   "metadata": {},
   "source": [
    "## Disque de rayon $r$ "
   ]
  },
  {
   "cell_type": "code",
   "execution_count": 18,
   "id": "0c8754f7-04fa-4ea1-a9b8-504ea94ed4b2",
   "metadata": {},
   "outputs": [
    {
     "name": "stdout",
     "output_type": "stream",
     "text": [
      "Le disque de rayon r=5.0 a pour aire A=78.5\n"
     ]
    }
   ],
   "source": [
    "PI = 3.14\n",
    "rayon = float(input(\"Veuillez entrer la valeur du rayon : \"))\n",
    "aire = rayon ** 2 * PI\n",
    "print(\"Le disque de rayon r={} a pour aire A={}\".format(rayon, aire))\n",
    "\n"
   ]
  },
  {
   "cell_type": "markdown",
   "id": "b80a0b58-b798-4dcd-bd8d-11a23eeed516",
   "metadata": {},
   "source": [
    "## Cube de côté $c$"
   ]
  },
  {
   "cell_type": "code",
   "execution_count": 19,
   "id": "2ad4e928-0cd5-4b45-9f7b-f7d82b65d191",
   "metadata": {
    "tags": []
   },
   "outputs": [
    {
     "name": "stdout",
     "output_type": "stream",
     "text": [
      "Le cube de cote c=1.5 a pour volume V=3.375\n"
     ]
    }
   ],
   "source": [
    "cote = float(input(\"Veuillez entrer la valeur de la cote : \"))\n",
    "volume = cote ** 3\n",
    "print(\"Le cube de cote c={} a pour volume V={}\".format(cote, volume))"
   ]
  },
  {
   "cell_type": "markdown",
   "id": "ad4edde6-27b0-493f-b8cb-9cdf62340b9a",
   "metadata": {},
   "source": [
    "## Parallélépipède rectangle ou pavé droit côtés $L$ et $l$ "
   ]
  },
  {
   "cell_type": "code",
   "execution_count": 20,
   "id": "d1273aa5-34c2-42cd-833a-6b08461b0f3a",
   "metadata": {},
   "outputs": [
    {
     "name": "stdout",
     "output_type": "stream",
     "text": [
      "Le rectangle de largeur l=7.0 et de longueur L=10.0 et de hauteur h=5.0 a pour volume V=350.0\n"
     ]
    }
   ],
   "source": [
    "largeur = float(input(\"Veuillez entrer la valeur de la largeur : \"))\n",
    "longueur = float(input(\"Veuillez entrer la valeur de la longueur : \"))\n",
    "hauteur = float(input(\"Veuillez entrer la valeur de la hauteur : \"))\n",
    "volume = largeur * longueur * hauteur\n",
    "print(\"Le rectangle de largeur l={} et de longueur L={} et de hauteur h={} a pour volume V={}\".format(largeur, longueur, hauteur, volume))"
   ]
  },
  {
   "cell_type": "markdown",
   "id": "a612228a-450e-40f9-a1f6-0444d461ae29",
   "metadata": {},
   "source": [
    "## Cylindre de révolution de rayon $r$ et de hauteur $h$"
   ]
  },
  {
   "cell_type": "code",
   "execution_count": 23,
   "id": "0fac801b-0928-4af3-92d2-f2d16695b77b",
   "metadata": {},
   "outputs": [
    {
     "name": "stdout",
     "output_type": "stream",
     "text": [
      "Le cylindre de révolution de rayon r=4.0 et de hauteur h=25.0 a pour volume V=1256.0\n"
     ]
    }
   ],
   "source": [
    "PI = 3.14\n",
    "rayon = float(input(\"Veuillez entrer la valeur du rayon : \"))\n",
    "hauteur = float(input(\"Veuillez entrer la valeur de la hauteur : \"))\n",
    "volume = PI * rayon ** 2 * hauteur\n",
    "print(\"Le cylindre de révolution de rayon r={} et de hauteur h={} a pour volume V={}\".format(rayon, hauteur, volume))\n",
    "\n"
   ]
  },
  {
   "cell_type": "markdown",
   "id": "6afbb6a6-7e4e-440f-8c98-4a7b1bee72ea",
   "metadata": {},
   "source": [
    "## Cône de révolution de rayon $r$ et de hauteur $h$ "
   ]
  },
  {
   "cell_type": "code",
   "execution_count": 24,
   "id": "a9115838-1a4f-46d6-8715-d6e8872d919a",
   "metadata": {},
   "outputs": [
    {
     "name": "stdout",
     "output_type": "stream",
     "text": [
      "Le cône de révolution de rayon r=4.0 et de hauteur h=7.0 a pour volume V=117.22666666666666\n"
     ]
    }
   ],
   "source": [
    "PI = 3.14\n",
    "rayon = float(input(\"Veuillez entrer la valeur du rayon : \"))\n",
    "hauteur = float(input(\"Veuillez entrer la valeur de la hauteur : \"))\n",
    "volume = (1 / 3) * PI * rayon ** 2 * hauteur\n",
    "print(\"Le cône de révolution de rayon r={} et de hauteur h={} a pour volume V={}\".format(rayon, hauteur, volume))\n",
    "\n"
   ]
  },
  {
   "cell_type": "markdown",
   "id": "675dd7d6-bb48-4978-9510-cb424648d1be",
   "metadata": {},
   "source": [
    "## Pyramide de hateur $h$ "
   ]
  },
  {
   "cell_type": "code",
   "execution_count": 26,
   "id": "b00a9541-badf-4e3f-a772-7b5f4382b540",
   "metadata": {},
   "outputs": [
    {
     "name": "stdout",
     "output_type": "stream",
     "text": [
      "La pyramide de largeur de base l=7.0, de longueur de base L=5.0 et de hauteur h=12.0 a pour volume V=139.99999999999997\n"
     ]
    }
   ],
   "source": [
    "PI = 3.14\n",
    "longueur = float(input(\"Veuillez entrer la valeur de la longueur : \"))\n",
    "largeur = float(input(\"Veuillez entrer la valeur de la largeur : \"))\n",
    "hauteur = float(input(\"Veuillez entrer la valeur de la hauteur : \"))\n",
    "volume = (1 / 3) * longueur * largeur * hauteur\n",
    "print(\"La pyramide de largeur de base l={}, de longueur de base L={} et de hauteur h={} a pour volume V={}\".format(longueur, largeur, hauteur, volume))\n",
    "\n"
   ]
  },
  {
   "cell_type": "markdown",
   "id": "0e5b7485-c4a1-4e09-b264-c1e0f96558bc",
   "metadata": {},
   "source": [
    "## Boule de rayon $r$"
   ]
  },
  {
   "cell_type": "code",
   "execution_count": 30,
   "id": "3497554a-ec67-4ef9-86c5-15a936823e79",
   "metadata": {},
   "outputs": [
    {
     "name": "stdout",
     "output_type": "stream",
     "text": [
      "La sphère de rayon r=25.0 a pour volume V=65416.666666666664\n"
     ]
    }
   ],
   "source": [
    "PI = 3.14\n",
    "rayon = float(input(\"Veuillez entrer la valeur du rayon : \"))\n",
    "volume = (4 * PI * rayon ** 3) / 3\n",
    "print(\"La sphère de rayon r={} a pour volume V={}\".format(rayon, volume))\n",
    "\n"
   ]
  },
  {
   "cell_type": "markdown",
   "id": "272402c5-a146-42ca-929d-b83ebfd3b597",
   "metadata": {
    "tags": []
   },
   "source": [
    "## [Home](0_Index.ipynb)🏠\n",
    "![licence.png](pics/licence.png) Licence Creative Commons Attribution - Partage dans les Mêmes Conditions 4.0 International"
   ]
  }
 ],
 "metadata": {
  "kernelspec": {
   "display_name": "Python 3 (ipykernel)",
   "language": "python",
   "name": "python3"
  },
  "language_info": {
   "codemirror_mode": {
    "name": "ipython",
    "version": 3
   },
   "file_extension": ".py",
   "mimetype": "text/x-python",
   "name": "python",
   "nbconvert_exporter": "python",
   "pygments_lexer": "ipython3",
   "version": "3.9.7"
  }
 },
 "nbformat": 4,
 "nbformat_minor": 5
}
