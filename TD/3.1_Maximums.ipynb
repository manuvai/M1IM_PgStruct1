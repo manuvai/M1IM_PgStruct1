{
 "cells": [
  {
   "cell_type": "markdown",
   "metadata": {},
   "source": [
    "# Maximums ⭐"
   ]
  },
  {
   "cell_type": "markdown",
   "metadata": {
    "nbgrader": {
     "grade": false,
     "grade_id": "cell-e8f0192bd90632dc",
     "locked": true,
     "schema_version": 3,
     "solution": false,
     "task": false
    },
    "tags": []
   },
   "source": [
    "## Tâche à réaliser 🎯\n",
    "\n",
    "Ecrire une fonction `F_max2` qui prend en argument deux entiers et renvoie le maximum.\n",
    "    \n",
    "### Entrée 🔠\n",
    "\n",
    "Les paramètres : 2 entiers\n",
    "    \n",
    "### Sortie 🖥️\n",
    "Le nombre maximum\n",
    "    \n",
    "### Exemples 👀\n",
    "\n",
    "Appel : `F_max2(10,12)`\n",
    "\n",
    "> Renvoi: `12`\n",
    "    \n",
    "Appel: `F_max2(15,12)`\n",
    "\n",
    "> Renvoi: `15`"
   ]
  },
  {
   "cell_type": "markdown",
   "metadata": {},
   "source": [
    "## Votre solution : "
   ]
  },
  {
   "cell_type": "code",
   "execution_count": 2,
   "metadata": {
    "tags": []
   },
   "outputs": [
    {
     "name": "stdout",
     "output_type": "stream",
     "text": [
      "Le max est : 1000\n"
     ]
    }
   ],
   "source": [
    "def F_max2(a, b):\n",
    "    if (a > b):\n",
    "        return a\n",
    "    else:\n",
    "        return b\n",
    "\n",
    "print(\"Le max est : {}\".format(F_max2(int(input(\"Veuillez entrer un nombre entier a : \")), int(input(\"Veuillez entrer un nombre entier b : \")))))"
   ]
  },
  {
   "cell_type": "markdown",
   "metadata": {
    "nbgrader": {
     "grade": false,
     "grade_id": "cell-e8f0192bd90632dc",
     "locked": true,
     "schema_version": 3,
     "solution": false,
     "task": false
    },
    "tags": []
   },
   "source": [
    "## Tâche à réaliser 🎯\n",
    "\n",
    "Ecrire une fonction `F_max3` qui prend en argument 3 entiers et renvoie le maximum. Cette fonction ne doit pas contenir de structure conditionnelle, juste des appels à la fonction `F_max2`.\n",
    "    \n",
    "### Entrée 🔠\n",
    "\n",
    "Les paramètres : 3 entiers\n",
    "    \n",
    "### Sortie 🖥️\n",
    "Le nombre maximum\n",
    "    \n",
    "### Exemples 👀\n",
    "\n",
    "Appel : `F_max3(10,12,5)`\n",
    "\n",
    "> Renvoi: 12\n",
    "    \n",
    "Appel: `F_max3(15,12,5)`\n",
    "\n",
    "> Renvoi: 15\n",
    "\n",
    "Appel: max2(1,2,5)\n",
    "\n",
    "> Renvoi: 5"
   ]
  },
  {
   "cell_type": "code",
   "execution_count": 4,
   "metadata": {},
   "outputs": [
    {
     "name": "stdout",
     "output_type": "stream",
     "text": [
      "Le max est : 195\n"
     ]
    }
   ],
   "source": [
    "def F_max3(a, b, c):\n",
    "    if (a > b and a > c):\n",
    "        return a\n",
    "    if (b > a and b > c):\n",
    "        return b\n",
    "    if (c > a and c > b):\n",
    "        return c\n",
    "print(\"Le max est : {}\".format(F_max3(int(input(\"Veuillez entrer un nombre entier a : \")), int(input(\"Veuillez entrer un nombre entier b : \")), int(input(\"Veuillez entrer un nombre entier c : \")))))\n"
   ]
  },
  {
   "cell_type": "markdown",
   "metadata": {
    "tags": []
   },
   "source": [
    "## [Home](0_Index.ipynb)🏠\n",
    "![licence.png](pics/licence.png) Licence Creative Commons Attribution - Partage dans les Mêmes Conditions 4.0 International"
   ]
  }
 ],
 "metadata": {
  "kernelspec": {
   "display_name": "Python 3",
   "language": "python",
   "name": "python3"
  },
  "language_info": {
   "codemirror_mode": {
    "name": "ipython",
    "version": 3
   },
   "file_extension": ".py",
   "mimetype": "text/x-python",
   "name": "python",
   "nbconvert_exporter": "python",
   "pygments_lexer": "ipython3",
   "version": "3.8.5"
  },
  "vscode": {
   "interpreter": {
    "hash": "4fb435cb9a1efeb2f38d3dce1339521a1fba953090a1346d7eedb3261b9f21ce"
   }
  }
 },
 "nbformat": 4,
 "nbformat_minor": 5
}
