{
 "cells": [
  {
   "cell_type": "markdown",
   "metadata": {},
   "source": [
    "# Devine le nombre ⭐"
   ]
  },
  {
   "cell_type": "markdown",
   "metadata": {
    "nbgrader": {
     "grade": false,
     "grade_id": "cell-e8f0192bd90632dc",
     "locked": true,
     "schema_version": 3,
     "solution": false,
     "task": false
    },
    "tags": []
   },
   "source": [
    "### Tâche à réaliser 🎯\n",
    "\n",
    "Ecrire un programme qui fait deviner un nombre aléatoire entre 0 et 100. A chaque proposition du joueur, le programme indique si le nombre à deviner est plus grand ou plus petit. En fin de jeu, le programme indique le nombre de tours utilisé par le joueur pour trouver le nombre.\n",
    "Vous allez devoir utiliser la fonction randint du module random. \n",
    "    \n",
    "### Entrée 🔠\n",
    "le nombre à deviner, un ou plusieurs nombres saisis\n",
    "    \n",
    "### Sortie 🖥️\n",
    "les messages adaptés aux nombres saisis \n",
    "    \n",
    "### Exemples 👀\n",
    "\n",
    "Entrée: nombre tiré aléatoirement donne 32 puis nombre saisi  50\n",
    "> Sortie: Le nombre à deviner est plus petit\n",
    "\n",
    "Nombre saisi  25\n",
    "> Sortie: Le nombre à deviner est plus grand\n",
    "\n",
    "Nombre saisi  30\n",
    "> Sortie: Le nombre à deviner est plus grand\n",
    "\n",
    "Nombre saisi  35\n",
    "> Sortie: Le nombre à deviner est plus petit\n",
    "\n",
    "Nombre saisi  32\n",
    "> Sortie: Bravo ! vous avez deviné en 5 tours\n"
   ]
  },
  {
   "cell_type": "markdown",
   "metadata": {},
   "source": [
    "## Votre solution : "
   ]
  },
  {
   "cell_type": "code",
   "execution_count": 4,
   "metadata": {},
   "outputs": [
    {
     "name": "stdout",
     "output_type": "stream",
     "text": [
      "51\n",
      "Veuillez entrer un nombre (ou entrez '!' pour arrêter): 51\n",
      "Bravo ! vous avez deviné en 1 tours\n"
     ]
    }
   ],
   "source": [
    "import random\n",
    "STOP_CHARACTER = '!'\n",
    "random_number = random.randint(0, 100)\n",
    "\n",
    "user_prompt = input(\"Veuillez entrer un nombre (ou entrez '!' pour arrêter): \")\n",
    "attempts = 1\n",
    "stopped = False\n",
    "\n",
    "\n",
    "while (user_prompt not in [str(random_number), STOP_CHARACTER]):\n",
    "    user_prompt = int(user_prompt)\n",
    "    if (user_prompt > random_number):\n",
    "        print('Le nombre à deviner est plus petit')\n",
    "    else:\n",
    "        print('Le nombre à deviner est plus grand')\n",
    "    \n",
    "    user_prompt = input(\"Veuillez entrer un nombre (ou entrez '!' pour arrêter): \")\n",
    "    attempts += 1\n",
    "\n",
    "if (str(user_prompt) == str(random_number)):\n",
    "    print('Bravo ! vous avez deviné en {} tours'.format(attempts))\n",
    "else:\n",
    "    print('Vous avez décidé d\\'arrêter de jouer, la réponse était {}'.format(random_number))"
   ]
  },
  {
   "cell_type": "markdown",
   "metadata": {
    "tags": []
   },
   "source": [
    "## [Home](0_Index.ipynb)🏠\n",
    "![licence.png](pics/licence.png) Licence Creative Commons Attribution - Partage dans les Mêmes Conditions 4.0 International"
   ]
  }
 ],
 "metadata": {
  "kernelspec": {
   "display_name": "Python 3",
   "language": "python",
   "name": "python3"
  }
 },
 "nbformat": 4,
 "nbformat_minor": 5
}
