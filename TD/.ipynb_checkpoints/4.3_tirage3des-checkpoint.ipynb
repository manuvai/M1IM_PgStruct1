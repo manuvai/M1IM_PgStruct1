{
 "cells": [
  {
   "cell_type": "markdown",
   "id": "dc350928-8258-4bb5-a64e-95c4f62641da",
   "metadata": {
    "tags": []
   },
   "source": [
    "# Tirage 3 dés ⭐⭐"
   ]
  },
  {
   "cell_type": "markdown",
   "id": "931a4aac-5046-4c10-9166-ec5f3f948fd7",
   "metadata": {
    "nbgrader": {
     "grade": false,
     "grade_id": "cell-e8f0192bd90632dc",
     "locked": true,
     "schema_version": 3,
     "solution": false,
     "task": false
    },
    "tags": []
   },
   "source": [
    "### Tâche à réaliser 🎯\n",
    "\n",
    "Ecrire le code de la fonction `F_tirage3des(max)` retournant trois valeurs tirées au hasard entre 1 et max inclus.\n",
    "Indications : \n",
    "- Importer la bibliothèque random pour effectuer des tirages au hasard de 3 dés\n",
    "- La fonction `randint(a,b)` renvoie un entier compris entre a et b INCLUS\n",
    "  \n",
    "### Entrée 🔠\n",
    "En paramètre : un entier supérieur ou égal à 1\n",
    "    \n",
    "### Sortie 🖥️\n",
    "Un tuple composé de 3 entiers\n",
    "    \n",
    "### Exemples 👀\n",
    "\n",
    "Appel: `F_tirage3des(6)`\n",
    "\n",
    "> Sortie : `(3,1,5)`  Valeurs variables car tirage aléatoire"
   ]
  },
  {
   "cell_type": "markdown",
   "id": "345605d1-8696-4160-8b5e-394a66aa37ce",
   "metadata": {},
   "source": [
    "## Votre solution : "
   ]
  },
  {
   "cell_type": "code",
   "execution_count": 1,
   "id": "6a50f7fc-9a21-407a-a588-7882bd26badf",
   "metadata": {},
   "outputs": [],
   "source": [
    "import random\n",
    "def F_tirage3des (max) :\n",
    "    \"\"\" Fonction retournant trois valeurs tirées au hasard entre 1 et max inclus\n",
    "    En entrée : max (entier)\n",
    "    En sortie : un tuple composé de 3 entiers\n",
    "    Précondition : max est un nombre >= 1 \n",
    "    \"\"\""
   ]
  },
  {
   "cell_type": "markdown",
   "id": "f7cf1d1b-91e6-49c4-b9b3-f872341f1268",
   "metadata": {
    "nbgrader": {
     "grade": false,
     "grade_id": "cell-e8f0192bd90632dc",
     "locked": true,
     "schema_version": 3,
     "solution": false,
     "task": false
    },
    "tags": []
   },
   "source": [
    "### Tâche à réaliser 🎯\n",
    "\n",
    "Ecrire la définition de la fonction `F_somme3des(t)` retournant la somme des trois valeurs inclues dans le paramètre t.\n",
    "  \n",
    "### Entrée 🔠\n",
    "En paramètre : t (tuple composé de 3 entiers) \n",
    "    \n",
    "### Sortie 🖥️\n",
    "Un entier\n",
    "    \n",
    "### Exemples 👀\n",
    "\n",
    "Appel: `F_somme3des((3,5,3))`\n",
    "\n",
    "> Sortie : `11`"
   ]
  },
  {
   "cell_type": "code",
   "execution_count": 2,
   "id": "b236973e-c016-4f07-8a8b-9084501db569",
   "metadata": {},
   "outputs": [],
   "source": [
    "def F_somme3des(t) :\n",
    "    \"\"\" Fonction retournant la somme des trois valeurs inclues dans le paramètre t\n",
    "    En entrée : t (tuple composé de 3 entiers)\n",
    "    En sortie : somme (entier)\n",
    "    \"\"\"\n",
    "    "
   ]
  },
  {
   "cell_type": "markdown",
   "id": "790e7052-6bcf-4bb5-b5ee-2ac2326d2259",
   "metadata": {
    "nbgrader": {
     "grade": false,
     "grade_id": "cell-e8f0192bd90632dc",
     "locked": true,
     "schema_version": 3,
     "solution": false,
     "task": false
    },
    "tags": []
   },
   "source": [
    "### Tâche à réaliser 🎯\n",
    "\n",
    "En utilisant les deux fonctions précédentes, écrire un programme qui lance le tirage de 3 dès de 6 faces, fait la somme des trois tirages et affiche le message :\n",
    "- Gagné si la somme est supérieure à 12\n",
    "- Rejouez si la somme est comprise entre 6 et 12 inclus\n",
    "- Perdu si la somme est inférieure à 6\n",
    "  \n",
    "### Entrée 🔠\n",
    "Aucune\n",
    "    \n",
    "### Sortie 🖥️\n",
    "Un des messages précédents.\n",
    "    \n",
    "### Exemples 👀\n",
    "Lancer plusieurs fois votre programme pour vérifier que les 3 cas sont corrects (afficher les valeurs des dés pour vérifier)."
   ]
  },
  {
   "cell_type": "code",
   "execution_count": null,
   "id": "31c558ca-2bc6-4a4e-9467-2ff8085cad3b",
   "metadata": {},
   "outputs": [],
   "source": []
  },
  {
   "cell_type": "markdown",
   "id": "272402c5-a146-42ca-929d-b83ebfd3b597",
   "metadata": {
    "tags": []
   },
   "source": [
    "## [Home](0_Index.ipynb)🏠\n",
    "![licence.png](pics/licence.png) Licence Creative Commons Attribution - Partage dans les Mêmes Conditions 4.0 International"
   ]
  }
 ],
 "metadata": {
  "kernelspec": {
   "display_name": "Python 3",
   "language": "python",
   "name": "python3"
  },
  "language_info": {
   "codemirror_mode": {
    "name": "ipython",
    "version": 3
   },
   "file_extension": ".py",
   "mimetype": "text/x-python",
   "name": "python",
   "nbconvert_exporter": "python",
   "pygments_lexer": "ipython3",
   "version": "3.8.8"
  }
 },
 "nbformat": 4,
 "nbformat_minor": 5
}
