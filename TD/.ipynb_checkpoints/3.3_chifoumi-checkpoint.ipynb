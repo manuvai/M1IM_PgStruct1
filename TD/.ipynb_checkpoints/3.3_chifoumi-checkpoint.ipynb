{
 "cells": [
  {
   "cell_type": "markdown",
   "metadata": {
    "tags": []
   },
   "source": [
    "# Chifoumi ⭐⭐"
   ]
  },
  {
   "cell_type": "markdown",
   "metadata": {
    "nbgrader": {
     "grade": false,
     "grade_id": "cell-e8f0192bd90632dc",
     "locked": true,
     "schema_version": 3,
     "solution": false,
     "task": false
    },
    "tags": []
   },
   "source": [
    "### Tâche à réaliser 🎯\n",
    "Ecrire un programme qui joue à pierre-feuille-ciseau. Les règles sont :\n",
    "- La pierre écrase les ciseaux et gagne.\n",
    "- La feuille enveloppe la pierre et gagne.\n",
    "- Les ciseaux découpent la feuille et gagnent.\n",
    "\n",
    "Pour cela écrire une première fonction `F_gagnant` qui prend le choix de deux joueurs en paramètres et retourne \n",
    "- 1 si le joueur 1 gagne\n",
    "- 2 si le joueur 1 gagne\n",
    "- 0 si égalité\n",
    "\n",
    "### Entrée 🔠\n",
    "choix joueur 1 et choix joueur 2 (P ou F ou C)\n",
    "    \n",
    "### Sortie 🖥️\n",
    "le résultat d'un match soit 0,1 ou 2\n",
    "    \n",
    "### Exemples 👀\n",
    "\n",
    "Appel: `F_gagnant('P','C')`\n",
    "\n",
    "> Sortie : `1`\n",
    "\n",
    "Appel: `F_gagnant('F','C')`\n",
    "\n",
    "> Sortie : `2`\n",
    "\n",
    "Appel: `F_gagnant('P','P')`\n",
    "\n",
    "> Sortie : `0`\n",
    "\n",
    "Appel: `F_gagnant('P','G')`\n",
    "\n",
    "> Sortie : `AssertionError: joueur 2 : ce signe n'existe pas`"
   ]
  },
  {
   "cell_type": "markdown",
   "metadata": {},
   "source": [
    "## Votre solution : "
   ]
  },
  {
   "cell_type": "code",
   "execution_count": 1,
   "metadata": {},
   "outputs": [
    {
     "ename": "AssertionError",
     "evalue": "Joueur 2 : ce signe n'existe pas",
     "output_type": "error",
     "traceback": [
      "\u001b[1;31m---------------------------------------------------------------------------\u001b[0m",
      "\u001b[1;31mAssertionError\u001b[0m                            Traceback (most recent call last)",
      "\u001b[1;32m<ipython-input-1-f45bd1acbb55>\u001b[0m in \u001b[0;36m<module>\u001b[1;34m\u001b[0m\n\u001b[0;32m      5\u001b[0m         \u001b[1;32mraise\u001b[0m \u001b[0mAssertionError\u001b[0m\u001b[1;33m(\u001b[0m\u001b[1;34m\"Joueur 2 : ce signe n'existe pas\"\u001b[0m\u001b[1;33m)\u001b[0m\u001b[1;33m\u001b[0m\u001b[1;33m\u001b[0m\u001b[0m\n\u001b[0;32m      6\u001b[0m \u001b[1;33m\u001b[0m\u001b[0m\n\u001b[1;32m----> 7\u001b[1;33m \u001b[0mF_gagnant\u001b[0m\u001b[1;33m(\u001b[0m\u001b[1;34m'F'\u001b[0m\u001b[1;33m,\u001b[0m \u001b[1;34m'G'\u001b[0m\u001b[1;33m)\u001b[0m\u001b[1;33m\u001b[0m\u001b[1;33m\u001b[0m\u001b[0m\n\u001b[0m\u001b[0;32m      8\u001b[0m \u001b[1;33m\u001b[0m\u001b[0m\n",
      "\u001b[1;32m<ipython-input-1-f45bd1acbb55>\u001b[0m in \u001b[0;36mF_gagnant\u001b[1;34m(player1, player2)\u001b[0m\n\u001b[0;32m      3\u001b[0m         \u001b[1;32mraise\u001b[0m \u001b[0mAssertionError\u001b[0m\u001b[1;33m(\u001b[0m\u001b[1;34m\"Joueur 1 : ce signe n'existe pas\"\u001b[0m\u001b[1;33m)\u001b[0m\u001b[1;33m\u001b[0m\u001b[1;33m\u001b[0m\u001b[0m\n\u001b[0;32m      4\u001b[0m     \u001b[1;32mif\u001b[0m \u001b[1;33m(\u001b[0m\u001b[0mplayer2\u001b[0m \u001b[1;32mnot\u001b[0m \u001b[1;32min\u001b[0m \u001b[1;33m[\u001b[0m\u001b[1;34m'P'\u001b[0m\u001b[1;33m,\u001b[0m \u001b[1;34m'F'\u001b[0m\u001b[1;33m,\u001b[0m \u001b[1;34m'C'\u001b[0m\u001b[1;33m]\u001b[0m\u001b[1;33m)\u001b[0m\u001b[1;33m:\u001b[0m\u001b[1;33m\u001b[0m\u001b[1;33m\u001b[0m\u001b[0m\n\u001b[1;32m----> 5\u001b[1;33m         \u001b[1;32mraise\u001b[0m \u001b[0mAssertionError\u001b[0m\u001b[1;33m(\u001b[0m\u001b[1;34m\"Joueur 2 : ce signe n'existe pas\"\u001b[0m\u001b[1;33m)\u001b[0m\u001b[1;33m\u001b[0m\u001b[1;33m\u001b[0m\u001b[0m\n\u001b[0m\u001b[0;32m      6\u001b[0m \u001b[1;33m\u001b[0m\u001b[0m\n\u001b[0;32m      7\u001b[0m \u001b[0mF_gagnant\u001b[0m\u001b[1;33m(\u001b[0m\u001b[1;34m'F'\u001b[0m\u001b[1;33m,\u001b[0m \u001b[1;34m'G'\u001b[0m\u001b[1;33m)\u001b[0m\u001b[1;33m\u001b[0m\u001b[1;33m\u001b[0m\u001b[0m\n",
      "\u001b[1;31mAssertionError\u001b[0m: Joueur 2 : ce signe n'existe pas"
     ]
    }
   ],
   "source": [
    "def F_gagnant(player1, player2):\n",
    "    if (player1 not in ['P', 'F', 'C']):\n",
    "        raise AssertionError(\"Joueur 1 : ce signe n'existe pas\")\n",
    "    if (player2 not in ['P', 'F', 'C']):\n",
    "        raise AssertionError(\"Joueur 2 : ce signe n'existe pas\")\n",
    "    \n",
    "    if (player1 == player2):\n",
    "        return 0\n",
    "    \n",
    "F_gagnant('F', 'G')\n",
    "    "
   ]
  },
  {
   "cell_type": "markdown",
   "metadata": {
    "nbgrader": {
     "grade": false,
     "grade_id": "cell-e8f0192bd90632dc",
     "locked": true,
     "schema_version": 3,
     "solution": false,
     "task": false
    },
    "tags": []
   },
   "source": [
    "### Tâche à réaliser 🎯\n",
    "\n",
    "Ecrire la fonction `F_choix` qui tire les choix d'un joueur au hasard.\n",
    "  \n",
    "### Entrée 🔠\n",
    "Aucune\n",
    "    \n",
    "### Sortie 🖥️\n",
    "'P' ou 'C' ou 'F'\n",
    "\n",
    "### Exemples 👀\n",
    "\n",
    "Appel: `F_choix()`\n",
    "\n",
    "> Sortie : effectuer plusieurs tests pour vérifier que vous obtenez bien les 3 choix\n",
    "    "
   ]
  },
  {
   "cell_type": "code",
   "execution_count": null,
   "metadata": {},
   "outputs": [],
   "source": []
  },
  {
   "cell_type": "markdown",
   "metadata": {
    "nbgrader": {
     "grade": false,
     "grade_id": "cell-e8f0192bd90632dc",
     "locked": true,
     "schema_version": 3,
     "solution": false,
     "task": false
    },
    "tags": []
   },
   "source": [
    "### Tâche à réaliser 🎯\n",
    "\n",
    "En utilisant les deux fonctions précédentes, écrire un programme qui va lancer 5 parties de chifoumi successives. \n",
    "  \n",
    "### Entrée 🔠\n",
    "Aucune\n",
    "    \n",
    "### Sortie 🖥️\n",
    " * Les choix de chaque tour et le gagnant du tour\n",
    " * Le score total de chaque joueur et le gagnant.\n",
    "    "
   ]
  },
  {
   "cell_type": "code",
   "execution_count": null,
   "metadata": {},
   "outputs": [],
   "source": [
    "    "
   ]
  },
  {
   "cell_type": "markdown",
   "metadata": {
    "tags": []
   },
   "source": [
    "## [Home](0_Index.ipynb)🏠\n",
    "![licence.png](pics/licence.png) Licence Creative Commons Attribution - Partage dans les Mêmes Conditions 4.0 International"
   ]
  }
 ],
 "metadata": {
  "kernelspec": {
   "display_name": "Python 3",
   "language": "python",
   "name": "python3"
  },
  "language_info": {
   "codemirror_mode": {
    "name": "ipython",
    "version": 3
   },
   "file_extension": ".py",
   "mimetype": "text/x-python",
   "name": "python",
   "nbconvert_exporter": "python",
   "pygments_lexer": "ipython3",
   "version": "3.8.5"
  }
 },
 "nbformat": 4,
 "nbformat_minor": 5
}
