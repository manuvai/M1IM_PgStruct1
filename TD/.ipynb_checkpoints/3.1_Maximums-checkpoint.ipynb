{
 "cells": [
  {
   "cell_type": "markdown",
   "id": "dc350928-8258-4bb5-a64e-95c4f62641da",
   "metadata": {},
   "source": [
    "# Maximums ⭐"
   ]
  },
  {
   "cell_type": "markdown",
   "id": "931a4aac-5046-4c10-9166-ec5f3f948fd7",
   "metadata": {
    "nbgrader": {
     "grade": false,
     "grade_id": "cell-e8f0192bd90632dc",
     "locked": true,
     "schema_version": 3,
     "solution": false,
     "task": false
    },
    "tags": []
   },
   "source": [
    "## Tâche à réaliser 🎯\n",
    "\n",
    "Ecrire une fonction `F_max2` qui prend en argument deux entiers et renvoie le maximum.\n",
    "    \n",
    "### Entrée 🔠\n",
    "\n",
    "Les paramètres : 2 entiers\n",
    "    \n",
    "### Sortie 🖥️\n",
    "Le nombre maximum\n",
    "    \n",
    "### Exemples 👀\n",
    "\n",
    "Appel : `F_max2(10,12)`\n",
    "\n",
    "> Renvoi: `12`\n",
    "    \n",
    "Appel: `F_max2(15,12)`\n",
    "\n",
    "> Renvoi: `15`"
   ]
  },
  {
   "cell_type": "markdown",
   "id": "345605d1-8696-4160-8b5e-394a66aa37ce",
   "metadata": {},
   "source": [
    "## Votre solution : "
   ]
  },
  {
   "cell_type": "code",
   "execution_count": null,
   "id": "6a50f7fc-9a21-407a-a588-7882bd26badf",
   "metadata": {
    "tags": []
   },
   "outputs": [],
   "source": []
  },
  {
   "cell_type": "markdown",
   "id": "3e60da3d-3c1c-4bfb-b17b-ef43131b9b25",
   "metadata": {
    "nbgrader": {
     "grade": false,
     "grade_id": "cell-e8f0192bd90632dc",
     "locked": true,
     "schema_version": 3,
     "solution": false,
     "task": false
    },
    "tags": []
   },
   "source": [
    "## Tâche à réaliser 🎯\n",
    "\n",
    "Ecrire une fonction `F_max3` qui prend en argument 3 entiers et renvoie le maximum. Cette fonction ne doit pas contenir de structure conditionnelle, juste des appels à la fonction `F_max2`.\n",
    "    \n",
    "### Entrée 🔠\n",
    "\n",
    "Les paramètres : 3 entiers\n",
    "    \n",
    "### Sortie 🖥️\n",
    "Le nombre maximum\n",
    "    \n",
    "### Exemples 👀\n",
    "\n",
    "Appel : `F_max3(10,12,5)`\n",
    "\n",
    "> Renvoi: 12\n",
    "    \n",
    "Appel: `F_max3(15,12,5)`\n",
    "\n",
    "> Renvoi: 15\n",
    "\n",
    "Appel: max2(1,2,5)\n",
    "\n",
    "> Renvoi: 5"
   ]
  },
  {
   "cell_type": "code",
   "execution_count": null,
   "id": "f4c4b2d4-1a7e-4a44-8e0a-3699f30b6220",
   "metadata": {},
   "outputs": [],
   "source": []
  },
  {
   "cell_type": "markdown",
   "id": "272402c5-a146-42ca-929d-b83ebfd3b597",
   "metadata": {
    "tags": []
   },
   "source": [
    "## [Home](0_Index.ipynb)🏠\n",
    "![licence.png](pics/licence.png) Licence Creative Commons Attribution - Partage dans les Mêmes Conditions 4.0 International"
   ]
  }
 ],
 "metadata": {
  "kernelspec": {
   "display_name": "Python 3",
   "language": "python",
   "name": "python3"
  },
  "language_info": {
   "codemirror_mode": {
    "name": "ipython",
    "version": 3
   },
   "file_extension": ".py",
   "mimetype": "text/x-python",
   "name": "python",
   "nbconvert_exporter": "python",
   "pygments_lexer": "ipython3",
   "version": "3.8.8"
  }
 },
 "nbformat": 4,
 "nbformat_minor": 5
}
