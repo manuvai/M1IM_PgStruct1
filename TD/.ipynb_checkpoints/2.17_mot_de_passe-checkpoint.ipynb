{
 "cells": [
  {
   "cell_type": "markdown",
   "id": "dc350928-8258-4bb5-a64e-95c4f62641da",
   "metadata": {},
   "source": [
    "# Mot de passe ⭐"
   ]
  },
  {
   "cell_type": "markdown",
   "id": "931a4aac-5046-4c10-9166-ec5f3f948fd7",
   "metadata": {
    "nbgrader": {
     "grade": false,
     "grade_id": "cell-e8f0192bd90632dc",
     "locked": true,
     "schema_version": 3,
     "solution": false,
     "task": false
    },
    "tags": []
   },
   "source": [
    "### Tâche à réaliser 🎯\n",
    "\n",
    "Vous souhaitez créer un compte sur un site Web extrêmement divertissant. Vous avez déjà choisi un nom d'utilisateur, mais il semble que les exigences relatives au choix du mot de passe soient assez strictes, afin de protéger complètement votre compte contre le piratage. Le mot de passe doit être une chaîne de 8 à 12 caractères (inclus), de sorte que chaque caractère soit une lettre minuscule (a ... z), une lettre majuscule (A ... Z) ou un chiffre (0 ... 9). En outre, il doit contenir au moins trois lettres minuscules, au moins deux lettres majuscules et au moins un chiffre.\n",
    "\n",
    "Vous avez en tête un mot de passe potentiel, une chaîne non vide composée de 100 caractères au maximum, chacun étant une lettre minuscule, une lettre majuscule ou un chiffre. Plutôt que d'entrer le mot de passe sur le site et de risquer d'être rejeté, vous aimeriez déterminer par vous-même si votre mot de passe satisfait valablement à toutes les règles.\n",
    "\n",
    "    \n",
    "### Entrée 🔠\n",
    "\n",
    "La première et unique ligne d'entrée consiste en une seule chaîne, le mot de passe.\n",
    "    \n",
    "### Sortie 🖥️\n",
    "Affiche une seule chaîne, soit `Valide` si le mot de passe est valide, soit `Invalide` sinon.\n",
    "    \n",
    "### Exemples 👀\n",
    "\n",
    "Entrée: \"TestttE5\"\n",
    "\n",
    "> Sortie: \"Valide\"\n",
    "    \n",
    "Entrée: \"toto\"\n",
    "\n",
    "> Sortie: \"Invalide\""
   ]
  },
  {
   "cell_type": "markdown",
   "id": "345605d1-8696-4160-8b5e-394a66aa37ce",
   "metadata": {},
   "source": [
    "## Votre solution : "
   ]
  },
  {
   "cell_type": "code",
   "execution_count": null,
   "id": "6a50f7fc-9a21-407a-a588-7882bd26badf",
   "metadata": {},
   "outputs": [],
   "source": []
  },
  {
   "cell_type": "markdown",
   "id": "272402c5-a146-42ca-929d-b83ebfd3b597",
   "metadata": {
    "tags": []
   },
   "source": [
    "## [Home](0_Index.ipynb)🏠\n",
    "![licence.png](pics/licence.png) Licence Creative Commons Attribution - Partage dans les Mêmes Conditions 4.0 International"
   ]
  }
 ],
 "metadata": {
  "kernelspec": {
   "display_name": "Python 3 (ipykernel)",
   "language": "python",
   "name": "python3"
  },
  "language_info": {
   "codemirror_mode": {
    "name": "ipython",
    "version": 3
   },
   "file_extension": ".py",
   "mimetype": "text/x-python",
   "name": "python",
   "nbconvert_exporter": "python",
   "pygments_lexer": "ipython3",
   "version": "3.9.7"
  }
 },
 "nbformat": 4,
 "nbformat_minor": 5
}
