{
 "cells": [
  {
   "cell_type": "markdown",
   "metadata": {},
   "source": [
    "# Course à pied ⭐"
   ]
  },
  {
   "cell_type": "markdown",
   "metadata": {
    "nbgrader": {
     "grade": false,
     "grade_id": "cell-e8f0192bd90632dc",
     "locked": true,
     "schema_version": 3,
     "solution": false,
     "task": false
    },
    "tags": []
   },
   "source": [
    "### Tâche à réaliser 🎯\n",
    "\n",
    "Ecrire un algorithme qui va afficher la catégorie d'un coureur et le prix à payer pour la course sachant que :\n",
    "- un coureur dont l'âge est inférieur à 20 ans est en catégorie Junior\n",
    "- un coureur dont l'âge est compris entre 20 et 22 ans (inclus) est en catégorie Espoir\n",
    "- un coureur dont l'âge est compris entre 23 et 35 ans (inclus) est en catégorie Sénior\n",
    "- un coureur dont l'âge est supérieur à 35 ans est en catégorie Master\n",
    "- les coureurs de catégorie Junior et Espoir qui sont étudiants paieront 5€ et les autres 10€\n",
    "\n",
    "    \n",
    "### Entrée 🔠\n",
    "\n",
    "L'âge du coureur et le statut\n",
    "    \n",
    "### Sortie 🖥️\n",
    "La catégorie du coureur et le prix à payer\n",
    "    \n",
    "### Exemples 👀\n",
    "\n",
    "Entrée: age=18, etudiant=oui\n",
    "\n",
    "> Sortie: Vous êtes en catégorie Junior et devez payer 5€\n",
    "    \n",
    "Entrée: age=40, etudiant=oui\n",
    "\n",
    "> Sortie: Vous êtes en catégorie Master et devez payer 10€\n",
    "\n",
    "Inscrire en commentaires dans votre code les jeux d'essais effectués car il manque des cas pour tester l'ensemble des possibilités."
   ]
  },
  {
   "cell_type": "markdown",
   "metadata": {},
   "source": [
    "## Votre solution : "
   ]
  },
  {
   "cell_type": "code",
   "execution_count": 6,
   "metadata": {},
   "outputs": [
    {
     "name": "stdout",
     "output_type": "stream",
     "text": [
      "Vous êtes en catégorie Junior et devez payer 10€\n",
      "Vous êtes en catégorie Junior et devez payer 5€\n"
     ]
    }
   ],
   "source": [
    "def determine_categ_price(age, etudiant):\n",
    "    \n",
    "    if (etudiant not in ['oui', 'non']):\n",
    "        raise Exception(\"Vous devez renseigner 'oui' ou 'non' pour le statut\")\n",
    "\n",
    "    if (etudiant == 'oui' and age <= 22):\n",
    "        price = 5\n",
    "    else:\n",
    "        price = 10\n",
    "\n",
    "    if (age < 20):\n",
    "        category = 'Junior'\n",
    "    elif (age <= 22):\n",
    "        category = 'Espoir'\n",
    "    elif (age <= 35):\n",
    "        category = 'Sénior'\n",
    "    else:\n",
    "        category = 'Master'\n",
    "    return price, category\n",
    "\"\"\"\n",
    "age = int(input(\"Veuillez renseigner votre age : \"))\n",
    "etudiant = input(\"Êtes-vous étudiant ? (oui/non) \")\n",
    "\n",
    "price, category = determine_categ_price(age, etudiant)\n",
    "\n",
    "print(\"Vous êtes en catégorie {} et devez payer {}€\".format(category, price))\n",
    "\"\"\"\n",
    "#======================\n",
    "# SESSION DE TESTS\n",
    "#======================\n",
    "\n",
    "\n",
    "price, category = determine_categ_price(10, 'non')\n",
    "print(\"Vous êtes en catégorie {} et devez payer {}€\".format(category, price))\n",
    "\n",
    "price, category = determine_categ_price(10, 'oui')\n",
    "print(\"Vous êtes en catégorie {} et devez payer {}€\".format(category, price))\n"
   ]
  },
  {
   "cell_type": "markdown",
   "metadata": {
    "tags": []
   },
   "source": [
    "## [Home](0_Index.ipynb)🏠\n",
    "![licence.png](pics/licence.png) Licence Creative Commons Attribution - Partage dans les Mêmes Conditions 4.0 International"
   ]
  }
 ],
 "metadata": {
  "kernelspec": {
   "display_name": "Python 3",
   "language": "python",
   "name": "python3"
  },
  "language_info": {
   "codemirror_mode": {
    "name": "ipython",
    "version": 3
   },
   "file_extension": ".py",
   "mimetype": "text/x-python",
   "name": "python",
   "nbconvert_exporter": "python",
   "pygments_lexer": "ipython3",
   "version": "3.8.5"
  }
 },
 "nbformat": 4,
 "nbformat_minor": 5
}
