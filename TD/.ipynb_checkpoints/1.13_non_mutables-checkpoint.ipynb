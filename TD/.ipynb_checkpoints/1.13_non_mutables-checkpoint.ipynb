{
 "cells": [
  {
   "cell_type": "markdown",
   "metadata": {},
   "source": [
    "# Types non mutables ⭐⭐"
   ]
  },
  {
   "cell_type": "markdown",
   "metadata": {
    "nbgrader": {
     "grade": false,
     "grade_id": "cell-e8f0192bd90632dc",
     "locked": true,
     "schema_version": 3,
     "solution": false,
     "task": false
    },
    "tags": []
   },
   "source": [
    "<img src=\"https://i.ytimg.com/vi/KRLB6lo85yc/maxresdefault.jpg\" align=right width=400> \n",
    "\n",
    "### Tâche à réaliser 🎯 \n",
    "\n",
    "Tâtonner, expérimenter afin de comprendre ce qui signifie \"type non mutable\". Ecrire une synthèse de ce que vous avez appris.\n",
    "\n",
    "Certains types de `python`sont dits *non mutables*. Pour comprendre ce que cela signifie, nous allons utiliser la fonction `id`, qui permet d'indiquer l'adresse mémoire (la référence) vers laquelle pointe une variable.\n"
   ]
  },
  {
   "cell_type": "markdown",
   "metadata": {},
   "source": [
    "### Expérience 1\n",
    "Ajoutez à ce code les instructions permettant d'afficher les références des trois variables `a, b, c`."
   ]
  },
  {
   "cell_type": "code",
   "execution_count": 1,
   "metadata": {},
   "outputs": [
    {
     "name": "stdout",
     "output_type": "stream",
     "text": [
      "ref(a)=140733106104128, ref(b)=140733106104224, ref(c)=140733106104128\n"
     ]
    }
   ],
   "source": [
    "a = 2\n",
    "b = 5\n",
    "c = 2\n",
    "print(\"ref(a)={}, ref(b)={}, ref(c)={}\".format(id(a), id(b), id(c)))"
   ]
  },
  {
   "cell_type": "markdown",
   "metadata": {},
   "source": [
    "Que remarquez-vous ?\n",
    "\n",
    "Je remarque que la référence des variables `a` et `c` est la même, cela peut être dû au fait que la valeur est la même."
   ]
  },
  {
   "cell_type": "markdown",
   "metadata": {},
   "source": [
    "### Expérience 2\n",
    "Ajoutez à ce code :\n",
    " * une instruction permettant d'afficher le référence de la variables `a`\n",
    " * une instruction affectant une nouvelle valeur à la variable `a`\n",
    " * une instruction affichant à nouveau la référence de `a`"
   ]
  },
  {
   "cell_type": "code",
   "execution_count": 7,
   "metadata": {},
   "outputs": [
    {
     "name": "stdout",
     "output_type": "stream",
     "text": [
      "ref(a)=140733106104128\n",
      "ref(a)=1756855822416\n",
      "ref(a)=1756855822480\n",
      "ref(example_string)=1756856070672\n",
      "ref(example_string2)=1756856071232\n"
     ]
    }
   ],
   "source": [
    "a = 2\n",
    "print(\"ref(a)={}\".format(id(a)))\n",
    "a = 1024\n",
    "print(\"ref(a)={}\".format(id(a)))\n",
    "a = 4096\n",
    "print(\"ref(a)={}\".format(id(a)))\n",
    "\n",
    "example_string = \"Je suis un string\"\n",
    "print(\"ref(example_string)={}\".format(id(example_string)))\n",
    "example_string2 = \"Je suis un string\"\n",
    "print(\"ref(example_string2)={}\".format(id(example_string2)))\n",
    "\n"
   ]
  },
  {
   "cell_type": "markdown",
   "metadata": {},
   "source": [
    "Que remarquez-vous ? \n",
    "\n",
    "Je remarque qu'après avoir modifié la valeur de la variable `a`, la référence de cette valeur change, ce qui confirme la supposition précédente"
   ]
  },
  {
   "cell_type": "markdown",
   "metadata": {},
   "source": [
    "### Mon hypothèse 💡\n",
    "Le type entier manipulé ici est dit *non mutable* car **la plage mémoire réservée à l'identifiant de la valeur de type entier est fixe. Et donc, la plage mémoire réservée ne peut changer.**"
   ]
  },
  {
   "cell_type": "markdown",
   "metadata": {},
   "source": [
    "*Demandez à votre enseignant.e de valider ou d'infirmer votre hypothèse.*"
   ]
  },
  {
   "cell_type": "markdown",
   "metadata": {
    "tags": []
   },
   "source": [
    "## [Home](0_Index.ipynb)🏠\n",
    "![licence.png](pics/licence.png) Licence Creative Commons Attribution - Partage dans les Mêmes Conditions 4.0 International"
   ]
  }
 ],
 "metadata": {
  "kernelspec": {
   "display_name": "Python 3",
   "language": "python",
   "name": "python3"
  },
  "language_info": {
   "codemirror_mode": {
    "name": "ipython",
    "version": 3
   },
   "file_extension": ".py",
   "mimetype": "text/x-python",
   "name": "python",
   "nbconvert_exporter": "python",
   "pygments_lexer": "ipython3",
   "version": "3.8.5"
  }
 },
 "nbformat": 4,
 "nbformat_minor": 5
}
