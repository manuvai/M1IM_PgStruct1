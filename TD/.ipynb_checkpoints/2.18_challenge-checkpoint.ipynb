{
 "cells": [
  {
   "cell_type": "markdown",
   "metadata": {},
   "source": [
    "# Dessine moi... 🏆"
   ]
  },
  {
   "cell_type": "markdown",
   "metadata": {
    "nbgrader": {
     "grade": false,
     "grade_id": "cell-e8f0192bd90632dc",
     "locked": true,
     "schema_version": 3,
     "solution": false,
     "task": false
    },
    "tags": []
   },
   "source": [
    "### Tâche à réaliser 🎯\n",
    "\n",
    "On souhaite faire imprimer dans la console une forme à l'aide de boucles. \n",
    "\n",
    "Pour chacune des figures suivantes, écrire un algorithme qui permet de générer la figure. On spécifiera à chaque fois le nombre de lignes que l'on souhaite obtenir."
   ]
  },
  {
   "cell_type": "markdown",
   "metadata": {
    "tags": []
   },
   "source": [
    "## Une demi pyramide:"
   ]
  },
  {
   "cell_type": "code",
   "execution_count": 1,
   "metadata": {},
   "outputs": [
    {
     "name": "stdout",
     "output_type": "stream",
     "text": [
      "* \n",
      "* * \n",
      "* * * \n",
      "* * * * \n",
      "* * * * * \n"
     ]
    }
   ],
   "source": [
    "\"\"\"\n",
    "* \n",
    "* * \n",
    "* * * \n",
    "* * * * \n",
    "* * * * *\n",
    "\"\"\"\n",
    "nb_lines = int(input(\"Veuillez entrer le nombre de lignes : \"))\n",
    "for i in range(nb_lines + 1):\n",
    "    print(\"* \" * (i + 1))"
   ]
  },
  {
   "cell_type": "code",
   "execution_count": null,
   "id": "dd898fdd-ee14-4451-9dd7-cd9bef0c56a6",
   "metadata": {},
   "outputs": [],
   "source": []
  },
  {
   "cell_type": "markdown",
   "metadata": {},
   "source": [
    "## Une demi pyramide inversée:"
   ]
  },
  {
   "cell_type": "code",
   "execution_count": 2,
   "metadata": {},
   "outputs": [
    {
     "name": "stdout",
     "output_type": "stream",
     "text": [
      "      * \n",
      "    * * \n",
      "  * * * \n",
      "* * * * \n"
     ]
    }
   ],
   "source": [
    "\"\"\"\n",
    "        * \n",
    "      * * \n",
    "    * * * \n",
    "  * * * * \n",
    "* * * * * \n",
    "\"\"\"\n",
    "nb_lines = int(input(\"Veuillez entrer le nombre de lignes : \"))\n",
    "for i in range(nb_lines + 1):\n",
    "    print(\"  \" * (nb_lines - (i + 1)) + \"* \" * (i + 1))"
   ]
  },
  {
   "cell_type": "code",
   "execution_count": null,
   "id": "a41c7338-fc84-4ca8-9b88-dcb9aada8fa3",
   "metadata": {},
   "outputs": [],
   "source": []
  },
  {
   "cell_type": "markdown",
   "metadata": {},
   "source": [
    "## Une demi pyramide retournée:"
   ]
  },
  {
   "cell_type": "code",
   "execution_count": 3,
   "metadata": {},
   "outputs": [
    {
     "name": "stdout",
     "output_type": "stream",
     "text": [
      "* * * * \n",
      "* * * \n",
      "* * \n",
      "* \n",
      "\n"
     ]
    }
   ],
   "source": [
    "\"\"\"\n",
    "* * * * *  \n",
    "* * * *  \n",
    "* * *  \n",
    "* *  \n",
    "*\n",
    "\"\"\"\n",
    "nb_lines = int(input(\"Veuillez entrer le nombre de lignes : \"))\n",
    "for i in range(nb_lines + 1):\n",
    "    print(\"* \" * (nb_lines - (i + 1)))\n"
   ]
  },
  {
   "cell_type": "code",
   "execution_count": null,
   "id": "731f81d5-add5-4031-9500-8ffba1cc7a88",
   "metadata": {},
   "outputs": [],
   "source": []
  },
  {
   "cell_type": "markdown",
   "metadata": {},
   "source": [
    "## Une pyramide retournée:"
   ]
  },
  {
   "cell_type": "code",
   "execution_count": 12,
   "metadata": {},
   "outputs": [
    {
     "name": "stdout",
     "output_type": "stream",
     "text": [
      "* * * * * * \n",
      " * * * * * \n",
      "  * * * * \n",
      "   * * * \n",
      "    * * \n",
      "     * \n"
     ]
    }
   ],
   "source": [
    "\"\"\"\n",
    "        * * * * * * \n",
    "         * * * * * \n",
    "          * * * * \n",
    "           * * * \n",
    "            * * \n",
    "             * \n",
    "\"\"\"\n",
    "\n",
    "nb_lines = int(input(\"Veuillez entrer le nombre de lignes : \"))\n",
    "for i in range(nb_lines + 1):\n",
    "    print(\" \" * i + \"* \" * ((nb_lines - i) + 1))\n",
    "        "
   ]
  },
  {
   "cell_type": "code",
   "execution_count": null,
   "id": "5d837d94-d526-49a4-81c5-b32afe4bfef1",
   "metadata": {},
   "outputs": [],
   "source": []
  },
  {
   "cell_type": "markdown",
   "metadata": {},
   "source": [
    "## Une demi pyramide en miroir:"
   ]
  },
  {
   "cell_type": "code",
   "execution_count": 13,
   "metadata": {},
   "outputs": [
    {
     "name": "stdout",
     "output_type": "stream",
     "text": [
      "******\n",
      " *****\n",
      "  ****\n",
      "   ***\n",
      "    **\n",
      "     *\n"
     ]
    }
   ],
   "source": [
    "\"\"\"\n",
    "*****\n",
    " ****\n",
    "  ***\n",
    "   **\n",
    "    *\n",
    "\"\"\"\n",
    "\n",
    "nb_lines = int(input(\"Veuillez entrer le nombre de lignes : \"))\n",
    "for i in range(nb_lines + 1):\n",
    "    print(\" \" * i + \"*\" * ((nb_lines - i) + 1))"
   ]
  },
  {
   "cell_type": "code",
   "execution_count": null,
   "id": "6c4983f1-fab3-47a2-81af-0f720c409ea8",
   "metadata": {},
   "outputs": [],
   "source": []
  },
  {
   "cell_type": "markdown",
   "metadata": {},
   "source": [
    "## Un triangle equilatéral :"
   ]
  },
  {
   "cell_type": "code",
   "execution_count": 1,
   "metadata": {},
   "outputs": [
    {
     "name": "stdout",
     "output_type": "stream",
     "text": [
      "Veuillez entrer le nombre de lignes :  15\n",
      "               * \n",
      "              * * \n",
      "             * * * \n",
      "            * * * * \n",
      "           * * * * * \n",
      "          * * * * * * \n",
      "         * * * * * * * \n",
      "        * * * * * * * * \n",
      "       * * * * * * * * * \n",
      "      * * * * * * * * * * \n",
      "     * * * * * * * * * * * \n",
      "    * * * * * * * * * * * * \n",
      "   * * * * * * * * * * * * * \n",
      "  * * * * * * * * * * * * * * \n",
      " * * * * * * * * * * * * * * * \n",
      "* * * * * * * * * * * * * * * * \n"
     ]
    }
   ],
   "source": [
    "\"\"\"\n",
    "            *   \n",
    "           * *   \n",
    "          * * *   \n",
    "         * * * *   \n",
    "        * * * * *   \n",
    "       * * * * * *   \n",
    "      * * * * * * *   \n",
    "\"\"\"\n",
    "nb_lines = int(input(\"Veuillez entrer le nombre de lignes : \"))\n",
    "for i in range(nb_lines + 1):\n",
    "    textTemp = ''\n",
    "    for j in range(nb_lines - i):\n",
    "        textTemp += ' '\n",
    "    for k in range(i + 1):\n",
    "        textTemp += \"* \"\n",
    "    print(textTemp)"
   ]
  },
  {
   "cell_type": "code",
   "execution_count": null,
   "id": "4c9f0627-853a-48b1-9284-189d591e53f8",
   "metadata": {},
   "outputs": [],
   "source": []
  },
  {
   "cell_type": "markdown",
   "metadata": {},
   "source": [
    "## Une double pyramide : "
   ]
  },
  {
   "cell_type": "code",
   "execution_count": 18,
   "metadata": {},
   "outputs": [
    {
     "name": "stdout",
     "output_type": "stream",
     "text": [
      "* \n",
      "* * \n",
      "* * * \n",
      "* * * * \n",
      "* * * * * \n",
      "* * * * * * \n",
      "\n",
      "* * * * * * \n",
      "* * * * * \n",
      "* * * * \n",
      "* * * \n",
      "* * \n",
      "* \n"
     ]
    }
   ],
   "source": [
    "\"\"\"\n",
    "*  \n",
    "* *  \n",
    "* * *  \n",
    "* * * *  \n",
    "* * * * *  \n",
    "* * * * * *  \n",
    " \n",
    "* * * * * *  \n",
    "* * * * *  \n",
    "* * * *  \n",
    "* * *  \n",
    "* *  \n",
    "*  \n",
    "\"\"\"\n",
    "nb_lines = int(input(\"Veuillez entrer le nombre de lignes : \"))\n",
    "for i in range(nb_lines + 1):\n",
    "    print(\"* \" * (i + 1))\n",
    "print()\n",
    "for i in range(0, nb_lines + 1):\n",
    "    print(\"* \" * (nb_lines - (i) + 1))"
   ]
  },
  {
   "cell_type": "code",
   "execution_count": null,
   "id": "03e6d787-6ca7-444f-a590-e8ce763049a9",
   "metadata": {},
   "outputs": [],
   "source": []
  },
  {
   "cell_type": "markdown",
   "metadata": {
    "tags": []
   },
   "source": [
    "## Une demi-étoile (droite)"
   ]
  },
  {
   "cell_type": "code",
   "execution_count": 19,
   "metadata": {},
   "outputs": [
    {
     "name": "stdout",
     "output_type": "stream",
     "text": [
      "* \n",
      "* * \n",
      "* * * \n",
      "* * * * \n",
      "* * * * * \n",
      "* * * * * * \n",
      "* * * * * \n",
      "* * * * \n",
      "* * * \n",
      "* * \n",
      "* \n"
     ]
    }
   ],
   "source": [
    "\"\"\"\n",
    "* \n",
    "* * \n",
    "* * * \n",
    "* * * * \n",
    "* * * * * \n",
    "* * * * \n",
    "* * * \n",
    "* * \n",
    "* \n",
    "\"\"\"\n",
    "nb_lines = int(input(\"Veuillez entrer le nombre de lignes : \"))\n",
    "for i in range(nb_lines + 1):\n",
    "    print(\"* \" * (i + 1))\n",
    "for i in range(0, nb_lines):\n",
    "    print(\"* \" * (nb_lines - (i)))"
   ]
  },
  {
   "cell_type": "code",
   "execution_count": null,
   "id": "e6e4c262-8dee-4a76-84ca-755988d4614f",
   "metadata": {},
   "outputs": [],
   "source": []
  },
  {
   "cell_type": "markdown",
   "metadata": {},
   "source": [
    "## Une demi-étoile (gauche)"
   ]
  },
  {
   "cell_type": "code",
   "execution_count": 22,
   "metadata": {},
   "outputs": [
    {
     "name": "stdout",
     "output_type": "stream",
     "text": [
      "          * \n",
      "        * * \n",
      "      * * * \n",
      "    * * * * \n",
      "  * * * * * \n",
      "* * * * * * \n",
      "  * * * * * \n",
      "    * * * * \n",
      "      * * * \n",
      "        * * \n",
      "          * \n"
     ]
    }
   ],
   "source": [
    "\"\"\"\n",
    "        * \n",
    "      * * \n",
    "    * * * \n",
    "  * * * * \n",
    "* * * * * \n",
    "  * * * * \n",
    "    * * * \n",
    "      * * \n",
    "        * \n",
    "\"\"\"\n",
    "nb_lines = int(input(\"Veuillez entrer le nombre de lignes : \"))\n",
    "for i in range(nb_lines + 1):\n",
    "    print(\"  \" * (nb_lines - i) + \"* \" * (i + 1))\n",
    "for i in range(1, nb_lines + 1):\n",
    "    print(\"  \" * (i) + \"* \" * (nb_lines - (i) + 1))"
   ]
  },
  {
   "cell_type": "code",
   "execution_count": null,
   "id": "6867cd2d-2969-473e-82dd-de525dbcea63",
   "metadata": {},
   "outputs": [],
   "source": []
  },
  {
   "cell_type": "markdown",
   "metadata": {},
   "source": [
    "## Un sablier"
   ]
  },
  {
   "cell_type": "code",
   "execution_count": 24,
   "metadata": {},
   "outputs": [
    {
     "name": "stdout",
     "output_type": "stream",
     "text": [
      "* * * * * * \n",
      " * * * * * \n",
      "  * * * * \n",
      "   * * * \n",
      "    * * \n",
      "     * \n",
      "    * * \n",
      "   * * * \n",
      "  * * * * \n",
      " * * * * * \n",
      "* * * * * * \n"
     ]
    }
   ],
   "source": [
    "\"\"\"\n",
    "* * * * * \n",
    " * * * * \n",
    "  * * * \n",
    "   * * \n",
    "    * \n",
    "    * \n",
    "   * * \n",
    "  * * * \n",
    " * * * * \n",
    "* * * * * \n",
    "\"\"\"\n",
    "nb_lines = int(input(\"Veuillez entrer le nombre de lignes : \"))\n",
    "for i in range(nb_lines + 1):\n",
    "    print(\" \" * i + \"* \" * ((nb_lines - i) + 1))\n",
    "for i in range(1, nb_lines + 1):\n",
    "    print(\" \" * (nb_lines - i) + \"* \" * (i + 1))"
   ]
  },
  {
   "cell_type": "code",
   "execution_count": null,
   "id": "e1985c9a-07ae-4e47-9219-90fe6d547ae4",
   "metadata": {},
   "outputs": [],
   "source": []
  },
  {
   "cell_type": "markdown",
   "metadata": {},
   "source": [
    "## Un diamant: "
   ]
  },
  {
   "cell_type": "code",
   "execution_count": null,
   "metadata": {},
   "outputs": [],
   "source": [
    "\"\"\"\n",
    "        * \n",
    "       * * \n",
    "      * * * \n",
    "     * * * * \n",
    "    * * * * * \n",
    "   * * * * * * \n",
    "    * * * * * \n",
    "     * * * * \n",
    "      * * * \n",
    "       * * \n",
    "        * \n",
    "\"\"\"\n",
    "nb_lines = int(input(\"Veuillez entrer le nombre de lignes : \"))\n",
    "for i in range(nb_lines + 1):\n",
    "    print(\" \" * i + \"* \" * ((nb_lines - i) + 1))\n",
    "for i in range(1, nb_lines + 1):\n",
    "    print(\" \" * (nb_lines - i) + \"* \" * (i + 1))"
   ]
  },
  {
   "cell_type": "code",
   "execution_count": null,
   "id": "c1c0c84e-1242-4b37-8918-032542142aee",
   "metadata": {},
   "outputs": [],
   "source": []
  },
  {
   "cell_type": "markdown",
   "metadata": {},
   "source": [
    "## La tri-force: \n",
    "En paramètres, la taille `c` d'un côté du triangle et le nombre `e` d'étages de la pyramide devraient être utiles. \n",
    "\n",
    "(ici, on a `c=3` et `e=2`)"
   ]
  },
  {
   "cell_type": "code",
   "execution_count": 28,
   "metadata": {},
   "outputs": [
    {
     "name": "stdout",
     "output_type": "stream",
     "text": [
      "------------------------  /\\  \n",
      "------------------------ /  \\ \n",
      "------------------------/____\\\n",
      "---------------------  /\\    /\\  \n",
      "--------------------- /  \\  /  \\ \n",
      "---------------------/____\\/____\\\n",
      "------------------  /\\    /\\    /\\  \n",
      "------------------ /  \\  /  \\  /  \\ \n",
      "------------------/____\\/____\\/____\\\n",
      "---------------  /\\    /\\    /\\    /\\  \n",
      "--------------- /  \\  /  \\  /  \\  /  \\ \n",
      "---------------/____\\/____\\/____\\/____\\\n",
      "------------  /\\    /\\    /\\    /\\    /\\  \n",
      "------------ /  \\  /  \\  /  \\  /  \\  /  \\ \n",
      "------------/____\\/____\\/____\\/____\\/____\\\n",
      "---------  /\\    /\\    /\\    /\\    /\\    /\\  \n",
      "--------- /  \\  /  \\  /  \\  /  \\  /  \\  /  \\ \n",
      "---------/____\\/____\\/____\\/____\\/____\\/____\\\n",
      "------  /\\    /\\    /\\    /\\    /\\    /\\    /\\  \n",
      "------ /  \\  /  \\  /  \\  /  \\  /  \\  /  \\  /  \\ \n",
      "------/____\\/____\\/____\\/____\\/____\\/____\\/____\\\n",
      "---  /\\    /\\    /\\    /\\    /\\    /\\    /\\    /\\  \n",
      "--- /  \\  /  \\  /  \\  /  \\  /  \\  /  \\  /  \\  /  \\ \n",
      "---/____\\/____\\/____\\/____\\/____\\/____\\/____\\/____\\\n",
      "  /\\    /\\    /\\    /\\    /\\    /\\    /\\    /\\    /\\  \n",
      " /  \\  /  \\  /  \\  /  \\  /  \\  /  \\  /  \\  /  \\  /  \\ \n",
      "/____\\/____\\/____\\/____\\/____\\/____\\/____\\/____\\/____\\\n",
      "\n"
     ]
    }
   ],
   "source": [
    "\"\"\"\n",
    "-----/\\-----\n",
    "----/--\\----\n",
    "---/____\\---\n",
    "--/\\----/\\--\n",
    "-/--\\--/--\\-\n",
    "/____\\/____\\\n",
    "\"\"\"\n",
    "\n",
    "# nb_lines = int(input(\"Veuillez entrer le nombre de lignes : \"))\n",
    "nb_lines = 9\n",
    "\n",
    "\n",
    "# Pour chacune des répétitions de motif\n",
    "textTemp = ''\n",
    "for count_lines in range(nb_lines):\n",
    "    \n",
    "    # Pour chaque ligne\n",
    "    for i in range(3):\n",
    "        for k in range((nb_lines - (count_lines + 1)) * 3):\n",
    "            textTemp += ' '\n",
    "        # Pour chacun des motifs\n",
    "        for seg_motif in range(count_lines + 1):\n",
    "            # Première ligne\n",
    "            if (i == 0):\n",
    "                textTemp += '{}/{}\\\\{}'.format('  ', '',  '  ')\n",
    "\n",
    "            # Deuxième ligne\n",
    "            elif (i == 1):\n",
    "                textTemp += '{}/{}\\\\{}'.format(' ', '  ', ' ')\n",
    "            # Troisième ligne\n",
    "            else:\n",
    "                textTemp += '{}/{}\\\\{}'.format('', '____', '')\n",
    "        textTemp += '\\n'\n",
    "                    \n",
    "print(textTemp)\n"
   ]
  },
  {
   "cell_type": "code",
   "execution_count": null,
   "id": "34660e66-be27-4b60-96df-2c1a859c990b",
   "metadata": {},
   "outputs": [],
   "source": []
  },
  {
   "cell_type": "markdown",
   "metadata": {
    "tags": []
   },
   "source": [
    "## [Home](0_Index.ipynb)🏠\n",
    "![licence.png](pics/licence.png) Licence Creative Commons Attribution - Partage dans les Mêmes Conditions 4.0 International"
   ]
  }
 ],
 "metadata": {
  "kernelspec": {
   "display_name": "Python 3 (ipykernel)",
   "language": "python",
   "name": "python3"
  },
  "language_info": {
   "codemirror_mode": {
    "name": "ipython",
    "version": 3
   },
   "file_extension": ".py",
   "mimetype": "text/x-python",
   "name": "python",
   "nbconvert_exporter": "python",
   "pygments_lexer": "ipython3",
   "version": "3.9.12"
  }
 },
 "nbformat": 4,
 "nbformat_minor": 5
}
