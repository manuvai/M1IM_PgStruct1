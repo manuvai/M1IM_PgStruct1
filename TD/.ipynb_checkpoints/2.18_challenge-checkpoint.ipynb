{
 "cells": [
  {
   "cell_type": "markdown",
   "id": "dc350928-8258-4bb5-a64e-95c4f62641da",
   "metadata": {},
   "source": [
    "# Dessine moi... 🏆"
   ]
  },
  {
   "cell_type": "markdown",
   "id": "931a4aac-5046-4c10-9166-ec5f3f948fd7",
   "metadata": {
    "nbgrader": {
     "grade": false,
     "grade_id": "cell-e8f0192bd90632dc",
     "locked": true,
     "schema_version": 3,
     "solution": false,
     "task": false
    },
    "tags": []
   },
   "source": [
    "### Tâche à réaliser 🎯\n",
    "\n",
    "On souhaite faire imprimer dans la console une forme à l'aide de boucles. \n",
    "\n",
    "Pour chacune des figures suivantes, écrire un algorithme qui permet de générer la figure. On spécifiera à chaque fois le nombre de lignes que l'on souhaite obtenir."
   ]
  },
  {
   "cell_type": "markdown",
   "id": "345605d1-8696-4160-8b5e-394a66aa37ce",
   "metadata": {
    "tags": []
   },
   "source": [
    "## Une demi pyramide:"
   ]
  },
  {
   "cell_type": "code",
   "execution_count": null,
   "id": "6a50f7fc-9a21-407a-a588-7882bd26badf",
   "metadata": {},
   "outputs": [],
   "source": [
    "* \n",
    "* * \n",
    "* * * \n",
    "* * * * \n",
    "* * * * *"
   ]
  },
  {
   "cell_type": "markdown",
   "id": "e621e664-0ade-44a2-8769-021f1cbdf29f",
   "metadata": {},
   "source": [
    "## Une demi pyramide inversée:"
   ]
  },
  {
   "cell_type": "code",
   "execution_count": null,
   "id": "3abbc927-d79b-4d18-8172-94c963c5660a",
   "metadata": {},
   "outputs": [],
   "source": [
    "        * \n",
    "      * * \n",
    "    * * * \n",
    "  * * * * \n",
    "* * * * * "
   ]
  },
  {
   "cell_type": "markdown",
   "id": "d5eda412-755f-4db1-af13-c205eae1b8ab",
   "metadata": {},
   "source": [
    "## Une demi pyramide retournée:"
   ]
  },
  {
   "cell_type": "code",
   "execution_count": null,
   "id": "84ec6712-079e-4516-972c-dbe3e3813f08",
   "metadata": {},
   "outputs": [],
   "source": [
    "* * * * *  \n",
    "* * * *  \n",
    "* * *  \n",
    "* *  \n",
    "*"
   ]
  },
  {
   "cell_type": "markdown",
   "id": "0cbf4b54-51e3-4e17-9c69-b0254429fa2d",
   "metadata": {},
   "source": [
    "## Une pyramide retournée:"
   ]
  },
  {
   "cell_type": "code",
   "execution_count": null,
   "id": "3ebe95b5-8008-4d94-b03f-951b3946273b",
   "metadata": {},
   "outputs": [],
   "source": [
    "        * * * * * * \n",
    "         * * * * * \n",
    "          * * * * \n",
    "           * * * \n",
    "            * * \n",
    "             * "
   ]
  },
  {
   "cell_type": "markdown",
   "id": "74bc0181-81e5-40d5-a2a8-037d90e26e1c",
   "metadata": {},
   "source": [
    "## Une demi pyramide en miroir:"
   ]
  },
  {
   "cell_type": "code",
   "execution_count": null,
   "id": "db47ef08-26e8-455e-b715-98f7eb5a6700",
   "metadata": {},
   "outputs": [],
   "source": [
    "*****\n",
    " ****\n",
    "  ***\n",
    "   **\n",
    "    *"
   ]
  },
  {
   "cell_type": "markdown",
   "id": "bdf77d6e-64c6-43cb-8230-423b59faa99b",
   "metadata": {},
   "source": [
    "## Un triangle equilatéral :"
   ]
  },
  {
   "cell_type": "code",
   "execution_count": null,
   "id": "a4415966-0ad0-47e2-beae-93e05d003054",
   "metadata": {},
   "outputs": [],
   "source": [
    "            *   \n",
    "           * *   \n",
    "          * * *   \n",
    "         * * * *   \n",
    "        * * * * *   \n",
    "       * * * * * *   \n",
    "      * * * * * * *   "
   ]
  },
  {
   "cell_type": "markdown",
   "id": "fe991443-db59-47d0-a348-35dc17004e8b",
   "metadata": {},
   "source": [
    "## Une double pyramide : "
   ]
  },
  {
   "cell_type": "code",
   "execution_count": null,
   "id": "57c69427-2fbc-490f-b38f-42b6f51b3601",
   "metadata": {},
   "outputs": [],
   "source": [
    "*  \n",
    "* *  \n",
    "* * *  \n",
    "* * * *  \n",
    "* * * * *  \n",
    "* * * * * *  \n",
    " \n",
    "* * * * * *  \n",
    "* * * * *  \n",
    "* * * *  \n",
    "* * *  \n",
    "* *  \n",
    "*  "
   ]
  },
  {
   "cell_type": "markdown",
   "id": "dfd5523e-ba1b-4fb6-b9e0-eb81a7f937c7",
   "metadata": {
    "tags": []
   },
   "source": [
    "## Une demi-étoile (droite)"
   ]
  },
  {
   "cell_type": "code",
   "execution_count": null,
   "id": "de9d8975-f149-46a0-b38e-814cf778b96e",
   "metadata": {},
   "outputs": [],
   "source": [
    "* \n",
    "* * \n",
    "* * * \n",
    "* * * * \n",
    "* * * * * \n",
    "* * * * \n",
    "* * * \n",
    "* * \n",
    "* "
   ]
  },
  {
   "cell_type": "markdown",
   "id": "5efc755e-ad94-4b2e-852d-15a91e9a0282",
   "metadata": {},
   "source": [
    "## Une demi-étoile (gauche)"
   ]
  },
  {
   "cell_type": "code",
   "execution_count": null,
   "id": "a5566742-9305-4f0d-97e7-5f16bb021013",
   "metadata": {},
   "outputs": [],
   "source": [
    "        * \n",
    "      * * \n",
    "    * * * \n",
    "  * * * * \n",
    "* * * * * \n",
    "  * * * * \n",
    "    * * * \n",
    "      * * \n",
    "        * "
   ]
  },
  {
   "cell_type": "markdown",
   "id": "6a9f998b-5d78-4bcb-8682-24b73121e439",
   "metadata": {},
   "source": [
    "## Un sablier"
   ]
  },
  {
   "cell_type": "code",
   "execution_count": null,
   "id": "a3867572-c165-493e-af8c-c4ed9ea2c7f2",
   "metadata": {},
   "outputs": [],
   "source": [
    "* * * * * \n",
    " * * * * \n",
    "  * * * \n",
    "   * * \n",
    "    * \n",
    "    * \n",
    "   * * \n",
    "  * * * \n",
    " * * * * \n",
    "* * * * * "
   ]
  },
  {
   "cell_type": "markdown",
   "id": "684a4814-7cea-47f2-8fe3-533d96bfbd16",
   "metadata": {},
   "source": [
    "## Un diamant: "
   ]
  },
  {
   "cell_type": "code",
   "execution_count": null,
   "id": "055dee7c-be87-4f74-8c30-c805bfa82770",
   "metadata": {},
   "outputs": [],
   "source": [
    "        * \n",
    "       * * \n",
    "      * * * \n",
    "     * * * * \n",
    "    * * * * * \n",
    "   * * * * * * \n",
    "    * * * * * \n",
    "     * * * * \n",
    "      * * * \n",
    "       * * \n",
    "        * "
   ]
  },
  {
   "cell_type": "markdown",
   "id": "87bd2796-7775-46de-ad61-79f232c16d8f",
   "metadata": {},
   "source": [
    "## La tri-force: "
   ]
  },
  {
   "cell_type": "code",
   "execution_count": null,
   "id": "c8a68d51-1488-4039-a09c-d13287293dc7",
   "metadata": {},
   "outputs": [],
   "source": [
    "     /\\     \n",
    "    /  \\    \n",
    "   /____\\   \n",
    "  /\\    /\\  \n",
    " /  \\  /  \\ \n",
    "/____\\/____\\"
   ]
  },
  {
   "cell_type": "markdown",
   "id": "272402c5-a146-42ca-929d-b83ebfd3b597",
   "metadata": {
    "tags": []
   },
   "source": [
    "## [Home](0_Index.ipynb)🏠\n",
    "![licence.png](pics/licence.png) Licence Creative Commons Attribution - Partage dans les Mêmes Conditions 4.0 International"
   ]
  }
 ],
 "metadata": {
  "kernelspec": {
   "display_name": "Python 3",
   "language": "python",
   "name": "python3"
  },
  "language_info": {
   "codemirror_mode": {
    "name": "ipython",
    "version": 3
   },
   "file_extension": ".py",
   "mimetype": "text/x-python",
   "name": "python",
   "nbconvert_exporter": "python",
   "pygments_lexer": "ipython3",
   "version": "3.8.8"
  }
 },
 "nbformat": 4,
 "nbformat_minor": 5
}
