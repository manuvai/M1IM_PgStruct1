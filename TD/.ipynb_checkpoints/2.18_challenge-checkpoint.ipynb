{
 "cells": [
  {
   "cell_type": "markdown",
   "metadata": {},
   "source": [
    "# Dessine moi... 🏆"
   ]
  },
  {
   "cell_type": "markdown",
   "metadata": {
    "nbgrader": {
     "grade": false,
     "grade_id": "cell-e8f0192bd90632dc",
     "locked": true,
     "schema_version": 3,
     "solution": false,
     "task": false
    },
    "tags": []
   },
   "source": [
    "### Tâche à réaliser 🎯\n",
    "\n",
    "On souhaite faire imprimer dans la console une forme à l'aide de boucles. \n",
    "\n",
    "Pour chacune des figures suivantes, écrire un algorithme qui permet de générer la figure. On spécifiera à chaque fois le nombre de lignes que l'on souhaite obtenir."
   ]
  },
  {
   "cell_type": "markdown",
   "metadata": {
    "tags": []
   },
   "source": [
    "## Une demi pyramide:"
   ]
  },
  {
   "cell_type": "code",
   "execution_count": 1,
   "metadata": {},
   "outputs": [
    {
     "name": "stdout",
     "output_type": "stream",
     "text": [
      "* \n",
      "* * \n",
      "* * * \n",
      "* * * * \n",
      "* * * * * \n"
     ]
    }
   ],
   "source": [
    "\"\"\"\n",
    "* \n",
    "* * \n",
    "* * * \n",
    "* * * * \n",
    "* * * * *\n",
    "\"\"\"\n",
    "nb_lines = int(input(\"Veuillez entrer le nombre de lignes : \"))\n",
    "for i in range(nb_lines + 1):\n",
    "    print(\"* \" * (i + 1))"
   ]
  },
  {
   "cell_type": "markdown",
   "metadata": {},
   "source": [
    "## Une demi pyramide inversée:"
   ]
  },
  {
   "cell_type": "code",
   "execution_count": 2,
   "metadata": {},
   "outputs": [
    {
     "name": "stdout",
     "output_type": "stream",
     "text": [
      "      * \n",
      "    * * \n",
      "  * * * \n",
      "* * * * \n"
     ]
    }
   ],
   "source": [
    "\"\"\"\n",
    "        * \n",
    "      * * \n",
    "    * * * \n",
    "  * * * * \n",
    "* * * * * \n",
    "\"\"\"\n",
    "nb_lines = int(input(\"Veuillez entrer le nombre de lignes : \"))\n",
    "for i in range(nb_lines + 1):\n",
    "    print(\"  \" * (nb_lines - (i + 1)) + \"* \" * (i + 1))"
   ]
  },
  {
   "cell_type": "markdown",
   "metadata": {},
   "source": [
    "## Une demi pyramide retournée:"
   ]
  },
  {
   "cell_type": "code",
   "execution_count": 3,
   "metadata": {},
   "outputs": [
    {
     "name": "stdout",
     "output_type": "stream",
     "text": [
      "* * * * \n",
      "* * * \n",
      "* * \n",
      "* \n",
      "\n"
     ]
    }
   ],
   "source": [
    "\"\"\"\n",
    "* * * * *  \n",
    "* * * *  \n",
    "* * *  \n",
    "* *  \n",
    "*\n",
    "\"\"\"\n",
    "nb_lines = int(input(\"Veuillez entrer le nombre de lignes : \"))\n",
    "for i in range(nb_lines + 1):\n",
    "    print(\"* \" * (nb_lines - (i + 1)))\n"
   ]
  },
  {
   "cell_type": "markdown",
   "metadata": {},
   "source": [
    "## Une pyramide retournée:"
   ]
  },
  {
   "cell_type": "code",
   "execution_count": 12,
   "metadata": {},
   "outputs": [
    {
     "name": "stdout",
     "output_type": "stream",
     "text": [
      "* * * * * * \n",
      " * * * * * \n",
      "  * * * * \n",
      "   * * * \n",
      "    * * \n",
      "     * \n"
     ]
    }
   ],
   "source": [
    "\"\"\"\n",
    "        * * * * * * \n",
    "         * * * * * \n",
    "          * * * * \n",
    "           * * * \n",
    "            * * \n",
    "             * \n",
    "\"\"\"\n",
    "\n",
    "nb_lines = int(input(\"Veuillez entrer le nombre de lignes : \"))\n",
    "for i in range(nb_lines + 1):\n",
    "    print(\" \" * i + \"* \" * ((nb_lines - i) + 1))\n",
    "        "
   ]
  },
  {
   "cell_type": "markdown",
   "metadata": {},
   "source": [
    "## Une demi pyramide en miroir:"
   ]
  },
  {
   "cell_type": "code",
   "execution_count": 13,
   "metadata": {},
   "outputs": [
    {
     "name": "stdout",
     "output_type": "stream",
     "text": [
      "******\n",
      " *****\n",
      "  ****\n",
      "   ***\n",
      "    **\n",
      "     *\n"
     ]
    }
   ],
   "source": [
    "\"\"\"\n",
    "*****\n",
    " ****\n",
    "  ***\n",
    "   **\n",
    "    *\n",
    "\"\"\"\n",
    "\n",
    "nb_lines = int(input(\"Veuillez entrer le nombre de lignes : \"))\n",
    "for i in range(nb_lines + 1):\n",
    "    print(\" \" * i + \"*\" * ((nb_lines - i) + 1))"
   ]
  },
  {
   "cell_type": "markdown",
   "metadata": {},
   "source": [
    "## Un triangle equilatéral :"
   ]
  },
  {
   "cell_type": "code",
   "execution_count": 1,
   "metadata": {},
   "outputs": [
    {
     "name": "stdout",
     "output_type": "stream",
     "text": [
      "Veuillez entrer le nombre de lignes :  15\n",
      "               * \n",
      "              * * \n",
      "             * * * \n",
      "            * * * * \n",
      "           * * * * * \n",
      "          * * * * * * \n",
      "         * * * * * * * \n",
      "        * * * * * * * * \n",
      "       * * * * * * * * * \n",
      "      * * * * * * * * * * \n",
      "     * * * * * * * * * * * \n",
      "    * * * * * * * * * * * * \n",
      "   * * * * * * * * * * * * * \n",
      "  * * * * * * * * * * * * * * \n",
      " * * * * * * * * * * * * * * * \n",
      "* * * * * * * * * * * * * * * * \n"
     ]
    }
   ],
   "source": [
    "\"\"\"\n",
    "            *   \n",
    "           * *   \n",
    "          * * *   \n",
    "         * * * *   \n",
    "        * * * * *   \n",
    "       * * * * * *   \n",
    "      * * * * * * *   \n",
    "\"\"\"\n",
    "nb_lines = int(input(\"Veuillez entrer le nombre de lignes : \"))\n",
    "for i in range(nb_lines + 1):\n",
    "    textTemp = ''\n",
    "    for j in range(nb_lines - i):\n",
    "        textTemp += ' '\n",
    "    for k in range(i + 1):\n",
    "        textTemp += \"* \"\n",
    "    print(textTemp)"
   ]
  },
  {
   "cell_type": "markdown",
   "metadata": {},
   "source": [
    "## Une double pyramide : "
   ]
  },
  {
   "cell_type": "code",
   "execution_count": 18,
   "metadata": {},
   "outputs": [
    {
     "name": "stdout",
     "output_type": "stream",
     "text": [
      "* \n",
      "* * \n",
      "* * * \n",
      "* * * * \n",
      "* * * * * \n",
      "* * * * * * \n",
      "\n",
      "* * * * * * \n",
      "* * * * * \n",
      "* * * * \n",
      "* * * \n",
      "* * \n",
      "* \n"
     ]
    }
   ],
   "source": [
    "\"\"\"\n",
    "*  \n",
    "* *  \n",
    "* * *  \n",
    "* * * *  \n",
    "* * * * *  \n",
    "* * * * * *  \n",
    " \n",
    "* * * * * *  \n",
    "* * * * *  \n",
    "* * * *  \n",
    "* * *  \n",
    "* *  \n",
    "*  \n",
    "\"\"\"\n",
    "nb_lines = int(input(\"Veuillez entrer le nombre de lignes : \"))\n",
    "for i in range(nb_lines + 1):\n",
    "    print(\"* \" * (i + 1))\n",
    "print()\n",
    "for i in range(0, nb_lines + 1):\n",
    "    print(\"* \" * (nb_lines - (i) + 1))"
   ]
  },
  {
   "cell_type": "markdown",
   "metadata": {
    "tags": []
   },
   "source": [
    "## Une demi-étoile (droite)"
   ]
  },
  {
   "cell_type": "code",
   "execution_count": 19,
   "metadata": {},
   "outputs": [
    {
     "name": "stdout",
     "output_type": "stream",
     "text": [
      "* \n",
      "* * \n",
      "* * * \n",
      "* * * * \n",
      "* * * * * \n",
      "* * * * * * \n",
      "* * * * * \n",
      "* * * * \n",
      "* * * \n",
      "* * \n",
      "* \n"
     ]
    }
   ],
   "source": [
    "\"\"\"\n",
    "* \n",
    "* * \n",
    "* * * \n",
    "* * * * \n",
    "* * * * * \n",
    "* * * * \n",
    "* * * \n",
    "* * \n",
    "* \n",
    "\"\"\"\n",
    "nb_lines = int(input(\"Veuillez entrer le nombre de lignes : \"))\n",
    "for i in range(nb_lines + 1):\n",
    "    print(\"* \" * (i + 1))\n",
    "for i in range(0, nb_lines):\n",
    "    print(\"* \" * (nb_lines - (i)))"
   ]
  },
  {
   "cell_type": "markdown",
   "metadata": {},
   "source": [
    "## Une demi-étoile (gauche)"
   ]
  },
  {
   "cell_type": "code",
   "execution_count": 22,
   "metadata": {},
   "outputs": [
    {
     "name": "stdout",
     "output_type": "stream",
     "text": [
      "          * \n",
      "        * * \n",
      "      * * * \n",
      "    * * * * \n",
      "  * * * * * \n",
      "* * * * * * \n",
      "  * * * * * \n",
      "    * * * * \n",
      "      * * * \n",
      "        * * \n",
      "          * \n"
     ]
    }
   ],
   "source": [
    "\"\"\"\n",
    "        * \n",
    "      * * \n",
    "    * * * \n",
    "  * * * * \n",
    "* * * * * \n",
    "  * * * * \n",
    "    * * * \n",
    "      * * \n",
    "        * \n",
    "\"\"\"\n",
    "nb_lines = int(input(\"Veuillez entrer le nombre de lignes : \"))\n",
    "for i in range(nb_lines + 1):\n",
    "    print(\"  \" * (nb_lines - i) + \"* \" * (i + 1))\n",
    "for i in range(1, nb_lines + 1):\n",
    "    print(\"  \" * (i) + \"* \" * (nb_lines - (i) + 1))"
   ]
  },
  {
   "cell_type": "markdown",
   "metadata": {},
   "source": [
    "## Un sablier"
   ]
  },
  {
   "cell_type": "code",
   "execution_count": 24,
   "metadata": {},
   "outputs": [
    {
     "name": "stdout",
     "output_type": "stream",
     "text": [
      "* * * * * * \n",
      " * * * * * \n",
      "  * * * * \n",
      "   * * * \n",
      "    * * \n",
      "     * \n",
      "    * * \n",
      "   * * * \n",
      "  * * * * \n",
      " * * * * * \n",
      "* * * * * * \n"
     ]
    }
   ],
   "source": [
    "\"\"\"\n",
    "* * * * * \n",
    " * * * * \n",
    "  * * * \n",
    "   * * \n",
    "    * \n",
    "    * \n",
    "   * * \n",
    "  * * * \n",
    " * * * * \n",
    "* * * * * \n",
    "\"\"\"\n",
    "nb_lines = int(input(\"Veuillez entrer le nombre de lignes : \"))\n",
    "for i in range(nb_lines + 1):\n",
    "    print(\" \" * i + \"* \" * ((nb_lines - i) + 1))\n",
    "for i in range(1, nb_lines + 1):\n",
    "    print(\" \" * (nb_lines - i) + \"* \" * (i + 1))"
   ]
  },
  {
   "cell_type": "markdown",
   "metadata": {},
   "source": [
    "## Un diamant: "
   ]
  },
  {
   "cell_type": "code",
   "execution_count": null,
   "metadata": {},
   "outputs": [],
   "source": [
    "\"\"\"\n",
    "        * \n",
    "       * * \n",
    "      * * * \n",
    "     * * * * \n",
    "    * * * * * \n",
    "   * * * * * * \n",
    "    * * * * * \n",
    "     * * * * \n",
    "      * * * \n",
    "       * * \n",
    "        * \n",
    "\"\"\"\n",
    "nb_lines = int(input(\"Veuillez entrer le nombre de lignes : \"))\n",
    "for i in range(nb_lines + 1):\n",
    "    print(\" \" * i + \"* \" * ((nb_lines - i) + 1))\n",
    "for i in range(1, nb_lines + 1):\n",
    "    print(\" \" * (nb_lines - i) + \"* \" * (i + 1))"
   ]
  },
  {
   "cell_type": "markdown",
   "metadata": {},
   "source": [
    "## La tri-force: "
   ]
  },
  {
   "cell_type": "code",
   "execution_count": 2,
   "metadata": {},
   "outputs": [
    {
     "name": "stdin",
     "output_type": "stream",
     "text": [
      "Veuillez entrer le nombre de lignes :  2\n"
     ]
    },
    {
     "name": "stdout",
     "output_type": "stream",
     "text": [
      "  "
     ]
    }
   ],
   "source": [
    "\"\"\"\n",
    "-----/\\-----\n",
    "----/--\\----\n",
    "---/____\\---\n",
    "--/\\----/\\--\n",
    "-/--\\--/--\\-\n",
    "/____\\/____\\\n",
    "\"\"\"\n",
    "# nb_lines = int(input(\"Veuillez entrer le nombre de lignes : \"))\n",
    "\n",
    "print(' ' * 2, sep=\"\", end='')\n"
   ]
  },
  {
   "cell_type": "markdown",
   "metadata": {
    "tags": []
   },
   "source": [
    "## [Home](0_Index.ipynb)🏠\n",
    "![licence.png](pics/licence.png) Licence Creative Commons Attribution - Partage dans les Mêmes Conditions 4.0 International"
   ]
  }
 ],
 "metadata": {
  "kernelspec": {
   "display_name": "Python 3",
   "language": "python",
   "name": "python3"
  },
  "language_info": {
   "codemirror_mode": {
    "name": "ipython",
    "version": 3
   },
   "file_extension": ".py",
   "mimetype": "text/x-python",
   "name": "python",
   "nbconvert_exporter": "python",
   "pygments_lexer": "ipython3",
   "version": "3.8.5"
  },
  "vscode": {
   "interpreter": {
    "hash": "4fb435cb9a1efeb2f38d3dce1339521a1fba953090a1346d7eedb3261b9f21ce"
   }
  }
 },
 "nbformat": 4,
 "nbformat_minor": 5
}
