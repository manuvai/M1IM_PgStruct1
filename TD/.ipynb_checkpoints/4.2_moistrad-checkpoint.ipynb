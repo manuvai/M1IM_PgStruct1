{
 "cells": [
  {
   "cell_type": "markdown",
   "metadata": {
    "tags": []
   },
   "source": [
    "# Traduction mois ⭐"
   ]
  },
  {
   "cell_type": "markdown",
   "metadata": {
    "nbgrader": {
     "grade": false,
     "grade_id": "cell-e8f0192bd90632dc",
     "locked": true,
     "schema_version": 3,
     "solution": false,
     "task": false
    },
    "tags": []
   },
   "source": [
    "### Tâche à réaliser 🎯\n",
    "\n",
    "Ecrire le code de la fonction `F_traduction(nom)` retournant la traduction en anglais du nom de mois passé en paramètre.\n",
    "Vous devez utiliser les tuples suivants : \n",
    "`mois = ('Janvier','Février','Mars','Avril','Mai','Juin','Juillet','Août', 'Septembre', 'Octobre','Novembre','Décembre')`\n",
    "\n",
    "`months = (\"January\",\"Februar\",\"March\",\"April\",\"Mai\",\"June\",\"July\",\"August\",\"September\",\"October\",\"November\",\"December\")`\n",
    "\n",
    "### Entrée 🔠\n",
    "En paramètre : un nom de mois en français\n",
    "    \n",
    "### Sortie 🖥️\n",
    "Le nom du mois correspondant en anglais\n",
    "    \n",
    "### Exemples 👀\n",
    "\n",
    "Appel: `F_traduction(\"Octobre\")`\n",
    "\n",
    "> Sortie : `October`\n",
    "\n",
    "Appel: `F_traduction(\"Janv\")`\n",
    "\n",
    "> Sortie : `Ce nom de mois n'existe pas`"
   ]
  },
  {
   "cell_type": "markdown",
   "metadata": {},
   "source": [
    "## Votre solution : "
   ]
  },
  {
   "cell_type": "code",
   "execution_count": 6,
   "metadata": {},
   "outputs": [
    {
     "name": "stdout",
     "output_type": "stream",
     "text": [
      "January\n",
      "December\n"
     ]
    },
    {
     "ename": "AssertionError",
     "evalue": "Ce nom de mois n'existe pas",
     "output_type": "error",
     "traceback": [
      "\u001b[1;31m---------------------------------------------------------------------------\u001b[0m",
      "\u001b[1;31mAssertionError\u001b[0m                            Traceback (most recent call last)",
      "\u001b[1;32m<ipython-input-6-72908521c8ea>\u001b[0m in \u001b[0;36m<module>\u001b[1;34m\u001b[0m\n\u001b[0;32m     17\u001b[0m \u001b[0mprint\u001b[0m\u001b[1;33m(\u001b[0m\u001b[0mF_traduction\u001b[0m\u001b[1;33m(\u001b[0m\u001b[1;34m'Janvier'\u001b[0m\u001b[1;33m)\u001b[0m\u001b[1;33m)\u001b[0m\u001b[1;33m\u001b[0m\u001b[1;33m\u001b[0m\u001b[0m\n\u001b[0;32m     18\u001b[0m \u001b[0mprint\u001b[0m\u001b[1;33m(\u001b[0m\u001b[0mF_traduction\u001b[0m\u001b[1;33m(\u001b[0m\u001b[1;34m'Décembre'\u001b[0m\u001b[1;33m)\u001b[0m\u001b[1;33m)\u001b[0m\u001b[1;33m\u001b[0m\u001b[1;33m\u001b[0m\u001b[0m\n\u001b[1;32m---> 19\u001b[1;33m \u001b[0mprint\u001b[0m\u001b[1;33m(\u001b[0m\u001b[0mF_traduction\u001b[0m\u001b[1;33m(\u001b[0m\u001b[1;34m'Janv'\u001b[0m\u001b[1;33m)\u001b[0m\u001b[1;33m)\u001b[0m\u001b[1;33m\u001b[0m\u001b[1;33m\u001b[0m\u001b[0m\n\u001b[0m",
      "\u001b[1;32m<ipython-input-6-72908521c8ea>\u001b[0m in \u001b[0;36mF_traduction\u001b[1;34m(month_name)\u001b[0m\n\u001b[0;32m     10\u001b[0m     \u001b[0mmonths\u001b[0m \u001b[1;33m=\u001b[0m \u001b[1;33m(\u001b[0m\u001b[1;34m\"January\"\u001b[0m\u001b[1;33m,\u001b[0m\u001b[1;34m\"Februar\"\u001b[0m\u001b[1;33m,\u001b[0m\u001b[1;34m\"March\"\u001b[0m\u001b[1;33m,\u001b[0m\u001b[1;34m\"April\"\u001b[0m\u001b[1;33m,\u001b[0m\u001b[1;34m\"Mai\"\u001b[0m\u001b[1;33m,\u001b[0m\u001b[1;34m\"June\"\u001b[0m\u001b[1;33m,\u001b[0m\u001b[1;34m\"July\"\u001b[0m\u001b[1;33m,\u001b[0m\u001b[1;34m\"August\"\u001b[0m\u001b[1;33m,\u001b[0m\u001b[1;34m\"September\"\u001b[0m\u001b[1;33m,\u001b[0m\u001b[1;34m\"October\"\u001b[0m\u001b[1;33m,\u001b[0m\u001b[1;34m\"November\"\u001b[0m\u001b[1;33m,\u001b[0m\u001b[1;34m\"December\"\u001b[0m\u001b[1;33m)\u001b[0m\u001b[1;33m\u001b[0m\u001b[1;33m\u001b[0m\u001b[0m\n\u001b[0;32m     11\u001b[0m \u001b[1;33m\u001b[0m\u001b[0m\n\u001b[1;32m---> 12\u001b[1;33m     \u001b[1;32massert\u001b[0m \u001b[0mmonth_name\u001b[0m \u001b[1;32min\u001b[0m \u001b[0mmois\u001b[0m\u001b[1;33m,\u001b[0m \u001b[1;34m\"Ce nom de mois n'existe pas\"\u001b[0m\u001b[1;33m\u001b[0m\u001b[1;33m\u001b[0m\u001b[0m\n\u001b[0m\u001b[0;32m     13\u001b[0m \u001b[1;33m\u001b[0m\u001b[0m\n\u001b[0;32m     14\u001b[0m     \u001b[0mindex\u001b[0m \u001b[1;33m=\u001b[0m \u001b[0mmois\u001b[0m\u001b[1;33m.\u001b[0m\u001b[0mindex\u001b[0m\u001b[1;33m(\u001b[0m\u001b[0mmonth_name\u001b[0m\u001b[1;33m)\u001b[0m\u001b[1;33m\u001b[0m\u001b[1;33m\u001b[0m\u001b[0m\n",
      "\u001b[1;31mAssertionError\u001b[0m: Ce nom de mois n'existe pas"
     ]
    }
   ],
   "source": [
    "def F_traduction(month_name: str) -> str:\n",
    "    \"\"\"\n",
    "    This function traduces a given month in French to its English translation\n",
    "    @param  month_name (str)\n",
    "    @return month (str)\n",
    "    @cond   month_name exists as a French Month name\n",
    "    \"\"\"\n",
    "    mois = ('Janvier','Février','Mars','Avril','Mai','Juin','Juillet','Août', 'Septembre', 'Octobre','Novembre','Décembre')\n",
    "\n",
    "    months = (\"January\",\"Februar\",\"March\",\"April\",\"Mai\",\"June\",\"July\",\"August\",\"September\",\"October\",\"November\",\"December\")\n",
    "\n",
    "    assert month_name in mois, \"Ce nom de mois n'existe pas\"\n",
    "    \n",
    "    index = mois.index(month_name)\n",
    "    return months[index]\n",
    "\n",
    "print(F_traduction('Janvier'))\n",
    "print(F_traduction('Décembre'))\n",
    "print(F_traduction('Janv'))\n"
   ]
  },
  {
   "cell_type": "markdown",
   "metadata": {
    "tags": []
   },
   "source": [
    "## [Home](0_Index.ipynb)🏠\n",
    "![licence.png](pics/licence.png) Licence Creative Commons Attribution - Partage dans les Mêmes Conditions 4.0 International"
   ]
  },
  {
   "cell_type": "code",
   "execution_count": null,
   "metadata": {},
   "outputs": [],
   "source": []
  },
  {
   "cell_type": "code",
   "execution_count": null,
   "metadata": {},
   "outputs": [],
   "source": []
  }
 ],
 "metadata": {
  "kernelspec": {
   "display_name": "Python 3",
   "language": "python",
   "name": "python3"
  },
  "language_info": {
   "codemirror_mode": {
    "name": "ipython",
    "version": 3
   },
   "file_extension": ".py",
   "mimetype": "text/x-python",
   "name": "python",
   "nbconvert_exporter": "python",
   "pygments_lexer": "ipython3",
   "version": "3.8.5"
  }
 },
 "nbformat": 4,
 "nbformat_minor": 5
}
