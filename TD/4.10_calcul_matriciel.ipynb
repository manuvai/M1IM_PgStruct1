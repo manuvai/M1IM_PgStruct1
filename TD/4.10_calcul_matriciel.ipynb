{
 "cells": [
  {
   "cell_type": "code",
   "execution_count": 35,
   "metadata": {},
   "outputs": [
    {
     "name": "stdout",
     "output_type": "stream",
     "text": [
      "None None None \n",
      "None None None \n",
      "\n",
      "matrice 1 :\n",
      "1    0    \n",
      "2    -1   \n",
      "\n",
      "matrice 2 :\n",
      "3    4    \n",
      "-2   -3   \n",
      "\n",
      "3    4    \n",
      "8    11   \n",
      "\n"
     ]
    }
   ],
   "source": [
    "def creer_matrice_vide(m: int, n: int) -> list:\n",
    "    matrice_result = []\n",
    "    for i in range(m):\n",
    "        matrice_result.append([])\n",
    "        for j in range(n):\n",
    "            matrice_result[i].append(None)\n",
    "    \n",
    "    return matrice_result\n",
    "\n",
    "def matrice_str(matrice: list) -> str:\n",
    "    res = \"\"\n",
    "    for line in matrice:\n",
    "        for row in line:\n",
    "            \n",
    "            res += \"{:5s}\".format(str(row))\n",
    "        res += \"\\n\"\n",
    "    return res\n",
    "\n",
    "def calcul_matriciel(matrice1: list, matrice2: list) -> list:\n",
    "    m = len(matrice1)\n",
    "    n = len(matrice2[0])\n",
    "    \n",
    "    assert len(matrice1[0]) == len(matrice2), \"Il faut donner des matrices cohérentes\"\n",
    "    matrice_result = creer_matrice_vide(m, n)\n",
    "    \n",
    "    for i in range(m):\n",
    "        for k in range(m):\n",
    "            res = 0\n",
    "            for j in range(n):\n",
    "                res += (matrice1[i][j] * matrice2[j][k])\n",
    "            matrice_result[i][k] = res\n",
    "    \n",
    "    return matrice_result\n",
    "\n",
    "def test():\n",
    "    print(matrice_str(creer_matrice_vide(2, 3)))\n",
    "    print(\"matrice 1 :\")\n",
    "    m1 = [[1, 0], \n",
    "          [2, -1]]\n",
    "    print(matrice_str(m1))\n",
    "    print(\"matrice 2 :\")\n",
    "    m2 = [[3, 4], \n",
    "          [-2, -3],]\n",
    "    print(matrice_str(m2))\n",
    "    \n",
    "    print(matrice_str(calcul_matriciel(m1, m2)))\n",
    "\n",
    "test();"
   ]
  }
 ],
 "metadata": {
  "kernelspec": {
   "display_name": "Python 3",
   "language": "python",
   "name": "python3"
  },
  "language_info": {
   "codemirror_mode": {
    "name": "ipython",
    "version": 3
   },
   "file_extension": ".py",
   "mimetype": "text/x-python",
   "name": "python",
   "nbconvert_exporter": "python",
   "pygments_lexer": "ipython3",
   "version": "3.8.5"
  }
 },
 "nbformat": 4,
 "nbformat_minor": 2
}
