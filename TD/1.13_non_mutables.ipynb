{
 "cells": [
  {
   "cell_type": "markdown",
   "id": "dc350928-8258-4bb5-a64e-95c4f62641da",
   "metadata": {},
   "source": [
    "# Types non mutables ⭐⭐"
   ]
  },
  {
   "cell_type": "markdown",
   "id": "931a4aac-5046-4c10-9166-ec5f3f948fd7",
   "metadata": {
    "nbgrader": {
     "grade": false,
     "grade_id": "cell-e8f0192bd90632dc",
     "locked": true,
     "schema_version": 3,
     "solution": false,
     "task": false
    },
    "tags": []
   },
   "source": [
    "<img src=\"https://i.ytimg.com/vi/KRLB6lo85yc/maxresdefault.jpg\" align=right width=400> \n",
    "\n",
    "### Tâche à réaliser 🎯 \n",
    "\n",
    "Tâtonner, expérimenter afin de comprendre ce qui signifie \"type non mutable\". Ecrire une synthèse de ce que vous avez appris.\n",
    "\n",
    "Certains types de `python`sont dits *non mutables*. Pour comprendre ce que cela signifie, nous allons utiliser la fonction `id`, qui permet d'indiquer l'adresse mémoire (la référence) vers laquelle pointe une variable.\n"
   ]
  },
  {
   "cell_type": "markdown",
   "id": "441922f5-2b55-466a-b7f2-6e29c3701469",
   "metadata": {},
   "source": [
    "### Expérience 1\n",
    "Ajoutez à ce code les instructions permettant d'afficher les références des trois variables `a, b, c`."
   ]
  },
  {
   "cell_type": "code",
   "execution_count": null,
   "id": "f2c449d9-35de-4c35-834f-d61af8307645",
   "metadata": {},
   "outputs": [],
   "source": [
    "a = 2\n",
    "b = 5\n",
    "c = 2"
   ]
  },
  {
   "cell_type": "markdown",
   "id": "71399879-36de-41f2-8d50-eb7b479e6e54",
   "metadata": {},
   "source": [
    "Que remarquez-vous ?\n",
    "\n",
    "Je remarque que..."
   ]
  },
  {
   "cell_type": "markdown",
   "id": "ef925aca-d5e2-46f8-865e-292f31f6df45",
   "metadata": {},
   "source": [
    "### Expérience 2\n",
    "Ajoutez à ce code :\n",
    " * une instruction permettant d'afficher le référence de la variables `a`\n",
    " * une instruction affectant une nouvelle valeur à la variable `a`\n",
    " * une instruction affichant à nouveau la référence de `a`"
   ]
  },
  {
   "cell_type": "code",
   "execution_count": null,
   "id": "c866a4bc-a9c6-474a-9677-ffae7ba87bfa",
   "metadata": {},
   "outputs": [],
   "source": [
    "a = 2\n"
   ]
  },
  {
   "cell_type": "markdown",
   "id": "f3bac29e-e8c7-43c5-88da-c3846e4232a4",
   "metadata": {},
   "source": [
    "Que remarquez-vous ? \n",
    "\n",
    "Je remarque que..."
   ]
  },
  {
   "cell_type": "markdown",
   "id": "b246589d-d09d-4799-9d44-895d8dfa77f8",
   "metadata": {},
   "source": [
    "### Mon hypothèse 💡\n",
    "Le type entier manipulé ici est dit *non mutable* car..."
   ]
  },
  {
   "cell_type": "markdown",
   "id": "399335ee-a9a2-40ec-a195-621fd44dbbaf",
   "metadata": {},
   "source": [
    "*Demandez à votre enseignant.e de valider ou d'infirmer votre hypothèse.*"
   ]
  },
  {
   "cell_type": "markdown",
   "id": "272402c5-a146-42ca-929d-b83ebfd3b597",
   "metadata": {
    "tags": []
   },
   "source": [
    "## [Home](0_Index.ipynb)🏠\n",
    "![licence.png](pics/licence.png) Licence Creative Commons Attribution - Partage dans les Mêmes Conditions 4.0 International"
   ]
  }
 ],
 "metadata": {
  "kernelspec": {
   "display_name": "Python 3 (ipykernel)",
   "language": "python",
   "name": "python3"
  },
  "language_info": {
   "codemirror_mode": {
    "name": "ipython",
    "version": 3
   },
   "file_extension": ".py",
   "mimetype": "text/x-python",
   "name": "python",
   "nbconvert_exporter": "python",
   "pygments_lexer": "ipython3",
   "version": "3.9.7"
  }
 },
 "nbformat": 4,
 "nbformat_minor": 5
}
