{
 "cells": [
  {
   "cell_type": "markdown",
   "id": "dc350928-8258-4bb5-a64e-95c4f62641da",
   "metadata": {},
   "source": [
    "# Table de multiplication 1 ⭐"
   ]
  },
  {
   "cell_type": "markdown",
   "id": "931a4aac-5046-4c10-9166-ec5f3f948fd7",
   "metadata": {
    "nbgrader": {
     "grade": false,
     "grade_id": "cell-e8f0192bd90632dc",
     "locked": true,
     "schema_version": 3,
     "solution": false,
     "task": false
    },
    "tags": []
   },
   "source": [
    "### Tâche à réaliser 🎯\n",
    "\n",
    "Écrire un programme qui va afficher la table de multiplication souhaitée par l’utilisateur.\n",
    "    \n",
    "### Entrée 🔠\n",
    "\n",
    "Base de la table, valeur de départ et valeur de fin de calcul\n",
    "    \n",
    "### Sortie 🖥️\n",
    "La table de multiplication \n",
    "    \n",
    "### Exemples 👀\n",
    "\n",
    "Entrée: base=2, deb=2, fin=6\n",
    "\n",
    "> Sortie: \n",
    "- 2 * 2 = 4\n",
    "- 2 * 3 = 6\n",
    "- 2 * 4 = 8\n",
    "- 2 * 5 = 10\n",
    "- 2 * 6 = 12"
   ]
  },
  {
   "cell_type": "markdown",
   "id": "345605d1-8696-4160-8b5e-394a66aa37ce",
   "metadata": {},
   "source": [
    "## Votre solution : "
   ]
  },
  {
   "cell_type": "code",
   "execution_count": 1,
   "id": "6a50f7fc-9a21-407a-a588-7882bd26badf",
   "metadata": {},
   "outputs": [
    {
     "name": "stdout",
     "output_type": "stream",
     "text": [
      "10 * 1 = 10\n",
      "10 * 2 = 20\n",
      "10 * 3 = 30\n",
      "10 * 4 = 40\n",
      "10 * 5 = 50\n"
     ]
    }
   ],
   "source": [
    "def tablMultiplication(base: int, start: int, end: int):\n",
    "    if start > end:\n",
    "        raise Exception(\"Une erreur est survenue, veuillez renseigner des valeurs pour les bornes d'exécution valides\")\n",
    "    \n",
    "    for i in range(start, end + 1):\n",
    "        print(\"{} * {} = {}\".format(base, i, base * i))\n",
    "\n",
    "base = int(input(\"Veuillez entrer la base : \"))\n",
    "start = int(input(\"Veuillez entrer la borne de début : \"))\n",
    "end = int(input(\"Veuillez entrer la borne de fin : \"))\n",
    "\n",
    "tablMultiplication(base, start, end)"
   ]
  },
  {
   "cell_type": "markdown",
   "id": "272402c5-a146-42ca-929d-b83ebfd3b597",
   "metadata": {
    "tags": []
   },
   "source": [
    "## [Home](0_Index.ipynb)🏠\n",
    "![licence.png](pics/licence.png) Licence Creative Commons Attribution - Partage dans les Mêmes Conditions 4.0 International"
   ]
  }
 ],
 "metadata": {
  "kernelspec": {
   "display_name": "Python 3.10.6 64-bit",
   "language": "python",
   "name": "python3"
  },
  "language_info": {
   "codemirror_mode": {
    "name": "ipython",
    "version": 3
   },
   "file_extension": ".py",
   "mimetype": "text/x-python",
   "name": "python",
   "nbconvert_exporter": "python",
   "pygments_lexer": "ipython3",
   "version": "3.10.6"
  },
  "vscode": {
   "interpreter": {
    "hash": "4fb435cb9a1efeb2f38d3dce1339521a1fba953090a1346d7eedb3261b9f21ce"
   }
  }
 },
 "nbformat": 4,
 "nbformat_minor": 5
}
