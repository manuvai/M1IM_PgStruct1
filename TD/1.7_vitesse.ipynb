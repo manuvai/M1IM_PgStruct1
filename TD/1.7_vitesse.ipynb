{
 "cells": [
  {
   "cell_type": "markdown",
   "metadata": {},
   "source": [
    "# Vitesse ⭐"
   ]
  },
  {
   "cell_type": "markdown",
   "metadata": {
    "nbgrader": {
     "grade": false,
     "grade_id": "cell-e8f0192bd90632dc",
     "locked": true,
     "schema_version": 3,
     "solution": false,
     "task": false
    },
    "tags": []
   },
   "source": [
    "### Tâche à réaliser 🎯\n",
    "\n",
    "Ecrire un algorithme qui va afficher la distance parcourue (km) par rapport à une vitesse (km/h) et un temps (h) donnés. La distance doit être arrondie à un chiffre après la virgule.\n",
    "\n",
    "    \n",
    "### Entrée 🔠\n",
    "\n",
    "Vitesse, temps\n",
    "    \n",
    "### Sortie 🖥️\n",
    "Distance\n",
    "    \n",
    "### Exemples 👀\n",
    "\n",
    "Entrée: vitesse=50, temps=1.5\n",
    "\n",
    "> Sortie: La distance est de  75.0 km\n",
    "    \n",
    "Entrée: vitesse=47, temps=3.66\n",
    "\n",
    "> Sortie: La distance est de  172.0 km\n"
   ]
  },
  {
   "cell_type": "markdown",
   "metadata": {},
   "source": [
    "## Votre solution : "
   ]
  },
  {
   "cell_type": "code",
   "execution_count": 5,
   "metadata": {},
   "outputs": [
    {
     "name": "stdout",
     "output_type": "stream",
     "text": [
      "La distance est de 75.0 km\n",
      "La distance est de 172.0 km\n",
      "La distance est de 12.0 km\n"
     ]
    }
   ],
   "source": [
    "def distance_parcourue(vitesse: int, temps: int):\n",
    "    return vitesse * temps\n",
    "\n",
    "vitesse = 50\n",
    "temps = 1.5\n",
    "print(\"La distance est de {:.1f} km\".format(distance_parcourue(vitesse, temps)))\n",
    "\n",
    "vitesse = 47\n",
    "temps = 3.66\n",
    "print(\"La distance est de {:.1f} km\".format(distance_parcourue(vitesse, temps)))\n",
    "\n",
    "vitesse = float(input(\"Veuillez entrer la vitesse : \"))\n",
    "temps = float(input(\"Veuillez entrer le temps : \"))\n",
    "print(\"La distance est de {:.1f} km\".format(distance_parcourue(vitesse, temps)))"
   ]
  },
  {
   "cell_type": "markdown",
   "metadata": {
    "tags": []
   },
   "source": [
    "## [Home](0_Index.ipynb)🏠\n",
    "![licence.png](pics/licence.png) Licence Creative Commons Attribution - Partage dans les Mêmes Conditions 4.0 International"
   ]
  }
 ],
 "metadata": {
  "kernelspec": {
   "display_name": "Python 3",
   "language": "python",
   "name": "python3"
  },
  "language_info": {
   "codemirror_mode": {
    "name": "ipython",
    "version": 3
   },
   "file_extension": ".py",
   "mimetype": "text/x-python",
   "name": "python",
   "nbconvert_exporter": "python",
   "pygments_lexer": "ipython3",
   "version": "3.8.5"
  },
  "vscode": {
   "interpreter": {
    "hash": "4fb435cb9a1efeb2f38d3dce1339521a1fba953090a1346d7eedb3261b9f21ce"
   }
  }
 },
 "nbformat": 4,
 "nbformat_minor": 5
}
