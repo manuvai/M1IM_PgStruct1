{
 "cells": [
  {
   "cell_type": "markdown",
   "id": "dc350928-8258-4bb5-a64e-95c4f62641da",
   "metadata": {
    "tags": []
   },
   "source": [
    "# Facturation des photocopies ⭐"
   ]
  },
  {
   "cell_type": "markdown",
   "id": "931a4aac-5046-4c10-9166-ec5f3f948fd7",
   "metadata": {
    "nbgrader": {
     "grade": false,
     "grade_id": "cell-e8f0192bd90632dc",
     "locked": true,
     "schema_version": 3,
     "solution": false,
     "task": false
    },
    "tags": []
   },
   "source": [
    "### Tâche à réaliser 🎯\n",
    "\n",
    "L'objectif de ce travail est de spécifier des algorithmes qui implémentent le calcul du prix d’un tirage de photocopies de même format et de même qualité. Le principe de ce calcul est le suivant.\n",
    "Le prix d'une photocopie est de $0,03$ Euros. Il correspond au prix d'une photocopie en qualité Normale et format $A4$. Ce prix est majoré de $4\\%$ pour une photocopie de format $A3$. Une réduction de $0.20$ s'applique pour chaque centaine de copies commandées. \n",
    "    \n",
    "### Entrée 🔠\n",
    "\n",
    "Le nombre de photocopies $A4$ et le nombre de photocopies $A3$.\n",
    "    \n",
    "### Sortie 🖥️\n",
    "Le nombre de copies A4 et A3, le prix de l'impression de chaque copie, le montant de la reduction, et le prix total facturé au client.\n",
    "    \n",
    "### Exemples 👀\n",
    "\n",
    "Entrée: A4 = 32, A3= 32 \n",
    "\n",
    "> Sortie:  Nombre A4=32, Nombre A3=32,prix A4=0.96€,prix A3=0.9984€,reduction=0.0€,total=1.9584€\n",
    "    \n",
    "Entrée: A4 = 1424, A3= 212 \n",
    "\n",
    "> Sortie: Nombre A4=1424, Nombre A3=212,prix A4=42.72€,prix A3=6.6144€,reduction=3.2€,total=46.1344€"
   ]
  },
  {
   "cell_type": "markdown",
   "id": "345605d1-8696-4160-8b5e-394a66aa37ce",
   "metadata": {},
   "source": [
    "## Votre solution : "
   ]
  },
  {
   "cell_type": "code",
   "execution_count": 7,
   "id": "6a50f7fc-9a21-407a-a588-7882bd26badf",
   "metadata": {},
   "outputs": [
    {
     "name": "stdout",
     "output_type": "stream",
     "text": [
      "Sortie: Nombre A4=32, Nombre A3=32,prix A4=0.96€,prix A3=0.9984€,reduction=0.0€,total=1.9584€\n",
      "Sortie: Nombre A4=1424, Nombre A3=212,prix A4=42.72€,prix A3=6.6144€,reduction=3.2€,total=46.1344€\n",
      "Sortie: Nombre A4=0, Nombre A3=0,prix A4=0.0€,prix A3=0.0€,reduction=0.0€,total=0.0€\n"
     ]
    }
   ],
   "source": [
    "\"\"\"\n",
    "@author manuvai.rehua@ut-capitole.fr\n",
    "\"\"\"\n",
    "\n",
    "PRIX_PHOTOCOPIE_A4 = 0.03\n",
    "PRIX_PHOTOCOPIE_A3 = PRIX_PHOTOCOPIE_A4 * 1.04\n",
    "REDUCTION_PAR_CENTAINE = 0.2\n",
    "\n",
    "def facturation_photocopies(nombre_a4, nombre_a3):\n",
    "    cout_a4 = nombre_a4 * PRIX_PHOTOCOPIE_A4\n",
    "    cout_a3 = nombre_a3 * PRIX_PHOTOCOPIE_A3\n",
    "    reduction = ((nombre_a3 + nombre_a4) // 100) * REDUCTION_PAR_CENTAINE\n",
    "    total = cout_a3 + cout_a4 - reduction\n",
    "    print(\"Sortie: Nombre A4={}, Nombre A3={},prix A4={}€,prix A3={}€,reduction={}€,total={}€\".format(nombre_a4, nombre_a3, cout_a4, cout_a3, reduction, total))\n",
    "\n",
    "facturation_photocopies(32, 32)\n",
    "facturation_photocopies(1424, 212)\n",
    "# Saisie utilisateur\n",
    "\n",
    "nombre_a4 = int(input(\"Veuillez saisir le nombre de photocopies A4 : \"))\n",
    "nombre_a3 = int(input(\"Veuillez saisir le nombre de photocopies A3 : \"))\n",
    "\n",
    "facturation_photocopies(nombre_a4, nombre_a4)\n",
    "\n"
   ]
  },
  {
   "cell_type": "markdown",
   "id": "272402c5-a146-42ca-929d-b83ebfd3b597",
   "metadata": {
    "tags": []
   },
   "source": [
    "## [Home](0_Index.ipynb)🏠\n",
    "![licence.png](pics/licence.png) Licence Creative Commons Attribution - Partage dans les Mêmes Conditions 4.0 International"
   ]
  }
 ],
 "metadata": {
  "kernelspec": {
   "display_name": "Python 3.10.6 64-bit",
   "language": "python",
   "name": "python3"
  },
  "language_info": {
   "codemirror_mode": {
    "name": "ipython",
    "version": 3
   },
   "file_extension": ".py",
   "mimetype": "text/x-python",
   "name": "python",
   "nbconvert_exporter": "python",
   "pygments_lexer": "ipython3",
   "version": "3.10.6"
  },
  "vscode": {
   "interpreter": {
    "hash": "4fb435cb9a1efeb2f38d3dce1339521a1fba953090a1346d7eedb3261b9f21ce"
   }
  }
 },
 "nbformat": 4,
 "nbformat_minor": 5
}
