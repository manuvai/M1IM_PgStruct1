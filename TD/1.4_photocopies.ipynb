{
 "cells": [
  {
   "cell_type": "markdown",
   "id": "dc350928-8258-4bb5-a64e-95c4f62641da",
   "metadata": {},
   "source": [
    "# Facturation des photocopies ⭐"
   ]
  },
  {
   "cell_type": "markdown",
   "id": "931a4aac-5046-4c10-9166-ec5f3f948fd7",
   "metadata": {
    "nbgrader": {
     "grade": false,
     "grade_id": "cell-e8f0192bd90632dc",
     "locked": true,
     "schema_version": 3,
     "solution": false,
     "task": false
    },
    "tags": []
   },
   "source": [
    "### Tâche à réaliser 🎯\n",
    "\n",
    "L'objectif de ce travail est de spécifier des algorithmes qui implémentent le calcul du prix d’un tirage de photocopies de même format et de même qualité. Le principe de ce calcul est le suivant.\n",
    "Le prix d'une photocopie est de $0,03$ Euros. Il correspond au prix d'une photocopie en qualité Normale et format $A4$. Ce prix est majoré de $4\\%$ pour une photocopie de format $A3$. Une réduction de $0.20$ s'applique pour chaque centainne de copies commandées. \n",
    "    \n",
    "### Entrée 🔠\n",
    "\n",
    "Le nombre de photocopies $A4$ et le nombre de photocopies $A5$.\n",
    "    \n",
    "### Sortie 🖥️\n",
    "Le nombre de copies A4 et A3, le prix de l'impression de chaque copie, le montant de la reduction, et le prix total facturé au client.\n",
    "    \n",
    "### Exemples 👀\n",
    "\n",
    "Entrée: \n",
    "\n",
    "> A4 = 32, A3= 32 \n",
    "\n",
    "Sortie: \n",
    "\n",
    ">  Nombre A4=32, Nombre A3=32,prix A4=0.96€,prix A3=0.9984€,reduction=0.0€,total=1.9584€\n",
    "    \n",
    "Entrée: \n",
    "> A4 = 1424, A3= 212 \n",
    "\n",
    "Sortie: \n",
    "> Nombre A4=1424, Nombre A3=212,prix A4=42.72€,prix A3=6.6144€,reduction=3.2€,total=52.534400000000005€"
   ]
  },
  {
   "cell_type": "markdown",
   "id": "345605d1-8696-4160-8b5e-394a66aa37ce",
   "metadata": {},
   "source": [
    "## Votre solution : "
   ]
  },
  {
   "cell_type": "code",
   "execution_count": null,
   "id": "6a50f7fc-9a21-407a-a588-7882bd26badf",
   "metadata": {},
   "outputs": [],
   "source": []
  },
  {
   "cell_type": "markdown",
   "id": "272402c5-a146-42ca-929d-b83ebfd3b597",
   "metadata": {
    "tags": []
   },
   "source": [
    "## [Home](0_Index.ipynb)🏠\n",
    "![licence.png](pics/licence.png) Licence Creative Commons Attribution - Partage dans les Mêmes Conditions 4.0 International"
   ]
  }
 ],
 "metadata": {
  "kernelspec": {
   "display_name": "Python 3 (ipykernel)",
   "language": "python",
   "name": "python3"
  },
  "language_info": {
   "codemirror_mode": {
    "name": "ipython",
    "version": 3
   },
   "file_extension": ".py",
   "mimetype": "text/x-python",
   "name": "python",
   "nbconvert_exporter": "python",
   "pygments_lexer": "ipython3",
   "version": "3.9.7"
  }
 },
 "nbformat": 4,
 "nbformat_minor": 5
}
