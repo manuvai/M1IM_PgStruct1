{
 "cells": [
  {
   "cell_type": "markdown",
   "metadata": {},
   "source": [
    "# On loue tout ⭐⭐"
   ]
  },
  {
   "cell_type": "markdown",
   "metadata": {
    "nbgrader": {
     "grade": false,
     "grade_id": "cell-e8f0192bd90632dc",
     "locked": true,
     "schema_version": 3,
     "solution": false,
     "task": false
    },
    "tags": []
   },
   "source": [
    "## Tâche à réaliser 🎯\n",
    "\n",
    "La société OnLoueTout souhaite concevoir un nouveau logiciel pour gérer les réservations de ses machines. \n",
    "\n",
    "La société dispose de plusieurs matériels à louer en quantités limités :\n",
    "* Scie électrique\t32\n",
    "* Grue\t4\n",
    "* Pelles\t24\n",
    "* Camion\t1\n",
    "\n",
    "Elle souhaite pourvoir à tout moment disposer du nombre de machines en cours de location, du nombre total de machine, et du nombre de machines restantes. On ne s’intéresse pas ici aux dates de réservation, uniquement à la gestion des stock empruntés et restant.\n",
    "\n",
    "La société souhaite aussi pouvoir connaitre les matériels les plus empruntés ainsi que ceux les moins empruntés.\n",
    "\n",
    "Vous devez modéliser ce problème :\n",
    "*\tprévoir les structures de données nécessaires (celles ci ne seront pas saisies dans le programme mais remplies au lancement du programme)\n",
    "*\tprévoir les différents traitements nécessaires (pensez au découpage en fonctions). Il faudra notamment des fonctions pour construire le stock initial, afficher l’état du stock, et réserver des matériels.\n",
    "*\tprévoir les jeux d'essais\n",
    "*\tprogrammer l'ensemble"
   ]
  },
  {
   "cell_type": "markdown",
   "metadata": {},
   "source": [
    "### Votre solution : "
   ]
  },
  {
   "cell_type": "code",
   "execution_count": null,
   "metadata": {},
   "outputs": [],
   "source": []
  },
  {
   "cell_type": "markdown",
   "metadata": {
    "tags": []
   },
   "source": [
    "## [Home](0_Index.ipynb)🏠\n",
    "![licence.png](pics/licence.png) Licence Creative Commons Attribution - Partage dans les Mêmes Conditions 4.0 International"
   ]
  }
 ],
 "metadata": {
  "kernelspec": {
   "display_name": "Python 3 (ipykernel)",
   "language": "python",
   "name": "python3"
  },
  "language_info": {
   "codemirror_mode": {
    "name": "ipython",
    "version": 3
   },
   "file_extension": ".py",
   "mimetype": "text/x-python",
   "name": "python",
   "nbconvert_exporter": "python",
   "pygments_lexer": "ipython3",
   "version": "3.9.7"
  }
 },
 "nbformat": 4,
 "nbformat_minor": 2
}
