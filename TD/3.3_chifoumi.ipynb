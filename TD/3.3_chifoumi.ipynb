{
 "cells": [
  {
   "cell_type": "markdown",
   "metadata": {
    "tags": []
   },
   "source": [
    "# Chifoumi ⭐⭐"
   ]
  },
  {
   "cell_type": "markdown",
   "metadata": {
    "nbgrader": {
     "grade": false,
     "grade_id": "cell-e8f0192bd90632dc",
     "locked": true,
     "schema_version": 3,
     "solution": false,
     "task": false
    },
    "tags": []
   },
   "source": [
    "### Tâche à réaliser 🎯\n",
    "Ecrire un programme qui joue à pierre-feuille-ciseau. Les règles sont :\n",
    "- La pierre écrase les ciseaux et gagne.\n",
    "- La feuille enveloppe la pierre et gagne.\n",
    "- Les ciseaux découpent la feuille et gagnent.\n",
    "\n",
    "Pour cela écrire une première fonction `F_gagnant` qui prend le choix de deux joueurs en paramètres et retourne \n",
    "- 1 si le joueur 1 gagne\n",
    "- 2 si le joueur 1 gagne\n",
    "- 0 si égalité\n",
    "\n",
    "### Entrée 🔠\n",
    "choix joueur 1 et choix joueur 2 (P ou F ou C)\n",
    "    \n",
    "### Sortie 🖥️\n",
    "le résultat d'un match soit 0,1 ou 2\n",
    "    \n",
    "### Exemples 👀\n",
    "\n",
    "Appel: `F_gagnant('P','C')`\n",
    "\n",
    "> Sortie : `1`\n",
    "\n",
    "Appel: `F_gagnant('F','C')`\n",
    "\n",
    "> Sortie : `2`\n",
    "\n",
    "Appel: `F_gagnant('P','P')`\n",
    "\n",
    "> Sortie : `0`\n",
    "\n",
    "Appel: `F_gagnant('P','G')`\n",
    "\n",
    "> Sortie : `AssertionError: joueur 2 : ce signe n'existe pas`"
   ]
  },
  {
   "cell_type": "markdown",
   "metadata": {},
   "source": [
    "## Votre solution : "
   ]
  },
  {
   "cell_type": "code",
   "execution_count": 4,
   "id": "b903336e",
   "metadata": {},
   "outputs": [
    {
     "data": {
      "text/plain": [
       "2"
      ]
     },
     "execution_count": 4,
     "metadata": {},
     "output_type": "execute_result"
    }
   ],
   "source": [
    "def F_gagnant(player1: str, player2: str):\n",
    "    if (player1 not in ['P', 'F', 'C']):\n",
    "        raise AssertionError(\"Joueur 1 : ce signe n'existe pas\")\n",
    "    if (player2 not in ['P', 'F', 'C']):\n",
    "        raise AssertionError(\"Joueur 2 : ce signe n'existe pas\")\n",
    "    \n",
    "    if (player1 == player2):\n",
    "        return 0\n",
    "    if (player1 == 'P'):\n",
    "        if (player2 == 'F'):\n",
    "            return 2\n",
    "        if (player2 == 'C'):\n",
    "            return 1\n",
    "    if (player1 == 'F'):\n",
    "        if (player2 == 'P'):\n",
    "            return 1\n",
    "        if (player2 == 'C'):\n",
    "            return 2\n",
    "    if (player1 == 'C'):\n",
    "        if (player2 == 'P'):\n",
    "            return 2\n",
    "        if (player2 == 'F'):\n",
    "            return 1\n",
    "    \n",
    "F_gagnant('F', 'C')\n",
    "    "
   ]
  },
  {
   "cell_type": "markdown",
   "id": "358a5cba",
   "metadata": {
    "nbgrader": {
     "grade": false,
     "grade_id": "cell-e8f0192bd90632dc",
     "locked": true,
     "schema_version": 3,
     "solution": false,
     "task": false
    },
    "tags": []
   },
   "source": [
    "### Tâche à réaliser 🎯\n",
    "\n",
    "Ecrire la fonction `F_choix` qui tire les choix d'un joueur au hasard.\n",
    "  \n",
    "### Entrée 🔠\n",
    "Aucune\n",
    "    \n",
    "### Sortie 🖥️\n",
    "'P' ou 'C' ou 'F'\n",
    "\n",
    "### Exemples 👀\n",
    "\n",
    "Appel: `F_choix()`\n",
    "\n",
    "> Sortie : effectuer plusieurs tests pour vérifier que vous obtenez bien les 3 choix\n",
    "    "
   ]
  },
  {
   "cell_type": "code",
   "execution_count": 5,
   "id": "53467eb4",
   "metadata": {},
   "outputs": [
    {
     "name": "stdout",
     "output_type": "stream",
     "text": [
      "C\n",
      "P\n",
      "C\n",
      "C\n",
      "F\n",
      "C\n",
      "F\n",
      "P\n",
      "P\n",
      "P\n",
      "C\n",
      "F\n",
      "C\n",
      "F\n",
      "F\n",
      "F\n",
      "F\n",
      "P\n",
      "P\n",
      "P\n",
      "C\n",
      "F\n",
      "C\n",
      "P\n",
      "P\n",
      "F\n",
      "F\n",
      "C\n",
      "P\n",
      "C\n",
      "P\n",
      "P\n",
      "C\n",
      "F\n",
      "F\n",
      "P\n",
      "C\n",
      "P\n",
      "F\n",
      "P\n",
      "P\n",
      "C\n",
      "P\n",
      "P\n",
      "C\n",
      "P\n",
      "F\n",
      "P\n",
      "C\n",
      "F\n",
      "F\n",
      "P\n",
      "P\n",
      "F\n",
      "P\n",
      "C\n",
      "P\n",
      "P\n",
      "F\n",
      "P\n"
     ]
    }
   ],
   "source": [
    "import random\n",
    "\n",
    "def F_choix() -> str:\n",
    "    choices = ['P', 'C', 'F']\n",
    "    i = random.randint(0, 2)\n",
    "    return choices[i]\n",
    "\n",
    "for i in range(60):\n",
    "    print(F_choix())"
   ]
  },
  {
   "cell_type": "markdown",
   "id": "0974da45",
   "metadata": {
    "nbgrader": {
     "grade": false,
     "grade_id": "cell-e8f0192bd90632dc",
     "locked": true,
     "schema_version": 3,
     "solution": false,
     "task": false
    },
    "tags": []
   },
   "source": [
    "### Tâche à réaliser 🎯\n",
    "\n",
    "En utilisant les deux fonctions précédentes, écrire un programme qui va lancer 5 parties de chifoumi successives. \n",
    "  \n",
    "### Entrée 🔠\n",
    "Aucune\n",
    "    \n",
    "### Sortie 🖥️\n",
    " * Les choix de chaque tour et le gagnant du tour\n",
    " * Le score total de chaque joueur et le gagnant.\n",
    "    "
   ]
  },
  {
   "cell_type": "code",
   "execution_count": 8,
   "id": "d7b55a68",
   "metadata": {},
   "outputs": [
    {
     "name": "stdout",
     "output_type": "stream",
     "text": [
      "Partie 1 : (p1 vs p2) -> (P, P) | Résultat : 0\n",
      "Partie 2 : (p1 vs p2) -> (F, P) | Résultat : 1\n",
      "Partie 3 : (p1 vs p2) -> (F, P) | Résultat : 1\n",
      "Partie 4 : (p1 vs p2) -> (C, C) | Résultat : 0\n",
      "Partie 5 : (p1 vs p2) -> (C, P) | Résultat : 2\n"
     ]
    }
   ],
   "source": [
    "NUMBER_TURNS = 5\n",
    "\n",
    "for i in range(NUMBER_TURNS):\n",
    "    player1 = F_choix()\n",
    "    player2 = F_choix()\n",
    "    res = F_gagnant(player1, player2)\n",
    "    print(\"Partie {} : (p1 vs p2) -> ({}, {}) | Résultat : {}\".format((i + 1), player1, player2, res))\n"
   ]
  },
  {
   "cell_type": "markdown",
   "id": "cee69323",
   "metadata": {
    "tags": []
   },
   "source": [
    "## [Home](0_Index.ipynb)🏠\n",
    "![licence.png](pics/licence.png) Licence Creative Commons Attribution - Partage dans les Mêmes Conditions 4.0 International"
   ]
  },
  {
   "cell_type": "code",
   "execution_count": null,
   "id": "ae78b2fa",
   "metadata": {},
   "outputs": [],
   "source": []
  }
 ],
 "metadata": {
  "kernelspec": {
   "display_name": "Python 3.10.6 64-bit",
   "language": "python",
   "name": "python3"
  },
  "language_info": {
   "codemirror_mode": {
    "name": "ipython",
    "version": 3
   },
   "file_extension": ".py",
   "mimetype": "text/x-python",
   "name": "python",
   "nbconvert_exporter": "python",
   "pygments_lexer": "ipython3",
   "version": "3.10.6"
  },
  "vscode": {
   "interpreter": {
    "hash": "4fb435cb9a1efeb2f38d3dce1339521a1fba953090a1346d7eedb3261b9f21ce"
   }
  }
 },
 "nbformat": 4,
 "nbformat_minor": 5
}
