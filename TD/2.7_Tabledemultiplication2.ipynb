{
 "cells": [
  {
   "cell_type": "markdown",
   "id": "dc350928-8258-4bb5-a64e-95c4f62641da",
   "metadata": {},
   "source": [
    "# Table de multiplication 2 ⭐"
   ]
  },
  {
   "cell_type": "markdown",
   "id": "931a4aac-5046-4c10-9166-ec5f3f948fd7",
   "metadata": {
    "nbgrader": {
     "grade": false,
     "grade_id": "cell-e8f0192bd90632dc",
     "locked": true,
     "schema_version": 3,
     "solution": false,
     "task": false
    },
    "tags": []
   },
   "source": [
    "### Tâche à réaliser 🎯\n",
    "\n",
    "Écrire un programme qui va afficher la table de multiplication souhaitée par l’utilisateur. La valeur de départ de calcul est 0 et le calcul sur la valeur suivante est fait si l'utilisteur répond oui à la question \"Voulez vous continuer (oui/non) ?\".\n",
    "    \n",
    "### Entrée 🔠\n",
    "\n",
    "Base de la table, réponse de l'utilisateur\n",
    "    \n",
    "### Sortie 🖥️\n",
    "La table de multiplication \n",
    "    \n",
    "### Exemples 👀\n",
    "\n",
    "Entrée: base=2 ; l'utilisateur répond Oui 3 fois à la question puis non\n",
    "\n",
    "> Sortie: \n",
    "- 2 * 0 = 0\n",
    "- 2 * 1 = 2\n",
    "- 2 * 2 = 4\n",
    "- 2 * 3 = 6\n"
   ]
  },
  {
   "cell_type": "markdown",
   "id": "345605d1-8696-4160-8b5e-394a66aa37ce",
   "metadata": {},
   "source": [
    "## Votre solution : "
   ]
  },
  {
   "cell_type": "code",
   "execution_count": 4,
   "id": "6a50f7fc-9a21-407a-a588-7882bd26badf",
   "metadata": {},
   "outputs": [
    {
     "name": "stdout",
     "output_type": "stream",
     "text": [
      "15 * 0 = 0\n",
      "15 * 1 = 15\n"
     ]
    }
   ],
   "source": [
    "base = int(input(\"Veuillez entrer la base du calcul : \"))\n",
    "i = 0\n",
    "print(\"{} * {} = {}\".format(base, i, base * i))\n",
    "i+= 1\n",
    "\n",
    "while (input(\"Voulez-vous continuer ? (oui/non)\") == 'oui'):\n",
    "    print(\"{} * {} = {}\".format(base, i, base * i))\n",
    "    i+= 1\n",
    "\n",
    "\n"
   ]
  },
  {
   "cell_type": "markdown",
   "id": "272402c5-a146-42ca-929d-b83ebfd3b597",
   "metadata": {
    "tags": []
   },
   "source": [
    "## [Home](0_Index.ipynb)🏠\n",
    "![licence.png](pics/licence.png) Licence Creative Commons Attribution - Partage dans les Mêmes Conditions 4.0 International"
   ]
  }
 ],
 "metadata": {
  "kernelspec": {
   "display_name": "Python 3.10.6 64-bit",
   "language": "python",
   "name": "python3"
  },
  "language_info": {
   "codemirror_mode": {
    "name": "ipython",
    "version": 3
   },
   "file_extension": ".py",
   "mimetype": "text/x-python",
   "name": "python",
   "nbconvert_exporter": "python",
   "pygments_lexer": "ipython3",
   "version": "3.10.6"
  },
  "vscode": {
   "interpreter": {
    "hash": "4fb435cb9a1efeb2f38d3dce1339521a1fba953090a1346d7eedb3261b9f21ce"
   }
  }
 },
 "nbformat": 4,
 "nbformat_minor": 5
}
