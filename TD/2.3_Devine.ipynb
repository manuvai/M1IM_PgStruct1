{
 "cells": [
  {
   "cell_type": "markdown",
   "id": "dc350928-8258-4bb5-a64e-95c4f62641da",
   "metadata": {},
   "source": [
    "# Devine le nombre ⭐"
   ]
  },
  {
   "cell_type": "markdown",
   "id": "931a4aac-5046-4c10-9166-ec5f3f948fd7",
   "metadata": {
    "nbgrader": {
     "grade": false,
     "grade_id": "cell-e8f0192bd90632dc",
     "locked": true,
     "schema_version": 3,
     "solution": false,
     "task": false
    },
    "tags": []
   },
   "source": [
    "### Tâche à réaliser 🎯\n",
    "\n",
    "Ecrire un programme qui fait deviner un nombre aléatoire entre 0 et 100. A chaque proposition du joueur, le programme indique si le nombre à deviner est plus grand ou plus petit. En fin de jeu, le programme indique le nombre de tours utilisé par le joueur pour trouver le nombre.\n",
    "Vous allez devoir utiliser la fonction randint du module random. \n",
    "    \n",
    "### Entrée 🔠\n",
    "le nombre à deviner, un ou plusieurs nombres saisis\n",
    "    \n",
    "### Sortie 🖥️\n",
    "les messages adaptés aux nombres saisis \n",
    "    \n",
    "### Exemples 👀\n",
    "\n",
    "Entrée: nombre tiré aléatoirement donne 32 puis nombre saisi  50\n",
    "> Sortie: Le nombre à deviner est plus petit\n",
    "\n",
    "Nombre saisi  25\n",
    "> Sortie: Le nombre à deviner est plus grand\n",
    "\n",
    "Nombre saisi  30\n",
    "> Sortie: Le nombre à deviner est plus grand\n",
    "\n",
    "Nombre saisi  35\n",
    "> Sortie: Le nombre à deviner est plus petit\n",
    "\n",
    "Nombre saisi  32\n",
    "> Sortie: Bravo ! vous avez deviné en 5 tours\n"
   ]
  },
  {
   "cell_type": "markdown",
   "id": "345605d1-8696-4160-8b5e-394a66aa37ce",
   "metadata": {},
   "source": [
    "## Votre solution : "
   ]
  },
  {
   "cell_type": "code",
   "execution_count": null,
   "id": "6a50f7fc-9a21-407a-a588-7882bd26badf",
   "metadata": {},
   "outputs": [],
   "source": []
  },
  {
   "cell_type": "markdown",
   "id": "272402c5-a146-42ca-929d-b83ebfd3b597",
   "metadata": {
    "tags": []
   },
   "source": [
    "## [Home](0_Index.ipynb)🏠\n",
    "![licence.png](pics/licence.png) Licence Creative Commons Attribution - Partage dans les Mêmes Conditions 4.0 International"
   ]
  }
 ],
 "metadata": {
  "kernelspec": {
   "display_name": "Python 3 (ipykernel)",
   "language": "python",
   "name": "python3"
  },
  "language_info": {
   "codemirror_mode": {
    "name": "ipython",
    "version": 3
   },
   "file_extension": ".py",
   "mimetype": "text/x-python",
   "name": "python",
   "nbconvert_exporter": "python",
   "pygments_lexer": "ipython3",
   "version": "3.9.12"
  }
 },
 "nbformat": 4,
 "nbformat_minor": 5
}
