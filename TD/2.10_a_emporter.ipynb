{
 "cells": [
  {
   "cell_type": "markdown",
   "metadata": {},
   "source": [
    "# A emporter s'il vous plait ⭐"
   ]
  },
  {
   "cell_type": "markdown",
   "metadata": {
    "nbgrader": {
     "grade": false,
     "grade_id": "cell-e8f0192bd90632dc",
     "locked": true,
     "schema_version": 3,
     "solution": false,
     "task": false
    },
    "tags": []
   },
   "source": [
    "### Tâche à réaliser 🎯\n",
    "\n",
    "Au fast-food de Chip, le menu est très simple. Chaque aliment est sélectionné en entrant un choix de chiffres.\n",
    "\n",
    "Voici les trois choix de hamburgers :\n",
    "> 1 - Cheeseburger (461 Calories)\n",
    "> 2 - Fish Burger (431 Calories)\n",
    "> 3 - Veggie Burger (420 Calories)\n",
    "> 4 - pas de burger\t\n",
    "\n",
    "Voici les trois choix de boissons :\n",
    "> 1 - Boisson gazeuse (130 Calories)\n",
    "> 2 - Jus d'orange (160 Calories)\n",
    "> 3 - Lait (118 Calories)\n",
    "> 4 - pas de boisson\n",
    "\n",
    "Voici les trois choix d'accompagnements :\n",
    "> 1 - Frites (100 Calories)\n",
    "> 2 - Pommes de terre au four (57 Calories)\n",
    "> 3 - Salade du chef (70 Calories)\n",
    "> 4 - pas de commande d'accompagnement\t\n",
    "\n",
    "Voici les trois choix de desserts :\n",
    "> 1 - Tarte aux pommes (167 Calories)\n",
    "> 2 - Sundae (266 Calories)\n",
    "> 3 - Coupe de fruits (75 Calories)\n",
    "> 4 - pas de dessert\n",
    "\n",
    "Écrivez un programme qui calculera le nombre total de calories d'un repas.\n",
    "\n",
    "### Entrée 🔠\n",
    "\n",
    "Le programme doit entrer un nombre pour chaque type d'article, puis calculer et afficher le total des calories. La première ligne sera le choix du client pour le hamburger, la deuxième sera le choix de l'accompagnement, puis la boisson, puis le dessert. Vous pouvez supposer que chaque entrée sera un nombre de 1 à 4, c'est-à-dire que chaque client doit choisir exactement un nombre parmi les quatre options de chacune des quatre catégories.\n",
    "    \n",
    "### Sortie 🖥️\n",
    "Le programme imprime le nombre total de calories du repas sélectionné et arrête de s'exécuter après cette sortie.\n",
    "    \n",
    "### Exemples 👀\n",
    "\n",
    "Entrée: 2, 1 3, 4\n",
    "\n",
    "> Sortie: Vous allez consommer 649 calories"
   ]
  },
  {
   "cell_type": "markdown",
   "metadata": {},
   "source": [
    "## Votre solution : "
   ]
  },
  {
   "cell_type": "code",
   "execution_count": 1,
   "metadata": {},
   "outputs": [
    {
     "name": "stdout",
     "output_type": "stream",
     "text": [
      "Vous allez consommer 631 calories\n"
     ]
    }
   ],
   "source": [
    "total = 0\n",
    "\n",
    "burgers = [461, 431, 420, 0]\n",
    "buverages = [130, 160, 118, 0]\n",
    "sides = [100, 57, 70, 0]\n",
    "desserts = [167, 266, 75, 0]\n",
    "\n",
    "burger_choice = int(input(\"Quel numéro de burger voulez vous ? \"))\n",
    "buverage_choice = int(input(\"Quel numéro de boisson voulez vous ? \"))\n",
    "side_choice = int(input(\"Quel numéro d'accompagnement voulez vous ? \"))\n",
    "dessert_choice = int(input(\"Quel numéro de dessert voulez vous ? \"))\n",
    "\n",
    "total += burgers[burger_choice - 1]\n",
    "total += buverages[buverage_choice - 1]\n",
    "total += sides[side_choice - 1]\n",
    "total += desserts[dessert_choice - 1]\n",
    "\n",
    "print(f\"Vous allez consommer {total} calories\")"
   ]
  },
  {
   "cell_type": "markdown",
   "metadata": {
    "tags": []
   },
   "source": [
    "## [Home](0_Index.ipynb)🏠\n",
    "![licence.png](pics/licence.png) Licence Creative Commons Attribution - Partage dans les Mêmes Conditions 4.0 International"
   ]
  }
 ],
 "metadata": {
  "kernelspec": {
   "display_name": "Python 3.10.6 64-bit",
   "language": "python",
   "name": "python3"
  },
  "language_info": {
   "codemirror_mode": {
    "name": "ipython",
    "version": 3
   },
   "file_extension": ".py",
   "mimetype": "text/x-python",
   "name": "python",
   "nbconvert_exporter": "python",
   "pygments_lexer": "ipython3",
   "version": "3.10.6"
  },
  "vscode": {
   "interpreter": {
    "hash": "4fb435cb9a1efeb2f38d3dce1339521a1fba953090a1346d7eedb3261b9f21ce"
   }
  }
 },
 "nbformat": 4,
 "nbformat_minor": 5
}
