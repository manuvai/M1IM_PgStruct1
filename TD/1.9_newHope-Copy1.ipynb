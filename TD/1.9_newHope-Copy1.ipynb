{
 "cells": [
  {
   "cell_type": "markdown",
   "id": "dc350928-8258-4bb5-a64e-95c4f62641da",
   "metadata": {},
   "source": [
    "# A new hope - DMOJ problem wc15c2j1 (https://dmoj.ca/problem/wc15c2j1)⭐"
   ]
  },
  {
   "cell_type": "markdown",
   "id": "931a4aac-5046-4c10-9166-ec5f3f948fd7",
   "metadata": {
    "nbgrader": {
     "grade": false,
     "grade_id": "cell-e8f0192bd90632dc",
     "locked": true,
     "schema_version": 3,
     "solution": false,
     "task": false
    },
    "tags": []
   },
   "source": [
    "### Tâche à réaliser 🎯\n",
    "\n",
    "\"C'est une période de guerre civile. Des programmes rebelles, frappant depuis un ordinateur caché, ont remporté leur première victoire contre les méchants Tests du système.\"\n",
    "Vous savez peut-être que les événements de la saga Star Wars se sont déroulés il y a très longtemps, dans une galaxie plutôt lointaine. Mais à quel point était-elle lointaine ? Nous pouvons essayer de la décrire en répétant le mot \"loin\" un certain nombre de fois dans le format de phrase suivant :\n",
    "\n",
    "Il y a longtemps, dans une galaxie très, très lointaine...\n",
    "\n",
    "Dans l'exemple ci-dessus, le mot \"loin\" est répété deux fois. Cependant, nous aimerions plutôt le répéter exactement $N(1≤N≤5)$ fois sans changer du tout au tout le reste de la phrase. Il devrait y avoir une virgule juste après chaque occurrence, sauf la dernière.\n",
    "\n",
    "Étant donné $N$, pouvez-vous produire la phrase correcte ?\n",
    "\n",
    "    \n",
    "### Entrée 🔠\n",
    "\n",
    "L'entrée consiste en un seul nombre entier $N$\n",
    "    \n",
    "### Sortie 🖥️\n",
    "Produisez sur une seule ligne la phrase appropriée avec far répétée $N$ fois. Elle doit correspondre exactement à la bonne réponse !\n",
    "    \n",
    "### Exemples 👀\n",
    "\n",
    "Entrée: 4\n",
    "\n",
    "> Sortie: A long time ago in a galaxy far, far, far, far away...\n"
   ]
  },
  {
   "cell_type": "markdown",
   "id": "345605d1-8696-4160-8b5e-394a66aa37ce",
   "metadata": {},
   "source": [
    "## Votre solution : "
   ]
  },
  {
   "cell_type": "code",
   "execution_count": 3,
   "id": "6a50f7fc-9a21-407a-a588-7882bd26badf",
   "metadata": {},
   "outputs": [
    {
     "name": "stdout",
     "output_type": "stream",
     "text": [
      "A long time ago in a galaxy far, far, far, far, far, away...\n"
     ]
    }
   ],
   "source": [
    "N = int(input(\"Veuillez entrer le nombre de répétitions : \"))\n",
    "if N < 1 or N > 5:\n",
    "    raise Exception(\"La valeur renseignée est invalide\")\n",
    "\n",
    "far_string = ' far,' * N\n",
    "far_string = far_string[0:len(far_string) - 1]\n",
    "print(\"A long time ago in a galaxy{} away...\".format(far_string))"
   ]
  },
  {
   "cell_type": "markdown",
   "id": "272402c5-a146-42ca-929d-b83ebfd3b597",
   "metadata": {
    "tags": []
   },
   "source": [
    "## [Home](0_Index.ipynb)🏠\n",
    "![licence.png](pics/licence.png) Licence Creative Commons Attribution - Partage dans les Mêmes Conditions 4.0 International"
   ]
  }
 ],
 "metadata": {
  "kernelspec": {
   "display_name": "Python 3.10.6 64-bit",
   "language": "python",
   "name": "python3"
  },
  "language_info": {
   "codemirror_mode": {
    "name": "ipython",
    "version": 3
   },
   "file_extension": ".py",
   "mimetype": "text/x-python",
   "name": "python",
   "nbconvert_exporter": "python",
   "pygments_lexer": "ipython3",
   "version": "3.10.6"
  },
  "vscode": {
   "interpreter": {
    "hash": "4fb435cb9a1efeb2f38d3dce1339521a1fba953090a1346d7eedb3261b9f21ce"
   }
  }
 },
 "nbformat": 4,
 "nbformat_minor": 5
}
