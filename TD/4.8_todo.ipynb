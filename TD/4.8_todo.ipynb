{
 "cells": [
  {
   "cell_type": "markdown",
   "id": "dc350928-8258-4bb5-a64e-95c4f62641da",
   "metadata": {},
   "source": [
    "# ToDo liste ⭐"
   ]
  },
  {
   "cell_type": "markdown",
   "id": "931a4aac-5046-4c10-9166-ec5f3f948fd7",
   "metadata": {
    "nbgrader": {
     "grade": false,
     "grade_id": "cell-e8f0192bd90632dc",
     "locked": true,
     "schema_version": 3,
     "solution": false,
     "task": false
    },
    "tags": []
   },
   "source": [
    "## Tâche à réaliser 🎯\n",
    "\n",
    "Un dictionnaire todo contient les clefs suivantes : titre, description, priorité (un entier)   \n",
    "Une liste todoListe contient plusieurs dictionnaires de cette forme  \n",
    "Exemple:  \n",
    "todoListe=[\n",
    "{\"titre\":\"voiture\",\"description\":\"aller au garage\",\"priorité\":3},  \n",
    "{\"titre\":\"enfants\",\"description\":\"trouver babysitter\",\"priorité\":2},  \n",
    "{\"titre\":\"courses\",\"description\":\"payer amap\",\"priorité\":1}  \n",
    "]   \n",
    "\n",
    "Ecrire une fonction todoPrio qui prend en paramètre une todoListe, un nombre entier N et qui renvoie une liste contenant les titres de tous les dictionnaires dont la priorité est plus urgente que N.\n",
    "     \n",
    "### Entrée 🔠\n",
    "Une todoListe  \n",
    "Un entier\n",
    "    \n",
    "### Sortie 🖥️\n",
    "Une liste de titres (chaines de caractères)\n",
    "    \n",
    "### Exemple 👀\n",
    "\n",
    "Entrée: todoListe et 2\n",
    "\n",
    "> Sortie: [\"courses\"]"
   ]
  },
  {
   "cell_type": "markdown",
   "id": "345605d1-8696-4160-8b5e-394a66aa37ce",
   "metadata": {
    "tags": []
   },
   "source": [
    "### Votre solution : "
   ]
  },
  {
   "cell_type": "code",
   "execution_count": null,
   "id": "6a50f7fc-9a21-407a-a588-7882bd26badf",
   "metadata": {},
   "outputs": [],
   "source": []
  },
  {
   "cell_type": "markdown",
   "id": "272402c5-a146-42ca-929d-b83ebfd3b597",
   "metadata": {
    "tags": []
   },
   "source": [
    "## [Home](0_Index.ipynb)🏠\n",
    "![licence.png](pics/licence.png) Licence Creative Commons Attribution - Partage dans les Mêmes Conditions 4.0 International"
   ]
  }
 ],
 "metadata": {
  "kernelspec": {
   "display_name": "Python 3 (ipykernel)",
   "language": "python",
   "name": "python3"
  },
  "language_info": {
   "codemirror_mode": {
    "name": "ipython",
    "version": 3
   },
   "file_extension": ".py",
   "mimetype": "text/x-python",
   "name": "python",
   "nbconvert_exporter": "python",
   "pygments_lexer": "ipython3",
   "version": "3.9.12"
  }
 },
 "nbformat": 4,
 "nbformat_minor": 5
}
