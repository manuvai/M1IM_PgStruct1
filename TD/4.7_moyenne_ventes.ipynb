{
 "cells": [
  {
   "cell_type": "markdown",
   "id": "dc350928-8258-4bb5-a64e-95c4f62641da",
   "metadata": {},
   "source": [
    "# Moyenne des ventes ⭐"
   ]
  },
  {
   "cell_type": "markdown",
   "id": "931a4aac-5046-4c10-9166-ec5f3f948fd7",
   "metadata": {
    "nbgrader": {
     "grade": false,
     "grade_id": "cell-e8f0192bd90632dc",
     "locked": true,
     "schema_version": 3,
     "solution": false,
     "task": false
    },
    "tags": []
   },
   "source": [
    "## Tâche à réaliser 🎯\n",
    "\n",
    "Soit une liste de vendeurs contenant leurs noms, prénoms et la liste de leurs ventes du mois.  \n",
    "Exemple:  \n",
    "Ventes =  [\n",
    "{\"nom\":'GARGA' , \"prenom\":'Amel' ,\"id\": \"20231343\" ,\"montants\": [120 , 80 , 110 , 170 , 90 ]},  \n",
    "{\"nom\":'POLO' , \"prenom\": 'Marcello' , \"id\":\"20342241\" , \"montants\": [90 , 110 , 190 , 30 ] },  \n",
    "{\"nom\":'AMANGEAI' , \"prenom\": 'Hildegard' , \"id\": \"20244229\" , \"montants\": [150 , 110 , 70 , 140 , 120 ] },  \n",
    "{\"nom\":'DENT' , \"prenom\":'Arthur' , \"id\":\"42424242\" , \"montants\": [80 , 40 , 90 , 40 , 100 , 50 ] },  \n",
    "{\"nom\":'ALEZE' , \"prenom\":'Blaise' , \"id\":\"30012024\" , \"montants\": [170 , 150 , 200 , 140 , 180 , 160 , 200 ] }  \n",
    "]  \n",
    "\n",
    "Ecrire une fonction totalvendeur qui prend en paramètre une liste de vendeurs et l'identifiant d'un vendeur et renvoie le total de ses ventes.\n",
    "    \n",
    "### Entrée 🔠\n",
    "Une liste de vendeurs  \n",
    "Un identifiant de type texte\n",
    "    \n",
    "### Sortie 🖥️\n",
    "Un réél correspondant au total des ventes\n",
    "    \n",
    "### Exemple 👀\n",
    "\n",
    "Entrée: Ventes et \"20244229\"\n",
    "\n",
    "> Sortie: 118.0"
   ]
  },
  {
   "cell_type": "markdown",
   "id": "345605d1-8696-4160-8b5e-394a66aa37ce",
   "metadata": {},
   "source": [
    "### Votre solution : "
   ]
  },
  {
   "cell_type": "code",
   "execution_count": 2,
   "id": "6a50f7fc-9a21-407a-a588-7882bd26badf",
   "metadata": {},
   "outputs": [
    {
     "name": "stdout",
     "output_type": "stream",
     "text": [
      "118.0\n"
     ]
    }
   ],
   "source": [
    "def totalvendeur(vendeurs: list, id: str) -> float|None:\n",
    "    i = 0\n",
    "    while (i < len(vendeurs) and vendeurs[i]['id'] != id):\n",
    "        i += 1\n",
    "    if (i == len(vendeurs)):\n",
    "        return None\n",
    "    res = 0\n",
    "    count_vente = 0\n",
    "    for vente in vendeurs[i]['montants']:\n",
    "        res += vente\n",
    "        count_vente += 1\n",
    "    return res / count_vente\n",
    "\n",
    "vendeurs =  [\n",
    "    {\"nom\":'GARGA' , \"prenom\":'Amel' ,\"id\": \"20231343\" ,\"montants\": [120 , 80 , 110 , 170 , 90 ]},  \n",
    "    {\"nom\":'POLO' , \"prenom\": 'Marcello' , \"id\":\"20342241\" , \"montants\": [90 , 110 , 190 , 30 ] },  \n",
    "    {\"nom\":'AMANGEAI' , \"prenom\": 'Hildegard' , \"id\": \"20244229\" , \"montants\": [150 , 110 , 70 , 140 , 120 ] },  \n",
    "    {\"nom\":'DENT' , \"prenom\":'Arthur' , \"id\":\"42424242\" , \"montants\": [80 , 40 , 90 , 40 , 100 , 50 ] },  \n",
    "    {\"nom\":'ALEZE' , \"prenom\":'Blaise' , \"id\":\"30012024\" , \"montants\": [170 , 150 , 200 , 140 , 180 , 160 , 200 ] }  \n",
    "]\n",
    "\n",
    "print(totalvendeur(vendeurs, '20244229'))\n",
    "\n"
   ]
  },
  {
   "cell_type": "markdown",
   "id": "4e20c9f9-72c4-4047-9456-043948c3f52e",
   "metadata": {
    "nbgrader": {
     "grade": false,
     "grade_id": "cell-e8f0192bd90632dc",
     "locked": true,
     "schema_version": 3,
     "solution": false,
     "task": false
    },
    "tags": []
   },
   "source": [
    "## Tâche à réaliser 🎯\n",
    "\n",
    "Ecrire un programme qui affiche les nom et prénom du meilleur vendeur du mois.\n",
    "    \n",
    "### Entrée 🔠\n",
    "\n",
    "Une liste de vendeurs\n",
    "    \n",
    "### Sortie 🖥️\n",
    "Affichage des informations sur le meilleur vendeur\n",
    "    \n",
    "### Exemple 👀\n",
    "\n",
    "Entrée: Ventes\n",
    "\n",
    "> Sortie: Bravo au meilleur vendeur : Blaise ALEZE !\n"
   ]
  },
  {
   "cell_type": "markdown",
   "id": "373a903b-a957-42ff-9a37-dea09fafbdb8",
   "metadata": {},
   "source": [
    "### Votre solution : "
   ]
  },
  {
   "cell_type": "code",
   "execution_count": null,
   "id": "b8c7a8bc-c277-4326-93e4-f4f506fe97c4",
   "metadata": {},
   "outputs": [],
   "source": [
    "def moy_ventes(vendeur: dict) -> float:\n",
    "    res = 0\n",
    "    count_vente = 0\n",
    "    for vente in vendeur['montants']:\n",
    "        res += vente\n",
    "        count_vente += 1\n",
    "    return res / count_vente\n",
    "\n",
    "def meilleur_vendeur(vendeurs: list):\n",
    "    best_index = 0\n",
    "    for i in range(1, len(vendeurs)):\n",
    "        if (moy_ventes(vendeurs[i]) > moy_ventes(vendeurs[best_index])):\n",
    "            best_index = i\n",
    "    \n",
    "    best_seller = '{} {}'.format(vendeurs[best_index]['prenom'], vendeurs[best_index]['nom'])\n",
    "    print(f\"Bravo au meilleur vendeur : {best_seller} !\")\n"
   ]
  },
  {
   "cell_type": "markdown",
   "id": "272402c5-a146-42ca-929d-b83ebfd3b597",
   "metadata": {
    "tags": []
   },
   "source": [
    "## [Home](0_Index.ipynb)🏠\n",
    "![licence.png](pics/licence.png) Licence Creative Commons Attribution - Partage dans les Mêmes Conditions 4.0 International"
   ]
  }
 ],
 "metadata": {
  "kernelspec": {
   "display_name": "Python 3.10.6 64-bit",
   "language": "python",
   "name": "python3"
  },
  "language_info": {
   "codemirror_mode": {
    "name": "ipython",
    "version": 3
   },
   "file_extension": ".py",
   "mimetype": "text/x-python",
   "name": "python",
   "nbconvert_exporter": "python",
   "pygments_lexer": "ipython3",
   "version": "3.10.6"
  },
  "vscode": {
   "interpreter": {
    "hash": "4fb435cb9a1efeb2f38d3dce1339521a1fba953090a1346d7eedb3261b9f21ce"
   }
  }
 },
 "nbformat": 4,
 "nbformat_minor": 5
}
