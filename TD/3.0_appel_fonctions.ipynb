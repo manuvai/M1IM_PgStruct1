{
 "cells": [
  {
   "cell_type": "markdown",
   "metadata": {},
   "source": [
    "# Appels de fonctions ⭐"
   ]
  },
  {
   "cell_type": "markdown",
   "metadata": {
    "nbgrader": {
     "grade": false,
     "grade_id": "cell-e8f0192bd90632dc",
     "locked": true,
     "schema_version": 3,
     "solution": false,
     "task": false
    },
    "tags": []
   },
   "source": [
    "## Tâche à réaliser (1/3) 🎯\n",
    "\n",
    "Ecrire une fonction `double(n)` qui reçoit un nombre `n` et renvoie son double. **Attention**: votre fonction ne doit pas **afficher** mais **renvoyer** le résultat.\n",
    "    \n",
    "### Entrée 🔠\n",
    "\n",
    "Un nombre entier ou flottant.\n",
    "    \n",
    "### Sortie 🖥️\n",
    "Le double du nombre reçu en entrée.\n",
    "    \n",
    "### Exemples 👀\n",
    "\n",
    "Entrée: 5\n",
    "\n",
    "> Sortie: 10\n",
    "    \n",
    "Entrée: -2.31\n",
    "\n",
    "> Sortie: -4.62"
   ]
  },
  {
   "cell_type": "markdown",
   "metadata": {},
   "source": [
    "## Votre solution : \n",
    "(récupérez le retour de votre appel de fonction dans une variable `res`**puis** affichez la)"
   ]
  },
  {
   "cell_type": "code",
   "execution_count": 2,
   "metadata": {
    "tags": []
   },
   "outputs": [
    {
     "name": "stdout",
     "output_type": "stream",
     "text": [
      "8.0\n"
     ]
    }
   ],
   "source": [
    "def double(a: float):\n",
    "    return a * 2\n",
    "\n",
    "entry = float(input(\"Veuillez entrer un entier ou un flotant : \"))\n",
    "\n",
    "res = double(entry)\n",
    "print(res)\n",
    "\n"
   ]
  },
  {
   "cell_type": "markdown",
   "metadata": {
    "nbgrader": {
     "grade": false,
     "grade_id": "cell-e8f0192bd90632dc",
     "locked": true,
     "schema_version": 3,
     "solution": false,
     "task": false
    },
    "tags": []
   },
   "source": [
    "## Tâche à réaliser (2/3) 🎯\n",
    "\n",
    "Ecrire une fonction `cube(n)` qui reçoit un nombre `n` et renvoie son cube. **Attention**: votre fonction ne doit pas **afficher** mais **renvoyer** le résultat.\n",
    "    \n",
    "### Entrée 🔠\n",
    "\n",
    "Un nombre entier ou flottant.\n",
    "    \n",
    "### Sortie 🖥️\n",
    "Le cube du nombre reçu en entrée.\n",
    "    \n",
    "### Exemples 👀\n",
    "\n",
    "Entrée: 3\n",
    "\n",
    "> Sortie: 27"
   ]
  },
  {
   "cell_type": "markdown",
   "metadata": {},
   "source": [
    "## Votre solution : \n",
    "(récupérez le retour de votre appel de fonction dans une variable `res`**puis** affichez la)"
   ]
  },
  {
   "cell_type": "code",
   "execution_count": 8,
   "metadata": {},
   "outputs": [
    {
     "name": "stdout",
     "output_type": "stream",
     "text": [
      "8.0\n"
     ]
    }
   ],
   "source": [
    "def cube(a: float):\n",
    "    return a ** 3\n",
    "\n",
    "entry = float(input(\"Veuillez entrer un nombre entier ou flottant : \"))\n",
    "res = cube(entry)\n",
    "\n",
    "print(res)"
   ]
  },
  {
   "cell_type": "markdown",
   "metadata": {
    "nbgrader": {
     "grade": false,
     "grade_id": "cell-e8f0192bd90632dc",
     "locked": true,
     "schema_version": 3,
     "solution": false,
     "task": false
    },
    "tags": []
   },
   "source": [
    "## Tâche à réaliser (3/3) 🎯\n",
    "\n",
    "Ecrire une fonction `double_du_cube_du_double(n)` qui reçoit un nombre `n` et renvoie le double du cube de son double. **Attention**: votre fonction ne doit pas **afficher** mais **renvoyer** le résultat.\n",
    "    \n",
    "### Entrée 🔠\n",
    "\n",
    "Un nombre entier ou flottant.\n",
    "    \n",
    "### Sortie 🖥️\n",
    "Le cube du double du nombre reçu en entrée.\n",
    "    \n",
    "### Exemples 👀\n",
    "\n",
    "Entrée: 3\n",
    "\n",
    "> Sortie: 432"
   ]
  },
  {
   "cell_type": "markdown",
   "metadata": {},
   "source": [
    "## Votre solution : \n",
    "(vous utiliserez évidemment les deux fonctions écrites précédemment pour écrire celle-ci)"
   ]
  },
  {
   "cell_type": "code",
   "execution_count": 9,
   "metadata": {
    "tags": []
   },
   "outputs": [
    {
     "name": "stdout",
     "output_type": "stream",
     "text": [
      "216.0\n"
     ]
    }
   ],
   "source": [
    "def cube_double(a: float):\n",
    "    return cube(double(a))\n",
    "\n",
    "entry = float(input(\"Veuillez entrer un nombre entier ou flottant : \"))\n",
    "res = cube_double(entry)\n",
    "print(res)"
   ]
  },
  {
   "cell_type": "markdown",
   "metadata": {
    "tags": []
   },
   "source": [
    "## [Home](0_Index.ipynb)🏠\n",
    "![licence.png](pics/licence.png) Licence Creative Commons Attribution - Partage dans les Mêmes Conditions 4.0 International"
   ]
  }
 ],
 "metadata": {
  "kernelspec": {
   "display_name": "Python 3 (ipykernel)",
   "language": "python",
   "name": "python3"
  },
  "language_info": {
   "codemirror_mode": {
    "name": "ipython",
    "version": 3
   },
   "file_extension": ".py",
   "mimetype": "text/x-python",
   "name": "python",
   "nbconvert_exporter": "python",
   "pygments_lexer": "ipython3",
   "version": "3.10.6"
  },
  "vscode": {
   "interpreter": {
    "hash": "4fb435cb9a1efeb2f38d3dce1339521a1fba953090a1346d7eedb3261b9f21ce"
   }
  }
 },
 "nbformat": 4,
 "nbformat_minor": 5
}
