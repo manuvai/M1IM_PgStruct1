{
 "cells": [
  {
   "cell_type": "markdown",
   "id": "dc350928-8258-4bb5-a64e-95c4f62641da",
   "metadata": {},
   "source": [
    "# Data plan DMOJ coci16c1p1⭐"
   ]
  },
  {
   "cell_type": "markdown",
   "id": "931a4aac-5046-4c10-9166-ec5f3f948fd7",
   "metadata": {
    "nbgrader": {
     "grade": false,
     "grade_id": "cell-e8f0192bd90632dc",
     "locked": true,
     "schema_version": 3,
     "solution": false,
     "task": false
    },
    "tags": []
   },
   "source": [
    "### Tâche à réaliser 🎯\n",
    "\n",
    "Pero a souscrit auprès de son opérateur de téléphonie mobile un plan de données qui lui offre `x` mégaoctets de données par mois. En outre, les données qu'il n'utilise pas au cours d'un mois donné sont reportées au mois suivant. Par exemple, si x est égal à 10 et que Pero n'utilise que 4 Mo au cours d'un mois donné, les 6 Mo restants sont reportés au mois suivant (il dispose alors de 10 + 6 = 16 Mo).\n",
    "\n",
    "On nous donne le nombre de mégaoctets de données que Pero utilise au cours de chacun des n premiers mois. Notre tâche consiste à déterminer le nombre de mégaoctets disponibles pour le mois suivant.\n",
    "    \n",
    "### Entrée 🔠\n",
    "\n",
    "L'entrée est constituée des lignes suivantes :\n",
    "- Une ligne contenant l'entier x , le nombre de mégaoctets donnés à Pero par mois. x est compris entre 1 et 100.\n",
    "- Une ligne contenant l'entier n , le nombre de mois pendant lesquels Pero a eu le plan de données. n est compris entre 1 et 100.\n",
    "- n lignes, une pour chaque mois, donnant le nombre entier de mégaoctets que Pero utilise au cours de ce mois. Chaque nombre est au moins égal à 0 et ne dépassera jamais le nombre de mégaoctets disponibles. (Par exemple, si x vaut 10 et que Pero dispose actuellement de 30 Mo, le nombre suivant sera au maximum de 30).\n",
    "    \n",
    "### Sortie 🖥️\n",
    "Affiche le nombre de mégaoctets disponibles pour le mois suivant.\n",
    "    \n",
    "### Exemples 👀\n",
    "\n",
    "Entrée: 10, 3, 4, 6, 2\n",
    "\n",
    "> Sortie: 28"
   ]
  },
  {
   "cell_type": "markdown",
   "id": "345605d1-8696-4160-8b5e-394a66aa37ce",
   "metadata": {},
   "source": [
    "## Votre solution : "
   ]
  },
  {
   "cell_type": "code",
   "execution_count": null,
   "id": "6a50f7fc-9a21-407a-a588-7882bd26badf",
   "metadata": {},
   "outputs": [],
   "source": [
    "\"hello\""
   ]
  },
  {
   "cell_type": "markdown",
   "id": "272402c5-a146-42ca-929d-b83ebfd3b597",
   "metadata": {
    "tags": []
   },
   "source": [
    "## [Home](0_Index.ipynb)🏠\n",
    "![licence.png](pics/licence.png) Licence Creative Commons Attribution - Partage dans les Mêmes Conditions 4.0 International"
   ]
  }
 ],
 "metadata": {
  "kernelspec": {
   "display_name": "Python 3 (ipykernel)",
   "language": "python",
   "name": "python3"
  },
  "language_info": {
   "codemirror_mode": {
    "name": "ipython",
    "version": 3
   },
   "file_extension": ".py",
   "mimetype": "text/x-python",
   "name": "python",
   "nbconvert_exporter": "python",
   "pygments_lexer": "ipython3",
   "version": "3.9.7"
  }
 },
 "nbformat": 4,
 "nbformat_minor": 5
}
