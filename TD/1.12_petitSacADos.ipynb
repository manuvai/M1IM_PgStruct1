{
 "cells": [
  {
   "cell_type": "markdown",
   "metadata": {},
   "source": [
    "# Un petit sac à dos ⭐"
   ]
  },
  {
   "cell_type": "markdown",
   "metadata": {
    "nbgrader": {
     "grade": false,
     "grade_id": "cell-e8f0192bd90632dc",
     "locked": true,
     "schema_version": 3,
     "solution": false,
     "task": false
    },
    "tags": []
   },
   "source": [
    "### Tâche à réaliser 🎯\n",
    "\n",
    "On souhaite pouvoir stocquer les $4$ dernieres saisies réalisées par l'utilisateur. Pour ce faire, on ne dispose que de 4 variables $A$,$B$,$C$,$D$. \n",
    "\n",
    "La dernière valeure saisie est stockée dans la variable $D$. Ainsi, à chaque nouvelle saisie, il faut décaler les valeurs vers la gauche de sorte que:\n",
    "    - $D$ corresponde à la dernière valeure saisie\n",
    "    - $C$ corresponde à l'avant dernière valeure saisie\n",
    "    - $B$ corresponde à l'avant-avant dernière valeure\n",
    "    - et $A$ corresponde à la valeur la plus ancienne.\n",
    "    \n",
    "### Entrée 🔠\n",
    "\n",
    "L'utilisateur peut saisisir autaunt de valeur qu'il le souhaite. A chaque saisie, on met à jour les variables correspondant.\n",
    "    \n",
    "### Sortie 🖥️\n",
    "On affiche après chaque saisie l'état des variables $A$,$B$,$C$,$D$.\n"
   ]
  },
  {
   "cell_type": "markdown",
   "metadata": {},
   "source": [
    "## Votre solution : "
   ]
  },
  {
   "cell_type": "code",
   "execution_count": 1,
   "metadata": {},
   "outputs": [
    {
     "name": "stdout",
     "output_type": "stream",
     "text": [
      "Veuillez entrer une valeur : 10\n",
      "A=10, B=None, C=None, D=None\n",
      "Veuillez entrer une valeur : 15\n",
      "A=10, B=15, C=None, D=None\n",
      "Veuillez entrer une valeur : 20\n",
      "A=10, B=15, C=20, D=None\n",
      "Veuillez entrer une valeur : 26\n",
      "A=10, B=15, C=20, D=26\n",
      "Veuillez entrer une valeur : 31\n",
      "A=15, B=20, C=26, D=31\n",
      "Veuillez entrer une valeur : 84\n",
      "A=20, B=26, C=31, D=84\n"
     ]
    }
   ],
   "source": [
    "# Initialisation\n",
    "entry1 = None\n",
    "entry2 = None\n",
    "entry3 = None\n",
    "entry4 = None\n",
    "\n",
    "entry1 = input('Veuillez entrer une valeur : ')\n",
    "print(\"A={}, B={}, C={}, D={}\".format(entry1, entry2, entry3, entry4))\n",
    "entry2 = input('Veuillez entrer une valeur : ')\n",
    "print(\"A={}, B={}, C={}, D={}\".format(entry1, entry2, entry3, entry4))\n",
    "entry3 = input('Veuillez entrer une valeur : ')\n",
    "print(\"A={}, B={}, C={}, D={}\".format(entry1, entry2, entry3, entry4))\n",
    "entry4 = input('Veuillez entrer une valeur : ')\n",
    "print(\"A={}, B={}, C={}, D={}\".format(entry1, entry2, entry3, entry4))\n",
    "\n",
    "# Permutations\n",
    "entry1, entry2, entry3, entry4 = entry2, entry3, entry4, input(\"Veuillez entrer une valeur : \")\n",
    "print(\"A={}, B={}, C={}, D={}\".format(entry1, entry2, entry3, entry4))\n",
    "\n",
    "# Permutations\n",
    "entry1, entry2, entry3, entry4 = entry2, entry3, entry4, input(\"Veuillez entrer une valeur : \")\n",
    "print(\"A={}, B={}, C={}, D={}\".format(entry1, entry2, entry3, entry4))\n"
   ]
  },
  {
   "cell_type": "markdown",
   "metadata": {
    "tags": []
   },
   "source": [
    "## [Home](0_Index.ipynb)🏠\n",
    "![licence.png](pics/licence.png) Licence Creative Commons Attribution - Partage dans les Mêmes Conditions 4.0 International"
   ]
  }
 ],
 "metadata": {
  "kernelspec": {
   "display_name": "Python 3",
   "language": "python",
   "name": "python3"
  },
  "language_info": {
   "codemirror_mode": {
    "name": "ipython",
    "version": 3
   },
   "file_extension": ".py",
   "mimetype": "text/x-python",
   "name": "python",
   "nbconvert_exporter": "python",
   "pygments_lexer": "ipython3",
   "version": "3.8.5"
  }
 },
 "nbformat": 4,
 "nbformat_minor": 5
}
