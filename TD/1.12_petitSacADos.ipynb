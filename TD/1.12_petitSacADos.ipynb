{
 "cells": [
  {
   "cell_type": "markdown",
   "id": "dc350928-8258-4bb5-a64e-95c4f62641da",
   "metadata": {},
   "source": [
    "# Un petit sac à dos ⭐"
   ]
  },
  {
   "cell_type": "markdown",
   "id": "931a4aac-5046-4c10-9166-ec5f3f948fd7",
   "metadata": {
    "nbgrader": {
     "grade": false,
     "grade_id": "cell-e8f0192bd90632dc",
     "locked": true,
     "schema_version": 3,
     "solution": false,
     "task": false
    },
    "tags": []
   },
   "source": [
    "### Tâche à réaliser 🎯\n",
    "\n",
    "On souhaite pouvoir stocquer les $4$ dernieres saisies réalisées par l'utilisateur. Pour ce faire, on ne dispose que de 4 variables $A$,$B$,$C$,$D$. \n",
    "\n",
    "La dernière valeure saisie est stockée dans la variable $D$. Ainsi, à chaque nouvelle saisie, il faut décaler les valeurs vers la gauche de sorte que:\n",
    "    - $D$ corresponde à la dernière valeure saisie\n",
    "    - $C$ corresponde à l'avant dernière valeure saisie\n",
    "    - $B$ corresponde à l'avant-avant dernière valeure\n",
    "    - et $A$ corresponde à la valeur la plus ancienne.\n",
    "    \n",
    "### Entrée 🔠\n",
    "\n",
    "L'utilisateur peut saisisir autaunt de valeur qu'il le souhaite. A chaque saisie, on met à jour les variables correspondant.\n",
    "    \n",
    "### Sortie 🖥️\n",
    "On affiche après chaque saisie l'état des variables $A$,$B$,$C$,$D$.\n"
   ]
  },
  {
   "cell_type": "markdown",
   "id": "345605d1-8696-4160-8b5e-394a66aa37ce",
   "metadata": {},
   "source": [
    "## Votre solution : "
   ]
  },
  {
   "cell_type": "code",
   "execution_count": null,
   "id": "6a50f7fc-9a21-407a-a588-7882bd26badf",
   "metadata": {},
   "outputs": [],
   "source": []
  },
  {
   "cell_type": "markdown",
   "id": "272402c5-a146-42ca-929d-b83ebfd3b597",
   "metadata": {
    "tags": []
   },
   "source": [
    "## [Home](0_Index.ipynb)🏠\n",
    "![licence.png](pics/licence.png) Licence Creative Commons Attribution - Partage dans les Mêmes Conditions 4.0 International"
   ]
  }
 ],
 "metadata": {
  "kernelspec": {
   "display_name": "Python 3 (ipykernel)",
   "language": "python",
   "name": "python3"
  },
  "language_info": {
   "codemirror_mode": {
    "name": "ipython",
    "version": 3
   },
   "file_extension": ".py",
   "mimetype": "text/x-python",
   "name": "python",
   "nbconvert_exporter": "python",
   "pygments_lexer": "ipython3",
   "version": "3.9.7"
  }
 },
 "nbformat": 4,
 "nbformat_minor": 5
}
