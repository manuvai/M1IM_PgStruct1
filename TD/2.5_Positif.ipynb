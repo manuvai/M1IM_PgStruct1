{
 "cells": [
  {
   "cell_type": "markdown",
   "metadata": {},
   "source": [
    "# Signe des nombres ⭐"
   ]
  },
  {
   "cell_type": "markdown",
   "metadata": {
    "nbgrader": {
     "grade": false,
     "grade_id": "cell-e8f0192bd90632dc",
     "locked": true,
     "schema_version": 3,
     "solution": false,
     "task": false
    },
    "tags": []
   },
   "source": [
    "### Tâche à réaliser 🎯\n",
    "\n",
    "Écrire un programme qui va faire saisir successivements 5 nombres et afficher pour chaque nombre s'il est positif ou négatif..\n",
    "    \n",
    "### Entrée 🔠\n",
    "\n",
    "nombre (5 fois)\n",
    "    \n",
    "### Sortie 🖥️\n",
    "signe du nombre (5 fois)\n",
    "    \n",
    "### Exemples 👀\n",
    "\n",
    "Entrée: nombre saisi  10\n",
    "> Sortie: 10 est positif\n",
    "\n",
    "Nombre saisi  -15\n",
    "> Sortie: -15 est négatif\n",
    "\n",
    "Nombre saisi  2\n",
    "> Sortie: 2 est positif\n",
    "\n",
    "Nombre saisi  -0\n",
    "> Sortie: -0 est nul\n",
    "\n",
    "Nombre saisi  0\n",
    "> Sortie: 0 est nul"
   ]
  },
  {
   "cell_type": "markdown",
   "metadata": {},
   "source": [
    "## Votre solution : "
   ]
  },
  {
   "cell_type": "code",
   "execution_count": 1,
   "metadata": {},
   "outputs": [
    {
     "name": "stdout",
     "output_type": "stream",
     "text": [
      "5 est positif\n",
      "10 est positif\n",
      "20 est positif\n",
      "60 est positif\n",
      "-0 est nul\n"
     ]
    }
   ],
   "source": [
    " for i in range(5):\n",
    "    user_prompt = input('Veuillez entrer une valeur : ')\n",
    "    if (float(user_prompt) < 0):\n",
    "        print (\"{} est négatif\".format(user_prompt))\n",
    "    elif (float(user_prompt) > 0):\n",
    "        print (\"{} est positif\".format(user_prompt))\n",
    "    else:\n",
    "        print (\"{} est nul\".format(user_prompt))"
   ]
  },
  {
   "cell_type": "markdown",
   "metadata": {
    "tags": []
   },
   "source": [
    "## [Home](0_Index.ipynb)🏠\n",
    "![licence.png](pics/licence.png) Licence Creative Commons Attribution - Partage dans les Mêmes Conditions 4.0 International"
   ]
  }
 ],
 "metadata": {
  "kernelspec": {
   "display_name": "Python 3.10.6 64-bit",
   "language": "python",
   "name": "python3"
  },
  "language_info": {
   "codemirror_mode": {
    "name": "ipython",
    "version": 3
   },
   "file_extension": ".py",
   "mimetype": "text/x-python",
   "name": "python",
   "nbconvert_exporter": "python",
   "pygments_lexer": "ipython3",
   "version": "3.10.6"
  },
  "vscode": {
   "interpreter": {
    "hash": "4fb435cb9a1efeb2f38d3dce1339521a1fba953090a1346d7eedb3261b9f21ce"
   }
  }
 },
 "nbformat": 4,
 "nbformat_minor": 5
}
