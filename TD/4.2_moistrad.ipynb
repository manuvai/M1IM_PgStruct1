{
 "cells": [
  {
   "cell_type": "markdown",
   "id": "dc350928-8258-4bb5-a64e-95c4f62641da",
   "metadata": {
    "tags": []
   },
   "source": [
    "# Traduction mois ⭐"
   ]
  },
  {
   "cell_type": "markdown",
   "id": "931a4aac-5046-4c10-9166-ec5f3f948fd7",
   "metadata": {
    "nbgrader": {
     "grade": false,
     "grade_id": "cell-e8f0192bd90632dc",
     "locked": true,
     "schema_version": 3,
     "solution": false,
     "task": false
    },
    "tags": []
   },
   "source": [
    "### Tâche à réaliser 🎯\n",
    "\n",
    "Ecrire le code de la fonction F_traduction(nom) retournant la traduction en anglais du nom de mois passé en paramètre.\n",
    "Vous devez utiliser les tuples suivants : \n",
    "mois=('Janvier','Février','Mars','Avril','Mai','Juin','Juillet','Août', 'Septembre', 'Octobre','Novembre','Décembre')\n",
    "months=(\"January\",\"Februar\",\"March\",\"April\",\"Mai\",\"June\",\"July\",\"August\",\"September\",\"October\",\"November\",\"December\")\n",
    "\n",
    "### Entrée 🔠\n",
    "En paramètre : un nom de mois en français\n",
    "    \n",
    "### Sortie 🖥️\n",
    "Le nom du mois correspondant en anglais\n",
    "    \n",
    "### Exemples 👀\n",
    "\n",
    "Appel: F_traduction(\"Octobre\")\n",
    "\n",
    "> Sortie : October\n",
    "\n",
    "Appel: F_traduction(\"Janv\")\n",
    "\n",
    "> Sortie : Ce nom de mois n'existe pas"
   ]
  },
  {
   "cell_type": "markdown",
   "id": "345605d1-8696-4160-8b5e-394a66aa37ce",
   "metadata": {},
   "source": [
    "## Votre solution : "
   ]
  },
  {
   "cell_type": "code",
   "execution_count": null,
   "id": "6a50f7fc-9a21-407a-a588-7882bd26badf",
   "metadata": {},
   "outputs": [],
   "source": []
  },
  {
   "cell_type": "markdown",
   "id": "272402c5-a146-42ca-929d-b83ebfd3b597",
   "metadata": {
    "tags": []
   },
   "source": [
    "## [Home](0_Index.ipynb)🏠\n",
    "![licence.png](pics/licence.png) Licence Creative Commons Attribution - Partage dans les Mêmes Conditions 4.0 International"
   ]
  }
 ],
 "metadata": {
  "kernelspec": {
   "display_name": "Python 3 (ipykernel)",
   "language": "python",
   "name": "python3"
  },
  "language_info": {
   "codemirror_mode": {
    "name": "ipython",
    "version": 3
   },
   "file_extension": ".py",
   "mimetype": "text/x-python",
   "name": "python",
   "nbconvert_exporter": "python",
   "pygments_lexer": "ipython3",
   "version": "3.9.12"
  }
 },
 "nbformat": 4,
 "nbformat_minor": 5
}
