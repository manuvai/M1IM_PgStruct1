{
 "cells": [
  {
   "cell_type": "markdown",
   "id": "dc350928-8258-4bb5-a64e-95c4f62641da",
   "metadata": {},
   "source": [
    "# Filtrer les appels ⭐"
   ]
  },
  {
   "cell_type": "markdown",
   "id": "931a4aac-5046-4c10-9166-ec5f3f948fd7",
   "metadata": {
    "nbgrader": {
     "grade": false,
     "grade_id": "cell-e8f0192bd90632dc",
     "locked": true,
     "schema_version": 3,
     "solution": false,
     "task": false
    },
    "tags": []
   },
   "source": [
    "### Tâche à réaliser 🎯\n",
    "\n",
    "Dans ce problème, nous supposerons que les numéros de téléphone comportent quatre chiffres. Un numéro de téléphone appartient à un télévendeur si ses quatre chiffres satisfont aux trois propriétés suivantes :\n",
    "* Le premier chiffre est 8 ou 9.\n",
    "* Le quatrième chiffre est 8 ou 9.\n",
    "* Les deuxième et troisième chiffres sont identiques.\n",
    "\n",
    "Par exemple, un numéro de téléphone dont les quatre chiffres sont 8119 appartient à un télévendeur.\n",
    "\n",
    "Déterminez si un numéro de téléphone appartient à un télévendeur, et indiquez si nous devons répondre au téléphone ou l'ignorer.\n",
    "    \n",
    "### Entrée 🔠\n",
    "\n",
    "Une chaine de caractère contenant les 4 chiffres du numéro\n",
    "    \n",
    "### Sortie 🖥️\n",
    "Un message nous informant s'il s'agit d'un SPAM ou non.\n",
    "    \n",
    "### Exemples 👀\n",
    "\n",
    "Entrée: 8119\n",
    "\n",
    "> Sortie: \"Le numéro 8119 est du SPAM\"\n",
    "    \n",
    "Entrée: 0123\n",
    "\n",
    "> Sortie: \"Le numéro 0123 n'est pas du SPAM\""
   ]
  },
  {
   "cell_type": "markdown",
   "id": "345605d1-8696-4160-8b5e-394a66aa37ce",
   "metadata": {},
   "source": [
    "## Votre solution : "
   ]
  },
  {
   "cell_type": "code",
   "execution_count": 4,
   "id": "6a50f7fc-9a21-407a-a588-7882bd26badf",
   "metadata": {},
   "outputs": [
    {
     "name": "stdout",
     "output_type": "stream",
     "text": [
      "Le numéro 8119 est du SPAM\n"
     ]
    }
   ],
   "source": [
    "phone_number = input(\"Veuillez entrer un numéro de téléphone : \")\n",
    "\n",
    "if len(phone_number) < 4:\n",
    "    raise Exception(\"Mauvais format\")\n",
    "\n",
    "is_spam = (phone_number[0] in ['8', '9'])\n",
    "is_spam = is_spam and (phone_number[3] in ['8', '9'])\n",
    "is_spam = is_spam and (phone_number[1] == phone_number[2])\n",
    "\n",
    "if (is_spam):\n",
    "    print(\"Le numéro {} est du SPAM\".format(phone_number))\n",
    "else:\n",
    "    print(\"Le numéro {} n'est pas du SPAM\".format(phone_number))\n"
   ]
  },
  {
   "cell_type": "markdown",
   "id": "272402c5-a146-42ca-929d-b83ebfd3b597",
   "metadata": {
    "tags": []
   },
   "source": [
    "## [Home](0_Index.ipynb)🏠\n",
    "![licence.png](pics/licence.png) Licence Creative Commons Attribution - Partage dans les Mêmes Conditions 4.0 International"
   ]
  }
 ],
 "metadata": {
  "kernelspec": {
   "display_name": "Python 3 (ipykernel)",
   "language": "python",
   "name": "python3"
  },
  "language_info": {
   "codemirror_mode": {
    "name": "ipython",
    "version": 3
   },
   "file_extension": ".py",
   "mimetype": "text/x-python",
   "name": "python",
   "nbconvert_exporter": "python",
   "pygments_lexer": "ipython3",
   "version": "3.9.12"
  }
 },
 "nbformat": 4,
 "nbformat_minor": 5
}
