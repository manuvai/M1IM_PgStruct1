{
 "cells": [
  {
   "cell_type": "markdown",
   "id": "dc350928-8258-4bb5-a64e-95c4f62641da",
   "metadata": {},
   "source": [
    "# Are we there yet? ⭐"
   ]
  },
  {
   "cell_type": "markdown",
   "id": "931a4aac-5046-4c10-9166-ec5f3f948fd7",
   "metadata": {
    "nbgrader": {
     "grade": false,
     "grade_id": "cell-e8f0192bd90632dc",
     "locked": true,
     "schema_version": 3,
     "solution": false,
     "task": false
    },
    "tags": []
   },
   "source": [
    "### Tâche à réaliser 🎯\n",
    "\n",
    "Vous décidez de faire un très long trajet en voiture sur une route très droite. Le long de cette route se trouvent cinq villes. Au fur et à mesure de votre voyage, vous notez la distance entre chaque paire de villes consécutives.\n",
    "\n",
    "Vous souhaitez calculer un tableau de distance qui indique la distance entre deux des villes que vous avez rencontrées.\n",
    "\n",
    "### Entrée 🔠\n",
    "La première ligne contient 4 entiers positifs inférieurs à 1 000, chacun représentant les distances entre des paires de villes consécutives : plus précisément, le `i`ème entier représente la distance entre la ville `i` et la ville `i+1`.\n",
    "\n",
    "### Sortie 🖥️\n",
    "La sortie doit être de 5 lignes, la `i`ème ligne (`1<=i<=5`) contenant la distance de la ville `i` aux villes 1,2,3,4,5 dans l'ordre, séparées par un espace.\n",
    "\n",
    "### Exemples 👀\n",
    "\n",
    "Entée: 3 10 12 5\n",
    "\n",
    "> Sortie : \n",
    "\n",
    "0 3 13 25 30 \n",
    "\n",
    "3 0 10 22 27 \n",
    "\n",
    "13 10 0 12 17 \n",
    "\n",
    "25 22 12 0 5 \n",
    "\n",
    "30 27 17 5 0 \n",
    "\n",
    "**Explication de la première ligne:**\n",
    "\n",
    "0, car la distance de la ville 1 à la ville 1 est de 0\n",
    "\n",
    "3, car la distance entre 1 et 2 est 3\n",
    "\n",
    "13, car la distance entre 1 et 3 est 3 + \n",
    "10\n",
    "\n",
    "25, car la distance entre 1 et 4 est 3+10+12=25\n",
    "\n",
    "30, car la distance entre 1 et 5 est 3 + 10 + 12 + 5 = 30"
   ]
  },
  {
   "cell_type": "markdown",
   "id": "11bac7a3-2dc0-4833-a093-c8b2bda2df1e",
   "metadata": {},
   "source": [
    "### Votre solution: "
   ]
  },
  {
   "cell_type": "code",
   "execution_count": 19,
   "id": "07f041d7-0391-4ed1-978d-b8de44d61205",
   "metadata": {},
   "outputs": [
    {
     "name": "stdout",
     "output_type": "stream",
     "text": [
      "0  3  13 25 30 \n",
      "3  0  10 22 27 \n",
      "13 10 0  12 17 \n",
      "25 22 12 0  5  \n",
      "30 27 17 5  0  \n",
      "\n",
      "None\n"
     ]
    }
   ],
   "source": [
    "def matrice_distance(dist_villes: list) -> list:\n",
    "    matrice_dist = []\n",
    "\n",
    "    # INITIALISATION DE LA MATRICE 2*2\n",
    "    for i in range(len(dist_villes) + 1):\n",
    "        temp = []\n",
    "        for j in range(len(dist_villes) + 1):\n",
    "            temp.append(0)\n",
    "        matrice_dist.append(temp)\n",
    "\n",
    "    # INITIALISATION DE LA PREMIERE LIGNE\n",
    "    for i in range(len(dist_villes)):\n",
    "        result = dist_villes[i] + matrice_dist[0][i]\n",
    "        matrice_dist[0][i + 1] = result\n",
    "        matrice_dist[i + 1][0] = result\n",
    "\n",
    "    for i in range(1, len(matrice_dist)):\n",
    "        for j in range(i, len(matrice_dist)):\n",
    "            if (i == j):\n",
    "                result = 0\n",
    "            else:\n",
    "                result = matrice_dist[i - 1][j] - matrice_dist[i - 1][i]\n",
    "            matrice_dist[i][j] = result\n",
    "            matrice_dist[j][i] = result\n",
    "\n",
    "    return matrice_dist\n",
    "\n",
    "def affiche_matrice(matrice_distance: list):\n",
    "    str_row = \"\"\n",
    "    for row in matrice_distance:\n",
    "        for col in row:\n",
    "            str_row += \"{:3s}\".format(str(col))\n",
    "        str_row += '\\n'\n",
    "    print(str_row)\n",
    "\n",
    "print(affiche_matrice(matrice_distance([3, 10, 12, 5])))"
   ]
  },
  {
   "cell_type": "markdown",
   "id": "272402c5-a146-42ca-929d-b83ebfd3b597",
   "metadata": {
    "tags": []
   },
   "source": [
    "## [Home](0_Index.ipynb)🏠\n",
    "![licence.png](pics/licence.png) Licence Creative Commons Attribution - Partage dans les Mêmes Conditions 4.0 International"
   ]
  }
 ],
 "metadata": {
  "kernelspec": {
   "display_name": "Python 3.10.6 64-bit",
   "language": "python",
   "name": "python3"
  },
  "language_info": {
   "codemirror_mode": {
    "name": "ipython",
    "version": 3
   },
   "file_extension": ".py",
   "mimetype": "text/x-python",
   "name": "python",
   "nbconvert_exporter": "python",
   "pygments_lexer": "ipython3",
   "version": "3.10.6"
  },
  "vscode": {
   "interpreter": {
    "hash": "4fb435cb9a1efeb2f38d3dce1339521a1fba953090a1346d7eedb3261b9f21ce"
   }
  }
 },
 "nbformat": 4,
 "nbformat_minor": 5
}
