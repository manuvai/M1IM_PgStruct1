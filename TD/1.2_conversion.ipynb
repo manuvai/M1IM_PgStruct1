{
 "cells": [
  {
   "cell_type": "markdown",
   "id": "16e19b0b-ae5c-4d81-a06e-380774bccf99",
   "metadata": {},
   "source": [
    "# Convertir les $ en € et inversement ⭐"
   ]
  },
  {
   "cell_type": "markdown",
   "id": "6cf5c36e-ef11-4e05-accb-8595cee9f14b",
   "metadata": {
    "nbgrader": {
     "grade": false,
     "grade_id": "cell-e8f0192bd90632dc",
     "locked": true,
     "schema_version": 3,
     "solution": false,
     "task": false
    },
    "tags": []
   },
   "source": [
    "### Tâche à réaliser 🎯\n",
    "\n",
    "Ecrire un algoritme permetant de convertir une somme dans une autre monaie. 1 USD = 1,00660 EUR, 1 EUR = 0,99340 USD.\n",
    "    \n",
    "### Entrée 🔠\n",
    "\n",
    "La somme que l'on souhaite convertir.\n",
    "    \n",
    "### Sortie 🖥️\n",
    "Le montant convertit dans la nouvelle devise.\n",
    "    \n",
    "### Exemples 👀\n",
    "\n",
    "Entrée: 10€\n",
    "\n",
    "> Sortie: 8$\n",
    "    \n",
    "Entrée: 10$\n",
    "\n",
    "> Sortie: 1,00660€"
   ]
  },
  {
   "cell_type": "markdown",
   "id": "89f88966-3fd8-4ba5-b7e4-d8a979fd4be5",
   "metadata": {},
   "source": [
    "## Votre solution : "
   ]
  },
  {
   "cell_type": "code",
   "execution_count": 3,
   "id": "32f1cc93-dc13-4f70-9f5c-6fcab0a75732",
   "metadata": {},
   "outputs": [
    {
     "name": "stdout",
     "output_type": "stream",
     "text": [
      "Sortie : 100.0$\n"
     ]
    }
   ],
   "source": [
    "amount_to_convert = input(\"Entrée : \")\n",
    "USD_TO_EUR = 10 / 10.0660\n",
    "EUR_TO_USD = 10 / 8\n",
    "\n",
    "if '$' in amount_to_convert:\n",
    "    print(\"Sortie : {}€\".format(float(amount_to_convert.split('$')[0]) * USD_TO_EUR))\n",
    "elif '€' in amount_to_convert:\n",
    "    print(\"Sortie : {}$\".format(float(amount_to_convert.split('€')[0]) * EUR_TO_USD))\n",
    "else:\n",
    "    print(\"Une erreur est survenue\")"
   ]
  },
  {
   "cell_type": "markdown",
   "id": "423e048e-23ef-4564-b3a9-ff949b58fc84",
   "metadata": {
    "tags": []
   },
   "source": [
    "## [Home](0_Index.ipynb)🏠\n",
    "![licence.png](pics/licence.png) Licence Creative Commons Attribution - Partage dans les Mêmes Conditions 4.0 International"
   ]
  }
 ],
 "metadata": {
  "kernelspec": {
   "display_name": "Python 3.10.6 64-bit",
   "language": "python",
   "name": "python3"
  },
  "language_info": {
   "codemirror_mode": {
    "name": "ipython",
    "version": 3
   },
   "file_extension": ".py",
   "mimetype": "text/x-python",
   "name": "python",
   "nbconvert_exporter": "python",
   "pygments_lexer": "ipython3",
   "version": "3.10.6"
  },
  "vscode": {
   "interpreter": {
    "hash": "4fb435cb9a1efeb2f38d3dce1339521a1fba953090a1346d7eedb3261b9f21ce"
   }
  }
 },
 "nbformat": 4,
 "nbformat_minor": 5
}
