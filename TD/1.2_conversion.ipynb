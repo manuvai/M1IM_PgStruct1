{
 "cells": [
  {
   "cell_type": "markdown",
   "metadata": {},
   "source": [
    "# Convertir les $ en € et inversement ⭐"
   ]
  },
  {
   "cell_type": "markdown",
   "metadata": {
    "nbgrader": {
     "grade": false,
     "grade_id": "cell-e8f0192bd90632dc",
     "locked": true,
     "schema_version": 3,
     "solution": false,
     "task": false
    },
    "tags": []
   },
   "source": [
    "### Tâche à réaliser 🎯\n",
    "\n",
    "Ecrire un algoritme permetant de convertir une somme dans une autre monaie. 1 USD = 1,00660 EUR, 1 EUR = 0,99340 USD.\n",
    "    \n",
    "### Entrée 🔠\n",
    "\n",
    "La somme que l'on souhaite convertir.\n",
    "    \n",
    "### Sortie 🖥️\n",
    "Le montant convertit dans la nouvelle devise.\n",
    "    \n",
    "### Exemples 👀\n",
    "\n",
    "Entrée: 10€\n",
    "\n",
    "> Sortie: 10$\n",
    "    \n",
    "Entrée: 10$\n",
    "\n",
    "> Sortie: 10.0660€"
   ]
  },
  {
   "cell_type": "markdown",
   "metadata": {},
   "source": [
    "## Votre solution : "
   ]
  },
  {
   "cell_type": "code",
   "execution_count": 4,
   "metadata": {},
   "outputs": [
    {
     "name": "stdout",
     "output_type": "stream",
     "text": [
      "Entrée : 10\n",
      "De $ en € : 9.934432743890323€\n",
      "De € en $ : 12.5$\n"
     ]
    }
   ],
   "source": [
    "amount_to_convert = float(input(\"Entrée : \"))\n",
    "USD_TO_EUR = 10 / 10.0660\n",
    "EUR_TO_USD = 10 / 8\n",
    "\n",
    "print(\"De $ en € : {}€\".format(float(amount_to_convert) * USD_TO_EUR))\n",
    "print(\"De € en $ : {}$\".format(float(amount_to_convert) * EUR_TO_USD))\n"
   ]
  },
  {
   "cell_type": "markdown",
   "metadata": {
    "tags": []
   },
   "source": [
    "## [Home](0_Index.ipynb)🏠\n",
    "![licence.png](pics/licence.png) Licence Creative Commons Attribution - Partage dans les Mêmes Conditions 4.0 International"
   ]
  },
  {
   "cell_type": "code",
   "execution_count": null,
   "metadata": {},
   "outputs": [],
   "source": []
  }
 ],
 "metadata": {
  "kernelspec": {
   "display_name": "Python 3",
   "language": "python",
   "name": "python3"
  },
  "language_info": {
   "codemirror_mode": {
    "name": "ipython",
    "version": 3
   },
   "file_extension": ".py",
   "mimetype": "text/x-python",
   "name": "python",
   "nbconvert_exporter": "python",
   "pygments_lexer": "ipython3",
   "version": "3.8.5"
  },
  "vscode": {
   "interpreter": {
    "hash": "4fb435cb9a1efeb2f38d3dce1339521a1fba953090a1346d7eedb3261b9f21ce"
   }
  }
 },
 "nbformat": 4,
 "nbformat_minor": 5
}
