{
 "cells": [
  {
   "cell_type": "markdown",
   "id": "dc350928-8258-4bb5-a64e-95c4f62641da",
   "metadata": {},
   "source": [
    "# Cryptographie ⭐⭐"
   ]
  },
  {
   "cell_type": "markdown",
   "id": "931a4aac-5046-4c10-9166-ec5f3f948fd7",
   "metadata": {
    "nbgrader": {
     "grade": false,
     "grade_id": "cell-e8f0192bd90632dc",
     "locked": true,
     "schema_version": 3,
     "solution": false,
     "task": false
    },
    "tags": []
   },
   "source": [
    "### Tâche à réaliser 🎯\n",
    "\n",
    "Un des plus anciens systèmes de cryptographie (aisément déchiffrable) consiste à décaler les lettres d’un message pour le rendre illisible. Ainsi, les A deviennent des B, les B des C, etc.\n",
    "\n",
    "Ecrivez un algorithme qui demande une phrase à l’utilisateur et qui la code selon ce principe (transformez la chaine récupérée en tableau de char et transformez ce tableau avant de l’afficher).\n",
    "\n",
    "### Entrée 🔠\n",
    "\n",
    "Le texte que l'on souhaite crypter.\n",
    "    \n",
    "### Sortie 🖥️\n",
    "Le texte crypté.\n",
    "    \n",
    "### Exemples 👀\n",
    "\n",
    "Entrée: `Hello World`\n",
    "\n",
    "> Sortie: `Ifmmp Xpsme`"
   ]
  },
  {
   "cell_type": "markdown",
   "id": "345605d1-8696-4160-8b5e-394a66aa37ce",
   "metadata": {},
   "source": [
    "## Votre solution : "
   ]
  },
  {
   "cell_type": "code",
   "execution_count": 1,
   "id": "6a50f7fc-9a21-407a-a588-7882bd26badf",
   "metadata": {},
   "outputs": [
    {
     "name": "stdout",
     "output_type": "stream",
     "text": [
      "Entrée : Hello world\n",
      "'H'\n",
      "I\n",
      "'e'\n",
      "If\n",
      "'l'\n",
      "Ifm\n",
      "'l'\n",
      "Ifmm\n",
      "'o'\n",
      "Ifmmp\n",
      "' '\n",
      "Ifmmp \n",
      "'w'\n",
      "Ifmmp x\n",
      "'o'\n",
      "Ifmmp xp\n",
      "'r'\n",
      "Ifmmp xps\n",
      "'l'\n",
      "Ifmmp xpsm\n",
      "'d'\n",
      "Ifmmp xpsme\n",
      "Sortie : Ifmmp xpsme\n"
     ]
    }
   ],
   "source": [
    "user_prompt = 'Hello world'\n",
    "ALPHABET = 'abcdefghijklmnopqrstuvwxyz'\n",
    "\n",
    "def encrypt(text) -> str:\n",
    "    res = ''\n",
    "    for i in range(len(text)):\n",
    "        c = text[i]\n",
    "        if (ALPHABET.find(c.lower()) < 0):\n",
    "            res = res + '' + c\n",
    "        elif (c == c.upper()):\n",
    "            letter_pos = ALPHABET.find(c.lower())\n",
    "            next_letter_pos = (letter_pos + 1) % 26\n",
    "            res += ALPHABET[next_letter_pos].upper()\n",
    "        else:\n",
    "            letter_pos = ALPHABET.find(c)\n",
    "            next_letter_pos = (letter_pos + 1) % 26\n",
    "            res += ALPHABET[next_letter_pos]\n",
    "        print(f\"'{c}'\")\n",
    "        print(res)\n",
    "    return res\n",
    "\n",
    "print(\"Entrée : {}\".format(user_prompt))\n",
    "print(\"Sortie : {}\".format(encrypt(user_prompt)))\n"
   ]
  },
  {
   "cell_type": "markdown",
   "id": "a932c6dd-b35c-4cad-bf8e-ce18e00ecc7b",
   "metadata": {},
   "source": [
    "Une amélioration (relative) du principe précédent consiste à opérer avec un décalage non de 1, mais d’un nombre quelconque de lettres. \n",
    "\n",
    "Ainsi, par exemple, si l’on choisit un décalage de 12, les A deviennent des M, les B des N, etc. \n",
    "\n",
    "Réalisez un algorithme sur le même principe que le précédent, mais qui demande en plus quel est le décalage à utiliser. "
   ]
  },
  {
   "cell_type": "markdown",
   "id": "85e04d89-857e-4221-b68f-d3b2ea1c2ff0",
   "metadata": {},
   "source": [
    "## Votre solution : "
   ]
  },
  {
   "cell_type": "code",
   "execution_count": null,
   "id": "cf0b6e7f-a1ae-48dc-8a5a-c2a472adbf89",
   "metadata": {},
   "outputs": [],
   "source": []
  },
  {
   "cell_type": "markdown",
   "id": "272402c5-a146-42ca-929d-b83ebfd3b597",
   "metadata": {
    "tags": []
   },
   "source": [
    "## [Home](0_Index.ipynb)🏠\n",
    "![licence.png](pics/licence.png) Licence Creative Commons Attribution - Partage dans les Mêmes Conditions 4.0 International"
   ]
  }
 ],
 "metadata": {
  "kernelspec": {
   "display_name": "Python 3.10.6 64-bit",
   "language": "python",
   "name": "python3"
  },
  "language_info": {
   "codemirror_mode": {
    "name": "ipython",
    "version": 3
   },
   "file_extension": ".py",
   "mimetype": "text/x-python",
   "name": "python",
   "nbconvert_exporter": "python",
   "pygments_lexer": "ipython3",
   "version": "3.10.6"
  },
  "vscode": {
   "interpreter": {
    "hash": "4fb435cb9a1efeb2f38d3dce1339521a1fba953090a1346d7eedb3261b9f21ce"
   }
  }
 },
 "nbformat": 4,
 "nbformat_minor": 5
}
