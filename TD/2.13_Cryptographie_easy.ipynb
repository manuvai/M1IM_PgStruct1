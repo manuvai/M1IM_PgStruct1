{
 "cells": [
  {
   "cell_type": "markdown",
   "metadata": {},
   "source": [
    "# Cryptographie ⭐⭐"
   ]
  },
  {
   "cell_type": "markdown",
   "metadata": {
    "nbgrader": {
     "grade": false,
     "grade_id": "cell-e8f0192bd90632dc",
     "locked": true,
     "schema_version": 3,
     "solution": false,
     "task": false
    },
    "tags": []
   },
   "source": [
    "### Tâche à réaliser 🎯\n",
    "\n",
    "Un des plus anciens systèmes de cryptographie (aisément déchiffrable) consiste à décaler les lettres d’un message pour le rendre illisible. Ainsi, les A deviennent des B, les B des C, etc.\n",
    "\n",
    "Ecrivez un algorithme qui demande une phrase à l’utilisateur et qui la code selon ce principe (transformez la chaine récupérée en tableau de char et transformez ce tableau avant de l’afficher).\n",
    "\n",
    "### Entrée 🔠\n",
    "\n",
    "Le texte que l'on souhaite crypter.\n",
    "    \n",
    "### Sortie 🖥️\n",
    "Le texte crypté.\n",
    "    \n",
    "### Exemples 👀\n",
    "\n",
    "Entrée: `Hello World`\n",
    "\n",
    "> Sortie: `Ifmmp Xpsme`"
   ]
  },
  {
   "cell_type": "markdown",
   "metadata": {},
   "source": [
    "## Votre solution : "
   ]
  },
  {
   "cell_type": "code",
   "execution_count": 11,
   "metadata": {},
   "outputs": [
    {
     "name": "stdout",
     "output_type": "stream",
     "text": [
      "Entrée : Hello world\n",
      "Sortie : Afmmp xpsme\n",
      "Sortie : Ifmmp!xpsme\n"
     ]
    }
   ],
   "source": [
    "user_prompt = 'Hello world'\n",
    "ALPHABET = 'abcdefghijklmnopqrstuvwxyz'\n",
    "\n",
    "def encrypt1(text: str) -> str:\n",
    "    res = ''\n",
    "    for c in text:\n",
    "        to_concatenate = ''\n",
    "        if (ALPHABET.find(c.lower()) < 0):\n",
    "            to_concatenate = '' + c\n",
    "        else:\n",
    "            letter_pos = ALPHABET.find(c)\n",
    "            next_letter_pos = (letter_pos + 1) % 26\n",
    "            to_concatenate = '' + ALPHABET[next_letter_pos]\n",
    "        if (c == c.upper()):\n",
    "            to_concatenate = to_concatenate.upper()\n",
    "        res += to_concatenate\n",
    "    return res\n",
    "\n",
    "def encrypt2(text: str) -> str:\n",
    "    res = ''\n",
    "    for c in text:\n",
    "        res += chr(ord(c) + 1)\n",
    "    return res\n",
    "\n",
    "print(\"Entrée : {}\".format(user_prompt))\n",
    "print(\"Sortie : {}\".format(encrypt1(user_prompt)))\n",
    "print(\"Sortie : {}\".format(encrypt2(user_prompt)))\n"
   ]
  },
  {
   "cell_type": "markdown",
   "metadata": {},
   "source": [
    "Une amélioration (relative) du principe précédent consiste à opérer avec un décalage non de 1, mais d’un nombre quelconque de lettres. \n",
    "\n",
    "Ainsi, par exemple, si l’on choisit un décalage de 12, les A deviennent des M, les B des N, etc. \n",
    "\n",
    "Réalisez un algorithme sur le même principe que le précédent, mais qui demande en plus quel est le décalage à utiliser. "
   ]
  },
  {
   "cell_type": "markdown",
   "metadata": {},
   "source": [
    "## Votre solution : "
   ]
  },
  {
   "cell_type": "code",
   "execution_count": null,
   "metadata": {},
   "outputs": [],
   "source": []
  },
  {
   "cell_type": "markdown",
   "metadata": {
    "tags": []
   },
   "source": [
    "## [Home](0_Index.ipynb)🏠\n",
    "![licence.png](pics/licence.png) Licence Creative Commons Attribution - Partage dans les Mêmes Conditions 4.0 International"
   ]
  }
 ],
 "metadata": {
  "kernelspec": {
   "display_name": "Python 3",
   "language": "python",
   "name": "python3"
  },
  "language_info": {
   "codemirror_mode": {
    "name": "ipython",
    "version": 3
   },
   "file_extension": ".py",
   "mimetype": "text/x-python",
   "name": "python",
   "nbconvert_exporter": "python",
   "pygments_lexer": "ipython3",
   "version": "3.8.5"
  },
  "vscode": {
   "interpreter": {
    "hash": "4fb435cb9a1efeb2f38d3dce1339521a1fba953090a1346d7eedb3261b9f21ce"
   }
  }
 },
 "nbformat": 4,
 "nbformat_minor": 5
}
