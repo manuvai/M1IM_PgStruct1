{
 "cells": [
  {
   "cell_type": "markdown",
   "metadata": {
    "tags": []
   },
   "source": [
    "# Tirage 3 dés ⭐⭐"
   ]
  },
  {
   "cell_type": "markdown",
   "metadata": {
    "nbgrader": {
     "grade": false,
     "grade_id": "cell-e8f0192bd90632dc",
     "locked": true,
     "schema_version": 3,
     "solution": false,
     "task": false
    },
    "tags": []
   },
   "source": [
    "### Tâche à réaliser 🎯\n",
    "\n",
    "Ecrire le code de la fonction `F_tirage3des(max)` retournant trois valeurs tirées au hasard entre 1 et max inclus.\n",
    "Indications : \n",
    "- Importer la bibliothèque random pour effectuer des tirages au hasard de 3 dés\n",
    "- La fonction `randint(a,b)` renvoie un entier compris entre a et b INCLUS\n",
    "  \n",
    "### Entrée 🔠\n",
    "En paramètre : un entier supérieur ou égal à 1\n",
    "    \n",
    "### Sortie 🖥️\n",
    "Un tuple composé de 3 entiers\n",
    "    \n",
    "### Exemples 👀\n",
    "\n",
    "Appel: `F_tirage3des(6)`\n",
    "\n",
    "> Sortie : `(3,1,5)`  Valeurs variables car tirage aléatoire"
   ]
  },
  {
   "cell_type": "markdown",
   "metadata": {},
   "source": [
    "## Votre solution : "
   ]
  },
  {
   "cell_type": "code",
   "execution_count": 11,
   "metadata": {},
   "outputs": [
    {
     "name": "stdout",
     "output_type": "stream",
     "text": [
      "(1, 2, 2)\n"
     ]
    }
   ],
   "source": [
    "import random\n",
    "def F_tirage3des (max) -> tuple :\n",
    "    \"\"\" Fonction retournant trois valeurs tirées au hasard entre 1 et max inclus\n",
    "    En entrée : max (entier)\n",
    "    En sortie : un tuple composé de 3 entiers\n",
    "    Précondition : max est un nombre >= 1 \n",
    "    \"\"\"\n",
    "    assert max >= 1\n",
    "    \n",
    "    return (random.randint(1, max), random.randint(1, max), random.randint(1, max))\n",
    "\n",
    "print (F_tirage3des(6))"
   ]
  },
  {
   "cell_type": "markdown",
   "metadata": {
    "nbgrader": {
     "grade": false,
     "grade_id": "cell-e8f0192bd90632dc",
     "locked": true,
     "schema_version": 3,
     "solution": false,
     "task": false
    },
    "tags": []
   },
   "source": [
    "### Tâche à réaliser 🎯\n",
    "\n",
    "Ecrire la définition de la fonction `F_somme3des(t)` retournant la somme des trois valeurs inclues dans le paramètre t.\n",
    "  \n",
    "### Entrée 🔠\n",
    "En paramètre : t (tuple composé de 3 entiers) \n",
    "    \n",
    "### Sortie 🖥️\n",
    "Un entier\n",
    "    \n",
    "### Exemples 👀\n",
    "\n",
    "Appel: `F_somme3des((3,5,3))`\n",
    "\n",
    "> Sortie : `11`"
   ]
  },
  {
   "cell_type": "code",
   "execution_count": 2,
   "metadata": {},
   "outputs": [],
   "source": [
    "def F_somme3des(t) :\n",
    "    \"\"\" Fonction retournant la somme des trois valeurs inclues dans le paramètre t\n",
    "    En entrée : t (tuple composé de 3 entiers)\n",
    "    En sortie : somme (entier)\n",
    "    \"\"\"\n",
    "    "
   ]
  },
  {
   "cell_type": "markdown",
   "metadata": {
    "nbgrader": {
     "grade": false,
     "grade_id": "cell-e8f0192bd90632dc",
     "locked": true,
     "schema_version": 3,
     "solution": false,
     "task": false
    },
    "tags": []
   },
   "source": [
    "### Tâche à réaliser 🎯\n",
    "\n",
    "En utilisant les deux fonctions précédentes, écrire un programme qui lance le tirage de 3 dès de 6 faces, fait la somme des trois tirages et affiche le message :\n",
    "- Gagné si la somme est supérieure à 12\n",
    "- Rejouez si la somme est comprise entre 6 et 12 inclus\n",
    "- Perdu si la somme est inférieure à 6\n",
    "  \n",
    "### Entrée 🔠\n",
    "Aucune\n",
    "    \n",
    "### Sortie 🖥️\n",
    "Un des messages précédents.\n",
    "    \n",
    "### Exemples 👀\n",
    "Lancer plusieurs fois votre programme pour vérifier que les 3 cas sont corrects (afficher les valeurs des dés pour vérifier)."
   ]
  },
  {
   "cell_type": "code",
   "execution_count": null,
   "metadata": {},
   "outputs": [],
   "source": []
  },
  {
   "cell_type": "markdown",
   "metadata": {
    "tags": []
   },
   "source": [
    "## [Home](0_Index.ipynb)🏠\n",
    "![licence.png](pics/licence.png) Licence Creative Commons Attribution - Partage dans les Mêmes Conditions 4.0 International"
   ]
  }
 ],
 "metadata": {
  "kernelspec": {
   "display_name": "Python 3",
   "language": "python",
   "name": "python3"
  },
  "language_info": {
   "codemirror_mode": {
    "name": "ipython",
    "version": 3
   },
   "file_extension": ".py",
   "mimetype": "text/x-python",
   "name": "python",
   "nbconvert_exporter": "python",
   "pygments_lexer": "ipython3",
   "version": "3.8.5"
  }
 },
 "nbformat": 4,
 "nbformat_minor": 5
}
