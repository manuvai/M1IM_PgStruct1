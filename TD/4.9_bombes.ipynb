{
 "cells": [
  {
   "cell_type": "markdown",
   "id": "dc350928-8258-4bb5-a64e-95c4f62641da",
   "metadata": {},
   "source": [
    "# Démineur simple ⭐⭐"
   ]
  },
  {
   "cell_type": "markdown",
   "id": "931a4aac-5046-4c10-9166-ec5f3f948fd7",
   "metadata": {
    "nbgrader": {
     "grade": false,
     "grade_id": "cell-e8f0192bd90632dc",
     "locked": true,
     "schema_version": 3,
     "solution": false,
     "task": false
    },
    "tags": []
   },
   "source": [
    "## Tâche à réaliser 🎯\n",
    "\n",
    "Soit un damier de jeu de 10 cases sur 10. Des bombes sont positionnées aléatoirement dans le damier.  \n",
    "L'utilisateur va devoir toucher des cases du damier sans le faire exploser.\n",
    "\n",
    "**Etape 1 :** Placer N bombes sur le damier.  \n",
    "Ecrire une fonction placeBombes(N) qui renvoie la liste des positions (X,Y) de N bombes positionnées au hasard dans le damier\n",
    "    \n",
    "### Entrée 🔠\n",
    "Un nombre de bombe N à placer \n",
    "    \n",
    "### Sortie 🖥️\n",
    "Une liste de N listes de forme[X,Y] \n",
    "    \n",
    "### Exemple 👀\n",
    "\n",
    "Entrée: 2\n",
    "\n",
    "> Sortie: [[9, 5], [6, 6]] valeurs variant car tirage aléatoire des positions"
   ]
  },
  {
   "cell_type": "markdown",
   "id": "345605d1-8696-4160-8b5e-394a66aa37ce",
   "metadata": {},
   "source": [
    "### Votre solution : "
   ]
  },
  {
   "cell_type": "code",
   "execution_count": 1,
   "id": "6a50f7fc-9a21-407a-a588-7882bd26badf",
   "metadata": {},
   "outputs": [
    {
     "name": "stdout",
     "output_type": "stream",
     "text": [
      "[[9, 1], [6, 2]]\n"
     ]
    }
   ],
   "source": [
    "import random\n",
    "NB_CASES_X = 10\n",
    "NB_CASES_Y = 10\n",
    "\n",
    "def placeBombes(n: int) -> list:\n",
    "    list_bombs = []\n",
    "    for i in range(n):\n",
    "        list_bombs.append([random.randint(0, NB_CASES_X - 1), random.randint(0, NB_CASES_X - 1)])\n",
    "    return list_bombs\n",
    "\n",
    "print(placeBombes(2))"
   ]
  },
  {
   "cell_type": "markdown",
   "id": "4e20c9f9-72c4-4047-9456-043948c3f52e",
   "metadata": {
    "nbgrader": {
     "grade": false,
     "grade_id": "cell-e8f0192bd90632dc",
     "locked": true,
     "schema_version": 3,
     "solution": false,
     "task": false
    },
    "tags": []
   },
   "source": [
    "## Tâche à réaliser 🎯\n",
    "\n",
    "**Etape 2 :** Le joueur va toucher une case du damier en indiquant ses coordonnées. Si celle-ci contient une bombe, un message s'affiche et la fonction retourne 1, sinon la fonction retourne 0\n",
    "    \n",
    "### Entrée 🔠\n",
    "Une liste de positions des bombes (créé lors de la fonction précédente)  \n",
    "Une liste [X,Y] des coordonnées de la case touchée par le joueur\n",
    "    \n",
    "### Sortie 🖥️\n",
    "1 ou 0\n"
   ]
  },
  {
   "cell_type": "markdown",
   "id": "373a903b-a957-42ff-9a37-dea09fafbdb8",
   "metadata": {},
   "source": [
    "### Votre solution : "
   ]
  },
  {
   "cell_type": "code",
   "execution_count": 3,
   "id": "b8c7a8bc-c277-4326-93e4-f4f506fe97c4",
   "metadata": {},
   "outputs": [
    {
     "name": "stdout",
     "output_type": "stream",
     "text": [
      "0\n"
     ]
    }
   ],
   "source": [
    "def isBombTouched(list_bombs: list, coords: list):\n",
    "    for bomb in list_bombs:\n",
    "        if (coords == bomb):\n",
    "            return 1\n",
    "        \n",
    "    return 0\n",
    "\n",
    "print(isBombTouched([[9, 1], [6, 2]], [9, 0]))"
   ]
  },
  {
   "cell_type": "markdown",
   "id": "036f12d5-68ef-438a-8f3e-0cb93058d824",
   "metadata": {
    "nbgrader": {
     "grade": false,
     "grade_id": "cell-e8f0192bd90632dc",
     "locked": true,
     "schema_version": 3,
     "solution": false,
     "task": false
    },
    "tags": []
   },
   "source": [
    "## Tâche à réaliser 🎯\n",
    "\n",
    "**Etape 3 :** En début du jeu, un menu va proposer au joueur plusieurs niveaux de difficultés, chaque niveau correspondant à un nombre de bombes et un nombre de cases à toucher prédéfinis.  \n",
    "Par exemple :  \n",
    "niveau 1 : 1 bombe et 1 touché  \n",
    "niveau 2 : 5 bombes et 2 touchés  \n",
    "niveau 3 : 5 bombes et 5 touchés  \n",
    "     \n",
    "### Entrée 🔠\n",
    "Aucun paramètre  \n",
    "Saisie du niveau souhaité\n",
    "    \n",
    "### Sortie 🖥️\n",
    "Un tuple contenant (le nombre de bombes, le nombre de touché)\n",
    "\n",
    "Etape 3 : En début du jeu, un menu va proposer au joueur plusieurs niveaux de difficultés, chaque niveau correspondant à un nombre de bombes et un nombre de cases à toucher prédéfinies. \n",
    "Par exemple : le niveau 1 correspond à 1 bombe sur le damier et 1 case à toucher par le joueur, le niveau 2 correspond à 5 bombes sur le damier et 2 cases à toucher par le joueur sans rien faire exploser pour gagner ce qui est plus compliqué.\n",
    "\n"
   ]
  },
  {
   "cell_type": "code",
   "execution_count": 8,
   "id": "b9acfb33-da31-4724-8a63-692b02ee6b9b",
   "metadata": {},
   "outputs": [
    {
     "name": "stdout",
     "output_type": "stream",
     "text": [
      "Vous devez choisir un niveau de difficulté :\n",
      "niveau 1 : 1 bombe et 1 touché\n",
      "niveau 2 : 5 bombes et 2 touchés\n",
      "niveau 3 : 5 bombes et 5 touchés\n",
      "(1, 1)\n"
     ]
    }
   ],
   "source": [
    "def selection_niveau() -> tuple:\n",
    "    print(\"Vous devez choisir un niveau de difficulté :\\nniveau 1 : 1 bombe et 1 touché\\nniveau 2 : 5 bombes et 2 touchés\\nniveau 3 : 5 bombes et 5 touchés\")\n",
    "    level = int(input(\"Veuillez choisir entre 1, 2 et 3 : \"))\n",
    "\n",
    "    assert not (level < 1 or level > 3), \"Vous devez choisir entre 1, 2 et 3\"\n",
    "\n",
    "    nb_bombs = [1, 5, 5]\n",
    "    nb_touch = [1, 2, 5]\n",
    "\n",
    "    return (nb_bombs[level - 1], nb_touch[level - 1])\n",
    "\n",
    "print(selection_niveau())"
   ]
  },
  {
   "cell_type": "markdown",
   "id": "e5dfcbac-2496-455d-ad91-7b30b7ec5833",
   "metadata": {
    "nbgrader": {
     "grade": false,
     "grade_id": "cell-e8f0192bd90632dc",
     "locked": true,
     "schema_version": 3,
     "solution": false,
     "task": false
    },
    "tags": []
   },
   "source": [
    "## Tâche à réaliser 🎯\n",
    "\n",
    "**Etape 4 :** Mise en place du jeu  \n",
    "1.\tAffichage du menu\n",
    "2.\tCréation de la liste des bombes dans le damier en fonction du choix du menu\n",
    "3.\tJeu : le joueur touche une case. Si cette case contient une bombe, le jeu est terminé sinon il doit rejouer tant qu'il a des cases à toucher selon le choix du menu.\n",
    "4.\tAffichage du résultat du jeu :  \n",
    "-\tSoit le joueur a perdu car il a fait exploser une bombe. \n",
    "-\tSoit le joueur a touché toutes ses cases sans les faire exploser, il a gagné et le jeu lui donne la position des bombes dans le damier\n",
    "   \n",
    "### Entrée 🔠\n",
    "Aucune\n",
    "    \n",
    "### Sortie 🖥️\n",
    "Message\n"
   ]
  },
  {
   "cell_type": "code",
   "execution_count": 10,
   "id": "7a267cb8-7a0e-4581-852a-053f2741ca1e",
   "metadata": {},
   "outputs": [
    {
     "name": "stdout",
     "output_type": "stream",
     "text": [
      "Vous devez choisir un niveau de difficulté :\n",
      "niveau 1 : 1 bombe et 1 touché\n",
      "niveau 2 : 5 bombes et 2 touchés\n",
      "niveau 3 : 5 bombes et 5 touchés\n",
      "Vous avez perdu !\n"
     ]
    }
   ],
   "source": [
    "nb_bombs, nb_coups = selection_niveau()\n",
    "\n",
    "bombs = placeBombes(nb_bombs)\n",
    "bomb_touched = False\n",
    "i = 0\n",
    "while (i < nb_coups and not bomb_touched):\n",
    "    x = int(input(\"Veuillez choisir une position X : \"))\n",
    "    y = int(input(\"Veuillez choisir une position Y : \"))\n",
    "    user_prompt = [x, y]\n",
    "\n",
    "    if (isBombTouched(bombs, user_prompt) == 1):\n",
    "        bomb_touched = True\n",
    "    i+=1\n",
    "if (bomb_touched):\n",
    "    print(\"Vous avez perdu !\")\n",
    "else:\n",
    "    print(\"Vous avez gagné, voici les positions des bombes dans le dammier :\", bombs)"
   ]
  },
  {
   "cell_type": "markdown",
   "id": "272402c5-a146-42ca-929d-b83ebfd3b597",
   "metadata": {
    "tags": []
   },
   "source": [
    "## [Home](0_Index.ipynb)🏠\n",
    "![licence.png](pics/licence.png) Licence Creative Commons Attribution - Partage dans les Mêmes Conditions 4.0 International"
   ]
  }
 ],
 "metadata": {
  "kernelspec": {
   "display_name": "Python 3.10.6 64-bit",
   "language": "python",
   "name": "python3"
  },
  "language_info": {
   "codemirror_mode": {
    "name": "ipython",
    "version": 3
   },
   "file_extension": ".py",
   "mimetype": "text/x-python",
   "name": "python",
   "nbconvert_exporter": "python",
   "pygments_lexer": "ipython3",
   "version": "3.10.6"
  },
  "vscode": {
   "interpreter": {
    "hash": "4fb435cb9a1efeb2f38d3dce1339521a1fba953090a1346d7eedb3261b9f21ce"
   }
  }
 },
 "nbformat": 4,
 "nbformat_minor": 5
}
