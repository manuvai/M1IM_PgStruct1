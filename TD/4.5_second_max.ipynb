{
 "cells": [
  {
   "cell_type": "markdown",
   "id": "dc350928-8258-4bb5-a64e-95c4f62641da",
   "metadata": {},
   "source": [
    "# Second maximum ⭐"
   ]
  },
  {
   "cell_type": "markdown",
   "id": "931a4aac-5046-4c10-9166-ec5f3f948fd7",
   "metadata": {
    "nbgrader": {
     "grade": false,
     "grade_id": "cell-e8f0192bd90632dc",
     "locked": true,
     "schema_version": 3,
     "solution": false,
     "task": false
    },
    "tags": []
   },
   "source": [
    "### Tâche à réaliser 🎯\n",
    "\n",
    "Ecrire une fonction recevant une liste de nombres et renvoyant le second maximum.\n",
    "    \n",
    "### Entrée 🔠\n",
    "\n",
    "Une liste de nombres entiers et/ou flottants.\n",
    "    \n",
    "### Sortie 🖥️\n",
    "Le second maximum de cette liste.\n",
    "    \n",
    "### Exemples 👀\n",
    "\n",
    "Entrée: `[4,12,9,1,8,15]`\n",
    "\n",
    "> Sortie: `12`"
   ]
  },
  {
   "cell_type": "markdown",
   "id": "345605d1-8696-4160-8b5e-394a66aa37ce",
   "metadata": {},
   "source": [
    "## Votre solution : "
   ]
  },
  {
   "cell_type": "code",
   "execution_count": 4,
   "id": "6a50f7fc-9a21-407a-a588-7882bd26badf",
   "metadata": {},
   "outputs": [
    {
     "data": {
      "text/plain": [
       "15"
      ]
     },
     "execution_count": 4,
     "metadata": {},
     "output_type": "execute_result"
    }
   ],
   "source": [
    "def getSecondMax(table) -> int:\n",
    "    n1 = None\n",
    "    n2 = None\n",
    "\n",
    "    for el in table:\n",
    "        if (n1 is None):\n",
    "            n1 = el\n",
    "        elif (n2 is None):\n",
    "            if (n1 > el):\n",
    "                n2 = el\n",
    "            else:\n",
    "                n1, n2 = el, n1\n",
    "        else:\n",
    "            if (n1 < el):\n",
    "                n1, n2 = el, n1\n",
    "            elif (n2 < el):\n",
    "                n2 = el\n",
    "\n",
    "    return n2\n",
    "\n",
    "getSecondMax([1, 15, 20, 8, 10, 9])\n"
   ]
  },
  {
   "cell_type": "markdown",
   "id": "272402c5-a146-42ca-929d-b83ebfd3b597",
   "metadata": {
    "tags": []
   },
   "source": [
    "## [Home](0_Index.ipynb)🏠\n",
    "![licence.png](pics/licence.png) Licence Creative Commons Attribution - Partage dans les Mêmes Conditions 4.0 International"
   ]
  }
 ],
 "metadata": {
  "kernelspec": {
   "display_name": "Python 3.10.6 64-bit",
   "language": "python",
   "name": "python3"
  },
  "language_info": {
   "codemirror_mode": {
    "name": "ipython",
    "version": 3
   },
   "file_extension": ".py",
   "mimetype": "text/x-python",
   "name": "python",
   "nbconvert_exporter": "python",
   "pygments_lexer": "ipython3",
   "version": "3.10.6"
  },
  "vscode": {
   "interpreter": {
    "hash": "4fb435cb9a1efeb2f38d3dce1339521a1fba953090a1346d7eedb3261b9f21ce"
   }
  }
 },
 "nbformat": 4,
 "nbformat_minor": 5
}
