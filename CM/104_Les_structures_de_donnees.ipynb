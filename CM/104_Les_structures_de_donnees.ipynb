{
 "cells": [
  {
   "cell_type": "markdown",
   "id": "6f937d76",
   "metadata": {
    "slideshow": {
     "slide_type": "slide"
    }
   },
   "source": [
    "# ![./pics/logo_ut1.jpg](./pics/logo_ut1.jpg) Master 1 Ingénierie Métier (IM) : Programmation Structurée 1 2022/2023\n",
    "\n",
    "# Les structures de données\n",
    "\n",
    "### Equipe pédagogique \n",
    "    Sophie Martinez - Sophie.Martinez@ut-capitole.fr\n",
    "    Laurent Marsan - Laurent.Marsan@ut-capitole.fr\n",
    "    Nicolas Verstaevel - Nicolas.Verstaevel@ut-capitole.fr"
   ]
  },
  {
   "cell_type": "markdown",
   "id": "b9ddbd4a",
   "metadata": {
    "slideshow": {
     "slide_type": "slide"
    }
   },
   "source": [
    "# On a vu\n",
    "* ✔️ Un algorithme est un enchainement de **séquences** manipulant des **variables** et des **opérateurs** \n",
    "* ✔️ On peut contrôler l'enchainement à l'aide de deux **structures de contrôle**:\n",
    "* ✔️ 1. Les enchainement conditionnels (**If,else**, **if, elif,else**)\n",
    "* ✔️ 2. Les répétitions (**While**,**for**,**for i in range**)\n",
    "* ✔️ On peut utiliser des **procédures** ou des **fonctions**"
   ]
  },
  {
   "cell_type": "markdown",
   "id": "63918349",
   "metadata": {
    "slideshow": {
     "slide_type": "slide"
    }
   },
   "source": [
    "Une **variable** permet de manipuler une **unique valeur**.\n",
    "\n",
    "Si je veux manipuler plusieurs valeurs, je dois créer plusieurs variables.\n",
    "\n",
    "Par exemple, si je sais que je veux manipuler 3 entiers:"
   ]
  },
  {
   "cell_type": "code",
   "execution_count": 3,
   "id": "79bdde06",
   "metadata": {
    "slideshow": {
     "slide_type": "-"
    }
   },
   "outputs": [],
   "source": [
    "x1 = 0\n",
    "x2 = 10\n",
    "x3 = 20"
   ]
  },
  {
   "cell_type": "markdown",
   "id": "878be2e0",
   "metadata": {},
   "source": [
    "Comment faire si je ne connais pas à l'avance le nombre de variables que je veux manipuler ? 🤔"
   ]
  },
  {
   "cell_type": "markdown",
   "id": "83064298",
   "metadata": {
    "slideshow": {
     "slide_type": "slide"
    }
   },
   "source": [
    "# Un exemple pas à pas\n",
    "**Tâche à réaliser** 🎯\n",
    "\n",
    "* Je souhaite calculer la moyenne d'une série de nombre fournies par l'utilisateur. Le nombre *n* de saisies est a priori inconnu. \n",
    "    \n",
    "**Entrée**🔠 $n$ nombres $x$ saisies par l'utilisateur.\n",
    "\n",
    "**Précondition** $\\forall i \\in [1,n], x_{i} \\in \\mathbf{R} $ \n",
    "    \n",
    "**Sortie** 🖥️: Le résultat du calcul $\\frac{\\sum_{i=1}^{n} x_{i}}{n}$"
   ]
  },
  {
   "cell_type": "markdown",
   "id": "11079ca0",
   "metadata": {
    "slideshow": {
     "slide_type": "slide"
    }
   },
   "source": [
    "**1ère étape**: Je créer une fonction \t```lire_nombre()->int``` qui me retourne l'entier saisie par l'utilisateur"
   ]
  },
  {
   "cell_type": "code",
   "execution_count": 1,
   "id": "ec3762ff",
   "metadata": {
    "slideshow": {
     "slide_type": "fragment"
    }
   },
   "outputs": [],
   "source": [
    "def lire_nombre()-> int:\n",
    "    return int(input(\"Saisissez votre nombre: \"))"
   ]
  },
  {
   "cell_type": "code",
   "execution_count": 9,
   "id": "6a8718f8",
   "metadata": {
    "scrolled": true,
    "slideshow": {
     "slide_type": "fragment"
    }
   },
   "outputs": [
    {
     "name": "stdout",
     "output_type": "stream",
     "text": [
      "Saisissez votre nombre: 1\n"
     ]
    },
    {
     "data": {
      "text/plain": [
       "1"
      ]
     },
     "execution_count": 9,
     "metadata": {},
     "output_type": "execute_result"
    }
   ],
   "source": [
    "lire_nombre()"
   ]
  },
  {
   "cell_type": "markdown",
   "id": "72b2bb0a",
   "metadata": {
    "slideshow": {
     "slide_type": "slide"
    }
   },
   "source": [
    "**2ème étape**: Je créer une fonction \t```voulez_vous_continuer()->bool``` qui retourne *True* si l'utilisateur veut continuer, *False* sinon.  "
   ]
  },
  {
   "cell_type": "code",
   "execution_count": 4,
   "id": "235f25f8",
   "metadata": {
    "slideshow": {
     "slide_type": "fragment"
    }
   },
   "outputs": [],
   "source": [
    "def voulez_vous_continuer()->bool:\n",
    "    reponse_utilisateur = input(\"Voulez-vous continuer? y/n \")\n",
    "    return reponse_utilisateur == \"y\" or reponse_utilisateur == \"Y\""
   ]
  },
  {
   "cell_type": "code",
   "execution_count": 3,
   "id": "837f90e3",
   "metadata": {
    "slideshow": {
     "slide_type": "fragment"
    }
   },
   "outputs": [
    {
     "name": "stdout",
     "output_type": "stream",
     "text": [
      "Voulez-vous continuer? y/n n\n"
     ]
    },
    {
     "data": {
      "text/plain": [
       "True"
      ]
     },
     "execution_count": 3,
     "metadata": {},
     "output_type": "execute_result"
    }
   ],
   "source": [
    "voulez_vous_continuer()"
   ]
  },
  {
   "cell_type": "markdown",
   "id": "e99cfc4e",
   "metadata": {
    "slideshow": {
     "slide_type": "slide"
    }
   },
   "source": [
    "**3ème étape**: Tant que l'utilisateur veut continuer, je lui demande de saisir un nombre et je compte le nombre de saisies."
   ]
  },
  {
   "cell_type": "code",
   "execution_count": 10,
   "id": "fad1a9ae",
   "metadata": {
    "scrolled": true,
    "slideshow": {
     "slide_type": "fragment"
    }
   },
   "outputs": [
    {
     "name": "stdout",
     "output_type": "stream",
     "text": [
      "Voulez-vous continuer? y/n n\n"
     ]
    }
   ],
   "source": [
    "n = 0\n",
    "while(voulez_vous_continuer()):\n",
    "    x = lire_nombre()\n",
    "    n = n + 1"
   ]
  },
  {
   "cell_type": "markdown",
   "id": "e37af9b3",
   "metadata": {
    "slideshow": {
     "slide_type": "slide"
    }
   },
   "source": [
    "**4ème étape**: A chaque tour de boucle, j'ajoute la valeur de l'utilisateur à une somme. Enfin, je calcul la moyenne."
   ]
  },
  {
   "cell_type": "code",
   "execution_count": 8,
   "id": "e03ea83f",
   "metadata": {
    "scrolled": true,
    "slideshow": {
     "slide_type": "fragment"
    }
   },
   "outputs": [
    {
     "name": "stdout",
     "output_type": "stream",
     "text": [
      "Voulez-vous continuer? y/n y\n",
      "Saisissez votre nombre: 1\n",
      "Voulez-vous continuer? y/n y\n",
      "Saisissez votre nombre: 2\n",
      "Voulez-vous continuer? y/n y\n",
      "Saisissez votre nombre: 3\n",
      "Voulez-vous continuer? y/n n\n",
      "La moyenne est : 2.0\n"
     ]
    }
   ],
   "source": [
    "n = 0\n",
    "somme = 0\n",
    "while(voulez_vous_continuer()):\n",
    "    somme = somme + lire_nombre()\n",
    "    n = n + 1\n",
    "print(\"La moyenne est : \" + str(somme/n))"
   ]
  },
  {
   "cell_type": "markdown",
   "id": "29ccd0a6",
   "metadata": {
    "slideshow": {
     "slide_type": "fragment"
    }
   },
   "source": [
    "<div class=\"alert alert-block alert-info\">\n",
    "<b>Remarque:</b> Notre solution fonctionne, mais elle agrège les valeurs dans la variable somme. On ne peut pas réutiliser les valeurs saisies par l'utilisateur pour effectuer d'autres calculs (ex: Max, Min, ...). Il nous faut une structure de donnée pour pouvoir manipuler nos données.\n",
    "</div>"
   ]
  },
  {
   "cell_type": "markdown",
   "id": "a1b5fafd",
   "metadata": {
    "slideshow": {
     "slide_type": "slide"
    }
   },
   "source": [
    "# Les structures de données\n",
    "Les **structures de données** sont des moyens spécifiques d’organiser et de stocker des données afin qu’elles puissent être consultées et travaillées de manière efficace. \n",
    "\n",
    "Les structures de données définissent la **relation entre les données et les opérations** pouvant être effectuées dessus.\n",
    "\n",
    "Il existent plusieurs structures de données, et vous pouvez créer vos propres structures en fonction de vos besoins."
   ]
  },
  {
   "cell_type": "markdown",
   "id": "9d053047",
   "metadata": {
    "slideshow": {
     "slide_type": "slide"
    }
   },
   "source": [
    "Nous allons étudier quatre structures de données qui sont implémentées dans Python:\n",
    "* La liste (```list\t```)\n",
    "* Le dictionnaire (```dict```)\n",
    "* L n-uplet (```tuple```)\n",
    "* L'ensemble (```set```)\n",
    "\n",
    "Chacune de ces structures possède des propriétés spécifiques, et offre un ensemble d'*opérations*."
   ]
  },
  {
   "cell_type": "markdown",
   "id": "4e561d81",
   "metadata": {
    "slideshow": {
     "slide_type": "slide"
    }
   },
   "source": [
    "Pour connaitre les opérations disponibles sur un type, on peut utiliser la fonction **dir** avec pour argument une valeur. Par exemple, **dir('')** nous liste toutes les méthodes disponible sur les strings (car '' est une string)."
   ]
  },
  {
   "cell_type": "code",
   "execution_count": 11,
   "id": "2a522c60",
   "metadata": {
    "slideshow": {
     "slide_type": "fragment"
    }
   },
   "outputs": [
    {
     "data": {
      "text/plain": [
       "['__add__',\n",
       " '__class__',\n",
       " '__contains__',\n",
       " '__delattr__',\n",
       " '__dir__',\n",
       " '__doc__',\n",
       " '__eq__',\n",
       " '__format__',\n",
       " '__ge__',\n",
       " '__getattribute__',\n",
       " '__getitem__',\n",
       " '__getnewargs__',\n",
       " '__gt__',\n",
       " '__hash__',\n",
       " '__init__',\n",
       " '__init_subclass__',\n",
       " '__iter__',\n",
       " '__le__',\n",
       " '__len__',\n",
       " '__lt__',\n",
       " '__mod__',\n",
       " '__mul__',\n",
       " '__ne__',\n",
       " '__new__',\n",
       " '__reduce__',\n",
       " '__reduce_ex__',\n",
       " '__repr__',\n",
       " '__rmod__',\n",
       " '__rmul__',\n",
       " '__setattr__',\n",
       " '__sizeof__',\n",
       " '__str__',\n",
       " '__subclasshook__',\n",
       " 'capitalize',\n",
       " 'casefold',\n",
       " 'center',\n",
       " 'count',\n",
       " 'encode',\n",
       " 'endswith',\n",
       " 'expandtabs',\n",
       " 'find',\n",
       " 'format',\n",
       " 'format_map',\n",
       " 'index',\n",
       " 'isalnum',\n",
       " 'isalpha',\n",
       " 'isascii',\n",
       " 'isdecimal',\n",
       " 'isdigit',\n",
       " 'isidentifier',\n",
       " 'islower',\n",
       " 'isnumeric',\n",
       " 'isprintable',\n",
       " 'isspace',\n",
       " 'istitle',\n",
       " 'isupper',\n",
       " 'join',\n",
       " 'ljust',\n",
       " 'lower',\n",
       " 'lstrip',\n",
       " 'maketrans',\n",
       " 'partition',\n",
       " 'removeprefix',\n",
       " 'removesuffix',\n",
       " 'replace',\n",
       " 'rfind',\n",
       " 'rindex',\n",
       " 'rjust',\n",
       " 'rpartition',\n",
       " 'rsplit',\n",
       " 'rstrip',\n",
       " 'split',\n",
       " 'splitlines',\n",
       " 'startswith',\n",
       " 'strip',\n",
       " 'swapcase',\n",
       " 'title',\n",
       " 'translate',\n",
       " 'upper',\n",
       " 'zfill']"
      ]
     },
     "execution_count": 11,
     "metadata": {},
     "output_type": "execute_result"
    }
   ],
   "source": [
    "dir('')"
   ]
  },
  {
   "cell_type": "markdown",
   "id": "5d84b473",
   "metadata": {
    "slideshow": {
     "slide_type": "slide"
    }
   },
   "source": [
    "Pour obtenir plus détails sur une opérations ```help``` avec pour argument un appel a la méthode. \n",
    "\n",
    "Par exemple, ```help(''.count)``` nous donne la documentation de la methode .count.\n",
    "\n",
    "<div class=\"alert alert-block alert-warning\">\n",
    "<b>⚠️:</b> On retrouve aussi ces informations sur la documentation:\n",
    "https://docs.python.org/3/library/stdtypes.html?highlight=count#str.count\n",
    "</div>\n"
   ]
  },
  {
   "cell_type": "code",
   "execution_count": 18,
   "id": "7d85b579",
   "metadata": {
    "scrolled": true,
    "slideshow": {
     "slide_type": "fragment"
    }
   },
   "outputs": [
    {
     "name": "stdout",
     "output_type": "stream",
     "text": [
      "Help on built-in function count:\n",
      "\n",
      "count(...) method of builtins.str instance\n",
      "    S.count(sub[, start[, end]]) -> int\n",
      "    \n",
      "    Return the number of non-overlapping occurrences of substring sub in\n",
      "    string S[start:end].  Optional arguments start and end are\n",
      "    interpreted as in slice notation.\n",
      "\n"
     ]
    }
   ],
   "source": [
    "help(\"\".count)"
   ]
  },
  {
   "cell_type": "markdown",
   "id": "c04c7d61",
   "metadata": {
    "slideshow": {
     "slide_type": "slide"
    }
   },
   "source": [
    "# Les listes (list)\n",
    "\n",
    "Une **liste**, aussi appelé **tableau** dans d'autre langages de programmation (ex: Java, Php,..), est une **séquence modifiable de données ordonnées**. Ces données peuvent être de n'importe quel type de valeur (à l'exception des caractères qui doivent être stoqués sous la forme de strings).\n",
    "\n",
    "Chaque élement de la liste dispose d'un **index**, c'est à dire d'un numéro représentant sa position dans la liste. \n",
    "\n",
    "Le premier élement possède l'index $0$. Le dernier élément est donc situé à l'index $n-1$."
   ]
  },
  {
   "cell_type": "markdown",
   "id": "153eeae5",
   "metadata": {
    "slideshow": {
     "slide_type": "slide"
    }
   },
   "source": [
    "## Créer une liste\n",
    "\n",
    "Pour créer une liste, on utilise les crochets ```[]```, et on peut initialiser en séparant les valeurs par une ```,```. \n",
    "\n",
    "Par exemple:"
   ]
  },
  {
   "cell_type": "code",
   "execution_count": 20,
   "id": "8ad6eaa6",
   "metadata": {
    "scrolled": true
   },
   "outputs": [
    {
     "name": "stdout",
     "output_type": "stream",
     "text": [
      "[]\n",
      "[1, 2, 3, 4]\n"
     ]
    }
   ],
   "source": [
    "ma_liste = [] # Ici, on créer une liste vide.\n",
    "ma_liste2 = [1,2,3,4] # Ici on créer une liste qui contient 4 éléments de type entiers\n",
    "print(ma_liste)\n",
    "print(ma_liste2)"
   ]
  },
  {
   "cell_type": "markdown",
   "id": "38eb862b",
   "metadata": {
    "slideshow": {
     "slide_type": "slide"
    }
   },
   "source": [
    "## Accéder aux éléments\n",
    "Pour accéder à un élément d'une liste, on utilise le nom de la variable qui contient la liste, suivit des ```[]``` dans lesquels on précise l'index de l'élément auquel on veut accéder."
   ]
  },
  {
   "cell_type": "code",
   "execution_count": 25,
   "id": "b21c9ab3",
   "metadata": {},
   "outputs": [],
   "source": [
    "ma_liste = [ 2, 4 , 6, 8]\n",
    "premier_element = ma_liste[0]\n",
    "dernier_element = ma_liste[1]"
   ]
  },
  {
   "cell_type": "markdown",
   "id": "68b9b7d5",
   "metadata": {},
   "source": [
    "On peut aussi utiliser un index négatif pour accéder à un élément par rapport à la fin:"
   ]
  },
  {
   "cell_type": "code",
   "execution_count": 29,
   "id": "d3f9f403",
   "metadata": {},
   "outputs": [],
   "source": [
    "dernier_element = ma_liste[-1]\n",
    "avant_dernier = ma_liste[-2]"
   ]
  },
  {
   "cell_type": "markdown",
   "id": "b0494ba9",
   "metadata": {
    "slideshow": {
     "slide_type": "slide"
    }
   },
   "source": [
    "Si l'on essaie d'accéder à un index qui n'existe pas, celà produit une erreur de type ```IndexError```"
   ]
  },
  {
   "cell_type": "code",
   "execution_count": 30,
   "id": "90a09b81",
   "metadata": {
    "scrolled": true
   },
   "outputs": [
    {
     "ename": "IndexError",
     "evalue": "list index out of range",
     "output_type": "error",
     "traceback": [
      "\u001b[1;31m---------------------------------------------------------------------------\u001b[0m",
      "\u001b[1;31mIndexError\u001b[0m                                Traceback (most recent call last)",
      "Input \u001b[1;32mIn [30]\u001b[0m, in \u001b[0;36m<cell line: 1>\u001b[1;34m()\u001b[0m\n\u001b[1;32m----> 1\u001b[0m \u001b[43mma_liste\u001b[49m\u001b[43m[\u001b[49m\u001b[38;5;241;43m10\u001b[39;49m\u001b[43m]\u001b[49m\n",
      "\u001b[1;31mIndexError\u001b[0m: list index out of range"
     ]
    }
   ],
   "source": [
    "ma_liste[10]"
   ]
  },
  {
   "cell_type": "markdown",
   "id": "1f976d07",
   "metadata": {
    "slideshow": {
     "slide_type": "slide"
    }
   },
   "source": [
    "On peut modifier la valeur d'un élément avec l'opérateur d'affectation ```=```."
   ]
  },
  {
   "cell_type": "code",
   "execution_count": 31,
   "id": "b10cc2a3",
   "metadata": {},
   "outputs": [
    {
     "name": "stdout",
     "output_type": "stream",
     "text": [
      "[2, 4, 6, 8]\n",
      "[10, 4, 6, 8]\n"
     ]
    }
   ],
   "source": [
    "print(ma_liste)\n",
    "ma_liste[0]= 10\n",
    "print(ma_liste)"
   ]
  },
  {
   "cell_type": "markdown",
   "id": "c7f39350",
   "metadata": {
    "slideshow": {
     "slide_type": "slide"
    }
   },
   "source": [
    "### Parcourir une liste\n",
    "\n",
    "On peut parcourir une liste à l'aide de l'instruction ```for in```. A chaque tour de boucle, la variable de parcours prend la valeur d'un élement de la liste en suivant l'ordonnacement (de 0 à n -1)."
   ]
  },
  {
   "cell_type": "code",
   "execution_count": 79,
   "id": "b0ca026a",
   "metadata": {},
   "outputs": [
    {
     "name": "stdout",
     "output_type": "stream",
     "text": [
      "[2, 3, 4, 6]\n",
      "2\n",
      "3\n",
      "4\n",
      "6\n",
      "---\n",
      "2\n",
      "3\n",
      "4\n",
      "6\n",
      "---\n",
      "6\n",
      "4\n",
      "3\n",
      "2\n",
      "---\n",
      "6\n",
      "4\n",
      "3\n",
      "2\n",
      "---\n"
     ]
    }
   ],
   "source": [
    "print(ma_liste)\n",
    "# For each\n",
    "for element in ma_liste:\n",
    "    print(element)\n",
    "print(\"---\")\n",
    "# Parcours par l'index\n",
    "for i in range(0,len(ma_liste)):\n",
    "    print(ma_liste[i])\n",
    "print(\"---\")\n",
    "# For each + Parcourir la liste à l'envers\n",
    "for element in reversed(ma_liste):\n",
    "    print(element)\n",
    "print(\"---\")\n",
    "# Parcours à l'envers par l'index \n",
    "for i in range(0,len(ma_liste)):\n",
    "    print(ma_liste[len(ma_liste)-1-i])\n",
    "print(\"---\")"
   ]
  },
  {
   "cell_type": "markdown",
   "id": "41c42ad6",
   "metadata": {},
   "source": [
    "<div class=\"alert alert-block alert-info\">\n",
    "<b>Remarque:</b> On a déjà vu ces opérations lorsque l'on a introduit les chaines de caractères. La différence est que les chaines de caractères sont inmutable, c'est à dire qu'on ne peut pas changer la valeur des caractères qui compose la chaine. Le listes, sont mutable, c'est à dire que l'on peut modifier les éléments dans la liste.\n",
    "</div>"
   ]
  },
  {
   "cell_type": "markdown",
   "id": "9e890344",
   "metadata": {
    "slideshow": {
     "slide_type": "slide"
    }
   },
   "source": [
    "<div class=\"alert alert-block alert-warning\">\n",
    "<b>⚠️Attention:</b> Une liste peut contenir des éléments de type différents! On peut vérifier le type à l'aide de la fonction type\n",
    "</div>"
   ]
  },
  {
   "cell_type": "code",
   "execution_count": 37,
   "id": "d70a20d5",
   "metadata": {
    "scrolled": true
   },
   "outputs": [
    {
     "name": "stdout",
     "output_type": "stream",
     "text": [
      "[None, 1, True, 'Soleil', [], [1, 2, 3], [[1, 2], [1, 2, 3]]]\n"
     ]
    }
   ],
   "source": [
    "liste_bizarre = [None, 1, True, \"Soleil\", [], [1,2,3], [[1,2],[1,2,3]]]\n",
    "print(liste_bizarre)"
   ]
  },
  {
   "cell_type": "code",
   "execution_count": 38,
   "id": "e57dd9bd",
   "metadata": {
    "scrolled": true
   },
   "outputs": [
    {
     "name": "stdout",
     "output_type": "stream",
     "text": [
      "<class 'NoneType'>\n",
      "<class 'int'>\n",
      "<class 'bool'>\n",
      "<class 'str'>\n",
      "<class 'list'>\n",
      "<class 'list'>\n",
      "<class 'list'>\n"
     ]
    }
   ],
   "source": [
    "for element in liste_bizarre:\n",
    "    print(type(element))"
   ]
  },
  {
   "cell_type": "markdown",
   "id": "eaa20a82",
   "metadata": {
    "slideshow": {
     "slide_type": "fragment"
    }
   },
   "source": [
    "<div class=\"alert alert-block alert-info\">\n",
    "<b>ℹ️:</b> On remarque ici que l'on peut faire des listes de listes (voir des listes de listes de listes...). \n",
    "</div>"
   ]
  },
  {
   "cell_type": "markdown",
   "id": "e02ca24b",
   "metadata": {
    "slideshow": {
     "slide_type": "slide"
    }
   },
   "source": [
    "## Les opérations sur les listes\n",
    "\n",
    "Les listes offrent beacoup d'opérations qui permettent de les manipuler. Nous allons maintenant en illustrer quelques unes."
   ]
  },
  {
   "cell_type": "code",
   "execution_count": 40,
   "id": "2f71b22b",
   "metadata": {
    "scrolled": false
   },
   "outputs": [
    {
     "name": "stdout",
     "output_type": "stream",
     "text": [
      "Help on list object:\n",
      "\n",
      "class list(object)\n",
      " |  list(iterable=(), /)\n",
      " |  \n",
      " |  Built-in mutable sequence.\n",
      " |  \n",
      " |  If no argument is given, the constructor creates a new empty list.\n",
      " |  The argument must be an iterable if specified.\n",
      " |  \n",
      " |  Methods defined here:\n",
      " |  \n",
      " |  __add__(self, value, /)\n",
      " |      Return self+value.\n",
      " |  \n",
      " |  __contains__(self, key, /)\n",
      " |      Return key in self.\n",
      " |  \n",
      " |  __delitem__(self, key, /)\n",
      " |      Delete self[key].\n",
      " |  \n",
      " |  __eq__(self, value, /)\n",
      " |      Return self==value.\n",
      " |  \n",
      " |  __ge__(self, value, /)\n",
      " |      Return self>=value.\n",
      " |  \n",
      " |  __getattribute__(self, name, /)\n",
      " |      Return getattr(self, name).\n",
      " |  \n",
      " |  __getitem__(...)\n",
      " |      x.__getitem__(y) <==> x[y]\n",
      " |  \n",
      " |  __gt__(self, value, /)\n",
      " |      Return self>value.\n",
      " |  \n",
      " |  __iadd__(self, value, /)\n",
      " |      Implement self+=value.\n",
      " |  \n",
      " |  __imul__(self, value, /)\n",
      " |      Implement self*=value.\n",
      " |  \n",
      " |  __init__(self, /, *args, **kwargs)\n",
      " |      Initialize self.  See help(type(self)) for accurate signature.\n",
      " |  \n",
      " |  __iter__(self, /)\n",
      " |      Implement iter(self).\n",
      " |  \n",
      " |  __le__(self, value, /)\n",
      " |      Return self<=value.\n",
      " |  \n",
      " |  __len__(self, /)\n",
      " |      Return len(self).\n",
      " |  \n",
      " |  __lt__(self, value, /)\n",
      " |      Return self<value.\n",
      " |  \n",
      " |  __mul__(self, value, /)\n",
      " |      Return self*value.\n",
      " |  \n",
      " |  __ne__(self, value, /)\n",
      " |      Return self!=value.\n",
      " |  \n",
      " |  __repr__(self, /)\n",
      " |      Return repr(self).\n",
      " |  \n",
      " |  __reversed__(self, /)\n",
      " |      Return a reverse iterator over the list.\n",
      " |  \n",
      " |  __rmul__(self, value, /)\n",
      " |      Return value*self.\n",
      " |  \n",
      " |  __setitem__(self, key, value, /)\n",
      " |      Set self[key] to value.\n",
      " |  \n",
      " |  __sizeof__(self, /)\n",
      " |      Return the size of the list in memory, in bytes.\n",
      " |  \n",
      " |  append(self, object, /)\n",
      " |      Append object to the end of the list.\n",
      " |  \n",
      " |  clear(self, /)\n",
      " |      Remove all items from list.\n",
      " |  \n",
      " |  copy(self, /)\n",
      " |      Return a shallow copy of the list.\n",
      " |  \n",
      " |  count(self, value, /)\n",
      " |      Return number of occurrences of value.\n",
      " |  \n",
      " |  extend(self, iterable, /)\n",
      " |      Extend list by appending elements from the iterable.\n",
      " |  \n",
      " |  index(self, value, start=0, stop=9223372036854775807, /)\n",
      " |      Return first index of value.\n",
      " |      \n",
      " |      Raises ValueError if the value is not present.\n",
      " |  \n",
      " |  insert(self, index, object, /)\n",
      " |      Insert object before index.\n",
      " |  \n",
      " |  pop(self, index=-1, /)\n",
      " |      Remove and return item at index (default last).\n",
      " |      \n",
      " |      Raises IndexError if list is empty or index is out of range.\n",
      " |  \n",
      " |  remove(self, value, /)\n",
      " |      Remove first occurrence of value.\n",
      " |      \n",
      " |      Raises ValueError if the value is not present.\n",
      " |  \n",
      " |  reverse(self, /)\n",
      " |      Reverse *IN PLACE*.\n",
      " |  \n",
      " |  sort(self, /, *, key=None, reverse=False)\n",
      " |      Sort the list in ascending order and return None.\n",
      " |      \n",
      " |      The sort is in-place (i.e. the list itself is modified) and stable (i.e. the\n",
      " |      order of two equal elements is maintained).\n",
      " |      \n",
      " |      If a key function is given, apply it once to each list item and sort them,\n",
      " |      ascending or descending, according to their function values.\n",
      " |      \n",
      " |      The reverse flag can be set to sort in descending order.\n",
      " |  \n",
      " |  ----------------------------------------------------------------------\n",
      " |  Class methods defined here:\n",
      " |  \n",
      " |  __class_getitem__(...) from builtins.type\n",
      " |      See PEP 585\n",
      " |  \n",
      " |  ----------------------------------------------------------------------\n",
      " |  Static methods defined here:\n",
      " |  \n",
      " |  __new__(*args, **kwargs) from builtins.type\n",
      " |      Create and return a new object.  See help(type) for accurate signature.\n",
      " |  \n",
      " |  ----------------------------------------------------------------------\n",
      " |  Data and other attributes defined here:\n",
      " |  \n",
      " |  __hash__ = None\n",
      "\n"
     ]
    }
   ],
   "source": [
    "help([])"
   ]
  },
  {
   "cell_type": "markdown",
   "id": "e90c906a",
   "metadata": {
    "slideshow": {
     "slide_type": "slide"
    }
   },
   "source": [
    "### Connaitre la taille d'une liste : ```len(list)```"
   ]
  },
  {
   "cell_type": "code",
   "execution_count": 41,
   "id": "62335441",
   "metadata": {
    "scrolled": true
   },
   "outputs": [
    {
     "name": "stdout",
     "output_type": "stream",
     "text": [
      "4\n"
     ]
    }
   ],
   "source": [
    "ma_liste = [10, 100, 50, 30]\n",
    "print(len(ma_liste))"
   ]
  },
  {
   "cell_type": "markdown",
   "id": "1157d421",
   "metadata": {},
   "source": [
    "### Ajouter un élement à la fin de la liste : ```append(e)``` ou ```+=``` ou ```insert(i,e)```"
   ]
  },
  {
   "cell_type": "code",
   "execution_count": 56,
   "id": "55f1739c",
   "metadata": {},
   "outputs": [
    {
     "name": "stdout",
     "output_type": "stream",
     "text": [
      "[10, 100, 50, 30, 80]\n",
      "[10, 100, 50, 30, 80, 120]\n",
      "[10, 100, 50, 30, 0, 80, 120]\n"
     ]
    }
   ],
   "source": [
    "ma_liste = [10, 100, 50, 30]\n",
    "ma_liste.append(80)\n",
    "print(ma_liste)\n",
    "ma_liste+= [120]\n",
    "print(ma_liste)\n",
    "\n",
    "ma_liste.insert(4,0)\n",
    "print(ma_liste)"
   ]
  },
  {
   "cell_type": "markdown",
   "id": "d635e62e",
   "metadata": {
    "slideshow": {
     "slide_type": "slide"
    }
   },
   "source": [
    "### Supprimer un élément d'une liste : ```del(index)```"
   ]
  },
  {
   "cell_type": "code",
   "execution_count": 43,
   "id": "7e2232f8",
   "metadata": {},
   "outputs": [
    {
     "name": "stdout",
     "output_type": "stream",
     "text": [
      "[10, 50, 30]\n"
     ]
    }
   ],
   "source": [
    "ma_liste = [10, 100, 50, 30]\n",
    "del ma_liste[1]\n",
    "print(ma_liste)"
   ]
  },
  {
   "cell_type": "markdown",
   "id": "282162c9",
   "metadata": {
    "slideshow": {
     "slide_type": "slide"
    }
   },
   "source": [
    "### Concatener deux listes : ```+```"
   ]
  },
  {
   "cell_type": "code",
   "execution_count": 45,
   "id": "a137fb00",
   "metadata": {},
   "outputs": [
    {
     "name": "stdout",
     "output_type": "stream",
     "text": [
      "[1, 2, 3, 2, 3, 4]\n"
     ]
    }
   ],
   "source": [
    "ma_liste1 = [1,2,3]\n",
    "ma_liste2 = [2,3,4]\n",
    "ma_liste3 = ma_liste1 + ma_liste2\n",
    "print(ma_liste3)"
   ]
  },
  {
   "cell_type": "markdown",
   "id": "db38360a",
   "metadata": {},
   "source": [
    "### Répéter une liste : ```*```"
   ]
  },
  {
   "cell_type": "code",
   "execution_count": 47,
   "id": "2ea42595",
   "metadata": {},
   "outputs": [
    {
     "name": "stdout",
     "output_type": "stream",
     "text": [
      "[1, 2, 3, 1, 2, 3, 1, 2, 3]\n"
     ]
    }
   ],
   "source": [
    "ma_liste = [1,2,3]*3\n",
    "print(ma_liste)"
   ]
  },
  {
   "cell_type": "markdown",
   "id": "75d7706f",
   "metadata": {
    "slideshow": {
     "slide_type": "slide"
    }
   },
   "source": [
    "### Tester si un élément est présent dans la liste: ```in```"
   ]
  },
  {
   "cell_type": "code",
   "execution_count": 49,
   "id": "8e0c4382",
   "metadata": {
    "scrolled": true
   },
   "outputs": [
    {
     "name": "stdout",
     "output_type": "stream",
     "text": [
      "True\n",
      "False\n",
      "True\n"
     ]
    }
   ],
   "source": [
    "ma_liste = [1,2,3]\n",
    "print(2 in ma_liste)\n",
    "print(100 in ma_liste)\n",
    "print(100 not in ma_liste)"
   ]
  },
  {
   "cell_type": "markdown",
   "id": "a70c7069",
   "metadata": {
    "slideshow": {
     "slide_type": "slide"
    }
   },
   "source": [
    "### Comparer deux listes: ```==```, ```!=```, ```<```, ```>```"
   ]
  },
  {
   "cell_type": "code",
   "execution_count": 50,
   "id": "b42af920",
   "metadata": {},
   "outputs": [
    {
     "name": "stdout",
     "output_type": "stream",
     "text": [
      "False\n",
      "True\n",
      "True\n"
     ]
    }
   ],
   "source": [
    "ma_liste1 = [1,2,3]\n",
    "ma_liste2 = [2,3,4]\n",
    "print(ma_liste1 == ma_liste2)\n",
    "print(ma_liste1 != ma_liste2)\n",
    "print(ma_liste1 < ma_liste2) # Ordre lexicographique"
   ]
  },
  {
   "cell_type": "markdown",
   "id": "506dc495",
   "metadata": {},
   "source": [
    "<div class=\"alert alert-block alert-warning\">\n",
    "<b>⚠️:</b> Pour que deux listes soient égales elles doivent avoir la même taille et contenir des éléments deux à deux identiques.\n",
    "</div>"
   ]
  },
  {
   "cell_type": "markdown",
   "id": "99466040",
   "metadata": {
    "slideshow": {
     "slide_type": "slide"
    }
   },
   "source": [
    "### Rechercher une valeur maximum ou minimum: ```min(list)```, ```max(list)```"
   ]
  },
  {
   "cell_type": "code",
   "execution_count": 52,
   "id": "b4dcb49c",
   "metadata": {},
   "outputs": [
    {
     "name": "stdout",
     "output_type": "stream",
     "text": [
      "24\n",
      "2\n"
     ]
    }
   ],
   "source": [
    "ma_liste = [ 12, 24, 2 , 5, 21]\n",
    "print(max(ma_liste))\n",
    "print(min(ma_liste))"
   ]
  },
  {
   "cell_type": "markdown",
   "id": "cd0a946e",
   "metadata": {},
   "source": [
    "<div class=\"alert alert-block alert-warning\">\n",
    "<b>Attention:</b> Celà nécessite que les éléments de la liste soient comparables, c'est à dire à minima tous du même type!\n",
    "</div>"
   ]
  },
  {
   "cell_type": "markdown",
   "id": "d925f212",
   "metadata": {
    "slideshow": {
     "slide_type": "slide"
    }
   },
   "source": [
    "### Pour trier une liste : ```list.sort()```"
   ]
  },
  {
   "cell_type": "code",
   "execution_count": 63,
   "id": "cd6a78d1",
   "metadata": {},
   "outputs": [
    {
     "name": "stdout",
     "output_type": "stream",
     "text": [
      "[2, 3, 4, 6]\n",
      "[6, 4, 3, 2]\n"
     ]
    }
   ],
   "source": [
    "# Pour trier une liste par ordre croissant.\n",
    "\n",
    "ma_liste = [3, 2, 6, 4]\n",
    "ma_liste.sort()\n",
    "print(ma_liste)\n",
    "\n",
    "# Pour trier par ordre décroissant, on utilise le paramètre nommé reverse :\n",
    "\n",
    "ma_liste = [3, 2, 6, 4]\n",
    "ma_liste.sort(reverse=True)\n",
    "print(ma_liste)"
   ]
  },
  {
   "cell_type": "markdown",
   "id": "eafa5f22",
   "metadata": {
    "slideshow": {
     "slide_type": "slide"
    }
   },
   "source": [
    "### Rechercher l'index d'une valeur spécifique dans une liste: ```list.index(element)```"
   ]
  },
  {
   "cell_type": "code",
   "execution_count": null,
   "id": "fd99945c",
   "metadata": {},
   "outputs": [],
   "source": [
    "voyels = ['a', 'e', 'i', 'o', 'i', 'u']\n",
    "print(voyels.index('a'))"
   ]
  },
  {
   "cell_type": "markdown",
   "id": "635988ea",
   "metadata": {},
   "source": [
    "<div class=\"alert alert-block alert-warning\">\n",
    "<b>Attention:</b> Si l'élément n'est pas trouvé, celà provoque une erreur de type ```ValueError```\n",
    "</div>"
   ]
  },
  {
   "cell_type": "markdown",
   "id": "1f9caefe",
   "metadata": {},
   "source": [
    "### Récupérer une sous-liste: ```[index départ:indice supérieur:incrément]```"
   ]
  },
  {
   "cell_type": "code",
   "execution_count": 93,
   "id": "df089298",
   "metadata": {},
   "outputs": [
    {
     "name": "stdout",
     "output_type": "stream",
     "text": [
      "[2, 3]\n",
      "[9, 10]\n",
      "[2, 4, 6, 8]\n"
     ]
    }
   ],
   "source": [
    "ma_liste = [1,2,3,4,5,6,7,8,9,10]\n",
    "autre_liste = ma_liste[1:3]\n",
    "print(autre_liste)\n",
    "\n",
    "derniers_elements = ma_liste[-2:100]\n",
    "print(derniers_elements)\n",
    "\n",
    "nombres_pairs = ma_liste[1:9:2]\n",
    "print(nombres_pairs)"
   ]
  },
  {
   "cell_type": "markdown",
   "id": "a8e7a80e",
   "metadata": {
    "slideshow": {
     "slide_type": "slide"
    }
   },
   "source": [
    "### Compter le nombre d'occurence d'un élément: ```count(e)```"
   ]
  },
  {
   "cell_type": "code",
   "execution_count": 57,
   "id": "51342096",
   "metadata": {},
   "outputs": [
    {
     "name": "stdout",
     "output_type": "stream",
     "text": [
      "0\n",
      "2\n"
     ]
    }
   ],
   "source": [
    "ma_liste = [\"Nathan\", \"Flora\", \"Robert\", \"Thibault\", \"Flora\", \"Luc\", \"Anne\", \"Annie\"]\n",
    "print(ma_liste.count(\"John\"))\n",
    "print(ma_liste.count(\"Flora\"))"
   ]
  },
  {
   "cell_type": "markdown",
   "id": "8470cc9e",
   "metadata": {
    "slideshow": {
     "slide_type": "slide"
    }
   },
   "source": [
    "### Copier une liste \n",
    "\n",
    "Parfois, on souhaite réaliser une copie d'une liste, pour ensuite effectuer des opération sur la copie. Prenons l'exemple suivant:"
   ]
  },
  {
   "cell_type": "code",
   "execution_count": 59,
   "id": "37ec47e3",
   "metadata": {},
   "outputs": [
    {
     "name": "stdout",
     "output_type": "stream",
     "text": [
      "[1, 2, 3, 4]\n"
     ]
    }
   ],
   "source": [
    "ma_liste1 = [1, 2 , 3, 4]\n",
    "une_copie = ma_liste1\n",
    "print(une_copie)"
   ]
  },
  {
   "cell_type": "markdown",
   "id": "76b840b2",
   "metadata": {},
   "source": [
    "On pourrait croire que cette opération as copié ```ma_liste1``` dans la variable ```une_copie```. Regardons ce qu'il se passe si l'on modifie un element de ```une_copie```."
   ]
  },
  {
   "cell_type": "code",
   "execution_count": 61,
   "id": "f3667809",
   "metadata": {
    "slideshow": {
     "slide_type": "slide"
    }
   },
   "outputs": [
    {
     "name": "stdout",
     "output_type": "stream",
     "text": [
      "[1000, 2, 3, 4]\n",
      "[1000, 2, 3, 4]\n"
     ]
    }
   ],
   "source": [
    "une_copie[0] = 1000\n",
    "print(une_copie)\n",
    "print(ma_liste1)"
   ]
  },
  {
   "cell_type": "markdown",
   "id": "114328f4",
   "metadata": {},
   "source": [
    "Les deux listes sont identiques! \n",
    "\n",
    "<div class=\"alert alert-block alert-warning\">\n",
    "    <b>⚠️:</b> L'opérateur <b>=</b> réalise une copie par référence, c'est à dire que les deux variables \"pointent\" vers la même adresse mémoire. Autrement dit, vous avez deux variables qui représentent la même chose!\n",
    "</div>\n",
    "\n",
    "Pour copier une liste, il faut donc utiliser la fonction ```list```"
   ]
  },
  {
   "cell_type": "code",
   "execution_count": 62,
   "id": "e2523619",
   "metadata": {},
   "outputs": [
    {
     "name": "stdout",
     "output_type": "stream",
     "text": [
      "[0, 2, 3, 4]\n",
      "[1000, 2, 3, 4]\n"
     ]
    }
   ],
   "source": [
    "une_copie = list(ma_liste1)\n",
    "une_copie[0] = 0\n",
    "print(une_copie)\n",
    "print(ma_liste1)"
   ]
  },
  {
   "cell_type": "markdown",
   "id": "fdf57c2e",
   "metadata": {},
   "source": [
    "Elles sont maintenant bien différentes!"
   ]
  },
  {
   "cell_type": "markdown",
   "id": "f95688fe",
   "metadata": {
    "slideshow": {
     "slide_type": "slide"
    }
   },
   "source": [
    "<div class=\"alert alert-block alert-info\">\n",
    "<b>En résumé:</b> \n",
    "    <ul>\n",
    "      <li>Les <b>listes</b> permettent de manipuler des éléments <b>ordonnés</b></li>\n",
    "        <li>Une liste est <b>mutable</b> c'est à dire que ses éléments peuvent être modifiés</li>\n",
    "      <li>Chaque élément d'une liste est associé à un index qui va de <b>0</b> jusqu'à <b>n-1</b></li>\n",
    "      <li>On peut <b>ajouter</b> et <b>supprimer</b> des élements à notre liste</li>\n",
    "      <li>On peut manipuler les listes à l'aide d'opérateurs et de fonctions</li>\n",
    "        <li>Copier une liste nécessite d'utiliser la fonction <b>list()</b></li>\n",
    "        <li>Attention, une liste peut contenir des élements de <b>types différents</b></li>\n",
    "    </ul>\n",
    "</div>"
   ]
  },
  {
   "cell_type": "markdown",
   "id": "c70600b8",
   "metadata": {
    "slideshow": {
     "slide_type": "slide"
    }
   },
   "source": [
    "# Reprenons notre exemple\n",
    "**Tâche à réaliser** 🎯\n",
    "\n",
    "* Je souhaite calculer la moyenne d'une série de nombre fournies par l'utilisateur. Le nombre *n* de saisies est a priori inconnu. \n",
    "    \n",
    "**Entrée**🔠 $n$ nombres $x$ saisies par l'utilisateur.\n",
    "\n",
    "**Précondition** $\\forall i \\in [1,n], x_{i} \\in \\mathbf{R} $ \n",
    "    \n",
    "**Sortie** 🖥️ Le résultat du calcul $\\frac{\\sum_{i=1}^{n} x_{i}}{n}$"
   ]
  },
  {
   "cell_type": "code",
   "execution_count": 9,
   "id": "6ad8480b",
   "metadata": {
    "slideshow": {
     "slide_type": "slide"
    }
   },
   "outputs": [
    {
     "name": "stdout",
     "output_type": "stream",
     "text": [
      "Voulez-vous continuer? y/n y\n",
      "Saisissez votre nombre: 1\n",
      "Voulez-vous continuer? y/n n\n",
      "[1]\n",
      "Moyenne: 1.0\n",
      "Max: 1\n",
      "Min: 1\n"
     ]
    }
   ],
   "source": [
    "def voulez_vous_continuer()->bool:\n",
    "    reponse_utilisateur = input(\"Voulez-vous continuer? y/n \")\n",
    "    return reponse_utilisateur == \"y\" or reponse_utilisateur == \"Y\"\n",
    "\n",
    "def lire_nombre()-> int:\n",
    "    return int(input(\"Saisissez votre nombre: \"))\n",
    "\n",
    "def calculer_moyenne(liste_notes:list)->float:\n",
    "    somme = 0\n",
    "    for note in liste_notes:\n",
    "        somme += note\n",
    "    return somme / len(liste_notes)\n",
    "\n",
    "liste_notes = []\n",
    "while(voulez_vous_continuer()):\n",
    "    liste_notes.append(lire_nombre())\n",
    "print(liste_notes)\n",
    "print(\"Moyenne: \" + str(calculer_moyenne(liste_notes)))    \n",
    "print(\"Max: \" + str(max(liste_notes)))\n",
    "print(\"Min: \" + str(min(liste_notes)))"
   ]
  },
  {
   "cell_type": "markdown",
   "id": "31bb66ae",
   "metadata": {
    "slideshow": {
     "slide_type": "slide"
    }
   },
   "source": [
    "# ✔️Concept check\n",
    "\n",
    "Soit la liste:"
   ]
  },
  {
   "cell_type": "code",
   "execution_count": 83,
   "id": "3ec38661",
   "metadata": {},
   "outputs": [],
   "source": [
    "jours = ['lundi', 'mardi', 'mercredi', 'jeudi', 'vendredi', 'samedi', 'dimanche']"
   ]
  },
  {
   "cell_type": "markdown",
   "id": "41c73058",
   "metadata": {},
   "source": [
    "* 1: Créez une nouvelle liste que ne contient pas les jours du week-end\n",
    "* 2: Créez une nouvelle liste que ne contient que les jours du week-end\n",
    "* 3: Créez une nouvelle liste qui commence par les jours du week-end.\n",
    "* 4: Créez une nouvelle liste qui commence par dimanche."
   ]
  },
  {
   "cell_type": "code",
   "execution_count": 90,
   "id": "388e9a24",
   "metadata": {
    "slideshow": {
     "slide_type": "slide"
    }
   },
   "outputs": [
    {
     "name": "stdout",
     "output_type": "stream",
     "text": [
      "['lundi', 'mardi', 'mercredi', 'jeudi']\n",
      "['samedi', 'dimanche']\n",
      "['samedi', 'dimanche', 'lundi', 'mardi', 'mercredi', 'jeudi']\n",
      "['dimanche', 'lundi', 'mardi', 'mercredi', 'jeudi', 'vendredi']\n"
     ]
    }
   ],
   "source": [
    "liste1 = jours[:4]\n",
    "print(liste1)\n",
    "\n",
    "liste2 = jours[-2:]\n",
    "print(liste2)\n",
    "\n",
    "liste3 = jours[-2:] + jours[:4]\n",
    "print(liste3)\n",
    "\n",
    "liste4 = jours[-1:] + jours[:5]\n",
    "print(liste4)"
   ]
  },
  {
   "cell_type": "markdown",
   "id": "f89b9fd6",
   "metadata": {
    "slideshow": {
     "slide_type": "slide"
    }
   },
   "source": [
    "# Les dictionnaires (dict)\n",
    "\n",
    "Un dictionnaire ```dict``` est une structure de donnée qui permet d'associer une **clé** à une **valeur**. Par exemple, associer à un Pokemon son type : ```{ \"Pikachu\":\"Electrique\", \"Bulbizare\":\"Feuille\" }```\n",
    "\n",
    "<div class=\"alert alert-block alert-warning\">\n",
    "    <b>Attention:</b> Une <b>clé</b> d'un dictionnaire python doit pouvoir produire une valeur numérique unique permettant de l'identifier (on parle de valeur de hashage, hash en anglais). Par défaut en Python, les nombres, chaînes de caractères et valeurs booléennes peveunt être utilisés comme clés.  \n",
    "</div>"
   ]
  },
  {
   "cell_type": "markdown",
   "id": "aa06db85",
   "metadata": {
    "slideshow": {
     "slide_type": "slide"
    }
   },
   "source": [
    "## Créer un dictionnaire\n",
    "\n",
    "Pour créer une dictionnaire, on utilise les accolades ```{}```, et on peut initialiser les couples clé/valeur en les séparants par ```:```. \n",
    "\n",
    "Par exemple:"
   ]
  },
  {
   "cell_type": "code",
   "execution_count": 10,
   "id": "b9aac914",
   "metadata": {},
   "outputs": [
    {
     "name": "stdout",
     "output_type": "stream",
     "text": [
      "{'Pikachu': 'Electrique', 'Bulbizare': 'Plante'}\n"
     ]
    }
   ],
   "source": [
    "mon_dico = {} # Dictionnaire vide\n",
    "mon_dico = { \"Pikachu\":\"Electrique\", \"Bulbizare\":\"Plante\"} # On initialise un dictionnaire avec 2 élements\n",
    "print(mon_dico)"
   ]
  },
  {
   "cell_type": "markdown",
   "id": "89774667",
   "metadata": {
    "slideshow": {
     "slide_type": "slide"
    }
   },
   "source": [
    "## Accéder aux éléments\n",
    "\n",
    "Pour accéder à un élément d'un dictionnaire, on utilise les crochets ```[]``` dans lesquels on précise la valeur de la clé."
   ]
  },
  {
   "cell_type": "code",
   "execution_count": 14,
   "id": "63c1f7bf",
   "metadata": {},
   "outputs": [
    {
     "name": "stdout",
     "output_type": "stream",
     "text": [
      "Wayne\n",
      "Lee\n"
     ]
    }
   ],
   "source": [
    "dico_nom = { \"John\":\"Wayne\", \"Bruce\":\"Lee\"}\n",
    "print(dico_nom[\"John\"])\n",
    "print(dico_nom[\"Bruce\"])"
   ]
  },
  {
   "cell_type": "markdown",
   "id": "7c2d0d37",
   "metadata": {
    "slideshow": {
     "slide_type": "slide"
    }
   },
   "source": [
    "Si vous essayez d'accéder à une valeur qui n'existe pas, vous produirez une erreur de type ```KeyError```."
   ]
  },
  {
   "cell_type": "code",
   "execution_count": 15,
   "id": "de2b6df8",
   "metadata": {},
   "outputs": [
    {
     "ename": "KeyError",
     "evalue": "'Toto'",
     "output_type": "error",
     "traceback": [
      "\u001b[1;31m---------------------------------------------------------------------------\u001b[0m",
      "\u001b[1;31mKeyError\u001b[0m                                  Traceback (most recent call last)",
      "Input \u001b[1;32mIn [15]\u001b[0m, in \u001b[0;36m<cell line: 1>\u001b[1;34m()\u001b[0m\n\u001b[1;32m----> 1\u001b[0m \u001b[38;5;28mprint\u001b[39m(\u001b[43mdico_nom\u001b[49m\u001b[43m[\u001b[49m\u001b[38;5;124;43m\"\u001b[39;49m\u001b[38;5;124;43mToto\u001b[39;49m\u001b[38;5;124;43m\"\u001b[39;49m\u001b[43m]\u001b[49m)\n",
      "\u001b[1;31mKeyError\u001b[0m: 'Toto'"
     ]
    }
   ],
   "source": [
    "print(dico_nom[\"Toto\"])"
   ]
  },
  {
   "cell_type": "markdown",
   "id": "624a867d",
   "metadata": {},
   "source": [
    "On peut ajouter un nouvel element ou modifier la valeur associée à une clé, par exemple:"
   ]
  },
  {
   "cell_type": "code",
   "execution_count": 27,
   "id": "6dc2049d",
   "metadata": {},
   "outputs": [
    {
     "name": "stdout",
     "output_type": "stream",
     "text": [
      "{'John': 'Travolta', 'Bruce': 'Lee', 'Toto': 'Toto'}\n"
     ]
    }
   ],
   "source": [
    "dico_nom = { \"John\":\"Wayne\", \"Bruce\":\"Lee\"}\n",
    "dico_nom[\"John\"] = \"Travolta\" # Ici on met à jour la valeur associée à John\n",
    "dico_nom[\"Toto\"] = \"Toto\" # Ici on ajoute un nouveau couple Toto:Toto\n",
    "print(dico_nom)"
   ]
  },
  {
   "cell_type": "markdown",
   "id": "a66633a1",
   "metadata": {
    "slideshow": {
     "slide_type": "slide"
    }
   },
   "source": [
    "### Parcourir un dictionnaire\n",
    "\n",
    "On peut parcourir un dictionnaire à l'aide de l'instruction ```for in```. \n",
    "\n",
    "On peut parcourir un dictionnaire de trois manière:\n",
    "* Parcourir les clés du dictionnaire\n",
    "* Parcourir les valeurs du dictionnaire\n",
    "* Parcourir les couples clés / valeurs"
   ]
  },
  {
   "cell_type": "code",
   "execution_count": 18,
   "id": "dc866836",
   "metadata": {
    "slideshow": {
     "slide_type": "slide"
    }
   },
   "outputs": [
    {
     "name": "stdout",
     "output_type": "stream",
     "text": [
      "Pikachu\n",
      "Bulbizare\n",
      "Electrique\n",
      "Plante\n",
      "Pikachu\n",
      "Electrique\n",
      "Bulbizare\n",
      "Plante\n"
     ]
    }
   ],
   "source": [
    "mon_dico = { \"Pikachu\":\"Electrique\", \"Bulbizare\":\"Plante\"} # On initialise un dictionnaire avec 2 élements\n",
    "\n",
    "# Parcours des clés\n",
    "for k in mon_dico.keys(): # on peut aussi écrire for k in mon_dico:\n",
    "    print(k)\n",
    "    \n",
    "# Parcours des valeurs \n",
    "for v in mon_dico.values():\n",
    "    print(v)\n",
    "    \n",
    "# Parcours des couples clé/valeur:\n",
    "for k , v in mon_dico.items():\n",
    "    print(k)\n",
    "    print(v)"
   ]
  },
  {
   "cell_type": "markdown",
   "id": "ce9eb388",
   "metadata": {
    "slideshow": {
     "slide_type": "slide"
    }
   },
   "source": [
    "## Les opérations sur les dictionnaires\n",
    "\n",
    "Les dictionnaires offrent plusieurs opérations qui permettent de les manipuler. Nous allons maintenant en illustrer quelques unes."
   ]
  },
  {
   "cell_type": "markdown",
   "id": "4a690095",
   "metadata": {
    "slideshow": {
     "slide_type": "-"
    }
   },
   "source": [
    "### Connaitre la taille d'un dictionnaire : ```len(dict)```"
   ]
  },
  {
   "cell_type": "code",
   "execution_count": 19,
   "id": "b06672a4",
   "metadata": {},
   "outputs": [
    {
     "name": "stdout",
     "output_type": "stream",
     "text": [
      "4\n"
     ]
    }
   ],
   "source": [
    "super_hero = {\"nom\":\"Bat\", \"prenom\":\"Man\", \"age\": 40, \"residence\":\"Gotham\"}\n",
    "print(len(super_hero))"
   ]
  },
  {
   "cell_type": "markdown",
   "id": "70bddd0d",
   "metadata": {
    "slideshow": {
     "slide_type": "slide"
    }
   },
   "source": [
    "### Supprimer une clé d'un dictionnaire : ```dict.del(cle)```"
   ]
  },
  {
   "cell_type": "code",
   "execution_count": 20,
   "id": "2ffe2bad",
   "metadata": {},
   "outputs": [
    {
     "name": "stdout",
     "output_type": "stream",
     "text": [
      "{'nom': 'Bat', 'age': 40, 'residence': 'Gotham'}\n"
     ]
    }
   ],
   "source": [
    "super_hero = {\"nom\":\"Bat\", \"prenom\":\"Man\", \"age\": 40, \"residence\":\"Gotham\"}\n",
    "del super_hero[\"prenom\"]\n",
    "print(super_hero)"
   ]
  },
  {
   "cell_type": "markdown",
   "id": "b05bfb95",
   "metadata": {},
   "source": [
    "### Savoir si une clé est présente dans un dictionnaire : ``in```"
   ]
  },
  {
   "cell_type": "code",
   "execution_count": 22,
   "id": "430c6b94",
   "metadata": {},
   "outputs": [
    {
     "name": "stdout",
     "output_type": "stream",
     "text": [
      "True\n",
      "False\n"
     ]
    }
   ],
   "source": [
    "super_hero = {\"nom\":\"Bat\", \"prenom\":\"Man\", \"age\": 40, \"residence\":\"Gotham\"}\n",
    "print(\"nom\" in super_hero)\n",
    "print(\"force\" in super_hero)"
   ]
  },
  {
   "cell_type": "markdown",
   "id": "ed117465",
   "metadata": {
    "slideshow": {
     "slide_type": "slide"
    }
   },
   "source": [
    "### Comparer si deux dictionnaires sont identiques: ```==```, ```!=```"
   ]
  },
  {
   "cell_type": "code",
   "execution_count": 23,
   "id": "7ce8b91d",
   "metadata": {},
   "outputs": [
    {
     "name": "stdout",
     "output_type": "stream",
     "text": [
      "False\n",
      "True\n"
     ]
    }
   ],
   "source": [
    "super_hero1 = {\"nom\":\"Bat\", \"prenom\":\"Man\", \"age\": 40, \"residence\":\"Gotham\"}\n",
    "super_hero2 = {\"nom\":\"Robin\", \"prenom\":\"Man\", \"age\": 40, \"residence\":\"Gotham\"}\n",
    "print(super_hero1 == super_hero2)\n",
    "print(super_hero1 != super_hero2)"
   ]
  },
  {
   "cell_type": "markdown",
   "id": "3a1ffd23",
   "metadata": {},
   "source": [
    "## Copier un dictionnaire : ```dict.copy()```"
   ]
  },
  {
   "cell_type": "code",
   "execution_count": 24,
   "id": "c66e2442",
   "metadata": {},
   "outputs": [],
   "source": [
    "super_hero = {\"nom\":\"Bat\", \"prenom\":\"Man\", \"age\": 40, \"residence\":\"Gotham\"}\n",
    "super_hero_copie = super_hero.copy()"
   ]
  },
  {
   "cell_type": "markdown",
   "id": "e01b35db",
   "metadata": {
    "slideshow": {
     "slide_type": "slide"
    }
   },
   "source": [
    "<div class=\"alert alert-block alert-warning\">\n",
    "<b>Attention:</b> On peut combiner listes et dictionnaires, de tel sorte qu'une liste peut contenir des éléments qui sont des dictionnaires, et inversement.\n",
    "</div>"
   ]
  },
  {
   "cell_type": "code",
   "execution_count": 26,
   "id": "4a0ce972",
   "metadata": {},
   "outputs": [],
   "source": [
    "ma_liste = [ {\"prenom\":\"John\", \"age\":\"10\"}, {\"prenom\":\"Bob\", \"age\":\"6\"}, {\"prenom\":\"Rick\", \"age\":\"55\"}]\n",
    "mon_dico = { \"prenom\":\"John\", \"Notes\": [10,12,5,8,15]}"
   ]
  },
  {
   "cell_type": "markdown",
   "id": "7ace8273",
   "metadata": {
    "slideshow": {
     "slide_type": "slide"
    }
   },
   "source": [
    "<div class=\"alert alert-block alert-info\">\n",
    "<b>En résumé:</b> \n",
    "    <ul>\n",
    "        <li>Les <b>dictionnaires</b> permettent de manipuler des couples associant à une unique <b>clé</b> une <b>valeur</b> { \"clé\":\"valeur\" }</li>\n",
    "        <li>Une dictionnaires est <b>mutable</b> c'est à dire que ses éléments peuvent être modifiés</li>\n",
    "        <li>Chaque élément d'une dictionnaire est accessible via sa <b>clé</b></li>\n",
    "        <li>On peut parcourir un dictionnaire à l'aide de ses <b>clés</b>,de ses <b>valeurs</b> ou des <b>deux</b></li>\n",
    "          <li>On peut <b>ajouter</b>, <b>modifier</b> et <b>supprimer</b> des élements à notre dictionnaire</li>\n",
    "      <li>On peut manipuler les dictionnaires à l'aide d'opérateurs et de fonctions</li>\n",
    "        <li>Copier un dictionnaire nécessite d'utiliser la fonction <b>dict.copy()</b></li>\n",
    "        <li>Attention, un dictionnaire peut contenir des élements de <b>types différents</b></li>\n",
    "    </ul>\n",
    "</div>"
   ]
  },
  {
   "cell_type": "markdown",
   "id": "db365416",
   "metadata": {
    "slideshow": {
     "slide_type": "slide"
    }
   },
   "source": [
    "# ✔️Concept check\n",
    "\n",
    "Soit le dictionnaire:"
   ]
  },
  {
   "cell_type": "code",
   "execution_count": 28,
   "id": "240dd40a",
   "metadata": {
    "slideshow": {
     "slide_type": "-"
    }
   },
   "outputs": [],
   "source": [
    "etudiants = {\"etudiant_1\" : 9 , \"etudiant_2\" : 18 , \"etudiant_3\" : 5 , \"etudiant_4\" : 4 , \n",
    " \"etudiant_5\" : 8 , \"etudiant_6\" : 14 , \"etudiant_7\" : 16 , \"etudiant_8\" : 12 , \n",
    " \"etudiant_9\" : 13 , \"etudiant_10\" : 18 , \"etudiant_11\" : 14 , \"etudiant_112\" : 9 , \n",
    "\"etudiant_13\" : 8 , \"etudiant_14\" : 12 , \"etudiant_15\" : 11 , \"etudiant_16\" : 7 ,\n",
    "\"etudiant_17\" : 13 , \"etudiant_18\" : 15 , \"etudiant_19\" : 9 , \"etudiant_20\" : 20 ,}"
   ]
  },
  {
   "cell_type": "markdown",
   "id": "5a7addf1",
   "metadata": {},
   "source": [
    "* 1: Ecrire une fonction permettant d'afficher les étudiant qui ont une note > 10\n",
    "* 2: Ecrire une fonction permettant de calculer la moyenne des notes "
   ]
  },
  {
   "cell_type": "code",
   "execution_count": 39,
   "id": "0bd5909d",
   "metadata": {
    "slideshow": {
     "slide_type": "slide"
    }
   },
   "outputs": [
    {
     "name": "stdout",
     "output_type": "stream",
     "text": [
      "Mean: 11.75\n",
      "etudiant_2\n",
      "etudiant_6\n",
      "etudiant_7\n",
      "etudiant_8\n",
      "etudiant_9\n",
      "etudiant_10\n",
      "etudiant_11\n",
      "etudiant_14\n",
      "etudiant_15\n",
      "etudiant_17\n",
      "etudiant_18\n",
      "etudiant_20\n"
     ]
    }
   ],
   "source": [
    "etudiants = {\"etudiant_1\" : 9 , \"etudiant_2\" : 18 , \"etudiant_3\" : 5 , \"etudiant_4\" : 4 , \n",
    " \"etudiant_5\" : 8 , \"etudiant_6\" : 14 , \"etudiant_7\" : 16 , \"etudiant_8\" : 12 , \n",
    " \"etudiant_9\" : 13 , \"etudiant_10\" : 18 , \"etudiant_11\" : 14 , \"etudiant_112\" : 9 , \n",
    "\"etudiant_13\" : 8 , \"etudiant_14\" : 12 , \"etudiant_15\" : 11 , \"etudiant_16\" : 7 ,\n",
    "\"etudiant_17\" : 13 , \"etudiant_18\" : 15 , \"etudiant_19\" : 9 , \"etudiant_20\" : 20 }\n",
    "\n",
    "def moyenne(etudiants:dict)->float:\n",
    "    somme = 0\n",
    "    for notes in etudiants.values():\n",
    "        somme+= notes\n",
    "    return somme / len(etudiants)\n",
    "\n",
    "def liste_sup_10(etudiants:dict):\n",
    "    for element, note in etudiants.items():\n",
    "        if(note>10):\n",
    "            print(element)\n",
    "            \n",
    "print(\"Mean: \"+ str(moyenne(etudiants)))\n",
    "liste_sup_10(etudiants)"
   ]
  },
  {
   "cell_type": "markdown",
   "id": "062db35d",
   "metadata": {
    "slideshow": {
     "slide_type": "slide"
    }
   },
   "source": [
    "Modifiez votre code pour permette qu'un étudiant possède un ensemble non fini de notes (au lieu de 1 actuellement). "
   ]
  },
  {
   "cell_type": "code",
   "execution_count": 38,
   "id": "68166508",
   "metadata": {
    "slideshow": {
     "slide_type": "slide"
    }
   },
   "outputs": [
    {
     "name": "stdout",
     "output_type": "stream",
     "text": [
      "Mean: 11.5\n",
      "etudiant_1\n",
      "etudiant_2\n",
      "etudiant_3\n",
      "etudiant_4\n",
      "etudiant_5\n",
      "etudiant_6\n",
      "etudiant_7\n",
      "etudiant_8\n",
      "etudiant_9\n",
      "etudiant_10\n",
      "etudiant_11\n",
      "etudiant_112\n",
      "etudiant_13\n",
      "etudiant_14\n",
      "etudiant_15\n",
      "etudiant_16\n",
      "etudiant_17\n",
      "etudiant_18\n",
      "etudiant_19\n",
      "etudiant_20\n"
     ]
    }
   ],
   "source": [
    "etudiants = {\"etudiant_1\" : [9,12,5,20] , \"etudiant_2\" : [9,12,5,20] , \"etudiant_3\" : [9,12,5,20] , \"etudiant_4\" : [9,12,5,20] , \n",
    " \"etudiant_5\" : [9,12,5,20] , \"etudiant_6\" : [9,12,5,20] , \"etudiant_7\" : [9,12,5,20] , \"etudiant_8\" : [9,12,5,20] , \n",
    " \"etudiant_9\" : [9,12,5,20] , \"etudiant_10\" : [9,12,5,20] , \"etudiant_11\" : [9,12,5,20] , \"etudiant_112\" : [9,12,5,20] , \n",
    "\"etudiant_13\" : [9,12,5,20] , \"etudiant_14\" : [9,12,5,20] , \"etudiant_15\" : [9,12,5,20] , \"etudiant_16\" : [9,12,5,20] ,\n",
    "\"etudiant_17\" : [9,12,5,20] , \"etudiant_18\" : [9,12,5,20] , \"etudiant_19\" : [9,12,5,20] , \"etudiant_20\" : [9,12,5,20] ,}\n",
    "\n",
    "def moyenne_general(etudiants:dict)->float:\n",
    "    somme = 0\n",
    "    nbNote = 0\n",
    "    for list_notes in etudiants.values():\n",
    "        somme += moyenne_etudiant(list_notes)\n",
    "    return somme / len(etudiants)\n",
    "\n",
    "def moyenne_etudiant(notes:dict)->float:\n",
    "    somme = 0\n",
    "    for une_note in notes:\n",
    "            somme+= une_note\n",
    "    return somme / len(notes)\n",
    "\n",
    "def liste_sup_10(etudiants:dict):\n",
    "    for element, note in etudiants.items():\n",
    "        if(moyenne_etudiant(note)>10):\n",
    "            print(element)\n",
    "            \n",
    "print(\"Mean: \"+ str(moyenne_general(etudiants)))\n",
    "liste_sup_10(etudiants)"
   ]
  },
  {
   "attachments": {},
   "cell_type": "markdown",
   "id": "071938cc",
   "metadata": {
    "slideshow": {
     "slide_type": "slide"
    }
   },
   "source": [
    "![./pics/list_vs_dict.PNG](./pics/list_vs_dict.PNG)"
   ]
  },
  {
   "cell_type": "markdown",
   "id": "b9180501",
   "metadata": {
    "slideshow": {
     "slide_type": "slide"
    }
   },
   "source": [
    "# Les n-uplets (tuples)\n",
    "Un **n-uplet** (*tuple*) est une séquence **non modifiable** de données **ordonnées**.\n",
    "\n",
    "Chaque élément est associé à un *index* qui commence à l'indice **0**.\n",
    "\n",
    "Contraitement aux listes, les tuples **ne sont pas modifiables** (ils sont non mutables).\n",
    "\n",
    "Pourquoi utiliser des tuples plutôt que des listes ? Comme sa structure ne peut pas être modifiée, son implémentation permet un stockage en mémoire plus compact. Un tuple est plus performant qu’une liste mais on ne peut s'en servir que dans des situations ou nos données ne sont pas modifiables.\n"
   ]
  },
  {
   "cell_type": "markdown",
   "id": "ec94a432",
   "metadata": {},
   "source": [
    "## Créer une liste\n",
    "\n",
    "Pour créer une liste, on utilise les crochets ```()```, et on peut initialiser en séparant les valeurs par une ```,```. \n",
    "\n",
    "Par exemple:"
   ]
  },
  {
   "cell_type": "code",
   "execution_count": 1,
   "id": "37cd5540",
   "metadata": {},
   "outputs": [],
   "source": [
    "tuple_vide = ()\n",
    "tuple_un_seul_elem = (1,) # Ici la , est obligatoire pour éviter la confusion avec l'opérateur de priorité ()\n",
    "tuple_plein = (0,2,4,6)\n",
    "tuple_etrange = (0,\"Fleur\",None,[],{},())"
   ]
  },
  {
   "cell_type": "markdown",
   "id": "e411125b",
   "metadata": {
    "slideshow": {
     "slide_type": "slide"
    }
   },
   "source": [
    "## Accéder aux éléments d'un tuple\n",
    "Comme pour les listes, l'accès à un élement d'un tuple se fait avec les crochets ```[]```:"
   ]
  },
  {
   "cell_type": "code",
   "execution_count": 2,
   "id": "08c9b900",
   "metadata": {},
   "outputs": [],
   "source": [
    "mon_tuple = (1,2,3,4)\n",
    "premier_element = mon_tuple[0]\n",
    "dernier_element = mon_tuple[3]"
   ]
  },
  {
   "cell_type": "markdown",
   "id": "4287cf2b",
   "metadata": {},
   "source": [
    "Comme pour les listes, il est possible d’utiliser un index négatif pour compter à partir de la fin du tuple. Le dernier élément a l’index -1."
   ]
  },
  {
   "cell_type": "markdown",
   "id": "5730246a",
   "metadata": {},
   "source": [
    "## Les opérations sur les tuples\n",
    "\n",
    "Un tuple n'étant pas modifiable, on peut effectuer les mêmes opérations que sur les listes pour la constulation. "
   ]
  },
  {
   "cell_type": "code",
   "execution_count": 5,
   "id": "cf34c7d3",
   "metadata": {},
   "outputs": [],
   "source": [
    "mon_tuple= (10,20,30,40)\n",
    "len(mon_tuple)                        # Connaitre la taille d'un tuple\n",
    "\n",
    "mon_tuple2= (10,20,30,40)\n",
    "mon_tuple3 = mon_tuple + mon_tuple2   # Ajouter deux tuples dans un troisième\n",
    "\n",
    "mon_tuple4 = (\"1\") * 5                # Créer un tuple répétant le contenu plusieurs fois\n",
    "\n",
    "10 in mon_tuple                       # Savoir si un élement est présent dans un tuple\n",
    "\n",
    "mon_tuple != ()                       # Comparer des tuples\n",
    "mon_tuple < (1,2)\n",
    "\n",
    "max(mon_tuple)                        # Récupérer l'élément le plus grand/petit\n",
    "\n",
    "mon_tuple5 =  mon_tuple[1:3]          # Créer un sous-tuple\n",
    "\n",
    "mon_tuple.count(1)                    # Compter le nombre d'occurences d'un élément\n",
    "\n",
    "mon_tuple = tuple([1,2,3])            # Créer un tuple à partir d'une liste\n",
    "\n",
    "ma_list = list(mon_tuple)             # Créer une liste à partir d'un tuple"
   ]
  },
  {
   "cell_type": "markdown",
   "id": "7924348b",
   "metadata": {
    "slideshow": {
     "slide_type": "slide"
    }
   },
   "source": [
    "## Parcourir un tuple\n",
    "De la même manière qu'une liste, on peut parcourir un tuple à l'aide de l'instruction **for**"
   ]
  },
  {
   "cell_type": "code",
   "execution_count": 6,
   "id": "d62330c8",
   "metadata": {},
   "outputs": [
    {
     "name": "stdout",
     "output_type": "stream",
     "text": [
      "1\n",
      "2\n",
      "3\n"
     ]
    }
   ],
   "source": [
    "mon_tuple = (1,2,3)\n",
    "for element in mon_tuple:\n",
    "    print(element)"
   ]
  },
  {
   "cell_type": "markdown",
   "id": "99f3c7b1",
   "metadata": {
    "slideshow": {
     "slide_type": "slide"
    }
   },
   "source": [
    "<div class=\"alert alert-block alert-warning\">\n",
    "<b>Attention:</b> Un tuple n'est pas mutable. Si l'on essaie de modifier l'une de ses valeurs, on obtient une erreur de type <b>TypeError</b> \n",
    "</div>"
   ]
  },
  {
   "cell_type": "code",
   "execution_count": 7,
   "id": "7936253e",
   "metadata": {},
   "outputs": [
    {
     "ename": "TypeError",
     "evalue": "'tuple' object does not support item assignment",
     "output_type": "error",
     "traceback": [
      "\u001b[1;31m---------------------------------------------------------------------------\u001b[0m",
      "\u001b[1;31mTypeError\u001b[0m                                 Traceback (most recent call last)",
      "Input \u001b[1;32mIn [7]\u001b[0m, in \u001b[0;36m<cell line: 2>\u001b[1;34m()\u001b[0m\n\u001b[0;32m      1\u001b[0m mon_tuple \u001b[38;5;241m=\u001b[39m (\u001b[38;5;241m1\u001b[39m,\u001b[38;5;241m2\u001b[39m)\n\u001b[1;32m----> 2\u001b[0m mon_tuple[\u001b[38;5;241m0\u001b[39m] \u001b[38;5;241m=\u001b[39m \u001b[38;5;241m3\u001b[39m\n",
      "\u001b[1;31mTypeError\u001b[0m: 'tuple' object does not support item assignment"
     ]
    }
   ],
   "source": [
    "mon_tuple = (1,2)\n",
    "mon_tuple[0] = 3"
   ]
  },
  {
   "cell_type": "markdown",
   "id": "b384038b",
   "metadata": {
    "slideshow": {
     "slide_type": "slide"
    }
   },
   "source": [
    "## L'ensemble (set)\n",
    "\n",
    "Un ensemble (**set**) est un groupement **non ordonné** d'éléments **uniques**. Il est manipulable comme une liste. \n",
    "\n",
    "<div class=\"alert alert-block alert-warning\">\n",
    "    <b>Attention:</b> Pour qu'un élément fasse partie de l'ensemble, Python doit pouvoir produire une valeur numérique unique permettant de l'identifier (on parle de valeur de hashage, hash en anglais). Par défaut en Python, les nombres, chaînes de caractères et valeurs booléennes peveunt être mis dans un ensemble.  \n",
    "</div>\n",
    "\n",
    "### Créer un ensemble\n",
    "\n",
    "La création d'un ensemble se fait à l'aide des accolades ```{}```:"
   ]
  },
  {
   "cell_type": "code",
   "execution_count": 10,
   "id": "7a96fa1c",
   "metadata": {},
   "outputs": [],
   "source": [
    "v = set()                                   # Ensemble vide, à ne pas mélanger avec {}, le dictionnaire vide\n",
    "mon_ensemble = {1,2,3,4}\n",
    "mon_ensemble_bizarre = {12, None, \"Hello\"}"
   ]
  },
  {
   "cell_type": "markdown",
   "id": "15b77019",
   "metadata": {
    "slideshow": {
     "slide_type": "slide"
    }
   },
   "source": [
    "L'unicité des éléments est garantie à la création. Par exemple:"
   ]
  },
  {
   "cell_type": "code",
   "execution_count": 11,
   "id": "04ad9b57",
   "metadata": {},
   "outputs": [
    {
     "name": "stdout",
     "output_type": "stream",
     "text": [
      "{1, 2, 3, 4}\n"
     ]
    }
   ],
   "source": [
    "mon_ensemble = {1, 2, 2, 3, 3, 3, 4, 4, 4, 4}\n",
    "print(mon_ensemble)"
   ]
  },
  {
   "cell_type": "markdown",
   "id": "d732721c",
   "metadata": {},
   "source": [
    "On peut ajouter et retirer des éléments à un ensemble grace aux fonctions ```set.add(element)``` et ```set.remove(element)```"
   ]
  },
  {
   "cell_type": "code",
   "execution_count": 13,
   "id": "393f5c6b",
   "metadata": {},
   "outputs": [
    {
     "name": "stdout",
     "output_type": "stream",
     "text": [
      "{1, 2, 3, 4}\n",
      "{2, 3, 4}\n"
     ]
    }
   ],
   "source": [
    "mon_set = {1,2,3}\n",
    "mon_set.add(4)\n",
    "print(mon_set)\n",
    "mon_set.remove(1)\n",
    "print(mon_set)"
   ]
  },
  {
   "cell_type": "markdown",
   "id": "77db8120",
   "metadata": {
    "slideshow": {
     "slide_type": "slide"
    }
   },
   "source": [
    "En plus des opérations disponibles sur les listes, un ensemble ajoute les opérations suivantes:"
   ]
  },
  {
   "cell_type": "code",
   "execution_count": 15,
   "id": "2f296f0d",
   "metadata": {},
   "outputs": [
    {
     "name": "stdout",
     "output_type": "stream",
     "text": [
      "{1, 2, 3}\n",
      "{2}\n",
      "{1}\n",
      "{1, 3}\n"
     ]
    }
   ],
   "source": [
    "e1 = {1, 2}                # Union de deux ensembles\n",
    "e2 = {2, 3}\n",
    "e3 = e1.union(e2)          # Equivalent à e1 | e2\n",
    "print(e3)\n",
    "\n",
    "e1 = {1, 2}                # Intersection de deux ensembles\n",
    "e2 = {2, 3}\n",
    "e3 = e1.intersection(e2)   # Equivalent à e1 & e2\n",
    "print(e3)\n",
    "\n",
    "e1 = {1, 2}                # Différence de deux ensembles\n",
    "e2 = {2, 3}\n",
    "e3 = e1.difference(e2)     # Equivalent à e1 - e2\n",
    "print(e3)\n",
    "\n",
    "e1 = {1, 2}                # Différence symétrique de deux ensembles\n",
    "e2 = {2, 3}                # Affiche les élements présent que dans l'un des deux ensemble (pas dans les deux)\n",
    "e3 = e1.symmetric_difference(e2)\n",
    "print(e3)"
   ]
  },
  {
   "cell_type": "markdown",
   "id": "91d2dfad",
   "metadata": {
    "slideshow": {
     "slide_type": "slide"
    }
   },
   "source": [
    "## Esenmbles figés\n",
    "\n",
    "Il est aussi possible de figer un ensemble (**frozen**) pour interdire sa modification à l'aide de la fonction ```frozenset()```"
   ]
  },
  {
   "cell_type": "code",
   "execution_count": 18,
   "id": "69b6e8ed",
   "metadata": {},
   "outputs": [
    {
     "name": "stdout",
     "output_type": "stream",
     "text": [
      "[2, 2, 3]\n"
     ]
    },
    {
     "ename": "TypeError",
     "evalue": "'frozenset' object does not support item assignment",
     "output_type": "error",
     "traceback": [
      "\u001b[1;31m---------------------------------------------------------------------------\u001b[0m",
      "\u001b[1;31mTypeError\u001b[0m                                 Traceback (most recent call last)",
      "Input \u001b[1;32mIn [18]\u001b[0m, in \u001b[0;36m<cell line: 5>\u001b[1;34m()\u001b[0m\n\u001b[0;32m      3\u001b[0m \u001b[38;5;28mprint\u001b[39m(ma_liste)\n\u001b[0;32m      4\u001b[0m ma_liste_gelee \u001b[38;5;241m=\u001b[39m \u001b[38;5;28mfrozenset\u001b[39m(ma_liste)\n\u001b[1;32m----> 5\u001b[0m ma_liste_gelee[\u001b[38;5;241m0\u001b[39m] \u001b[38;5;241m=\u001b[39m \u001b[38;5;241m1\u001b[39m\n\u001b[0;32m      6\u001b[0m \u001b[38;5;28mprint\u001b[39m(ma_liste_gelee)\n",
      "\u001b[1;31mTypeError\u001b[0m: 'frozenset' object does not support item assignment"
     ]
    }
   ],
   "source": [
    "ma_liste = [1,2,3]\n",
    "ma_liste[0] = 2\n",
    "print(ma_liste)\n",
    "ma_liste_gelee = frozenset(ma_liste)\n",
    "ma_liste_gelee[0] = 1\n",
    "print(ma_liste_gelee)"
   ]
  },
  {
   "cell_type": "markdown",
   "id": "8b742ab4",
   "metadata": {
    "slideshow": {
     "slide_type": "slide"
    }
   },
   "source": [
    "<div class=\"alert alert-block alert-info\">\n",
    "<b>En résumé:</b> \n",
    "    <ul>\n",
    "        <li>Les <b>listes</b> permettent de manipuler des séquences ordonnées d'éléments indicés de <b>0</b> à <b>n-1</b></li>\n",
    "        <li>Les <b>dictionnaires</b> permettent de manipuler des couples associant à une unique <b>clé</b> une <b>valeur</b> { \"clé\":\"valeur\" }</li>\n",
    "        <li>Les <b>n-uplets</b> permettent de manipuler des séquences ordonnées d'éléments <b>uniques</b> </li>\n",
    "        <li>Les <b>esnembles</b> permettent de manipuler des séquences <b>non ordonnées d'éléments uniques</b> </li>\n",
    "    </ul>\n",
    "</div>\n",
    "\n",
    "<div class=\"alert alert-block alert-warning\">\n",
    "    <b>Attention:</b> Le choix de la bonne structurée de donnée se fait à partir du problème que l'on veut modéliser. On se pose nottement la question de l'unicité des valeurs, leur mutabilité et celle de leur ordonnancement. \n",
    "</div>"
   ]
  },
  {
   "cell_type": "markdown",
   "id": "f9100053",
   "metadata": {
    "slideshow": {
     "slide_type": "slide"
    }
   },
   "source": [
    "# En résumé\n",
    "On a vu: \n",
    "* ✔️ Un algorithme est un enchainement de *séquences*\n",
    "* ✔️ On peut contrôler l'enchainement à l'aide de deux structures de contrôle:\n",
    "* ✔️ 1. Les enchainement conditionnels (**If,else**, **if, elif,else**)\n",
    "* ✔️ 2. Les répétitions (**While**,**for**,**for, in range**)\n",
    "* ✔️ On peut utiliser des fonctions ou des procédures.\n",
    "* ✔️ On peut utiliser des structures de données pour regrouper et manipuler des éléments:\n",
    "* ✔️ 1. Les listes pour les **éléments ordonés**.\n",
    "* ✔️ 2. Les dictionnaires pour les couples **clé/valeurs**.\n",
    "* ✔️ 3. Les n-uplets pour les séquences d'**éléments ordonnées uniques**.\n",
    "* ✔️ 4. Les ensembles (set) pour les séquences d'**éléments non ordonnées uniques**.\n"
   ]
  },
  {
   "cell_type": "markdown",
   "id": "d743db4b",
   "metadata": {
    "slideshow": {
     "slide_type": "slide"
    }
   },
   "source": [
    "Je suis donc capable:\n",
    "* A partir d'un problème donné, de produire un algoritme composé de séquences d'instructions.\n",
    "* De contrôler l'ordre dans lequel sont exécutées ces séquences pour prendre des décisions ou répéter des opérations\n",
    "* De factoriser mon code en utilisant des fonctions et des procédures\n",
    "* De sélectionner et utiliser une structure de donnée en adéquation avec mon problème"
   ]
  }
 ],
 "metadata": {
  "celltoolbar": "Diaporama",
  "kernelspec": {
   "display_name": "Python 3 (ipykernel)",
   "language": "python",
   "name": "python3"
  },
  "language_info": {
   "codemirror_mode": {
    "name": "ipython",
    "version": 3
   },
   "file_extension": ".py",
   "mimetype": "text/x-python",
   "name": "python",
   "nbconvert_exporter": "python",
   "pygments_lexer": "ipython3",
   "version": "3.9.12"
  }
 },
 "nbformat": 4,
 "nbformat_minor": 5
}
