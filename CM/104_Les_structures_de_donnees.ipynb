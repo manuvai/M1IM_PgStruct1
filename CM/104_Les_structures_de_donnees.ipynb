{
 "cells": [
  {
   "cell_type": "markdown",
   "id": "6f937d76",
   "metadata": {
    "slideshow": {
     "slide_type": "slide"
    }
   },
   "source": [
    "# ![./pics/logo_ut1.jpg](./pics/logo_ut1.jpg) Master 1 Ingénierie Métier (IM) : Programmation Structurée 1 2022/2023\n",
    "\n",
    "# Les structures de données\n",
    "\n",
    "### Equipe pédagogique \n",
    "    Sophie Martinez - Sophie.Martinez@ut-capitole.fr\n",
    "    Laurent Marsan - Laurent.Marsan@ut-capitole.fr\n",
    "    Nicolas Verstaevel - Nicolas.Verstaevel@ut-capitole.fr"
   ]
  },
  {
   "cell_type": "markdown",
   "id": "b9ddbd4a",
   "metadata": {
    "slideshow": {
     "slide_type": "slide"
    }
   },
   "source": [
    "# On a vu\n",
    "* ✔️ Un algorithme est un enchainement de **séquences** manipulant des **variables** et des **opérateurs** \n",
    "* ✔️ On peut contrôler l'enchainement à l'aide de deux **structures de contrôle**:\n",
    "* ✔️ 1. Les enchainement conditionnels (**If,else**, **if, elif,else**)\n",
    "* ✔️ 2. Les répétitions (**While**,**for**,**for i in range**)\n",
    "* ✔️ On peut utiliser des **fonctions** ou des **procédures**"
   ]
  },
  {
   "cell_type": "markdown",
   "id": "63918349",
   "metadata": {
    "slideshow": {
     "slide_type": "slide"
    }
   },
   "source": [
    "Une **variable** permet de manipuler une unique **valeur**.\n",
    "\n",
    "Si je veux manipuler plusieurs valeurs, je dois créer plusieurs variables.\n",
    "\n",
    "Par exemple, si je sais que je veux manipuler 3 entiers:"
   ]
  },
  {
   "cell_type": "code",
   "execution_count": 3,
   "id": "79bdde06",
   "metadata": {
    "slideshow": {
     "slide_type": "-"
    }
   },
   "outputs": [],
   "source": [
    "x1 = 0\n",
    "x2 = 10\n",
    "x3 = 20"
   ]
  },
  {
   "cell_type": "markdown",
   "id": "878be2e0",
   "metadata": {},
   "source": [
    "Comment faire si je ne connais pas à l'avance le nombre de variable que je veux manipuler ? 🤔"
   ]
  },
  {
   "cell_type": "markdown",
   "id": "83064298",
   "metadata": {
    "slideshow": {
     "slide_type": "slide"
    }
   },
   "source": [
    "# Un exemple pas à pas\n",
    "**Tâche à réaliser** 🎯\n",
    "\n",
    "* Je souhaite calculer la moyenne d'une série de nombre fournies par l'utilisateur. Le nombre *n* de saisies est a priori inconnu. \n",
    "    \n",
    "**Entrée**🔠\n",
    "\n",
    "* $n$ nombres $x$ saisies par l'utilisateur.\n",
    "\n",
    "**Précondition**\n",
    "\n",
    "* $\\forall i \\in [1,n], x_{i} \\in \\mathbf{R} $ \n",
    "    \n",
    "**Sortie** 🖥️\n",
    "\n",
    "* Le résultat du calcul $\\frac{\\sum_{i=1}^{n} x_{i}}{n}$"
   ]
  },
  {
   "cell_type": "markdown",
   "id": "11079ca0",
   "metadata": {
    "slideshow": {
     "slide_type": "slide"
    }
   },
   "source": [
    "**1ère étape**: Je créer une fonction \t```lire_nombre()->int``` qui me retourne l'entier saisie par l'utilisateur"
   ]
  },
  {
   "cell_type": "code",
   "execution_count": 1,
   "id": "ec3762ff",
   "metadata": {
    "slideshow": {
     "slide_type": "fragment"
    }
   },
   "outputs": [],
   "source": [
    "def lire_nombre()-> int:\n",
    "    return int(input(\"Saisissez votre nombre: \"))"
   ]
  },
  {
   "cell_type": "code",
   "execution_count": 9,
   "id": "6a8718f8",
   "metadata": {
    "scrolled": true,
    "slideshow": {
     "slide_type": "fragment"
    }
   },
   "outputs": [
    {
     "name": "stdout",
     "output_type": "stream",
     "text": [
      "Saisissez votre nombre: 1\n"
     ]
    },
    {
     "data": {
      "text/plain": [
       "1"
      ]
     },
     "execution_count": 9,
     "metadata": {},
     "output_type": "execute_result"
    }
   ],
   "source": [
    "lire_nombre()"
   ]
  },
  {
   "cell_type": "markdown",
   "id": "72b2bb0a",
   "metadata": {
    "slideshow": {
     "slide_type": "slide"
    }
   },
   "source": [
    "**2ème étape**: Je créer une fonction \t```voulez_vous_continuer()->bool``` qui retourne *True* si l'utilisateur veut continuer, *False* sinon.  "
   ]
  },
  {
   "cell_type": "code",
   "execution_count": 4,
   "id": "235f25f8",
   "metadata": {
    "slideshow": {
     "slide_type": "fragment"
    }
   },
   "outputs": [],
   "source": [
    "def voulez_vous_continuer()->bool:\n",
    "    reponse_utilisateur = input(\"Voulez-vous continuer? y/n \")\n",
    "    return reponse_utilisateur == \"y\" or reponse_utilisateur == \"Y\""
   ]
  },
  {
   "cell_type": "code",
   "execution_count": 3,
   "id": "837f90e3",
   "metadata": {
    "slideshow": {
     "slide_type": "fragment"
    }
   },
   "outputs": [
    {
     "name": "stdout",
     "output_type": "stream",
     "text": [
      "Voulez-vous continuer? y/n n\n"
     ]
    },
    {
     "data": {
      "text/plain": [
       "True"
      ]
     },
     "execution_count": 3,
     "metadata": {},
     "output_type": "execute_result"
    }
   ],
   "source": [
    "voulez_vous_continuer()"
   ]
  },
  {
   "cell_type": "markdown",
   "id": "e99cfc4e",
   "metadata": {
    "slideshow": {
     "slide_type": "slide"
    }
   },
   "source": [
    "**3ème étape**: Tant que l'utilisateur veut continuer, je lui demande de saisir un nombre et je compte le nombre de saisies."
   ]
  },
  {
   "cell_type": "code",
   "execution_count": 10,
   "id": "fad1a9ae",
   "metadata": {
    "scrolled": true,
    "slideshow": {
     "slide_type": "fragment"
    }
   },
   "outputs": [
    {
     "name": "stdout",
     "output_type": "stream",
     "text": [
      "Voulez-vous continuer? y/n n\n"
     ]
    }
   ],
   "source": [
    "n = 0\n",
    "while(voulez_vous_continuer()):\n",
    "    x = lire_nombre()\n",
    "    n = n + 1"
   ]
  },
  {
   "cell_type": "markdown",
   "id": "e37af9b3",
   "metadata": {
    "slideshow": {
     "slide_type": "slide"
    }
   },
   "source": [
    "**4ème étape**: A chaque tour de boucle, j'ajoute la valeur de l'utilisateur à une somme. Enfin, je calcul la moyenne."
   ]
  },
  {
   "cell_type": "code",
   "execution_count": 8,
   "id": "e03ea83f",
   "metadata": {
    "scrolled": true,
    "slideshow": {
     "slide_type": "fragment"
    }
   },
   "outputs": [
    {
     "name": "stdout",
     "output_type": "stream",
     "text": [
      "Voulez-vous continuer? y/n y\n",
      "Saisissez votre nombre: 1\n",
      "Voulez-vous continuer? y/n y\n",
      "Saisissez votre nombre: 2\n",
      "Voulez-vous continuer? y/n y\n",
      "Saisissez votre nombre: 3\n",
      "Voulez-vous continuer? y/n n\n",
      "La moyenne est : 2.0\n"
     ]
    }
   ],
   "source": [
    "n = 0\n",
    "somme = 0\n",
    "while(voulez_vous_continuer()):\n",
    "    somme = somme + lire_nombre()\n",
    "    n = n + 1\n",
    "print(\"La moyenne est : \" + str(somme/n))"
   ]
  },
  {
   "cell_type": "markdown",
   "id": "29ccd0a6",
   "metadata": {
    "slideshow": {
     "slide_type": "fragment"
    }
   },
   "source": [
    "<div class=\"alert alert-block alert-info\">\n",
    "<b>Remarque:</b> Notre solution fonctionne, mais elle agrège les valeurs dans la variable somme. On ne peut pas réutiliser les valeurs saisies par l'utilisateur pour effectuer d'autres calculs (ex: Max, Min, ...). Il nous faut une structure de donnée pour pouvoir manipuler nos données.\n",
    "</div>"
   ]
  },
  {
   "cell_type": "markdown",
   "id": "a1b5fafd",
   "metadata": {
    "slideshow": {
     "slide_type": "slide"
    }
   },
   "source": [
    "# Les structures de données\n",
    "Les **structures de données** sont des moyens spécifiques d’organiser et de stocker des données afin qu’elles puissent être consultées et travaillées de manière efficace. \n",
    "\n",
    "Les structures de données définissent la **relation entre les données et les opérations** pouvant être effectuées dessus.\n",
    "\n",
    "Il existent plusieurs structures de données, et vous pouvez créer vos propres structures en fonction de vos besoins."
   ]
  },
  {
   "cell_type": "markdown",
   "id": "9d053047",
   "metadata": {
    "slideshow": {
     "slide_type": "slide"
    }
   },
   "source": [
    "Nous allons étudier quatre structures de données qui sont implémentées dans Python:\n",
    "* La liste (```list\t```)\n",
    "* Le dictionnaire (```dict```)\n",
    "* L n-uplet (```tuple```)\n",
    "* L'ensemble (```set```)\n",
    "\n",
    "Chacune de ces structures possède des propriétés spécifiques, et offre un ensemble d'*opérations*."
   ]
  },
  {
   "cell_type": "markdown",
   "id": "4e561d81",
   "metadata": {
    "slideshow": {
     "slide_type": "slide"
    }
   },
   "source": [
    "Pour connaitre les opérations disponibles sur un type, on peut utiliser la fonction **dir** avec pour argument une valeur. Par exemple, **dir('')** nous liste toutes les méthodes disponible sur les strings (car '' est une string)."
   ]
  },
  {
   "cell_type": "code",
   "execution_count": 11,
   "id": "2a522c60",
   "metadata": {
    "slideshow": {
     "slide_type": "fragment"
    }
   },
   "outputs": [
    {
     "data": {
      "text/plain": [
       "['__add__',\n",
       " '__class__',\n",
       " '__contains__',\n",
       " '__delattr__',\n",
       " '__dir__',\n",
       " '__doc__',\n",
       " '__eq__',\n",
       " '__format__',\n",
       " '__ge__',\n",
       " '__getattribute__',\n",
       " '__getitem__',\n",
       " '__getnewargs__',\n",
       " '__gt__',\n",
       " '__hash__',\n",
       " '__init__',\n",
       " '__init_subclass__',\n",
       " '__iter__',\n",
       " '__le__',\n",
       " '__len__',\n",
       " '__lt__',\n",
       " '__mod__',\n",
       " '__mul__',\n",
       " '__ne__',\n",
       " '__new__',\n",
       " '__reduce__',\n",
       " '__reduce_ex__',\n",
       " '__repr__',\n",
       " '__rmod__',\n",
       " '__rmul__',\n",
       " '__setattr__',\n",
       " '__sizeof__',\n",
       " '__str__',\n",
       " '__subclasshook__',\n",
       " 'capitalize',\n",
       " 'casefold',\n",
       " 'center',\n",
       " 'count',\n",
       " 'encode',\n",
       " 'endswith',\n",
       " 'expandtabs',\n",
       " 'find',\n",
       " 'format',\n",
       " 'format_map',\n",
       " 'index',\n",
       " 'isalnum',\n",
       " 'isalpha',\n",
       " 'isascii',\n",
       " 'isdecimal',\n",
       " 'isdigit',\n",
       " 'isidentifier',\n",
       " 'islower',\n",
       " 'isnumeric',\n",
       " 'isprintable',\n",
       " 'isspace',\n",
       " 'istitle',\n",
       " 'isupper',\n",
       " 'join',\n",
       " 'ljust',\n",
       " 'lower',\n",
       " 'lstrip',\n",
       " 'maketrans',\n",
       " 'partition',\n",
       " 'removeprefix',\n",
       " 'removesuffix',\n",
       " 'replace',\n",
       " 'rfind',\n",
       " 'rindex',\n",
       " 'rjust',\n",
       " 'rpartition',\n",
       " 'rsplit',\n",
       " 'rstrip',\n",
       " 'split',\n",
       " 'splitlines',\n",
       " 'startswith',\n",
       " 'strip',\n",
       " 'swapcase',\n",
       " 'title',\n",
       " 'translate',\n",
       " 'upper',\n",
       " 'zfill']"
      ]
     },
     "execution_count": 11,
     "metadata": {},
     "output_type": "execute_result"
    }
   ],
   "source": [
    "dir('')"
   ]
  },
  {
   "cell_type": "markdown",
   "id": "5d84b473",
   "metadata": {
    "slideshow": {
     "slide_type": "slide"
    }
   },
   "source": [
    "Pour obtenir plus détails sur une opérations ```help``` avec pour argument un appel a la méthode. \n",
    "\n",
    "Par exemple, ```help(''.count)``` nous donne la documentation de la methode .count.\n",
    "\n",
    "<div class=\"alert alert-block alert-warning\">\n",
    "<b>⚠️:</b> On retrouve aussi ces informations sur la documentation:\n",
    "https://docs.python.org/3/library/stdtypes.html?highlight=count#str.count\n",
    "</div>\n"
   ]
  },
  {
   "cell_type": "code",
   "execution_count": 18,
   "id": "7d85b579",
   "metadata": {
    "scrolled": true,
    "slideshow": {
     "slide_type": "fragment"
    }
   },
   "outputs": [
    {
     "name": "stdout",
     "output_type": "stream",
     "text": [
      "Help on built-in function count:\n",
      "\n",
      "count(...) method of builtins.str instance\n",
      "    S.count(sub[, start[, end]]) -> int\n",
      "    \n",
      "    Return the number of non-overlapping occurrences of substring sub in\n",
      "    string S[start:end].  Optional arguments start and end are\n",
      "    interpreted as in slice notation.\n",
      "\n"
     ]
    }
   ],
   "source": [
    "help(\"\".count)"
   ]
  },
  {
   "cell_type": "markdown",
   "id": "c04c7d61",
   "metadata": {
    "slideshow": {
     "slide_type": "slide"
    }
   },
   "source": [
    "# Les listes (list)\n",
    "\n",
    "Une **liste**, aussi appelé **tableau** dans d'autre langages de programmation (ex: Java, Php,..), est une **séquence modifiable de données ordonnées**. Ces données peuvent être de n'importe quel type de valeur (à l'exception des caractères qui doivent être stoqués sous la forme de strings).\n",
    "\n",
    "Chaque élement de la liste dispose d'un **index**, c'est à dire d'un numéro représentant sa position dans la liste. \n",
    "\n",
    "Le premier élement possède l'index $0$. Le dernier élément est donc situé à l'index $n-1$.\n",
    "\n",
    "## Créer une liste\n",
    "\n",
    "Pour créer une liste, on utilise les crochets ```[]```, et on peut initialiser en séparant les valeurs par une ```,```. \n",
    "\n",
    "Par exemple:"
   ]
  },
  {
   "cell_type": "code",
   "execution_count": 20,
   "id": "8ad6eaa6",
   "metadata": {
    "scrolled": true
   },
   "outputs": [
    {
     "name": "stdout",
     "output_type": "stream",
     "text": [
      "[]\n",
      "[1, 2, 3, 4]\n"
     ]
    }
   ],
   "source": [
    "ma_liste = [] # Ici, on créer une liste vide.\n",
    "ma_liste2 = [1,2,3,4] # Ici on créer une liste qui contient 4 éléments de type entiers\n",
    "print(ma_liste)\n",
    "print(ma_liste2)"
   ]
  },
  {
   "cell_type": "markdown",
   "id": "38eb862b",
   "metadata": {
    "slideshow": {
     "slide_type": "slide"
    }
   },
   "source": [
    "## Accéder aux éléments\n",
    "Pour accéder à un élément d'une liste, on utilise le nom de la variable qui contient la liste, suivit des ```[]``` dans lesquels on précise l'index de l'élément auquel on veut accéder."
   ]
  },
  {
   "cell_type": "code",
   "execution_count": 25,
   "id": "b21c9ab3",
   "metadata": {},
   "outputs": [],
   "source": [
    "ma_liste = [ 2, 4 , 6, 8]\n",
    "premier_element = ma_liste[0]\n",
    "dernier_element = ma_liste[1]"
   ]
  },
  {
   "cell_type": "markdown",
   "id": "68b9b7d5",
   "metadata": {},
   "source": [
    "On peut aussi utiliser un index négatif pour accéder à un élément par rapport à la fin:"
   ]
  },
  {
   "cell_type": "code",
   "execution_count": 29,
   "id": "d3f9f403",
   "metadata": {},
   "outputs": [],
   "source": [
    "dernier_element = ma_liste[-1]\n",
    "avant_dernier = ma_liste[-2]"
   ]
  },
  {
   "cell_type": "markdown",
   "id": "b0494ba9",
   "metadata": {
    "slideshow": {
     "slide_type": "slide"
    }
   },
   "source": [
    "Si l'on essaie d'accéder à un index qui n'existe pas, celà produit une erreur de type ```IndexError```"
   ]
  },
  {
   "cell_type": "code",
   "execution_count": 30,
   "id": "90a09b81",
   "metadata": {
    "scrolled": true
   },
   "outputs": [
    {
     "ename": "IndexError",
     "evalue": "list index out of range",
     "output_type": "error",
     "traceback": [
      "\u001b[1;31m---------------------------------------------------------------------------\u001b[0m",
      "\u001b[1;31mIndexError\u001b[0m                                Traceback (most recent call last)",
      "Input \u001b[1;32mIn [30]\u001b[0m, in \u001b[0;36m<cell line: 1>\u001b[1;34m()\u001b[0m\n\u001b[1;32m----> 1\u001b[0m \u001b[43mma_liste\u001b[49m\u001b[43m[\u001b[49m\u001b[38;5;241;43m10\u001b[39;49m\u001b[43m]\u001b[49m\n",
      "\u001b[1;31mIndexError\u001b[0m: list index out of range"
     ]
    }
   ],
   "source": [
    "ma_liste[10]"
   ]
  },
  {
   "cell_type": "markdown",
   "id": "1f976d07",
   "metadata": {
    "slideshow": {
     "slide_type": "slide"
    }
   },
   "source": [
    "On peut modifier la valeur d'un élément avec l'opérateur d'affectation ```=```."
   ]
  },
  {
   "cell_type": "code",
   "execution_count": 31,
   "id": "b10cc2a3",
   "metadata": {},
   "outputs": [
    {
     "name": "stdout",
     "output_type": "stream",
     "text": [
      "[2, 4, 6, 8]\n",
      "[10, 4, 6, 8]\n"
     ]
    }
   ],
   "source": [
    "print(ma_liste)\n",
    "ma_liste[0]= 10\n",
    "print(ma_liste)"
   ]
  },
  {
   "cell_type": "markdown",
   "id": "c7f39350",
   "metadata": {
    "slideshow": {
     "slide_type": "slide"
    }
   },
   "source": [
    "### Parcourir une liste\n",
    "\n",
    "On peut parcourir une liste à l'aide de l'instruction ```for in```. A chaque tour de boucle, la variable de parcours prend la valeur d'un élement de la liste en suivant l'ordonnacement (de 0 à n -1)."
   ]
  },
  {
   "cell_type": "code",
   "execution_count": 79,
   "id": "b0ca026a",
   "metadata": {},
   "outputs": [
    {
     "name": "stdout",
     "output_type": "stream",
     "text": [
      "[2, 3, 4, 6]\n",
      "2\n",
      "3\n",
      "4\n",
      "6\n",
      "---\n",
      "2\n",
      "3\n",
      "4\n",
      "6\n",
      "---\n",
      "6\n",
      "4\n",
      "3\n",
      "2\n",
      "---\n",
      "6\n",
      "4\n",
      "3\n",
      "2\n",
      "---\n"
     ]
    }
   ],
   "source": [
    "print(ma_liste)\n",
    "# For each\n",
    "for element in ma_liste:\n",
    "    print(element)\n",
    "print(\"---\")\n",
    "# Parcours par l'index\n",
    "for i in range(0,len(ma_liste)):\n",
    "    print(ma_liste[i])\n",
    "print(\"---\")\n",
    "# For each + Parcourir la liste à l'envers\n",
    "for element in reversed(ma_liste):\n",
    "    print(element)\n",
    "print(\"---\")\n",
    "# Parcours à l'envers par l'index \n",
    "for i in range(0,len(ma_liste)):\n",
    "    print(ma_liste[len(ma_liste)-1-i])\n",
    "print(\"---\")"
   ]
  },
  {
   "cell_type": "markdown",
   "id": "41c42ad6",
   "metadata": {},
   "source": [
    "<div class=\"alert alert-block alert-info\">\n",
    "<b>Remarque:</b> On a déjà vu ces opérations lorsque l'on a introduit les chaines de caractères. La différence est que les chaines de caractères sont inmutable, c'est à dire qu'on ne peut pas changer la valeur des caractères qui compose la chaine. Le listes, sont mutable, c'est à dire que l'on peut modifier les éléments dans la liste.\n",
    "</div>"
   ]
  },
  {
   "cell_type": "markdown",
   "id": "9e890344",
   "metadata": {
    "slideshow": {
     "slide_type": "slide"
    }
   },
   "source": [
    "<div class=\"alert alert-block alert-warning\">\n",
    "<b>⚠️Attention:</b> Une liste peut contenir des éléments de type différents! On peut vérifier le type à l'aide de la fonction type\n",
    "</div>"
   ]
  },
  {
   "cell_type": "code",
   "execution_count": 37,
   "id": "d70a20d5",
   "metadata": {
    "scrolled": true
   },
   "outputs": [
    {
     "name": "stdout",
     "output_type": "stream",
     "text": [
      "[None, 1, True, 'Soleil', [], [1, 2, 3], [[1, 2], [1, 2, 3]]]\n"
     ]
    }
   ],
   "source": [
    "liste_bizarre = [None, 1, True, \"Soleil\", [], [1,2,3], [[1,2],[1,2,3]]]\n",
    "print(liste_bizarre)"
   ]
  },
  {
   "cell_type": "code",
   "execution_count": 38,
   "id": "e57dd9bd",
   "metadata": {
    "scrolled": true
   },
   "outputs": [
    {
     "name": "stdout",
     "output_type": "stream",
     "text": [
      "<class 'NoneType'>\n",
      "<class 'int'>\n",
      "<class 'bool'>\n",
      "<class 'str'>\n",
      "<class 'list'>\n",
      "<class 'list'>\n",
      "<class 'list'>\n"
     ]
    }
   ],
   "source": [
    "for element in liste_bizarre:\n",
    "    print(type(element))"
   ]
  },
  {
   "cell_type": "markdown",
   "id": "eaa20a82",
   "metadata": {
    "slideshow": {
     "slide_type": "fragment"
    }
   },
   "source": [
    "<div class=\"alert alert-block alert-info\">\n",
    "<b>ℹ️:</b> On remarque ici que l'on peut faire des listes de listes (voir des listes de listes de listes...). \n",
    "</div>"
   ]
  },
  {
   "cell_type": "markdown",
   "id": "e02ca24b",
   "metadata": {
    "slideshow": {
     "slide_type": "slide"
    }
   },
   "source": [
    "## Les opérations sur les listes\n",
    "\n",
    "Les listes offrent beacoup d'opérations qui permettent de les manipuler. Nous allons maintenant en illustrer quelques unes."
   ]
  },
  {
   "cell_type": "code",
   "execution_count": 40,
   "id": "2f71b22b",
   "metadata": {
    "scrolled": false
   },
   "outputs": [
    {
     "name": "stdout",
     "output_type": "stream",
     "text": [
      "Help on list object:\n",
      "\n",
      "class list(object)\n",
      " |  list(iterable=(), /)\n",
      " |  \n",
      " |  Built-in mutable sequence.\n",
      " |  \n",
      " |  If no argument is given, the constructor creates a new empty list.\n",
      " |  The argument must be an iterable if specified.\n",
      " |  \n",
      " |  Methods defined here:\n",
      " |  \n",
      " |  __add__(self, value, /)\n",
      " |      Return self+value.\n",
      " |  \n",
      " |  __contains__(self, key, /)\n",
      " |      Return key in self.\n",
      " |  \n",
      " |  __delitem__(self, key, /)\n",
      " |      Delete self[key].\n",
      " |  \n",
      " |  __eq__(self, value, /)\n",
      " |      Return self==value.\n",
      " |  \n",
      " |  __ge__(self, value, /)\n",
      " |      Return self>=value.\n",
      " |  \n",
      " |  __getattribute__(self, name, /)\n",
      " |      Return getattr(self, name).\n",
      " |  \n",
      " |  __getitem__(...)\n",
      " |      x.__getitem__(y) <==> x[y]\n",
      " |  \n",
      " |  __gt__(self, value, /)\n",
      " |      Return self>value.\n",
      " |  \n",
      " |  __iadd__(self, value, /)\n",
      " |      Implement self+=value.\n",
      " |  \n",
      " |  __imul__(self, value, /)\n",
      " |      Implement self*=value.\n",
      " |  \n",
      " |  __init__(self, /, *args, **kwargs)\n",
      " |      Initialize self.  See help(type(self)) for accurate signature.\n",
      " |  \n",
      " |  __iter__(self, /)\n",
      " |      Implement iter(self).\n",
      " |  \n",
      " |  __le__(self, value, /)\n",
      " |      Return self<=value.\n",
      " |  \n",
      " |  __len__(self, /)\n",
      " |      Return len(self).\n",
      " |  \n",
      " |  __lt__(self, value, /)\n",
      " |      Return self<value.\n",
      " |  \n",
      " |  __mul__(self, value, /)\n",
      " |      Return self*value.\n",
      " |  \n",
      " |  __ne__(self, value, /)\n",
      " |      Return self!=value.\n",
      " |  \n",
      " |  __repr__(self, /)\n",
      " |      Return repr(self).\n",
      " |  \n",
      " |  __reversed__(self, /)\n",
      " |      Return a reverse iterator over the list.\n",
      " |  \n",
      " |  __rmul__(self, value, /)\n",
      " |      Return value*self.\n",
      " |  \n",
      " |  __setitem__(self, key, value, /)\n",
      " |      Set self[key] to value.\n",
      " |  \n",
      " |  __sizeof__(self, /)\n",
      " |      Return the size of the list in memory, in bytes.\n",
      " |  \n",
      " |  append(self, object, /)\n",
      " |      Append object to the end of the list.\n",
      " |  \n",
      " |  clear(self, /)\n",
      " |      Remove all items from list.\n",
      " |  \n",
      " |  copy(self, /)\n",
      " |      Return a shallow copy of the list.\n",
      " |  \n",
      " |  count(self, value, /)\n",
      " |      Return number of occurrences of value.\n",
      " |  \n",
      " |  extend(self, iterable, /)\n",
      " |      Extend list by appending elements from the iterable.\n",
      " |  \n",
      " |  index(self, value, start=0, stop=9223372036854775807, /)\n",
      " |      Return first index of value.\n",
      " |      \n",
      " |      Raises ValueError if the value is not present.\n",
      " |  \n",
      " |  insert(self, index, object, /)\n",
      " |      Insert object before index.\n",
      " |  \n",
      " |  pop(self, index=-1, /)\n",
      " |      Remove and return item at index (default last).\n",
      " |      \n",
      " |      Raises IndexError if list is empty or index is out of range.\n",
      " |  \n",
      " |  remove(self, value, /)\n",
      " |      Remove first occurrence of value.\n",
      " |      \n",
      " |      Raises ValueError if the value is not present.\n",
      " |  \n",
      " |  reverse(self, /)\n",
      " |      Reverse *IN PLACE*.\n",
      " |  \n",
      " |  sort(self, /, *, key=None, reverse=False)\n",
      " |      Sort the list in ascending order and return None.\n",
      " |      \n",
      " |      The sort is in-place (i.e. the list itself is modified) and stable (i.e. the\n",
      " |      order of two equal elements is maintained).\n",
      " |      \n",
      " |      If a key function is given, apply it once to each list item and sort them,\n",
      " |      ascending or descending, according to their function values.\n",
      " |      \n",
      " |      The reverse flag can be set to sort in descending order.\n",
      " |  \n",
      " |  ----------------------------------------------------------------------\n",
      " |  Class methods defined here:\n",
      " |  \n",
      " |  __class_getitem__(...) from builtins.type\n",
      " |      See PEP 585\n",
      " |  \n",
      " |  ----------------------------------------------------------------------\n",
      " |  Static methods defined here:\n",
      " |  \n",
      " |  __new__(*args, **kwargs) from builtins.type\n",
      " |      Create and return a new object.  See help(type) for accurate signature.\n",
      " |  \n",
      " |  ----------------------------------------------------------------------\n",
      " |  Data and other attributes defined here:\n",
      " |  \n",
      " |  __hash__ = None\n",
      "\n"
     ]
    }
   ],
   "source": [
    "help([])"
   ]
  },
  {
   "cell_type": "markdown",
   "id": "e90c906a",
   "metadata": {
    "slideshow": {
     "slide_type": "slide"
    }
   },
   "source": [
    "### Connaitre la taille d'une liste : ```len(list)```"
   ]
  },
  {
   "cell_type": "code",
   "execution_count": 41,
   "id": "62335441",
   "metadata": {
    "scrolled": true
   },
   "outputs": [
    {
     "name": "stdout",
     "output_type": "stream",
     "text": [
      "4\n"
     ]
    }
   ],
   "source": [
    "ma_liste = [10, 100, 50, 30]\n",
    "print(len(ma_liste))"
   ]
  },
  {
   "cell_type": "markdown",
   "id": "1157d421",
   "metadata": {},
   "source": [
    "### Ajouter un élement à la fin de la liste : ```append(e)``` ou ```+=``` ou ```insert(i,e)```"
   ]
  },
  {
   "cell_type": "code",
   "execution_count": 56,
   "id": "55f1739c",
   "metadata": {},
   "outputs": [
    {
     "name": "stdout",
     "output_type": "stream",
     "text": [
      "[10, 100, 50, 30, 80]\n",
      "[10, 100, 50, 30, 80, 120]\n",
      "[10, 100, 50, 30, 0, 80, 120]\n"
     ]
    }
   ],
   "source": [
    "ma_liste = [10, 100, 50, 30]\n",
    "ma_liste.append(80)\n",
    "print(ma_liste)\n",
    "ma_liste+= [120]\n",
    "print(ma_liste)\n",
    "\n",
    "ma_liste.insert(4,0)\n",
    "print(ma_liste)"
   ]
  },
  {
   "cell_type": "markdown",
   "id": "d635e62e",
   "metadata": {},
   "source": [
    "### Supprimer un élément d'une liste : ```del(index)```"
   ]
  },
  {
   "cell_type": "code",
   "execution_count": 43,
   "id": "7e2232f8",
   "metadata": {},
   "outputs": [
    {
     "name": "stdout",
     "output_type": "stream",
     "text": [
      "[10, 50, 30]\n"
     ]
    }
   ],
   "source": [
    "ma_liste = [10, 100, 50, 30]\n",
    "del ma_liste[1]\n",
    "print(ma_liste)"
   ]
  },
  {
   "cell_type": "markdown",
   "id": "282162c9",
   "metadata": {
    "slideshow": {
     "slide_type": "slide"
    }
   },
   "source": [
    "### Concatener deux listes : ```+```"
   ]
  },
  {
   "cell_type": "code",
   "execution_count": 45,
   "id": "a137fb00",
   "metadata": {},
   "outputs": [
    {
     "name": "stdout",
     "output_type": "stream",
     "text": [
      "[1, 2, 3, 2, 3, 4]\n"
     ]
    }
   ],
   "source": [
    "ma_liste1 = [1,2,3]\n",
    "ma_liste2 = [2,3,4]\n",
    "ma_liste3 = ma_liste1 + ma_liste2\n",
    "print(ma_liste3)"
   ]
  },
  {
   "cell_type": "markdown",
   "id": "db38360a",
   "metadata": {},
   "source": [
    "### Répéter une liste : ```*```"
   ]
  },
  {
   "cell_type": "code",
   "execution_count": 47,
   "id": "2ea42595",
   "metadata": {},
   "outputs": [
    {
     "name": "stdout",
     "output_type": "stream",
     "text": [
      "[1, 2, 3, 1, 2, 3, 1, 2, 3]\n"
     ]
    }
   ],
   "source": [
    "ma_liste = [1,2,3]*3\n",
    "print(ma_liste)"
   ]
  },
  {
   "cell_type": "markdown",
   "id": "75d7706f",
   "metadata": {},
   "source": [
    "### Tester si un élément est présent dans la liste: ```in```"
   ]
  },
  {
   "cell_type": "code",
   "execution_count": 49,
   "id": "8e0c4382",
   "metadata": {
    "scrolled": true
   },
   "outputs": [
    {
     "name": "stdout",
     "output_type": "stream",
     "text": [
      "True\n",
      "False\n",
      "True\n"
     ]
    }
   ],
   "source": [
    "ma_liste = [1,2,3]\n",
    "print(2 in ma_liste)\n",
    "print(100 in ma_liste)\n",
    "print(100 not in ma_liste)"
   ]
  },
  {
   "cell_type": "markdown",
   "id": "a70c7069",
   "metadata": {
    "slideshow": {
     "slide_type": "slide"
    }
   },
   "source": [
    "### Comparer deux listes: ```==```, ```!=```, ```<```, ```>```"
   ]
  },
  {
   "cell_type": "code",
   "execution_count": 50,
   "id": "b42af920",
   "metadata": {},
   "outputs": [
    {
     "name": "stdout",
     "output_type": "stream",
     "text": [
      "False\n",
      "True\n",
      "True\n"
     ]
    }
   ],
   "source": [
    "ma_liste1 = [1,2,3]\n",
    "ma_liste2 = [2,3,4]\n",
    "print(ma_liste1 == ma_liste2)\n",
    "print(ma_liste1 != ma_liste2)\n",
    "print(ma_liste1 < ma_liste2) # Ordre lexicographique"
   ]
  },
  {
   "cell_type": "markdown",
   "id": "506dc495",
   "metadata": {},
   "source": [
    "<div class=\"alert alert-block alert-warning\">\n",
    "<b>⚠️:</b> Pour que deux listes soient égales elles doivent avoir la même taille et contenir des éléments deux à deux identiques.\n",
    "</div>"
   ]
  },
  {
   "cell_type": "markdown",
   "id": "99466040",
   "metadata": {
    "slideshow": {
     "slide_type": "slide"
    }
   },
   "source": [
    "### Rechercher une valeur maximum ou minimum: ```min(list)```, ```max(list)```"
   ]
  },
  {
   "cell_type": "code",
   "execution_count": 52,
   "id": "b4dcb49c",
   "metadata": {},
   "outputs": [
    {
     "name": "stdout",
     "output_type": "stream",
     "text": [
      "24\n",
      "2\n"
     ]
    }
   ],
   "source": [
    "ma_liste = [ 12, 24, 2 , 5, 21]\n",
    "print(max(ma_liste))\n",
    "print(min(ma_liste))"
   ]
  },
  {
   "cell_type": "markdown",
   "id": "cd0a946e",
   "metadata": {},
   "source": [
    "<div class=\"alert alert-block alert-warning\">\n",
    "<b>Attention:</b> Celà nécessite que les éléments de la liste soient comparables, c'est à dire à minima tous du même type!\n",
    "</div>"
   ]
  },
  {
   "cell_type": "markdown",
   "id": "d925f212",
   "metadata": {},
   "source": [
    "### Pour trier une list : ```list.sort()```"
   ]
  },
  {
   "cell_type": "code",
   "execution_count": 63,
   "id": "cd6a78d1",
   "metadata": {},
   "outputs": [
    {
     "name": "stdout",
     "output_type": "stream",
     "text": [
      "[2, 3, 4, 6]\n",
      "[6, 4, 3, 2]\n"
     ]
    }
   ],
   "source": [
    "# Pour trier une liste par ordre croissant.\n",
    "\n",
    "ma_liste = [3, 2, 6, 4]\n",
    "ma_liste.sort()\n",
    "print(ma_liste)\n",
    "\n",
    "# Pour trier par ordre décroissant, on utilise le paramètre nommé reverse :\n",
    "\n",
    "ma_liste = [3, 2, 6, 4]\n",
    "ma_liste.sort(reverse=True)\n",
    "print(ma_liste)"
   ]
  },
  {
   "cell_type": "markdown",
   "id": "eafa5f22",
   "metadata": {
    "slideshow": {
     "slide_type": "slide"
    }
   },
   "source": [
    "### Rechercher l'index d'une valeur spécifique dans une liste: ```list.index(element)```"
   ]
  },
  {
   "cell_type": "code",
   "execution_count": null,
   "id": "fd99945c",
   "metadata": {},
   "outputs": [],
   "source": [
    "voyels = ['a', 'e', 'i', 'o', 'i', 'u']\n",
    "print(voyels.index('a'))"
   ]
  },
  {
   "cell_type": "markdown",
   "id": "635988ea",
   "metadata": {},
   "source": [
    "<div class=\"alert alert-block alert-warning\">\n",
    "<b>Attention:</b> Si l'élément n'est pas trouvé, celà provoque une erreur de type ```ValueError```\n",
    "</div>"
   ]
  },
  {
   "cell_type": "markdown",
   "id": "1f9caefe",
   "metadata": {},
   "source": [
    "### Récupérer une sous-liste: ```[index départ:indice supérieur:incrément]```"
   ]
  },
  {
   "cell_type": "code",
   "execution_count": 93,
   "id": "df089298",
   "metadata": {},
   "outputs": [
    {
     "name": "stdout",
     "output_type": "stream",
     "text": [
      "[2, 3]\n",
      "[9, 10]\n",
      "[2, 4, 6, 8]\n"
     ]
    }
   ],
   "source": [
    "ma_liste = [1,2,3,4,5,6,7,8,9,10]\n",
    "autre_liste = ma_liste[1:3]\n",
    "print(autre_liste)\n",
    "\n",
    "derniers_elements = ma_liste[-2:100]\n",
    "print(derniers_elements)\n",
    "\n",
    "nombres_pairs = ma_liste[1:9:2]\n",
    "print(nombres_pairs)"
   ]
  },
  {
   "cell_type": "markdown",
   "id": "a8e7a80e",
   "metadata": {},
   "source": [
    "### Compter le nombre d'occurence d'un élément: ```count(e)```"
   ]
  },
  {
   "cell_type": "code",
   "execution_count": 57,
   "id": "51342096",
   "metadata": {},
   "outputs": [
    {
     "name": "stdout",
     "output_type": "stream",
     "text": [
      "0\n",
      "2\n"
     ]
    }
   ],
   "source": [
    "ma_liste = [\"Nathan\", \"Flora\", \"Robert\", \"Thibault\", \"Flora\", \"Luc\", \"Anne\", \"Annie\"]\n",
    "print(ma_liste.count(\"John\"))\n",
    "print(ma_liste.count(\"Flora\"))"
   ]
  },
  {
   "cell_type": "markdown",
   "id": "8470cc9e",
   "metadata": {
    "slideshow": {
     "slide_type": "slide"
    }
   },
   "source": [
    "### Copier une liste \n",
    "\n",
    "Parfois, on souhaite réaliser une copie d'une liste, pour ensuite effectuer des opération sur la copie. Prenons l'exemple suivant:"
   ]
  },
  {
   "cell_type": "code",
   "execution_count": 59,
   "id": "37ec47e3",
   "metadata": {},
   "outputs": [
    {
     "name": "stdout",
     "output_type": "stream",
     "text": [
      "[1, 2, 3, 4]\n"
     ]
    }
   ],
   "source": [
    "ma_liste1 = [1, 2 , 3, 4]\n",
    "une_copie = ma_liste1\n",
    "print(une_copie)"
   ]
  },
  {
   "cell_type": "markdown",
   "id": "76b840b2",
   "metadata": {},
   "source": [
    "On pourrait croire que cette opération as copié ```ma_liste1``` dans la variable ```une_copie```. Regardons ce qu'il se passe si l'on modifie un element de ```une_copie```."
   ]
  },
  {
   "cell_type": "code",
   "execution_count": 61,
   "id": "f3667809",
   "metadata": {
    "slideshow": {
     "slide_type": "slide"
    }
   },
   "outputs": [
    {
     "name": "stdout",
     "output_type": "stream",
     "text": [
      "[1000, 2, 3, 4]\n",
      "[1000, 2, 3, 4]\n"
     ]
    }
   ],
   "source": [
    "une_copie[0] = 1000\n",
    "print(une_copie)\n",
    "print(ma_liste1)"
   ]
  },
  {
   "cell_type": "markdown",
   "id": "114328f4",
   "metadata": {},
   "source": [
    "Les deux listes sont identiques! \n",
    "\n",
    "<div class=\"alert alert-block alert-warning\">\n",
    "    <b>⚠️:</b> L'opérateur <b>=</b> réalise une copie par référence, c'est à dire que les deux variables \"pointent\" vers la même adresse mémoire. Autrement dit, vous avez deux variables qui représentent la même chose!\n",
    "</div>\n",
    "\n",
    "Pour copier une liste, il faut donc utiliser la fonction ```list```"
   ]
  },
  {
   "cell_type": "code",
   "execution_count": 62,
   "id": "e2523619",
   "metadata": {},
   "outputs": [
    {
     "name": "stdout",
     "output_type": "stream",
     "text": [
      "[0, 2, 3, 4]\n",
      "[1000, 2, 3, 4]\n"
     ]
    }
   ],
   "source": [
    "une_copie = list(ma_liste1)\n",
    "une_copie[0] = 0\n",
    "print(une_copie)\n",
    "print(ma_liste1)"
   ]
  },
  {
   "cell_type": "markdown",
   "id": "fdf57c2e",
   "metadata": {},
   "source": [
    "Elles sont maintenant bien différentes!"
   ]
  },
  {
   "cell_type": "markdown",
   "id": "f95688fe",
   "metadata": {
    "slideshow": {
     "slide_type": "slide"
    }
   },
   "source": [
    "<div class=\"alert alert-block alert-info\">\n",
    "<b>En résumé:</b> \n",
    "    <ul>\n",
    "      <li>Les <b>listes</b> permettent de manipuler des éléments <b>ordonnés</b>.</li>\n",
    "      <li>Chaque élément d'une liste est associé à un index qui va de <b>0</b> jusqu'à <b>n-1</b></li>\n",
    "      <li>On peut <b>ajouter</b> et <b>supprimer</b> des élements à notre liste.</li>\n",
    "      <li>On peut manipuler les listes à l'aide d'opérateurs et de fonctions.</li>\n",
    "        <li>Copier une liste nécessite d'utiliser la fonction <b>list()</b></li>\n",
    "    </ul>\n",
    "</div>"
   ]
  },
  {
   "cell_type": "markdown",
   "id": "31bb66ae",
   "metadata": {
    "slideshow": {
     "slide_type": "slide"
    }
   },
   "source": [
    "# ✔️Concept check\n",
    "\n",
    "Soit la liste:"
   ]
  },
  {
   "cell_type": "code",
   "execution_count": 83,
   "id": "3ec38661",
   "metadata": {},
   "outputs": [],
   "source": [
    "jours = ['lundi', 'mardi', 'mercredi', 'jeudi', 'vendredi', 'samedi', 'dimanche']"
   ]
  },
  {
   "cell_type": "markdown",
   "id": "41c73058",
   "metadata": {},
   "source": [
    "* 1: Créez une nouvelle liste que ne contient pas les jours du week-end\n",
    "* 2: Créez une nouvelle liste que ne contient que les jours du week-end\n",
    "* 3: Créez une nouvelle liste qui commence par les jours du week-end.\n",
    "* 4: Créez une nouvelle liste qui commence par dimanche."
   ]
  },
  {
   "cell_type": "code",
   "execution_count": 90,
   "id": "388e9a24",
   "metadata": {
    "slideshow": {
     "slide_type": "fragment"
    }
   },
   "outputs": [
    {
     "name": "stdout",
     "output_type": "stream",
     "text": [
      "['lundi', 'mardi', 'mercredi', 'jeudi']\n",
      "['samedi', 'dimanche']\n",
      "['samedi', 'dimanche', 'lundi', 'mardi', 'mercredi', 'jeudi']\n",
      "['dimanche', 'lundi', 'mardi', 'mercredi', 'jeudi', 'vendredi']\n"
     ]
    }
   ],
   "source": [
    "liste1 = jours[:4]\n",
    "print(liste1)\n",
    "\n",
    "liste2 = jours[-2:]\n",
    "print(liste2)\n",
    "\n",
    "liste3 = jours[-2:] + jours[:4]\n",
    "print(liste3)\n",
    "\n",
    "liste4 = jours[-1:] + jours[:5]\n",
    "print(liste4)"
   ]
  },
  {
   "cell_type": "markdown",
   "id": "f89b9fd6",
   "metadata": {},
   "source": [
    "# Les dictionnaires (dict)"
   ]
  },
  {
   "cell_type": "code",
   "execution_count": null,
   "id": "b9aac914",
   "metadata": {},
   "outputs": [],
   "source": []
  }
 ],
 "metadata": {
  "celltoolbar": "Diaporama",
  "kernelspec": {
   "display_name": "Python 3 (ipykernel)",
   "language": "python",
   "name": "python3"
  },
  "language_info": {
   "codemirror_mode": {
    "name": "ipython",
    "version": 3
   },
   "file_extension": ".py",
   "mimetype": "text/x-python",
   "name": "python",
   "nbconvert_exporter": "python",
   "pygments_lexer": "ipython3",
   "version": "3.9.12"
  }
 },
 "nbformat": 4,
 "nbformat_minor": 5
}
