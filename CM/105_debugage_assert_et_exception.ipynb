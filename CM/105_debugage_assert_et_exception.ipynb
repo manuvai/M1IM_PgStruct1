{
 "cells": [
  {
   "cell_type": "markdown",
   "id": "6f937d76",
   "metadata": {
    "slideshow": {
     "slide_type": "slide"
    }
   },
   "source": [
    "# ![./pics/logo_ut1.jpg](./pics/logo_ut1.jpg) Master 1 Ingénierie Métier (IM) : Programmation Structurée 1 2022/2023\n",
    "\n",
    "# Debugage, assertions et gestion des exceptions\n",
    "\n",
    "### Equipe pédagogique \n",
    "    Sophie Martinez - Sophie.Martinez@ut-capitole.fr\n",
    "    Laurent Marsan - Laurent.Marsan@ut-capitole.fr\n",
    "    Nicolas Verstaevel - Nicolas.Verstaevel@ut-capitole.fr"
   ]
  },
  {
   "cell_type": "markdown",
   "id": "f9100053",
   "metadata": {
    "slideshow": {
     "slide_type": "slide"
    }
   },
   "source": [
    "# On a vu\n",
    "* ✔️ Un algorithme est un enchainement de *séquences*\n",
    "* ✔️ On peut contrôler l'enchainement à l'aide de deux structures de contrôle:\n",
    "* ✔️ 1. Les enchainement conditionnels (**If,else**, **if, elif,else**)\n",
    "* ✔️ 2. Les répétitions (**While**,**for**,**for, in range**)\n",
    "* ✔️ On peut utiliser des fonctions ou des procédures.\n",
    "* ✔️ On peut utiliser des structures de données pour regrouper et manipuler des éléments:\n",
    "* ✔️ 1. Les listes pour les **éléments ordonés**.\n",
    "* ✔️ 2. Les dictionnaires pour les couples **clé/valeurs**.\n",
    "* ✔️ 3. Les n-uplets pour les séquences d'**éléments ordonnées non mutable**.\n",
    "* ✔️ 4. Les ensembles (set) pour les séquences d'**éléments non ordonnées uniques**.\n"
   ]
  },
  {
   "cell_type": "markdown",
   "id": "d743db4b",
   "metadata": {
    "slideshow": {
     "slide_type": "slide"
    }
   },
   "source": [
    "Je suis donc capable:\n",
    "* A partir d'un problème donné, de produire un algoritme composé de séquences d'instructions.\n",
    "* De contrôler l'ordre dans lequel sont exécutées ces séquences pour prendre des décisions ou répéter des opérations\n",
    "* De factoriser mon code en utilisant des fonctions et des procédures\n",
    "* De sélectionner et utiliser une structure de donnée en adéquation avec mon problème"
   ]
  },
  {
   "cell_type": "markdown",
   "id": "0dad4d13",
   "metadata": {
    "slideshow": {
     "slide_type": "slide"
    }
   },
   "source": [
    "# Qu'est-ce qu'un bug?\n",
    "\n",
    "En informatique, un bug (ou bogue) est un défaut dans la conception d'un programme informatique, qui conduit à son dysfonctionnement. Par abus, on parle aussi de bug dès qu'une erreur se produit.\n",
    "\n",
    "Il existe plusieurs types d'erreurs:"
   ]
  },
  {
   "cell_type": "markdown",
   "id": "0efa5029",
   "metadata": {
    "slideshow": {
     "slide_type": "slide"
    }
   },
   "source": [
    "# Bug 1: Les erreurs de syntaxe\n",
    "\n",
    "Un langage de programmation possède une syntaxe, c'est à dire une grammaire composée d'un alphabet (un ensemble de mots clés) et de règles de construction du langage. \n",
    "\n",
    "Le non respect d'une grammaire conduit à une **erreur de syntaxe (syntax error)**. \n",
    "\n",
    "Quand une erreur de syntaxe est détectée par le programme, celui s'arrête immédiatement. Pour les programmes qui sont compilés, les erreurs de syntaxe sont vérifiées à la compilation. Celle ci-échoue si une erreur de syntaxe est trouvée.\n"
   ]
  },
  {
   "cell_type": "markdown",
   "id": "61b7def0",
   "metadata": {
    "slideshow": {
     "slide_type": "slide"
    }
   },
   "source": [
    "Par exemple, le programme suivant contient des erreurs de syntaxe:"
   ]
  },
  {
   "cell_type": "code",
   "execution_count": 5,
   "id": "dfd00324",
   "metadata": {
    "scrolled": true,
    "slideshow": {
     "slide_type": "-"
    }
   },
   "outputs": [
    {
     "ename": "SyntaxError",
     "evalue": "invalid syntax (1158985113.py, line 1)",
     "output_type": "error",
     "traceback": [
      "\u001b[1;36m  Input \u001b[1;32mIn [5]\u001b[1;36m\u001b[0m\n\u001b[1;33m    def ma_fonction(x y)\u001b[0m\n\u001b[1;37m                      ^\u001b[0m\n\u001b[1;31mSyntaxError\u001b[0m\u001b[1;31m:\u001b[0m invalid syntax\n"
     ]
    }
   ],
   "source": [
    "def ma_fonction(x y)\n",
    "for i in range(0, x)\n",
    "for y in range(0, y)\n",
    "        print(\"i=\" + str(x) + \"y=\"+ str(y))\n",
    "        \n",
    "ma_fonction 5 10"
   ]
  },
  {
   "cell_type": "markdown",
   "id": "13e7ab4c",
   "metadata": {},
   "source": [
    "<div class=\"alert alert-block alert-info\">\n",
    "  Pour débuguer ce programme, il faut alors vérifier si les règles de syntaxe sont respectée. On peut aussi tenter d'executer le programme, et lire la <b>trace de l'erreur</b> qui pointe sur l'endroit où l'erreur de syntaxe as été trouvée. \n",
    "</div>\n",
    "<div class=\"alert alert-block alert-warning\">\n",
    "<b>⚠️:</b> L'erreur n'est pas forcément située à l'endroit pointé par la trace. En effet, Python pointe uniquement l'endroit où il s'est rendu compte qu'il manquait quelque chose, mais la cause de l'erreur peut se trouver plusieurs ligne au dessus.\n",
    "</div>\n"
   ]
  },
  {
   "cell_type": "markdown",
   "id": "ce90fc45",
   "metadata": {
    "slideshow": {
     "slide_type": "slide"
    }
   },
   "source": [
    "# Edsger W. Dijkstra\n",
    "> Program testing can be used to show the presence of bugs, but never to show their absence!"
   ]
  },
  {
   "cell_type": "markdown",
   "id": "e8e10da4",
   "metadata": {
    "slideshow": {
     "slide_type": "slide"
    }
   },
   "source": [
    "<div class=\"alert alert-block alert-info\">\n",
    "   <b>KISS</b> (<i>Keep It Stupid Simple</i>) est une ligne directrice de conception qui préconise la simplicité dans la conception, et que toute complexité devrait autant que possible évitée. \n",
    "</div>"
   ]
  },
  {
   "cell_type": "code",
   "execution_count": 2,
   "id": "8d2e4f82",
   "metadata": {},
   "outputs": [
    {
     "name": "stdout",
     "output_type": "stream",
     "text": [
      "The Zen of Python, by Tim Peters\n",
      "\n",
      "Beautiful is better than ugly.\n",
      "Explicit is better than implicit.\n",
      "Simple is better than complex.\n",
      "Complex is better than complicated.\n",
      "Flat is better than nested.\n",
      "Sparse is better than dense.\n",
      "Readability counts.\n",
      "Special cases aren't special enough to break the rules.\n",
      "Although practicality beats purity.\n",
      "Errors should never pass silently.\n",
      "Unless explicitly silenced.\n",
      "In the face of ambiguity, refuse the temptation to guess.\n",
      "There should be one-- and preferably only one --obvious way to do it.\n",
      "Although that way may not be obvious at first unless you're Dutch.\n",
      "Now is better than never.\n",
      "Although never is often better than *right* now.\n",
      "If the implementation is hard to explain, it's a bad idea.\n",
      "If the implementation is easy to explain, it may be a good idea.\n",
      "Namespaces are one honking great idea -- let's do more of those!\n"
     ]
    }
   ],
   "source": [
    "import this"
   ]
  },
  {
   "cell_type": "markdown",
   "id": "4798261b",
   "metadata": {
    "slideshow": {
     "slide_type": "slide"
    }
   },
   "source": [
    "## Debugage\n",
    "\n",
    "## Test"
   ]
  },
  {
   "cell_type": "code",
   "execution_count": null,
   "id": "4f4ad41d",
   "metadata": {},
   "outputs": [],
   "source": []
  },
  {
   "cell_type": "code",
   "execution_count": null,
   "id": "9e414e6c",
   "metadata": {},
   "outputs": [],
   "source": []
  },
  {
   "cell_type": "code",
   "execution_count": null,
   "id": "6d54bc75",
   "metadata": {},
   "outputs": [],
   "source": []
  }
 ],
 "metadata": {
  "celltoolbar": "Diaporama",
  "kernelspec": {
   "display_name": "Python 3 (ipykernel)",
   "language": "python",
   "name": "python3"
  },
  "language_info": {
   "codemirror_mode": {
    "name": "ipython",
    "version": 3
   },
   "file_extension": ".py",
   "mimetype": "text/x-python",
   "name": "python",
   "nbconvert_exporter": "python",
   "pygments_lexer": "ipython3",
   "version": "3.9.7"
  }
 },
 "nbformat": 4,
 "nbformat_minor": 5
}
