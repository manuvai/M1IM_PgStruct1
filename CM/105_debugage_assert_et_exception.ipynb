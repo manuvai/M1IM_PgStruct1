{
 "cells": [
  {
   "cell_type": "markdown",
   "id": "6f937d76",
   "metadata": {
    "slideshow": {
     "slide_type": "slide"
    }
   },
   "source": [
    "# ![./pics/logo_ut1.jpg](./pics/logo_ut1.jpg) Master 1 Ingénierie Métier (IM) : Programmation Structurée 1 2022/2023\n",
    "\n",
    "# Debugage, assertions et gestion des exceptions\n",
    "\n",
    "### Equipe pédagogique \n",
    "    Sophie Martinez - Sophie.Martinez@ut-capitole.fr\n",
    "    Laurent Marsan - Laurent.Marsan@ut-capitole.fr\n",
    "    Nicolas Verstaevel - Nicolas.Verstaevel@ut-capitole.fr"
   ]
  },
  {
   "cell_type": "markdown",
   "id": "f9100053",
   "metadata": {
    "slideshow": {
     "slide_type": "slide"
    }
   },
   "source": [
    "# On a vu\n",
    "* ✔️ Un algorithme est un enchainement de *séquences*\n",
    "* ✔️ On peut contrôler l'enchainement à l'aide de deux structures de contrôle:\n",
    "* ✔️ 1. Les enchainement conditionnels (**If,else**, **if, elif,else**)\n",
    "* ✔️ 2. Les répétitions (**While**,**for**,**for, in range**)\n",
    "* ✔️ On peut utiliser des fonctions ou des procédures.\n",
    "* ✔️ On peut utiliser des structures de données pour regrouper et manipuler des éléments:\n",
    "* ✔️ 1. Les listes pour les **éléments ordonés**.\n",
    "* ✔️ 2. Les dictionnaires pour les couples **clé/valeurs**.\n",
    "* ✔️ 3. Les n-uplets pour les séquences d'**éléments ordonnées non mutable**.\n",
    "* ✔️ 4. Les ensembles (set) pour les séquences d'**éléments non ordonnées uniques**.\n"
   ]
  },
  {
   "cell_type": "markdown",
   "id": "d743db4b",
   "metadata": {
    "slideshow": {
     "slide_type": "slide"
    }
   },
   "source": [
    "Je suis donc capable:\n",
    "* A partir d'un problème donné, de produire un algoritme composé de séquences d'instructions.\n",
    "* De contrôler l'ordre dans lequel sont exécutées ces séquences pour prendre des décisions ou répéter des opérations\n",
    "* De factoriser mon code en utilisant des fonctions et des procédures\n",
    "* De sélectionner et utiliser une structure de donnée en adéquation avec mon problème"
   ]
  },
  {
   "cell_type": "markdown",
   "id": "0dad4d13",
   "metadata": {
    "slideshow": {
     "slide_type": "slide"
    }
   },
   "source": [
    "# Qu'est-ce qu'un bug?\n",
    "\n",
    "En informatique, un bug (ou bogue) est un défaut dans la conception d'un programme informatique, qui conduit à son dysfonctionnement. Par abus, on parle aussi de bug dès qu'une erreur se produit.\n",
    "\n",
    "Il existe plusieurs types d'erreurs:"
   ]
  },
  {
   "cell_type": "markdown",
   "id": "0efa5029",
   "metadata": {
    "slideshow": {
     "slide_type": "slide"
    }
   },
   "source": [
    "# Bug 1: Les erreurs de syntaxe\n",
    "\n",
    "Un langage de programmation possède une syntaxe, c'est à dire une grammaire composée d'un alphabet (un ensemble de mots clés) et de règles de construction du langage. \n",
    "\n",
    "Le non respect d'une grammaire conduit à une **erreur de syntaxe (syntax error)**. \n",
    "\n",
    "Quand une erreur de syntaxe est détectée par le programme, celui s'arrête immédiatement. Pour les programmes qui sont compilés, les erreurs de syntaxe sont vérifiées à la compilation. Celle ci-échoue si une erreur de syntaxe est trouvée.\n"
   ]
  },
  {
   "cell_type": "markdown",
   "id": "61b7def0",
   "metadata": {
    "slideshow": {
     "slide_type": "slide"
    }
   },
   "source": [
    "Par exemple, le programme suivant contient des erreurs de syntaxe:"
   ]
  },
  {
   "cell_type": "code",
   "execution_count": 5,
   "id": "dfd00324",
   "metadata": {
    "scrolled": true,
    "slideshow": {
     "slide_type": "-"
    }
   },
   "outputs": [
    {
     "ename": "SyntaxError",
     "evalue": "invalid syntax (1158985113.py, line 1)",
     "output_type": "error",
     "traceback": [
      "\u001b[1;36m  Input \u001b[1;32mIn [5]\u001b[1;36m\u001b[0m\n\u001b[1;33m    def ma_fonction(x y)\u001b[0m\n\u001b[1;37m                      ^\u001b[0m\n\u001b[1;31mSyntaxError\u001b[0m\u001b[1;31m:\u001b[0m invalid syntax\n"
     ]
    }
   ],
   "source": [
    "def ma_fonction(x y)\n",
    "for i in range(0, x)\n",
    "for y in range(0, y)\n",
    "        print(\"i=\" + str(x) + \"y=\"+ str(y))\n",
    "        \n",
    "ma_fonction 5 10"
   ]
  },
  {
   "cell_type": "markdown",
   "id": "13e7ab4c",
   "metadata": {},
   "source": [
    "<div class=\"alert alert-block alert-info\">\n",
    "  Pour débuguer ce programme, il faut alors vérifier si les règles de syntaxe sont respectée. On peut aussi tenter d'executer le programme, et lire la <b>trace de l'erreur</b> qui pointe sur l'endroit où l'erreur de syntaxe as été trouvée. \n",
    "</div>\n",
    "<div class=\"alert alert-block alert-warning\">\n",
    "<b>⚠️:</b> L'erreur n'est pas forcément située à l'endroit pointé par la trace. En effet, Python pointe uniquement l'endroit où il s'est rendu compte qu'il manquait quelque chose, mais la cause de l'erreur peut se trouver plusieurs ligne au dessus.\n",
    "</div>\n"
   ]
  },
  {
   "cell_type": "markdown",
   "id": "30a871c3",
   "metadata": {
    "slideshow": {
     "slide_type": "slide"
    }
   },
   "source": [
    "# Bug 2: Les erreurs d'executions\n",
    "\n",
    "Le rôle de l'interpréteur Python est d'exécuter les séquences que vous lui demandez. Pour ce faire, il lit, ligne par ligne, les opérations à exécuter. \n",
    "\n",
    "Certains bug ne peuvent être détecté que lorsque vous tentez d'exécuter la ligne, celà conduit à une **erreur d'exécution (runtime error)**. \n",
    "\n",
    "Quand une erreur d'execution est détectée par le programme, celui s'arrête immédiatement. "
   ]
  },
  {
   "cell_type": "markdown",
   "id": "7a6c29ad",
   "metadata": {
    "slideshow": {
     "slide_type": "slide"
    }
   },
   "source": [
    "Par exemple, le programme suivant contient des erreurs d'execution:"
   ]
  },
  {
   "cell_type": "code",
   "execution_count": 2,
   "id": "d24b1123",
   "metadata": {},
   "outputs": [
    {
     "name": "stdout",
     "output_type": "stream",
     "text": [
      "Bonjour\n"
     ]
    },
    {
     "ename": "NameError",
     "evalue": "name 'hello' is not defined",
     "output_type": "error",
     "traceback": [
      "\u001b[1;31m---------------------------------------------------------------------------\u001b[0m",
      "\u001b[1;31mNameError\u001b[0m                                 Traceback (most recent call last)",
      "Input \u001b[1;32mIn [2]\u001b[0m, in \u001b[0;36m<cell line: 2>\u001b[1;34m()\u001b[0m\n\u001b[0;32m      1\u001b[0m \u001b[38;5;28mprint\u001b[39m(\u001b[38;5;124m\"\u001b[39m\u001b[38;5;124mBonjour\u001b[39m\u001b[38;5;124m\"\u001b[39m)\n\u001b[1;32m----> 2\u001b[0m \u001b[38;5;28mprint\u001b[39m(\u001b[43mhello\u001b[49m)\n",
      "\u001b[1;31mNameError\u001b[0m: name 'hello' is not defined"
     ]
    }
   ],
   "source": [
    "print(\"Bonjour\")\n",
    "print(hello)"
   ]
  },
  {
   "cell_type": "markdown",
   "id": "b5ee6781",
   "metadata": {},
   "source": [
    "<div class=\"alert alert-block alert-info\">\n",
    "  On remarque que la première ligne du code est bien exécutée, alors que la seconde ligne provoque une erreure de type <b>NameError</b>. Ici, on cherche à utiliser une variable qui n'as pas été définie. \n",
    "</div>\n"
   ]
  },
  {
   "cell_type": "markdown",
   "id": "5de94a5a",
   "metadata": {
    "slideshow": {
     "slide_type": "slide"
    }
   },
   "source": [
    "Une erreur d'execution peut arriver à n'importe quel moment dans votre programme. Regardons l'exemple suivant:"
   ]
  },
  {
   "cell_type": "code",
   "execution_count": 4,
   "id": "94d13c08",
   "metadata": {},
   "outputs": [
    {
     "name": "stdout",
     "output_type": "stream",
     "text": [
      "bonjour\n"
     ]
    },
    {
     "ename": "UnboundLocalError",
     "evalue": "local variable 'res' referenced before assignment",
     "output_type": "error",
     "traceback": [
      "\u001b[1;31m---------------------------------------------------------------------------\u001b[0m",
      "\u001b[1;31mUnboundLocalError\u001b[0m                         Traceback (most recent call last)",
      "Input \u001b[1;32mIn [4]\u001b[0m, in \u001b[0;36m<cell line: 7>\u001b[1;34m()\u001b[0m\n\u001b[0;32m      4\u001b[0m     \u001b[38;5;28;01mreturn\u001b[39;00m res\n\u001b[0;32m      6\u001b[0m \u001b[38;5;28mprint\u001b[39m(ma_fonction(\u001b[38;5;124m\"\u001b[39m\u001b[38;5;124mhello\u001b[39m\u001b[38;5;124m\"\u001b[39m))\n\u001b[1;32m----> 7\u001b[0m \u001b[38;5;28mprint\u001b[39m(\u001b[43mma_fonction\u001b[49m\u001b[43m(\u001b[49m\u001b[38;5;124;43m\"\u001b[39;49m\u001b[38;5;124;43mgoodbyee\u001b[39;49m\u001b[38;5;124;43m\"\u001b[39;49m\u001b[43m)\u001b[49m)\n",
      "Input \u001b[1;32mIn [4]\u001b[0m, in \u001b[0;36mma_fonction\u001b[1;34m(phrase)\u001b[0m\n\u001b[0;32m      2\u001b[0m \u001b[38;5;28;01mif\u001b[39;00m(phrase \u001b[38;5;241m==\u001b[39m \u001b[38;5;124m\"\u001b[39m\u001b[38;5;124mhello\u001b[39m\u001b[38;5;124m\"\u001b[39m):\n\u001b[0;32m      3\u001b[0m     res \u001b[38;5;241m=\u001b[39m \u001b[38;5;124m\"\u001b[39m\u001b[38;5;124mbonjour\u001b[39m\u001b[38;5;124m\"\u001b[39m\n\u001b[1;32m----> 4\u001b[0m \u001b[38;5;28;01mreturn\u001b[39;00m \u001b[43mres\u001b[49m\n",
      "\u001b[1;31mUnboundLocalError\u001b[0m: local variable 'res' referenced before assignment"
     ]
    }
   ],
   "source": [
    "def ma_fonction(phrase :str):\n",
    "    if(phrase == \"hello\"):\n",
    "        res = \"bonjour\"\n",
    "    return res\n",
    "\n",
    "print(ma_fonction(\"hello\"))\n",
    "print(ma_fonction(\"goodbyee\"))"
   ]
  },
  {
   "cell_type": "markdown",
   "id": "9857a3eb",
   "metadata": {},
   "source": [
    "<div class=\"alert alert-block alert-info\">\n",
    "    On remarque ici que le premier appel à la fonction <i>ma_fonction</i> n'as pas provoqué d'erreur, alors que le second appel en provoque une. \n",
    "</div>\n",
    "\n",
    "<div class=\"alert alert-block alert-warning\">\n",
    "<b>⚠️:</b> L'erreur d'execution est plus dangeureuse que l'erreur de syntaxe. Une erreur de syntaxe ne permet pas d'executer le code. Une erreur d'execution intervient pendant l'execution du code. Il est donc nécessaire de bien tester pour éviter que celà n'arrive dans des situations dangeureuse!\n",
    "</div>"
   ]
  },
  {
   "cell_type": "markdown",
   "id": "ef0883fc",
   "metadata": {
    "slideshow": {
     "slide_type": "slide"
    }
   },
   "source": [
    "Pour faire un paralèlle avec le français:\n",
    "\n",
    " **Vous vache**\n",
    "\n",
    "Il manque un verbe à cette phrase, elle n'est donc pas syntaxiquement juste: **une erreur de syntaxe**\n",
    "\n",
    "**Vous balayez les vaches**\n",
    "\n",
    "Ici la phrase est gramaticalement, juste ( sujet + verbe + complément), mais elle n'as pas de sens: **une erreur d'execution**\n",
    "\n"
   ]
  },
  {
   "cell_type": "markdown",
   "id": "39a26871",
   "metadata": {
    "slideshow": {
     "slide_type": "slide"
    }
   },
   "source": [
    "# Bug 3: Les erreurs de logique\n",
    "\n",
    "Le troisième type d'erreur est probablement le plus difficile à trouver, c'est l'**erreur logique**, ou de raisonnement. \n",
    "\n",
    "Lorsqu'un programme s'execute correctement sans erreur, mais que le résultat n'est pas celui attendu par le concepteur, on parle d'une **erreur logique (logical error)**. \n",
    "\n",
    "Ces erreurs là **ne peuvent pas être detectée par Python**, qui se contente de faire ce qu'on lui demande.\n",
    "\n",
    "<div class=\"alert alert-block alert-warning\">\n",
    "<b>⚠️:</b> Il ne sert à rien de crier sur la machine, ou d'invoquer un bug dans la matrice! Python fait se qu'on lui demande, il faut donc comprendre où se situe l'erreur de conception\n",
    "</div>"
   ]
  },
  {
   "cell_type": "markdown",
   "id": "74afe6c7",
   "metadata": {
    "slideshow": {
     "slide_type": "slide"
    }
   },
   "source": [
    "Des erreurs logiques, il en existe des tas, voici quelques exemples:"
   ]
  },
  {
   "cell_type": "code",
   "execution_count": 8,
   "id": "5018511c",
   "metadata": {},
   "outputs": [
    {
     "name": "stdout",
     "output_type": "stream",
     "text": [
      "Voyelle\n"
     ]
    }
   ],
   "source": [
    "import random\n",
    "z = random.choice(['a','e','i','o','u'])\n",
    "if z == 'a' or 'e' or 'i' or 'u' or 'o':\n",
    "    print(\"Voyelle\")\n",
    "else: \n",
    "    print(\"Consonne\")"
   ]
  },
  {
   "cell_type": "code",
   "execution_count": 9,
   "id": "a17275d2",
   "metadata": {},
   "outputs": [
    {
     "name": "stdout",
     "output_type": "stream",
     "text": [
      "6\n"
     ]
    }
   ],
   "source": [
    "def perimetre(l,L):\n",
    "    return l + L * 2\n",
    "print(perimetre(2,2))"
   ]
  },
  {
   "cell_type": "code",
   "execution_count": 11,
   "id": "893b8155",
   "metadata": {},
   "outputs": [
    {
     "ename": "KeyboardInterrupt",
     "evalue": "Interrupted by user",
     "output_type": "error",
     "traceback": [
      "\u001b[1;31m---------------------------------------------------------------------------\u001b[0m",
      "\u001b[1;31mKeyboardInterrupt\u001b[0m                         Traceback (most recent call last)",
      "Input \u001b[1;32mIn [11]\u001b[0m, in \u001b[0;36m<cell line: 2>\u001b[1;34m()\u001b[0m\n\u001b[0;32m      1\u001b[0m nb_saisie \u001b[38;5;241m=\u001b[39m \u001b[38;5;241m0\u001b[39m\n\u001b[0;32m      2\u001b[0m \u001b[38;5;28;01mwhile\u001b[39;00m nb_saisie \u001b[38;5;241m<\u001b[39m \u001b[38;5;241m2\u001b[39m:\n\u001b[1;32m----> 3\u001b[0m     x \u001b[38;5;241m=\u001b[39m \u001b[38;5;28;43minput\u001b[39;49m\u001b[43m(\u001b[49m\u001b[38;5;124;43m\"\u001b[39;49m\u001b[38;5;124;43mSaisissez x\u001b[39;49m\u001b[38;5;124;43m\"\u001b[39;49m\u001b[43m)\u001b[49m\n",
      "File \u001b[1;32mC:\\ProgramData\\Anaconda3\\lib\\site-packages\\ipykernel\\kernelbase.py:1075\u001b[0m, in \u001b[0;36mKernel.raw_input\u001b[1;34m(self, prompt)\u001b[0m\n\u001b[0;32m   1071\u001b[0m \u001b[38;5;28;01mif\u001b[39;00m \u001b[38;5;129;01mnot\u001b[39;00m \u001b[38;5;28mself\u001b[39m\u001b[38;5;241m.\u001b[39m_allow_stdin:\n\u001b[0;32m   1072\u001b[0m     \u001b[38;5;28;01mraise\u001b[39;00m StdinNotImplementedError(\n\u001b[0;32m   1073\u001b[0m         \u001b[38;5;124m\"\u001b[39m\u001b[38;5;124mraw_input was called, but this frontend does not support input requests.\u001b[39m\u001b[38;5;124m\"\u001b[39m\n\u001b[0;32m   1074\u001b[0m     )\n\u001b[1;32m-> 1075\u001b[0m \u001b[38;5;28;01mreturn\u001b[39;00m \u001b[38;5;28;43mself\u001b[39;49m\u001b[38;5;241;43m.\u001b[39;49m\u001b[43m_input_request\u001b[49m\u001b[43m(\u001b[49m\n\u001b[0;32m   1076\u001b[0m \u001b[43m    \u001b[49m\u001b[38;5;28;43mstr\u001b[39;49m\u001b[43m(\u001b[49m\u001b[43mprompt\u001b[49m\u001b[43m)\u001b[49m\u001b[43m,\u001b[49m\n\u001b[0;32m   1077\u001b[0m \u001b[43m    \u001b[49m\u001b[38;5;28;43mself\u001b[39;49m\u001b[38;5;241;43m.\u001b[39;49m\u001b[43m_parent_ident\u001b[49m\u001b[43m[\u001b[49m\u001b[38;5;124;43m\"\u001b[39;49m\u001b[38;5;124;43mshell\u001b[39;49m\u001b[38;5;124;43m\"\u001b[39;49m\u001b[43m]\u001b[49m\u001b[43m,\u001b[49m\n\u001b[0;32m   1078\u001b[0m \u001b[43m    \u001b[49m\u001b[38;5;28;43mself\u001b[39;49m\u001b[38;5;241;43m.\u001b[39;49m\u001b[43mget_parent\u001b[49m\u001b[43m(\u001b[49m\u001b[38;5;124;43m\"\u001b[39;49m\u001b[38;5;124;43mshell\u001b[39;49m\u001b[38;5;124;43m\"\u001b[39;49m\u001b[43m)\u001b[49m\u001b[43m,\u001b[49m\n\u001b[0;32m   1079\u001b[0m \u001b[43m    \u001b[49m\u001b[43mpassword\u001b[49m\u001b[38;5;241;43m=\u001b[39;49m\u001b[38;5;28;43;01mFalse\u001b[39;49;00m\u001b[43m,\u001b[49m\n\u001b[0;32m   1080\u001b[0m \u001b[43m\u001b[49m\u001b[43m)\u001b[49m\n",
      "File \u001b[1;32mC:\\ProgramData\\Anaconda3\\lib\\site-packages\\ipykernel\\kernelbase.py:1120\u001b[0m, in \u001b[0;36mKernel._input_request\u001b[1;34m(self, prompt, ident, parent, password)\u001b[0m\n\u001b[0;32m   1117\u001b[0m             \u001b[38;5;28;01mbreak\u001b[39;00m\n\u001b[0;32m   1118\u001b[0m \u001b[38;5;28;01mexcept\u001b[39;00m \u001b[38;5;167;01mKeyboardInterrupt\u001b[39;00m:\n\u001b[0;32m   1119\u001b[0m     \u001b[38;5;66;03m# re-raise KeyboardInterrupt, to truncate traceback\u001b[39;00m\n\u001b[1;32m-> 1120\u001b[0m     \u001b[38;5;28;01mraise\u001b[39;00m \u001b[38;5;167;01mKeyboardInterrupt\u001b[39;00m(\u001b[38;5;124m\"\u001b[39m\u001b[38;5;124mInterrupted by user\u001b[39m\u001b[38;5;124m\"\u001b[39m) \u001b[38;5;28;01mfrom\u001b[39;00m \u001b[38;5;28mNone\u001b[39m\n\u001b[0;32m   1121\u001b[0m \u001b[38;5;28;01mexcept\u001b[39;00m \u001b[38;5;167;01mException\u001b[39;00m:\n\u001b[0;32m   1122\u001b[0m     \u001b[38;5;28mself\u001b[39m\u001b[38;5;241m.\u001b[39mlog\u001b[38;5;241m.\u001b[39mwarning(\u001b[38;5;124m\"\u001b[39m\u001b[38;5;124mInvalid Message:\u001b[39m\u001b[38;5;124m\"\u001b[39m, exc_info\u001b[38;5;241m=\u001b[39m\u001b[38;5;28;01mTrue\u001b[39;00m)\n",
      "\u001b[1;31mKeyboardInterrupt\u001b[0m: Interrupted by user"
     ]
    }
   ],
   "source": [
    "nb_saisie = 0\n",
    "while nb_saisie < 2:\n",
    "    x = input(\"Saisissez x\")"
   ]
  },
  {
   "cell_type": "markdown",
   "id": "72dd5d98",
   "metadata": {
    "slideshow": {
     "slide_type": "slide"
    }
   },
   "source": [
    "# Comment éviter les bug? (tout en restant un bon informaticien fainéant)\n",
    "\n",
    "## Génie logiciel (software engineering)\n",
    "Méthodes de travail et les bonnes pratiques des ingénieurs qui développent des logiciels."
   ]
  },
  {
   "cell_type": "markdown",
   "id": "fcc80059",
   "metadata": {
    "slideshow": {
     "slide_type": "slide"
    }
   },
   "source": [
    "# 1 - Documentation/ Les commentaires\n",
    "\n",
    "Un premier moyen de \"gérer les erreurs\", c'est de documenter ou \"commenter\" son implémentation.\n",
    "\n",
    "Le but d'une **documentation** est de permettre à la personne qui va utiliser votre code de savoir comment l'utiliser, quels en sont les limités, et de comprendre les choix que vous avez fait.\n",
    "\n",
    "En Python, celà prend la forme de commentaires délimités par ```#``` ou ```\"\"\"```.\n",
    "\n",
    "<div class=\"alert alert-block alert-warning\">\n",
    "<b>⚠️:</b> On fera nottament attention dans le cas des fonctions à bien décrire ce que l'on attend en entrée, le comportement de la fonction, et son type de retour!\n",
    "</div>"
   ]
  },
  {
   "cell_type": "code",
   "execution_count": 12,
   "id": "6a8953ae",
   "metadata": {
    "slideshow": {
     "slide_type": "slide"
    }
   },
   "outputs": [],
   "source": [
    "# Renvoie la moyenne entre deux notes étant donné :\n",
    "# - \"note1\" contient la première note note (entier)\n",
    "# - \"note2\" est la deuxième note (entier)\n",
    "#\n",
    "# Si les notes sont comprisees entre 0 et 20 renvoie la moyeenne des deux notes,\n",
    "# sinon renvoie None\n",
    "def moyenne(note1:int, note2:int)->int:\n",
    "    if note1 > 0 and note1 <20 or note2 > 0 and note2 < 20:\n",
    "        return (note1 + note2) / 2\n",
    "    return None"
   ]
  },
  {
   "cell_type": "markdown",
   "id": "971f1788",
   "metadata": {
    "slideshow": {
     "slide_type": "-"
    }
   },
   "source": [
    "Un commentaire est documentation informelle, c'est à dire qu'il ne suite pas de règle spécifique dans sa construction. L'important étant de donner toutes les informations nécessaire pour comprendre comment on peut utiliser votre fonction.\n",
    "\n",
    "On peut utiliser la spécification vue au chapitre 1:\n",
    "- Description \n",
    "- Paramètres d'Entrée\n",
    "- Pré-conditions\n",
    "- Paramètres de sortie\n",
    "- Post-conditions"
   ]
  },
  {
   "cell_type": "markdown",
   "id": "4f995547",
   "metadata": {
    "slideshow": {
     "slide_type": "slide"
    }
   },
   "source": [
    "<div class=\"alert alert-block alert-info\">\n",
    "\n",
    "On peut aussi voir une documentation comme une forme de contrat entre vous et la personne qui va utiliser votre code: \"Je ne suis pas responsable si vous ne respectez pas la specification\" </div>"
   ]
  },
  {
   "cell_type": "code",
   "execution_count": 13,
   "id": "99a020dd",
   "metadata": {
    "slideshow": {
     "slide_type": "-"
    }
   },
   "outputs": [],
   "source": [
    "# Calcule la moyenne de deux notes :\n",
    "# Pre-condition: \n",
    "#      0<note1<20 et 0<note2<20 \n",
    "# Post:\n",
    "#      La valeur renvoyée contient la moyenne des deux notes\n",
    "#      ou None si les pre-conditions sont violées\n",
    "def moyenne(note1:int, note2:int)->int:\n",
    "    if note1 > 0 and note1 <20 or note2 > 0 and note2 < 20:\n",
    "        return (note1 + note2) / 2\n",
    "    return None"
   ]
  },
  {
   "cell_type": "markdown",
   "id": "ae5fa805",
   "metadata": {
    "slideshow": {
     "slide_type": "slide"
    }
   },
   "source": [
    "On peut aussi utiliser des **Docstring**, qui sont des chaines de caractères qui pourront ensuite être extraite automatiquement pour générer de la documentation:"
   ]
  },
  {
   "cell_type": "code",
   "execution_count": 16,
   "id": "9fb878b1",
   "metadata": {
    "slideshow": {
     "slide_type": "-"
    }
   },
   "outputs": [
    {
     "name": "stdout",
     "output_type": "stream",
     "text": [
      "\n",
      "    # Calcule la moyenne de deux notes :\n",
      "    # Pre-condition: \n",
      "    #      0<note1<20 et 0<note2<20 \n",
      "    # Post:\n",
      "    #      La valeur renvoyée contient la moyenne des deux notes\n",
      "    #      ou None si les pre-conditions sont violées\n",
      "    \n"
     ]
    }
   ],
   "source": [
    "def moyenne(note1:int, note2:int)->int:\n",
    "    \"\"\"\n",
    "    # Calcule la moyenne de deux notes :\n",
    "    # Pre-condition: \n",
    "    #      0<note1<20 et 0<note2<20 \n",
    "    # Post:\n",
    "    #      La valeur renvoyée contient la moyenne des deux notes\n",
    "    #      ou None si les pre-conditions sont violées\n",
    "    \"\"\"\n",
    "    if note1 > 0 and note1 <20 or note2 > 0 and note2 < 20:\n",
    "        return (note1 + note2) / 2\n",
    "    return None\n",
    "\n",
    "print(moyenne.__doc__)"
   ]
  },
  {
   "cell_type": "markdown",
   "id": "a55aeaea",
   "metadata": {
    "slideshow": {
     "slide_type": "slide"
    }
   },
   "source": [
    "<div class=\"alert alert-block alert-info\">\n",
    "    <b>⚠️:</b> les commentaires sont nos amis! Ils permettent de décrire l'utilisation et le comportement d'une fonction et aide à limiter les erreurs logiques. Ils simplifie la lecture, la relecture et la maintenance du code. A minima, ils protègent le developpeurs des mauvais usages de son code.\n",
    "</div>"
   ]
  },
  {
   "cell_type": "markdown",
   "id": "7a2beb7e",
   "metadata": {
    "slideshow": {
     "slide_type": "slide"
    }
   },
   "source": [
    "# 2 - Les assertions et la programmation défensive\n",
    "\n",
    "Une bonne approche pour essayer de garantir le bon fonctionnement de notre code est de **vérifier que les propriétés ou conditions** qui sont censées être satisfaites le sont effectivement.\n",
    "\n",
    "Le mécanisme d'assertion, ou **assert** (disponible dans la majorité des langages) permet de mettre en place des *gardes-fous*, c'est à dire de vérifier à certains endroit du code qu'une condition est bien respectée.\n",
    "\n",
    "L'objectif d'une assertion est de signaler aux développeurs des **erreurs potentiellements irrécupérables** dans un programme. Elle ne vise pas à signaler des \"erreurs attendues\" (voir prochaine section).\n",
    "\n",
    "**assert** est un mot clé reservé du langage Python. Un **assert** est suivi d'une condition (un test logique) qui doit être vrai. Si ce test échoue, le programme se termine par une erreur de type ."
   ]
  },
  {
   "cell_type": "code",
   "execution_count": 17,
   "id": "24c34d09",
   "metadata": {
    "scrolled": true,
    "slideshow": {
     "slide_type": "slide"
    }
   },
   "outputs": [
    {
     "ename": "AssertionError",
     "evalue": "",
     "output_type": "error",
     "traceback": [
      "\u001b[1;31m---------------------------------------------------------------------------\u001b[0m",
      "\u001b[1;31mAssertionError\u001b[0m                            Traceback (most recent call last)",
      "Input \u001b[1;32mIn [17]\u001b[0m, in \u001b[0;36m<cell line: 4>\u001b[1;34m()\u001b[0m\n\u001b[0;32m      2\u001b[0m b \u001b[38;5;241m=\u001b[39m \u001b[38;5;241m2\u001b[39m\n\u001b[0;32m      3\u001b[0m \u001b[38;5;28;01massert\u001b[39;00m a\u001b[38;5;241m==\u001b[39m\u001b[38;5;241m1\u001b[39m\n\u001b[1;32m----> 4\u001b[0m \u001b[38;5;28;01massert\u001b[39;00m b\u001b[38;5;241m==\u001b[39ma\n",
      "\u001b[1;31mAssertionError\u001b[0m: "
     ]
    }
   ],
   "source": [
    "a = 1\n",
    "b = 2\n",
    "assert a==1         # Un exemple d'assert, ici on vérifie si a == 1\n",
    "assert b==a         # Un second exemple d'assert qui va lever une erreur."
   ]
  },
  {
   "cell_type": "code",
   "execution_count": 18,
   "id": "83e7a487",
   "metadata": {
    "scrolled": true,
    "slideshow": {
     "slide_type": "slide"
    }
   },
   "outputs": [
    {
     "ename": "AssertionError",
     "evalue": "Erreur: b devrait être égale à a",
     "output_type": "error",
     "traceback": [
      "\u001b[1;31m---------------------------------------------------------------------------\u001b[0m",
      "\u001b[1;31mAssertionError\u001b[0m                            Traceback (most recent call last)",
      "Input \u001b[1;32mIn [18]\u001b[0m, in \u001b[0;36m<cell line: 2>\u001b[1;34m()\u001b[0m\n\u001b[0;32m      1\u001b[0m \u001b[38;5;66;03m# On peut ajouter un message à un assert pour aider le developpeur\u001b[39;00m\n\u001b[1;32m----> 2\u001b[0m \u001b[38;5;28;01massert\u001b[39;00m b\u001b[38;5;241m==\u001b[39ma , \u001b[38;5;124m\"\u001b[39m\u001b[38;5;124mErreur: b devrait être égale à a\u001b[39m\u001b[38;5;124m\"\u001b[39m\n",
      "\u001b[1;31mAssertionError\u001b[0m: Erreur: b devrait être égale à a"
     ]
    }
   ],
   "source": [
    "# On peut ajouter un message à un assert pour aider le developpeur\n",
    "assert b==a , \"Erreur: b devrait être égale à a\""
   ]
  },
  {
   "cell_type": "markdown",
   "id": "37ddc8f6",
   "metadata": {
    "slideshow": {
     "slide_type": "slide"
    }
   },
   "source": [
    "Si l'on reprend notre exemple précédent:"
   ]
  },
  {
   "cell_type": "code",
   "execution_count": 20,
   "id": "8e394beb",
   "metadata": {},
   "outputs": [
    {
     "ename": "AssertionError",
     "evalue": "La note2 doit être infériere à 20",
     "output_type": "error",
     "traceback": [
      "\u001b[1;31m---------------------------------------------------------------------------\u001b[0m",
      "\u001b[1;31mAssertionError\u001b[0m                            Traceback (most recent call last)",
      "Input \u001b[1;32mIn [20]\u001b[0m, in \u001b[0;36m<cell line: 15>\u001b[1;34m()\u001b[0m\n\u001b[0;32m     12\u001b[0m     \u001b[38;5;28;01massert\u001b[39;00m note2 \u001b[38;5;241m<\u001b[39m\u001b[38;5;241m20\u001b[39m, \u001b[38;5;124m\"\u001b[39m\u001b[38;5;124mLa note2 doit être infériere à 20\u001b[39m\u001b[38;5;124m\"\u001b[39m\n\u001b[0;32m     13\u001b[0m     \u001b[38;5;28;01mreturn\u001b[39;00m (note1 \u001b[38;5;241m+\u001b[39m note2) \u001b[38;5;241m/\u001b[39m \u001b[38;5;241m2\u001b[39m\n\u001b[1;32m---> 15\u001b[0m \u001b[43mmoyenne\u001b[49m\u001b[43m(\u001b[49m\u001b[38;5;241;43m15\u001b[39;49m\u001b[43m,\u001b[49m\u001b[38;5;241;43m20\u001b[39;49m\u001b[43m)\u001b[49m\n\u001b[0;32m     16\u001b[0m moyenne(\u001b[38;5;241m-\u001b[39m\u001b[38;5;241m10\u001b[39m,\u001b[38;5;241m2\u001b[39m)\n",
      "Input \u001b[1;32mIn [20]\u001b[0m, in \u001b[0;36mmoyenne\u001b[1;34m(note1, note2)\u001b[0m\n\u001b[0;32m     10\u001b[0m \u001b[38;5;28;01massert\u001b[39;00m note1 \u001b[38;5;241m<\u001b[39m\u001b[38;5;241m20\u001b[39m, \u001b[38;5;124m\"\u001b[39m\u001b[38;5;124mLa note1 doit être inférieure à 20\u001b[39m\u001b[38;5;124m\"\u001b[39m\n\u001b[0;32m     11\u001b[0m \u001b[38;5;28;01massert\u001b[39;00m note2 \u001b[38;5;241m>\u001b[39m \u001b[38;5;241m0\u001b[39m, \u001b[38;5;124m\"\u001b[39m\u001b[38;5;124mLa note2 doit être supérieure à 0\u001b[39m\u001b[38;5;124m\"\u001b[39m\n\u001b[1;32m---> 12\u001b[0m \u001b[38;5;28;01massert\u001b[39;00m note2 \u001b[38;5;241m<\u001b[39m\u001b[38;5;241m20\u001b[39m, \u001b[38;5;124m\"\u001b[39m\u001b[38;5;124mLa note2 doit être infériere à 20\u001b[39m\u001b[38;5;124m\"\u001b[39m\n\u001b[0;32m     13\u001b[0m \u001b[38;5;28;01mreturn\u001b[39;00m (note1 \u001b[38;5;241m+\u001b[39m note2) \u001b[38;5;241m/\u001b[39m \u001b[38;5;241m2\u001b[39m\n",
      "\u001b[1;31mAssertionError\u001b[0m: La note2 doit être infériere à 20"
     ]
    }
   ],
   "source": [
    "def moyenne(note1:int, note2:int)->int:\n",
    "    \"\"\"\n",
    "    # Calcule la moyenne de deux notes :\n",
    "    # Pre-condition: \n",
    "    #      0<note1<20 et 0<note2<20 \n",
    "    # Post:\n",
    "    #      La valeur renvoyée contient la moyenne des deux notes\n",
    "    \"\"\"\n",
    "    assert note1 > 0, \"La note1 doit être supérieure à 0\"\n",
    "    assert note1 <20, \"La note1 doit être inférieure à 20\"\n",
    "    assert note2 > 0, \"La note2 doit être supérieure à 0\"\n",
    "    assert note2 <20, \"La note2 doit être infériere à 20\"\n",
    "    return (note1 + note2) / 2\n",
    "\n",
    "moyenne(15,20)\n",
    "moyenne(-10,2)"
   ]
  },
  {
   "cell_type": "markdown",
   "id": "99e408b5",
   "metadata": {
    "slideshow": {
     "slide_type": "slide"
    }
   },
   "source": [
    "<div class=\"alert alert-block alert-warning\">\n",
    "<b>⚠️:</b> L’instruction assert de Python est une aide au débogage (debug). Elle n’est pas un mécanisme de gestion des erreurs d’exécution. On peut d'ailleur désactiver les assert en ajoutant simplement un flag à la commande Python. \n",
    "</div>"
   ]
  },
  {
   "cell_type": "markdown",
   "id": "ec165c5e",
   "metadata": {
    "slideshow": {
     "slide_type": "slide"
    }
   },
   "source": [
    "Ce mode de programmation qui exploite les assertions pour vérifier les préconditions s'appelle la **programmation défensive**. \n",
    "\n",
    "On utilise les instructions ```assert``` pour défendre l'utilisation de code dans un programme dont on à le contrôle. \n",
    "\n",
    "L'avantage de la programmation défensive est qu'elle force à penser les test qu'il faut réaliser pour valider le fonctionnement du programme. \n",
    "\n",
    "Des méthodes de développements comme l'**Extreme programming (XP)** ou **Test Driven Development (TDD)** propose de mettre le test au centre de l'activité de programmation. On écrit et réalise des **Test Unitaire**, c'est à dire que l'on commence par écrire l'ensemble des cas test pour notre fonction, puis on réalise son implémentation. Enfin, on valide l'implémentation et réussant les tests."
   ]
  },
  {
   "cell_type": "markdown",
   "id": "ce90fc45",
   "metadata": {
    "slideshow": {
     "slide_type": "slide"
    }
   },
   "source": [
    "## Edsger W. Dijkstra\n",
    "> Program testing can be used to show the presence of bugs, but never to show their absence!"
   ]
  },
  {
   "cell_type": "markdown",
   "id": "86a821ad",
   "metadata": {
    "slideshow": {
     "slide_type": "slide"
    }
   },
   "source": [
    "# 3 - Les exeptions \n",
    "\n",
    "Les langages informatiques intègrent des mécanismes d'exception, ce sont des erreurs qui sont **levées** par le programme. \n",
    "\n",
    "Par exemple: "
   ]
  },
  {
   "cell_type": "code",
   "execution_count": 28,
   "id": "35064a1d",
   "metadata": {
    "scrolled": true,
    "slideshow": {
     "slide_type": "slide"
    }
   },
   "outputs": [
    {
     "name": "stdout",
     "output_type": "stream",
     "text": [
      "Veuillez saisir un entier:toto\n"
     ]
    },
    {
     "ename": "ValueError",
     "evalue": "invalid literal for int() with base 10: 'toto'",
     "output_type": "error",
     "traceback": [
      "\u001b[1;31m---------------------------------------------------------------------------\u001b[0m",
      "\u001b[1;31mValueError\u001b[0m                                Traceback (most recent call last)",
      "Input \u001b[1;32mIn [28]\u001b[0m, in \u001b[0;36m<cell line: 12>\u001b[1;34m()\u001b[0m\n\u001b[0;32m      9\u001b[0m     x \u001b[38;5;241m=\u001b[39m \u001b[38;5;28mint\u001b[39m(\u001b[38;5;28minput\u001b[39m(\u001b[38;5;124m\"\u001b[39m\u001b[38;5;124mVeuillez saisir un entier:\u001b[39m\u001b[38;5;124m\"\u001b[39m))\n\u001b[0;32m     10\u001b[0m     \u001b[38;5;28;01mreturn\u001b[39;00m x\n\u001b[1;32m---> 12\u001b[0m \u001b[43msaisie_entier\u001b[49m\u001b[43m(\u001b[49m\u001b[43m)\u001b[49m\n",
      "Input \u001b[1;32mIn [28]\u001b[0m, in \u001b[0;36msaisie_entier\u001b[1;34m()\u001b[0m\n\u001b[0;32m      1\u001b[0m \u001b[38;5;28;01mdef\u001b[39;00m \u001b[38;5;21msaisie_entier\u001b[39m()\u001b[38;5;241m-\u001b[39m\u001b[38;5;241m>\u001b[39m\u001b[38;5;28mint\u001b[39m:\n\u001b[0;32m      2\u001b[0m     \u001b[38;5;124;03m\"\"\"\u001b[39;00m\n\u001b[0;32m      3\u001b[0m \u001b[38;5;124;03m    # Retourne un entier saisie par l'utilisateur:\u001b[39;00m\n\u001b[0;32m      4\u001b[0m \u001b[38;5;124;03m    # Pre-condition: \u001b[39;00m\n\u001b[1;32m   (...)\u001b[0m\n\u001b[0;32m      7\u001b[0m \u001b[38;5;124;03m    #      La valeur renvoyée est un entier\u001b[39;00m\n\u001b[0;32m      8\u001b[0m \u001b[38;5;124;03m    \"\"\"\u001b[39;00m\n\u001b[1;32m----> 9\u001b[0m     x \u001b[38;5;241m=\u001b[39m \u001b[38;5;28;43mint\u001b[39;49m\u001b[43m(\u001b[49m\u001b[38;5;28;43minput\u001b[39;49m\u001b[43m(\u001b[49m\u001b[38;5;124;43m\"\u001b[39;49m\u001b[38;5;124;43mVeuillez saisir un entier:\u001b[39;49m\u001b[38;5;124;43m\"\u001b[39;49m\u001b[43m)\u001b[49m\u001b[43m)\u001b[49m\n\u001b[0;32m     10\u001b[0m     \u001b[38;5;28;01mreturn\u001b[39;00m x\n",
      "\u001b[1;31mValueError\u001b[0m: invalid literal for int() with base 10: 'toto'"
     ]
    }
   ],
   "source": [
    "def saisie_entier()->int:\n",
    "    \"\"\"\n",
    "    # Retourne un entier saisie par l'utilisateur:\n",
    "    # Pre-condition: \n",
    "    #      l'utilisateur saisi un entier\n",
    "    # Post:\n",
    "    #      La valeur renvoyée est un entier\n",
    "    \"\"\"\n",
    "    x = int(input(\"Veuillez saisir un entier:\"))\n",
    "    return x\n",
    "\n",
    "saisie_entier()"
   ]
  },
  {
   "cell_type": "markdown",
   "id": "f38ee637",
   "metadata": {},
   "source": [
    "Ici, l'erreur de type ```ValueError``` nous informe qu'il est impossible de transformer la chaine de caractère ```\"toto``` en entier. La méthode input() lève donc une erreur. "
   ]
  },
  {
   "cell_type": "markdown",
   "id": "2659c98f",
   "metadata": {
    "slideshow": {
     "slide_type": "slide"
    }
   },
   "source": [
    "Il est possible d'**intercepter** une erreur levée par un programme à l'aide d'une instruction ```try-except```. \n",
    "\n",
    "Le code qui risque de levé une erreur est placé dans un bloc ```try:```, et le bloc ```except:``` permet de lister les erreurs possible qui seront intercepté. Pour chaque erreur interceptée, on peut mettre en place une séquence pour venir corriger l'erreur. \n",
    "\n",
    "Si aucun mécanisme n'intercepte une erreur, celle-ci se propage. Si elle n'est pas interceptée dans le contexte globale, le programme s'arrête."
   ]
  },
  {
   "cell_type": "code",
   "execution_count": 29,
   "id": "6f9b090a",
   "metadata": {},
   "outputs": [
    {
     "name": "stdout",
     "output_type": "stream",
     "text": [
      "Veuillez saisir un entier:toto\n",
      "Erreur, veuillez saisir un entier\n"
     ]
    }
   ],
   "source": [
    "def saisie_entier()->int:\n",
    "    \"\"\"\n",
    "    # Retourne un entier saisie par l'utilisateur:\n",
    "    # Pre-condition: \n",
    "    #      l'utilisateur saisi un entier\n",
    "    # Post:\n",
    "    #      La valeur renvoyée est un entier\n",
    "    \"\"\"\n",
    "    x = int(input(\"Veuillez saisir un entier:\"))\n",
    "    return x\n",
    "\n",
    "try:\n",
    "    saisie_entier()\n",
    "except:\n",
    "    print(\"Erreur, veuillez saisir un entier\")"
   ]
  },
  {
   "cell_type": "markdown",
   "id": "bace9281",
   "metadata": {
    "slideshow": {
     "slide_type": "slide"
    }
   },
   "source": [
    "On peut spécifier le type de l'exepction que l'on souhaite intercepter, et intercepter plusieurs exceptions:"
   ]
  },
  {
   "cell_type": "code",
   "execution_count": 33,
   "id": "aa04b4ea",
   "metadata": {},
   "outputs": [
    {
     "name": "stdout",
     "output_type": "stream",
     "text": [
      "a ?= toto\n",
      "Veuillez saisie un entier!\n"
     ]
    }
   ],
   "source": [
    "try:\n",
    "    a = int(input('a ?= '))\n",
    "    b = 0\n",
    "    print(a/b)\n",
    "except ValueError:\n",
    "    print(\"Veuillez saisie un entier!\")\n",
    "except ZeroDivisionError:\n",
    "    print(\"Attention, ceci est une division par Zéro!\")"
   ]
  },
  {
   "cell_type": "markdown",
   "id": "7feebde5",
   "metadata": {
    "slideshow": {
     "slide_type": "slide"
    }
   },
   "source": [
    "Que se passe t'il si l'on ne capture pas une exception?"
   ]
  },
  {
   "cell_type": "code",
   "execution_count": 34,
   "id": "25c944fc",
   "metadata": {},
   "outputs": [
    {
     "ename": "ZeroDivisionError",
     "evalue": "division by zero",
     "output_type": "error",
     "traceback": [
      "\u001b[1;31m---------------------------------------------------------------------------\u001b[0m",
      "\u001b[1;31mZeroDivisionError\u001b[0m                         Traceback (most recent call last)",
      "Input \u001b[1;32mIn [34]\u001b[0m, in \u001b[0;36m<cell line: 7>\u001b[1;34m()\u001b[0m\n\u001b[0;32m      4\u001b[0m \u001b[38;5;28;01mdef\u001b[39;00m \u001b[38;5;21mfun2\u001b[39m():\n\u001b[0;32m      5\u001b[0m     fun1()\n\u001b[1;32m----> 7\u001b[0m \u001b[43mfun2\u001b[49m\u001b[43m(\u001b[49m\u001b[43m)\u001b[49m\n",
      "Input \u001b[1;32mIn [34]\u001b[0m, in \u001b[0;36mfun2\u001b[1;34m()\u001b[0m\n\u001b[0;32m      4\u001b[0m \u001b[38;5;28;01mdef\u001b[39;00m \u001b[38;5;21mfun2\u001b[39m():\n\u001b[1;32m----> 5\u001b[0m     \u001b[43mfun1\u001b[49m\u001b[43m(\u001b[49m\u001b[43m)\u001b[49m\n",
      "Input \u001b[1;32mIn [34]\u001b[0m, in \u001b[0;36mfun1\u001b[1;34m()\u001b[0m\n\u001b[0;32m      1\u001b[0m \u001b[38;5;28;01mdef\u001b[39;00m \u001b[38;5;21mfun1\u001b[39m():\n\u001b[1;32m----> 2\u001b[0m     \u001b[38;5;28mprint\u001b[39m(\u001b[38;5;241;43m1\u001b[39;49m\u001b[38;5;241;43m/\u001b[39;49m\u001b[38;5;241;43m0\u001b[39;49m)\n",
      "\u001b[1;31mZeroDivisionError\u001b[0m: division by zero"
     ]
    }
   ],
   "source": [
    "def fun1():\n",
    "    print(1/0)\n",
    "    \n",
    "def fun2():\n",
    "    fun1()\n",
    "    \n",
    "fun2()"
   ]
  },
  {
   "cell_type": "code",
   "execution_count": 35,
   "id": "cf81ef9a",
   "metadata": {
    "slideshow": {
     "slide_type": "slide"
    }
   },
   "outputs": [
    {
     "name": "stdout",
     "output_type": "stream",
     "text": [
      "Erreur\n"
     ]
    }
   ],
   "source": [
    "def fun1():\n",
    "    print(1/0)\n",
    "    \n",
    "def fun2():\n",
    "    try:\n",
    "        fun1()\n",
    "    except:\n",
    "        print(\"Erreur\")\n",
    "    \n",
    "fun2()"
   ]
  },
  {
   "cell_type": "markdown",
   "id": "f813dfe6",
   "metadata": {
    "slideshow": {
     "slide_type": "slide"
    }
   },
   "source": [
    "Un bloc ```try-except``` peut contenir une instruction ```finally```. L'instruction ```finally``` est exécutée dans tout les cas, qu'un erreur est été interceptée ou non:"
   ]
  },
  {
   "cell_type": "code",
   "execution_count": 37,
   "id": "0c3d00ad",
   "metadata": {},
   "outputs": [
    {
     "name": "stdout",
     "output_type": "stream",
     "text": [
      "a ?= -2\n",
      "Attention, ceci est une division par Zéro!\n",
      "Au revoir!\n"
     ]
    }
   ],
   "source": [
    "try:\n",
    "    a = int(input('a ?= '))\n",
    "    b = 0\n",
    "    print(a/b)\n",
    "except ValueError:\n",
    "    print(\"Veuillez saisie un entier!\")\n",
    "except ZeroDivisionError:\n",
    "    print(\"Attention, ceci est une division par Zéro!\")\n",
    "finally:\n",
    "    print(\"Au revoir!\")"
   ]
  },
  {
   "cell_type": "markdown",
   "id": "2ed84719",
   "metadata": {
    "slideshow": {
     "slide_type": "slide"
    }
   },
   "source": [
    "C'est une instruction pratique si vous avez des opérations à effectuer pour terminer proprement votre programme."
   ]
  },
  {
   "cell_type": "markdown",
   "id": "72185f2e",
   "metadata": {
    "slideshow": {
     "slide_type": "slide"
    }
   },
   "source": [
    "## Comment lever une exception?\n",
    "\n",
    "On a vu que l'on peut capturer une exception levée par un programme. On peut aussi **lever** nos propres exceptions.\n",
    "\n",
    "L'instruction ```raise``` permet de lever des exceptions. \n",
    "\n",
    "Il existe plusieurs exception \"built-in\", c'est à dire inclusent dans Python: https://docs.python.org/3/library/exceptions.html\n",
    "\n",
    "Par exemple, on peut lever une ArithmeticErro():"
   ]
  },
  {
   "cell_type": "code",
   "execution_count": 38,
   "id": "3116b52d",
   "metadata": {},
   "outputs": [
    {
     "ename": "ArithmeticError",
     "evalue": "",
     "output_type": "error",
     "traceback": [
      "\u001b[1;31m---------------------------------------------------------------------------\u001b[0m",
      "\u001b[1;31mArithmeticError\u001b[0m                           Traceback (most recent call last)",
      "Input \u001b[1;32mIn [38]\u001b[0m, in \u001b[0;36m<cell line: 8>\u001b[1;34m()\u001b[0m\n\u001b[0;32m      5\u001b[0m         \u001b[38;5;28;01mreturn\u001b[39;00m \u001b[38;5;241m1\u001b[39m\n\u001b[0;32m      6\u001b[0m     \u001b[38;5;28;01mreturn\u001b[39;00m n \u001b[38;5;241m*\u001b[39m fact(n\u001b[38;5;241m-\u001b[39m\u001b[38;5;241m1\u001b[39m)\n\u001b[1;32m----> 8\u001b[0m \u001b[38;5;28mprint\u001b[39m(\u001b[43mfact\u001b[49m\u001b[43m(\u001b[49m\u001b[38;5;241;43m-\u001b[39;49m\u001b[38;5;241;43m2\u001b[39;49m\u001b[43m)\u001b[49m)\n",
      "Input \u001b[1;32mIn [38]\u001b[0m, in \u001b[0;36mfact\u001b[1;34m(n)\u001b[0m\n\u001b[0;32m      1\u001b[0m \u001b[38;5;28;01mdef\u001b[39;00m \u001b[38;5;21mfact\u001b[39m(n):\n\u001b[0;32m      2\u001b[0m     \u001b[38;5;28;01mif\u001b[39;00m n \u001b[38;5;241m<\u001b[39m \u001b[38;5;241m0\u001b[39m:\n\u001b[1;32m----> 3\u001b[0m         \u001b[38;5;28;01mraise\u001b[39;00m \u001b[38;5;167;01mArithmeticError\u001b[39;00m()\n\u001b[0;32m      4\u001b[0m     \u001b[38;5;28;01mif\u001b[39;00m n\u001b[38;5;241m==\u001b[39m\u001b[38;5;241m0\u001b[39m:\n\u001b[0;32m      5\u001b[0m         \u001b[38;5;28;01mreturn\u001b[39;00m \u001b[38;5;241m1\u001b[39m\n",
      "\u001b[1;31mArithmeticError\u001b[0m: "
     ]
    }
   ],
   "source": [
    "def fact(n):\n",
    "    if n < 0:\n",
    "        raise ArithmeticError()\n",
    "    if n==0:\n",
    "        return 1\n",
    "    return n * fact(n-1)\n",
    "\n",
    "print(fact(-2))"
   ]
  },
  {
   "cell_type": "markdown",
   "id": "ad7fcafe",
   "metadata": {
    "slideshow": {
     "slide_type": "-"
    }
   },
   "source": [
    "Il est aussi possible de lever ses propres exceptions, mais pour celà, il faudra avoir vu la notion d'objet (en M2!)"
   ]
  },
  {
   "cell_type": "markdown",
   "id": "af5c7ef9",
   "metadata": {
    "slideshow": {
     "slide_type": "slide"
    }
   },
   "source": [
    "<div class=\"alert alert-block alert-info\">\n",
    "    <b>On retient:</b> Les exceptions sont des fonctionnements normal du code. Il permettent de lever une exception qui peut ou non être capturée par un autre bloc de code. Capturer une exception permet d'effectuer un traitement pour corriger une anomalie.\n",
    "</div>"
   ]
  },
  {
   "cell_type": "markdown",
   "id": "e8e10da4",
   "metadata": {
    "slideshow": {
     "slide_type": "slide"
    }
   },
   "source": [
    "# Pour conclure\n",
    "\n",
    "## KISS (Keep It Stupid Simple)\n",
    "<div class=\"alert alert-block alert-info\">\n",
    "   <b>KISS</b> (<i>Keep It Stupid Simple</i>) est une ligne directrice de conception qui préconise la simplicité dans la conception, et que toute complexité devrait autant que possible évitée. \n",
    "</div>"
   ]
  },
  {
   "cell_type": "code",
   "execution_count": 2,
   "id": "8d2e4f82",
   "metadata": {
    "scrolled": true
   },
   "outputs": [
    {
     "name": "stdout",
     "output_type": "stream",
     "text": [
      "The Zen of Python, by Tim Peters\n",
      "\n",
      "Beautiful is better than ugly.\n",
      "Explicit is better than implicit.\n",
      "Simple is better than complex.\n",
      "Complex is better than complicated.\n",
      "Flat is better than nested.\n",
      "Sparse is better than dense.\n",
      "Readability counts.\n",
      "Special cases aren't special enough to break the rules.\n",
      "Although practicality beats purity.\n",
      "Errors should never pass silently.\n",
      "Unless explicitly silenced.\n",
      "In the face of ambiguity, refuse the temptation to guess.\n",
      "There should be one-- and preferably only one --obvious way to do it.\n",
      "Although that way may not be obvious at first unless you're Dutch.\n",
      "Now is better than never.\n",
      "Although never is often better than *right* now.\n",
      "If the implementation is hard to explain, it's a bad idea.\n",
      "If the implementation is easy to explain, it may be a good idea.\n",
      "Namespaces are one honking great idea -- let's do more of those!\n"
     ]
    }
   ],
   "source": [
    "import this"
   ]
  },
  {
   "cell_type": "markdown",
   "id": "35f6ead2",
   "metadata": {
    "slideshow": {
     "slide_type": "slide"
    }
   },
   "source": [
    "# La suite au prochain semestre 🌴⛱️"
   ]
  }
 ],
 "metadata": {
  "celltoolbar": "Diaporama",
  "kernelspec": {
   "display_name": "Python 3 (ipykernel)",
   "language": "python",
   "name": "python3"
  },
  "language_info": {
   "codemirror_mode": {
    "name": "ipython",
    "version": 3
   },
   "file_extension": ".py",
   "mimetype": "text/x-python",
   "name": "python",
   "nbconvert_exporter": "python",
   "pygments_lexer": "ipython3",
   "version": "3.9.12"
  }
 },
 "nbformat": 4,
 "nbformat_minor": 5
}
