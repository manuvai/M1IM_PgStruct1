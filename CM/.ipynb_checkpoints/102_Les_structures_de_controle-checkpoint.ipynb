{
 "cells": [
  {
   "cell_type": "markdown",
   "id": "044e14a0",
   "metadata": {
    "slideshow": {
     "slide_type": "slide"
    }
   },
   "source": [
    "# ![./pics/logo_ut1.jpg](./pics/logo_ut1.jpg) Master 1 Ingénierie Métier (IM) : Programmation Structurée 1 2022/2023\n",
    "\n",
    "# Les structures de contrôle\n",
    "\n",
    "### Equipe pédagogique \n",
    "    Sophie Martinez - Sophie.Martinez@ut-capitole.fr\n",
    "    Laurent Marsan - Laurent.Marsan@ut-capitole.fr\n",
    "    Nicolas Verstaevel - Nicolas.Verstaevel@ut-capitole.fr"
   ]
  },
  {
   "cell_type": "markdown",
   "id": "88763de3",
   "metadata": {
    "slideshow": {
     "slide_type": "slide"
    }
   },
   "source": [
    "# On a vu:\n",
    "\n",
    "Un algorithme peut être composé de **séquences d'instructions** exécutées sucessivement. On parle de **flux** d'execution. \n",
    "\n",
    "![./pics/sequence_1.png](./pics/sequence_1.png)\n",
    "\n"
   ]
  },
  {
   "cell_type": "code",
   "execution_count": 1,
   "id": "c2641bfe",
   "metadata": {
    "scrolled": true,
    "slideshow": {
     "slide_type": "subslide"
    }
   },
   "outputs": [
    {
     "name": "stdout",
     "output_type": "stream",
     "text": [
      "12\n"
     ]
    }
   ],
   "source": [
    "\"\"\" \n",
    "Entrée 1: X =10\n",
    "Entrée 2: Y = 2\n",
    "Sortie 1: Z affichée à l'écran\n",
    "Post-condition: Z = x + y\n",
    "\"\"\"\n",
    "X = 10\n",
    "Y = 2\n",
    "z = X + Y \n",
    "print(z)"
   ]
  },
  {
   "cell_type": "markdown",
   "id": "4496e416",
   "metadata": {
    "slideshow": {
     "slide_type": "-"
    }
   },
   "source": [
    "Les insctructions sont écrites l'une après l'autre, et séparées par un saut de ligne. Les lignes ont toutes la même **indentation** (même nombre d'espace avant le premier caractère)"
   ]
  },
  {
   "cell_type": "markdown",
   "id": "02a36d5d",
   "metadata": {
    "slideshow": {
     "slide_type": "slide"
    }
   },
   "source": [
    "Il est possible de conditionner l'execution de séquence grâce à deux mécanismes:\n"
   ]
  },
  {
   "cell_type": "markdown",
   "id": "c33eae48",
   "metadata": {
    "slideshow": {
     "slide_type": "subslide"
    }
   },
   "source": [
    "* **Enchainement conditionnel** (Si)\n",
    "![./pics/sequence_if.png](./pics/sequence_if.png)\n"
   ]
  },
  {
   "cell_type": "markdown",
   "id": "2a6d1b9c",
   "metadata": {
    "slideshow": {
     "slide_type": "subslide"
    }
   },
   "source": [
    "* **Répétition** (Pour, Tant que)\n",
    "![./pics/sequence_while.png](./pics/sequence_while.png)"
   ]
  },
  {
   "cell_type": "markdown",
   "id": "93c46c17",
   "metadata": {
    "slideshow": {
     "slide_type": "slide"
    }
   },
   "source": [
    "# Echainement conditionnel\n",
    "\n",
    "Permet de selectionner la séquence d'instruction à exécuter selon qu'une **condition soit remplie ou non**."
   ]
  },
  {
   "cell_type": "code",
   "execution_count": null,
   "id": "54801ea8",
   "metadata": {},
   "outputs": [],
   "source": [
    "if (condition): # On utilise le mot clé if, suivi d'une expression booléenne, puis du caractère :\n",
    "    sequence 1 # La séquence à executer si la condition est Vraie\n",
    "else:\n",
    "    sequence 2 # La séquence à exectuer si la condition est Faux\n",
    "sequence 3 # La séquence 3 sera exécutée quelle que soit le résultat du test"
   ]
  },
  {
   "cell_type": "markdown",
   "id": "d4e75347",
   "metadata": {},
   "source": [
    "NB : la clause **else** est facultative."
   ]
  },
  {
   "cell_type": "code",
   "execution_count": null,
   "id": "82b8215a",
   "metadata": {},
   "outputs": [],
   "source": [
    "if (condition):\n",
    "    sequence 1\n",
    "sequence 2"
   ]
  },
  {
   "cell_type": "markdown",
   "id": "cc1dcd7c",
   "metadata": {
    "slideshow": {
     "slide_type": "slide"
    }
   },
   "source": [
    "# Exemple \n",
    "\n",
    "### Tâche à réaliser 🎯\n",
    "\n",
    "Afficher le plus grand des deux nombres saisie par un utilisateur.\n",
    "    \n",
    "### Entrée 🔠\n",
    "\n",
    "$nb1$ et $nb2$ deux entiers\n",
    "    \n",
    "### Sortie 🖥️\n",
    "Une phrase indiquant le nombre le plus grand."
   ]
  },
  {
   "cell_type": "code",
   "execution_count": null,
   "id": "d708bf74",
   "metadata": {
    "slideshow": {
     "slide_type": "slide"
    }
   },
   "outputs": [],
   "source": [
    "\"\"\"\n",
    "Entrée 1: nb1\n",
    "Entrée 2: nb2\n",
    "Sortie : max entre nb1 et nb2\n",
    "\"\"\"\n",
    "nb1 = int(input())\n",
    "nb2 = int(input())\n",
    "print(\"=====\")\n",
    "if nb1 > nb2:\n",
    "    print(\"nb1 est plus grand que nb2\")\n",
    "else:\n",
    "    print(\"nb2 est plus grand que nb1\")\n",
    "print(\"=====\")"
   ]
  },
  {
   "cell_type": "markdown",
   "id": "b630b80c",
   "metadata": {
    "slideshow": {
     "slide_type": "slide"
    }
   },
   "source": [
    "# Conditions multiples\n",
    "Il est possible d'imbriquer des echainemens conditionnels.\n"
   ]
  },
  {
   "cell_type": "code",
   "execution_count": null,
   "id": "24b76b3c",
   "metadata": {},
   "outputs": [],
   "source": [
    "\"\"\"\n",
    "Entrée 1: numéro du mois : entier\n",
    "Précondition:    1 ≤ mois ≤ 12\n",
    "Sortie:  un entier précisant le nombre de jours dans le mois\n",
    "\"\"\"\n",
    "mois = int(input())\n",
    "if mois == 2:\n",
    "    nbj = 28\n",
    "else:\n",
    "    if mois == 4 or mois == 6 or mois == 9 or mois == 11:\n",
    "        nbj = 30\n",
    "    else:\n",
    "        nbj = 31\n",
    "print(\"Il y a \" + str(nbj) + \" dans le mois \" + str(mois))"
   ]
  },
  {
   "cell_type": "markdown",
   "id": "c3bcde93",
   "metadata": {
    "slideshow": {
     "slide_type": "slide"
    }
   },
   "source": [
    "# Conditions multiples\n",
    "Python propose une instruction **elif** qui se traduit par \"sinon si\". "
   ]
  },
  {
   "cell_type": "code",
   "execution_count": null,
   "id": "40fbaf57",
   "metadata": {},
   "outputs": [],
   "source": [
    "mois = int(input())\n",
    "if mois == 2:\n",
    "    nbj = 28\n",
    "elif mois == 4 or mois == 6 or mois == 9 or mois == 11:\n",
    "    nbj = 30\n",
    "else:\n",
    "    nbj = 31\n",
    "print(\"Il y a \" + str(nbj) + \" dans le mois \" + str(mois))"
   ]
  },
  {
   "cell_type": "markdown",
   "id": "9b134f04",
   "metadata": {
    "slideshow": {
     "slide_type": "slide"
    }
   },
   "source": [
    "# ⚠️ Bonne pratique\n",
    "\n",
    "Python utilise l'**indentation** pour indiquer le début et la fin d'un bloc de contrôle de flux. La meilleure pratique consiste à utiliser uniquement des espaces (et non des tabulations) et 4 espaces lors du démarrage d'un nouveau niveau d'indentation. Ce qui représente un équilibre raisonnable entre lisibilité et gaspillage d'espace."
   ]
  },
  {
   "cell_type": "markdown",
   "id": "f931327b",
   "metadata": {
    "slideshow": {
     "slide_type": "slide"
    }
   },
   "source": [
    "# La répétition\n",
    "Il est parfois nécessaire de répéter une sequénce plusieurs fois. On parle alors de boucles.\n",
    "\n",
    "* **Répétition** (Pour, Tant que)\n",
    "![./pics/sequence_while.png](./pics/sequence_while.png)\n",
    "\n",
    "Python supporte deux types d'enchainent répétitifs:\n",
    "* La boucle Tant que : **while**\n",
    "* La boucle Pour : **for**"
   ]
  },
  {
   "cell_type": "markdown",
   "id": "764a61ef",
   "metadata": {
    "slideshow": {
     "slide_type": "slide"
    }
   },
   "source": [
    "# La boucle Tant Que - while\n",
    "Permet la répétition d'une séquence tant qu'une **condition** est **Vraie**"
   ]
  },
  {
   "cell_type": "code",
   "execution_count": null,
   "id": "4ab20cc1",
   "metadata": {
    "scrolled": true
   },
   "outputs": [],
   "source": [
    "\"\"\"\n",
    ":Entrée 1:  c un entier AFFECTÉ précédemment\n",
    ":Précondition:  n > 0\n",
    ":Sortie 1:  c un entier, AFFICHÉ à l'écran\n",
    "\"\"\"\n",
    "c = 1\n",
    "while c > 10: # On vérifie que si condition est Vraie.  SI elle est vrai, on execute la séquence\n",
    "    c = c+1 # Cette séquence ne sera exécutée que si c > 10\n",
    "print(c)"
   ]
  },
  {
   "cell_type": "markdown",
   "id": "427657b9",
   "metadata": {},
   "source": [
    "Une **répétition** peut être exécutée plusieurs fois, une fois, **ou pas du tout** selon la condition "
   ]
  },
  {
   "cell_type": "markdown",
   "id": "74f85d30",
   "metadata": {
    "slideshow": {
     "slide_type": "slide"
    }
   },
   "source": [
    "# Remarque\n",
    "Une séquence peut elle même contenir plusieurs types d'enchainement :\n",
    "* Séquentiel \n",
    "* Conditionnel\n",
    "* Répétitif\n",
    "\n",
    "⚠️Importance de l'indentation et de la nomenclature des variables\n"
   ]
  },
  {
   "cell_type": "code",
   "execution_count": 3,
   "id": "18dfa4c2",
   "metadata": {
    "slideshow": {
     "slide_type": "slide"
    }
   },
   "outputs": [
    {
     "name": "stdout",
     "output_type": "stream",
     "text": [
      "-2\n",
      "Vous devez saisir un nombre > 0\n"
     ]
    }
   ],
   "source": [
    "\"\"\"\n",
    ":Objectif: afficher les nombres de 0 jusqu'à un nombre saisie par l'utilisateur\n",
    ":Entrée 1:  un entier saisie par l'utilisateur\n",
    ":Précondition:  n > 0\n",
    ":Sortie 1:  c un entier, AFFICHÉ à l'écran\n",
    "\"\"\"\n",
    "mon_entier = int(input()) \n",
    "mon_compteur = 0\n",
    "ma_string = \"\"\n",
    "if(mon_entier > 0):\n",
    "    while (mon_compteur < mon_entier):\n",
    "        ma_string = ma_string + str(mon_compteur) + \" \"\n",
    "        mon_compteur = mon_compteur + 1\n",
    "    print(ma_string)\n",
    "else:\n",
    "    print(\"Vous devez saisir un nombre > 0\")"
   ]
  },
  {
   "cell_type": "markdown",
   "id": "b53842bb",
   "metadata": {
    "slideshow": {
     "slide_type": "slide"
    }
   },
   "source": [
    "# La boucle Pour\n",
    "Il est souvent nécessaire de **parcourir un ensemble de valeurs** contenues dans d'autres valeurs (structures de données). Par exemple, une chaine de caractère qui contient en fait, un *ensemble de caractères* (c'est en fait un tableau).\n",
    "\n",
    "Ces valeurs sont qualifiées d'**itérables**, c'est à dire que le peut les parcourir une à une et appliquer la même séquence à chaque élément.\n",
    "\n",
    "Celà s'effectue avec la boucle **for** qui équivaut à l'instruction **pour chaque**. On déclare une variable sépcifique qui stock la valeur courante."
   ]
  },
  {
   "cell_type": "code",
   "execution_count": 4,
   "id": "14204617",
   "metadata": {
    "scrolled": true,
    "slideshow": {
     "slide_type": "slide"
    }
   },
   "outputs": [
    {
     "name": "stdout",
     "output_type": "stream",
     "text": [
      "Hello le monde\n",
      "H\n",
      "e\n",
      "l\n",
      "l\n",
      "o\n",
      " \n",
      "l\n",
      "e\n",
      " \n",
      "m\n",
      "o\n",
      "n\n",
      "d\n",
      "e\n"
     ]
    }
   ],
   "source": [
    "\"\"\"\n",
    ": Objectif : Afficher chaque caractère contenue dans une chaine de caractère\n",
    ": Entrée 1 : une chaine de caractère saisie par l'utilisateur\n",
    ": Sortie 1 : l'emsemble des caractères composant la chaine, 1 caractère par ligne, affiché à l'écran\n",
    "\"\"\"\n",
    "ma_string = input()\n",
    "for ma_variable_de_parcours in ma_string:\n",
    "    print(ma_variable_de_parcours)"
   ]
  },
  {
   "cell_type": "markdown",
   "id": "6099b5b5",
   "metadata": {
    "slideshow": {
     "slide_type": "slide"
    }
   },
   "source": [
    "# Range\n",
    "Souvent, il est utile d'utiliser une boucle qui va itérer sur des entier. Celà équivaut à l'instruction **Pour i allant de x à y avec un pas de 1** où:\n",
    "* $i$ est ma variable de parcours, \n",
    "* $x$ ma valeur d'initialisation,  \n",
    "* $y$ est ma valeur maximale,\n",
    "* et où à chaque *tour de boucle*, i = i + 1\n",
    "\n",
    "Python nous fournit la fonction **range(min,max)** pour pouvoir itérer sur des entiers. Celà correspond à l'esemble des $\\mathbb{N} \\in [min,max[$"
   ]
  },
  {
   "cell_type": "code",
   "execution_count": 6,
   "id": "7fc375dc",
   "metadata": {
    "scrolled": true,
    "slideshow": {
     "slide_type": "slide"
    }
   },
   "outputs": [
    {
     "name": "stdout",
     "output_type": "stream",
     "text": [
      "0\n",
      "1\n",
      "2\n",
      "3\n",
      "4\n",
      "5\n",
      "6\n",
      "7\n",
      "8\n",
      "9\n",
      "10\n"
     ]
    }
   ],
   "source": [
    "\"\"\"\n",
    ": Objectif : Afficher les nombres de 0 jusqu'à 10\n",
    ": Sortie 1 : Les nombres de 0 à 10 affichés à l'écran\n",
    "\"\"\"\n",
    "for i in range(0,11): #⚠️Notez à nouveau l'interprétation des bornes en Python. La borne inférieure est toujours inclue, la borne supérieure est toujours exclue.\n",
    "    print(i)"
   ]
  },
  {
   "cell_type": "markdown",
   "id": "3f4fbbe1",
   "metadata": {
    "slideshow": {
     "slide_type": "slide"
    }
   },
   "source": [
    "# While et For\n",
    "Il est possible d'écrire la même fonction avec une boucle while:"
   ]
  },
  {
   "cell_type": "code",
   "execution_count": 7,
   "id": "75f64b34",
   "metadata": {},
   "outputs": [
    {
     "name": "stdout",
     "output_type": "stream",
     "text": [
      "0\n",
      "1\n",
      "2\n",
      "3\n",
      "4\n",
      "5\n",
      "6\n",
      "7\n",
      "8\n",
      "9\n",
      "10\n"
     ]
    }
   ],
   "source": [
    "\"\"\"\n",
    ": Objectif : Afficher les nombres de 0 jusqu'à 10\n",
    ": Sortie 1 : Les nombres de 0 à 10 affichés à l'écran\n",
    "\"\"\"\n",
    "i = 0\n",
    "while(i <= 10): #⚠️attention, ici là condition s'arrête à 10\n",
    "    print(i)\n",
    "    i = i + 1"
   ]
  },
  {
   "cell_type": "markdown",
   "id": "2ab55a2d",
   "metadata": {
    "slideshow": {
     "slide_type": "slide"
    }
   },
   "source": [
    "# En résumé\n",
    "On a vu: \n",
    "* ✔️ Un algorithme est un enchainement de *séquences*\n",
    "* ✔️ On peut contrôler l'enchainement à l'aide de deux structures de contrôle:\n",
    "* ✔️ 1. Les enchainement conditionnels (**If,else**, **if, elif,else**)\n",
    "* ✔️ 2. Les répétitions (**While**,**for**,**for, in range**)"
   ]
  },
  {
   "cell_type": "markdown",
   "id": "f74447bb",
   "metadata": {},
   "source": [
    "Je suis donc capable:\n",
    "* A partir d'un problème donné, de produire un algoritme composé de séquences d'instructions.\n",
    "* De contrôler l'ordre dans lequel sont exécuté ces séquences pour prendre des décisions ou répéter des opérations\n",
    "\n",
    "⏭️[Les fonctions](103_Les_fonctions.ipynb)"
   ]
  }
 ],
 "metadata": {
  "celltoolbar": "Diaporama",
  "kernelspec": {
   "display_name": "Python 3 (ipykernel)",
   "language": "python",
   "name": "python3"
  },
  "language_info": {
   "codemirror_mode": {
    "name": "ipython",
    "version": 3
   },
   "file_extension": ".py",
   "mimetype": "text/x-python",
   "name": "python",
   "nbconvert_exporter": "python",
   "pygments_lexer": "ipython3",
   "version": "3.9.7"
  }
 },
 "nbformat": 4,
 "nbformat_minor": 5
}
