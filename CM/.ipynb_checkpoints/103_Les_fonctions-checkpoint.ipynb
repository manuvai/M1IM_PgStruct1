{
 "cells": [
  {
   "cell_type": "markdown",
   "id": "6f937d76",
   "metadata": {
    "slideshow": {
     "slide_type": "slide"
    }
   },
   "source": [
    "# ![./pics/logo_ut1.jpg](./pics/logo_ut1.jpg) Master 1 Ingénierie Métier (IM) : Programmation Structurée 1 2022/2023\n",
    "\n",
    "# Les fonctions\n",
    "\n",
    "### Equipe pédagogique \n",
    "    Sophie Martinez - Sophie.Martinez@ut-capitole.fr\n",
    "    Laurent Marsan - Laurent.Marsan@ut-capitole.fr\n",
    "    Nicolas Verstaevel - Nicolas.Verstaevel@ut-capitole.fr"
   ]
  },
  {
   "cell_type": "markdown",
   "id": "b9ddbd4a",
   "metadata": {
    "slideshow": {
     "slide_type": "slide"
    }
   },
   "source": [
    "# On a vu\n",
    "✔️ Un algorithme est un enchainement de séquences\n",
    "\n",
    "✔️ On peut conditionner l'exécution d'une séquence (**if**) ou répéter une séquence (**for**,**while**)"
   ]
  },
  {
   "cell_type": "markdown",
   "id": "05d32e94",
   "metadata": {
    "slideshow": {
     "slide_type": "slide"
    }
   },
   "source": [
    "\n",
    "“I choose a lazy person to do a hard job. Because a lazy person will find an easy way to do it.”\n",
    "― Bill Gates"
   ]
  },
  {
   "cell_type": "markdown",
   "id": "6be50c07",
   "metadata": {
    "slideshow": {
     "slide_type": "slide"
    }
   },
   "source": [
    "Souvent, on a besoin de répéter plusieurs fois une séquence à des endroits différents du code, en faisant varier quelques paramètres.\n",
    "\n",
    "On pourrait être tenter de dupliquer les séquence, c'est à dire de les copier/coller 🤢.\n",
    "\n",
    "A la place on préfera utiliser des **fonctions** pour factoriser notre code. Ainsi, il est plus facile à lire, et à maintenir."
   ]
  },
  {
   "cell_type": "markdown",
   "id": "bc425a7f",
   "metadata": {
    "slideshow": {
     "slide_type": "slide"
    }
   },
   "source": [
    "# Les fonctions\n",
    "Une **fonction** est un enchainement de séquences à laquelle on va associer un **nom** pour pouvoir la réutiliser plusieurs fois.\n",
    "\n",
    "Une **fonction** correspond à un problème (ou une fonctionalité) spécifique.\n",
    "\n",
    "On **déclare** une fonction à l'aide du mot clé $def$ "
   ]
  },
  {
   "cell_type": "code",
   "execution_count": null,
   "id": "c79facf4",
   "metadata": {},
   "outputs": [],
   "source": [
    "def ma_fonction():\n",
    "    \"\"\"\n",
    "    corps de la fonction\n",
    "    \"\"\""
   ]
  },
  {
   "cell_type": "markdown",
   "id": "e7872041",
   "metadata": {
    "slideshow": {
     "slide_type": "slide"
    }
   },
   "source": [
    "On peut fournir à une fonction un ensemble de **paramètres** d'entrée, c'est à dire des valeurs (ou des variables) qu'il faudra préciser à chque fois que l'on voudra utiliser une fonction.\n",
    "\n",
    "Chaque **paramètre** est décrit par son *nom*, suivi de *:*, suivi de son $type$. Une fonction peut avoir plusieurs paramètres.\n",
    "\n",
    "Deux fonctions peuvent avoir le même nom, si elle n'ont pas des paramètre identiques (en ordre et type)."
   ]
  },
  {
   "cell_type": "code",
   "execution_count": 4,
   "id": "45aaf623",
   "metadata": {
    "scrolled": true
   },
   "outputs": [],
   "source": [
    "def ma_fonction1 (n : int):\n",
    "    print(n)\n",
    "    \n",
    "def ma_fonction1 (n : int, b : bool):\n",
    "    if(b):\n",
    "        print(n)"
   ]
  },
  {
   "cell_type": "markdown",
   "id": "1dd69d2b",
   "metadata": {
    "slideshow": {
     "slide_type": "slide"
    }
   },
   "source": [
    "# ⚠️ Bonne pratique\n",
    "\n",
    "Il est possible de ne pas préciser le type d'un paramètre d'une fonction et de laisser python l'inférer. Par exemple:"
   ]
  },
  {
   "cell_type": "code",
   "execution_count": null,
   "id": "dc899118",
   "metadata": {},
   "outputs": [],
   "source": [
    "def ma_fonction1(n):\n",
    "    print(n)"
   ]
  },
  {
   "cell_type": "markdown",
   "id": "af4aee14",
   "metadata": {},
   "source": [
    "Dans ce cas, puisque je n'impose pas de type à n, je peux appeler cette fonction avec n'importe quel type supporté par la fonction *print*. C'est évidemment dangereux car je ne contrôle pas la manière dont ma fonction va être utilisée. On préferera donc **préciser le type des paramètres**. De plus, ce n'est pas possible dans tout les languages."
   ]
  },
  {
   "cell_type": "markdown",
   "id": "3ac1c95a",
   "metadata": {
    "slideshow": {
     "slide_type": "slide"
    }
   },
   "source": [
    "# Appel de fonction\n",
    "Une fois que l'on a **défini** une fonction, on peut faire **appel** à la fonction par son **nom**, suivi entre parenthèses **()** de la liste des paramètres de la fonction.\n"
   ]
  },
  {
   "cell_type": "code",
   "execution_count": null,
   "id": "b8bdd6dd",
   "metadata": {},
   "outputs": [],
   "source": [
    "def ma_fonction1 (n : int):\n",
    "    print(n)\n",
    "    \n",
    "def ma_fonction2 (n : int, b : bool):\n",
    "    if(b):\n",
    "        print(n)\n",
    "        \n",
    "ma_fonction1(10)\n",
    "ma_fonction2(32,True)"
   ]
  },
  {
   "cell_type": "markdown",
   "id": "c3a3dda0",
   "metadata": {
    "slideshow": {
     "slide_type": "slide"
    }
   },
   "source": [
    "# Retourner une valeur\n",
    "Une fonction peut **retourner** une valeur, c'est à dire répondre à son appel en fournissant le résultat de l'éxécution de la fonction.\n",
    "\n",
    "On utilise le mot clé **return** suivi de la valeur que l'on veut retourner.\n",
    "\n",
    "Lorsqu'une fonction retourne une valeur, on précise dans sa **définition** le type de la valeur retournée à l'aide de **->**"
   ]
  },
  {
   "cell_type": "code",
   "execution_count": 3,
   "id": "74cdc6d8",
   "metadata": {
    "scrolled": true
   },
   "outputs": [
    {
     "name": "stdout",
     "output_type": "stream",
     "text": [
      "4\n",
      "36\n"
     ]
    }
   ],
   "source": [
    "def carre(n : int) -> int : \n",
    "    return n*n\n",
    "print(carre(2))\n",
    "print(carre(6))"
   ]
  },
  {
   "cell_type": "markdown",
   "id": "72701d6b",
   "metadata": {
    "slideshow": {
     "slide_type": "slide"
    }
   },
   "source": [
    "# ℹ️ Remarque\n",
    "On verra plus tard (structures de données) qu'il est possible qu'une fonction retourne plus d'une valeur."
   ]
  },
  {
   "cell_type": "code",
   "execution_count": 5,
   "id": "69eaafd5",
   "metadata": {},
   "outputs": [],
   "source": [
    "def min_max(a:int,b:int)->(int,int):\n",
    "    if(a > b):\n",
    "        return b,a\n",
    "    else:\n",
    "        return a,b"
   ]
  },
  {
   "cell_type": "markdown",
   "id": "a3cc642a",
   "metadata": {
    "slideshow": {
     "slide_type": "slide"
    }
   },
   "source": [
    "# ℹ️ Remarque\n",
    "Il est possible de fournir une valeur par défaut à un paramètre de sorte que, si lors de l'appel de fonction, aucun paramètre n'est spécifié, alors la valeur par défaut sera utilisée.⚠️A utiliser avec parcimonie!"
   ]
  },
  {
   "cell_type": "code",
   "execution_count": 7,
   "id": "b73a31f0",
   "metadata": {},
   "outputs": [
    {
     "name": "stdout",
     "output_type": "stream",
     "text": [
      "4\n",
      "6\n"
     ]
    }
   ],
   "source": [
    "def afficher_mon_nombre(n : int = 6):\n",
    "    print(n)\n",
    "afficher_mon_nombre(4)\n",
    "afficher_mon_nombre()"
   ]
  },
  {
   "cell_type": "markdown",
   "id": "c3322a3f",
   "metadata": {
    "slideshow": {
     "slide_type": "slide"
    }
   },
   "source": [
    "# Types de fonction\n",
    "Dans la littérature, on peut distinguer 3 types de fonctions: \n",
    "#### Fonction à **effet de bord**\n",
    "La fonction produit un effet au delà de ses simples paramètres. Par exemple, elle produit un affichage à l'écran ou modifie les données d'une structure.\n",
    "\n",
    "#### Fonction **pure**\n",
    "La fonction n'as pas d'effet de bord, c'est à dire que les valeurs de retours dépendent uniquement de ses paramètres. Exemple: la fonction factorielle\n",
    "\n",
    "#### **Procédure**\n",
    "Une fonction qui ne retourne pas de valeur est appelée une **procédure**. Il n'y a pas de mot clé **return** dans la fonction. C'est le cas de **print()**"
   ]
  },
  {
   "cell_type": "markdown",
   "id": "e666e2ca",
   "metadata": {
    "slideshow": {
     "slide_type": "slide"
    }
   },
   "source": [
    "# ✔️Concept check\n",
    "**Tâche à réaliser** 🎯\n",
    "\n",
    "Ecrire une fonction permettant de calculer la factorielle d'une nombre $n$ : \n",
    "\n",
    "$n! = \\prod_{1\\leqslant i\\leqslant n} i = 1\\times 2\\times 3\\times \\ldots \\times (n-1) \\times n.$\n",
    "    \n",
    "**Entrée**🔠\n",
    "\n",
    "Le nombre $n$ saisie par l'utilisateur.\n",
    "\n",
    "**Précondition**\n",
    "$n$ > 0\n",
    "    \n",
    "**Sortie** 🖥️\n",
    "Le résultat du calcul de la factorielle. "
   ]
  },
  {
   "cell_type": "markdown",
   "id": "95d4b55e",
   "metadata": {
    "slideshow": {
     "slide_type": "slide"
    }
   },
   "source": [
    "# Portée des variables\n",
    "\n",
    "La portée d'une variable désigne l'espace dans lequel cette variable est accessible. La variables qui sont déclarée à l'intérieure d'une fonction sont des **variables locales**, c'est à dire qu'elle ne sont accessibles qu'à l'intérieur de la fonction. A l'issue de l'execution d'une fonction, elles sont détruites.\n",
    "\n",
    "Visualisons une trace avec cet outil: https://pythontutor.com/visualize.html#mode=edit\n",
    "\n",
    "ℹ️ Il faudra être capable de faire cette trace à la main!"
   ]
  },
  {
   "cell_type": "markdown",
   "id": "e84a016b",
   "metadata": {
    "slideshow": {
     "slide_type": "slide"
    }
   },
   "source": [
    "# Chainage de fonction\n",
    "Une fonction peut tout à fait faire appel à une ou plusieurs autres fonctions. De même, un paramètre d'une fonction peut être le résultat de l'éxécution d'une fonction."
   ]
  },
  {
   "cell_type": "code",
   "execution_count": null,
   "id": "6b2cc1e3",
   "metadata": {},
   "outputs": [],
   "source": [
    "def afficher_mon_nombre(n:int):\n",
    "    print(n)\n",
    "    \n",
    "def somme(a:int,b:int)->int:\n",
    "    afficher_mon_nombre(a)\n",
    "    afficher_mon_nombre(b)\n",
    "    return a+b\n",
    "\n",
    "afficher_mon_nombre(somme(1,2))"
   ]
  },
  {
   "cell_type": "markdown",
   "id": "8ec6ac12",
   "metadata": {
    "slideshow": {
     "slide_type": "slide"
    }
   },
   "source": [
    " # Récursivité\n",
    " Une fonction peut aussi s'appeler elle même. C'est ce qu'on appelle la **récursivité**.\n",
    " \n",
    " Lorsqu'une fonction est récursive, il faut s'assurer de sa **terminaison**. \n",
    " \n",
    " * La fonction doit contenir un ou plusieurs cas de base ne comportant pas d’appel récursif.\n",
    " \n",
    " * Les appels de la fonction se font des arguments plus simple pour conduire aux cas de base"
   ]
  },
  {
   "cell_type": "code",
   "execution_count": null,
   "id": "9b6cb529",
   "metadata": {
    "slideshow": {
     "slide_type": "slide"
    }
   },
   "outputs": [],
   "source": [
    "# Une récursion adopte toujours cette forme:\n",
    "if (cas base):\n",
    "    (solution immédiate)\n",
    "else:\n",
    "    (solution récursive,\n",
    "    impliquant un cas plus simple que le problème original)"
   ]
  },
  {
   "cell_type": "code",
   "execution_count": 6,
   "id": "86546dcb",
   "metadata": {
    "slideshow": {
     "slide_type": "-"
    }
   },
   "outputs": [
    {
     "name": "stdout",
     "output_type": "stream",
     "text": [
      "479001600\n"
     ]
    }
   ],
   "source": [
    "def factorielle(n : int) -> int:\n",
    "    if (n==1):\n",
    "        return 1\n",
    "    else:\n",
    "        return factorielle(n-1)*n\n",
    "print(factorielle(12))"
   ]
  },
  {
   "cell_type": "markdown",
   "id": "d6200a69",
   "metadata": {
    "slideshow": {
     "slide_type": "slide"
    }
   },
   "source": [
    "# En résumé\n",
    "On a vu: \n",
    "* ✔️ Un algorithme est un enchainement de *séquences*\n",
    "* ✔️ On peut contrôler l'enchainement à l'aide de deux structures de contrôle:\n",
    "* ✔️ 1. Les enchainement conditionnels (**If,else**, **if, elif,else**)\n",
    "* ✔️ 2. Les répétitions (**While**,**for**,**for, in range**)\n",
    "* ✔️ On peut utiliser des fonctions ou des procédures"
   ]
  },
  {
   "cell_type": "markdown",
   "id": "d6a17bd4",
   "metadata": {},
   "source": [
    "Je suis donc capable:\n",
    "* A partir d'un problème donné, de produire un algoritme composé de séquences d'instructions.\n",
    "* De contrôler l'ordre dans lequel sont exécutées ces séquences pour prendre des décisions ou répéter des opérations\n",
    "* De factoriser mon code en utilisant des fonctions et des procédures"
   ]
  }
 ],
 "metadata": {
  "celltoolbar": "Diaporama",
  "kernelspec": {
   "display_name": "Python 3 (ipykernel)",
   "language": "python",
   "name": "python3"
  },
  "language_info": {
   "codemirror_mode": {
    "name": "ipython",
    "version": 3
   },
   "file_extension": ".py",
   "mimetype": "text/x-python",
   "name": "python",
   "nbconvert_exporter": "python",
   "pygments_lexer": "ipython3",
   "version": "3.9.12"
  }
 },
 "nbformat": 4,
 "nbformat_minor": 5
}
